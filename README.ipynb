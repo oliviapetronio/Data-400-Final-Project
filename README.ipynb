{
 "cells": [
  {
   "cell_type": "markdown",
   "id": "e128751f",
   "metadata": {},
   "source": [
    "## Target Web Scraping\n",
    "### Olivia Petronio, Nishtha Sharma, and Ellison Holloway \n",
    "\n",
    "We wanted to compare grocery store prices, but we found that the government's data was lacking. So, we opted to obtain our own data by scraping data from Target, obtaining prices for various goods across all 50 states.\n",
    "\n",
    "Starting with our imports, of course."
   ]
  },
  {
   "cell_type": "code",
   "execution_count": 2,
   "id": "988870ed",
   "metadata": {},
   "outputs": [],
   "source": [
    "# --- Scraper + Analysis Script ---\n",
    "from selenium import webdriver\n",
    "from selenium.webdriver.firefox.options import Options\n",
    "from selenium.webdriver.common.by import By\n",
    "from selenium.webdriver.common.keys import Keys\n",
    "from selenium.webdriver.support.ui import WebDriverWait\n",
    "from selenium.webdriver.support import expected_conditions as EC\n",
    "import time\n",
    "import math\n",
    "import pandas as pd\n",
    "import numpy as np\n",
    "import matplotlib.pyplot as plt\n",
    "import plotly.graph_objects as go\n",
    "import plotly.express as px\n",
    "import seaborn as sns\n",
    "import statsmodels.api as sm\n",
    "from sklearn.cluster import KMeans\n",
    "from sklearn.model_selection import train_test_split\n",
    "from sklearn.linear_model import LinearRegression\n",
    "from sklearn.metrics import mean_squared_error\n",
    "from sklearn.preprocessing import StandardScaler\n",
    "\n"
   ]
  },
  {
   "cell_type": "markdown",
   "id": "bddd5782",
   "metadata": {},
   "source": [
    "### Scraping\n",
    "After the imports, comes the scraping. This was quite the lengthy process, as the scraper needed to work through each region, and each state in said region, and the chosen zip codes in each state, for each of the items that are in our basket.\n",
    "\n",
    "Below is an example of the scraping code for one region, in this case West North Central."
   ]
  },
  {
   "cell_type": "code",
   "execution_count": null,
   "id": "f11094df",
   "metadata": {},
   "outputs": [],
   "source": [
    "# --- Product Data ---\n",
    "products = [\n",
    "    (\"Bananas\", \"https://www.target.com/p/organic-bananas-2lb-good-38-gather-8482/-/A-85759852#lnk=sametab\"),\n",
    "    (\"Vegetable Oil\", \"https://www.target.com/p/vegetable-oil-good-gather/-/A-89467834?preselect=78376315#lnk=sametab\"),\n",
    "    (\"Gum\", \"https://www.target.com/p/extra-spearmint-sugarfree-gum-15ct/-/A-13307857#lnk=sametab\"),\n",
    "    (\"Toilet Paper\", \"https://www.target.com/p/cottonelle-ultra-comfort-toilet-paper/-/A-54605704?preselect=75665830#lnk=sametab\"),\n",
    "    (\"AirPods\", \"https://www.target.com/p/apple-airpods-4/-/A-93606140?preselect=85978618#lnk=sametab\"),\n",
    "    (\"Cotton Swabs\", \"https://www.target.com/p/q-tips-cotton-swabs-375ct/-/A-11223546#lnk=sametab\"),\n",
    "    (\"Diapers\", \"https://www.target.com/p/pampers-swaddlers-active-baby-diapers-select-size-and-count/-/A-14783999?preselect=53461432#lnk=sametab\"),\n",
    "    (\"T-Shirt\", \"https://www.target.com/p/women-s-linen-short-sleeve-t-shirt-universal-thread/-/A-93711326?preselect=92878440#lnk=sametab\"),\n",
    "    (\"Eggs\", \"https://www.target.com/p/grade-a-large-eggs-12ct-good-38-gather-8482-packaging-may-vary/-/A-14713534#lnk=sametab\"),\n",
    "    (\"Shampoo\", \"https://www.target.com/p/native-coconut-vanilla-moisturizing-shampoo/-/A-94666723?preselect=80120273#lnk=sametab\"),\n",
    "    (\"Milk\", \"https://www.target.com/p/milk-good-gather/-/A-94602358?preselect=13276134#lnk=sametab\")\n",
    "]\n",
    "\n",
    "#       rural, suburban, urban\n",
    "zips = ['50702', '50009', '52404',\n",
    "        '67401', '66062', '66111',\n",
    "        '56601', '55066', '55403',\n",
    "        '63010', '63033', '64114',\n",
    "        '68073', '68123', '68116',\n",
    "        '58563', '58701', '58103',\n",
    "        '57701', '57401', '57110']\n",
    "\n",
    "location = ['Waterloo, IA', 'Altoona, IA', 'Cedar Rapids, IA',\n",
    "            'Salina, KS', 'Olathe, KS', 'Kansas City, KS',\n",
    "            'Bemidji, MN', 'Red Wing, MN', 'Minneapolis, MN',\n",
    "            'Arnold, MO', 'Florissant, MO', 'Kansas City, MO',\n",
    "            'Yutan, NE', 'Bellevue, NE', 'Omaha, NE',\n",
    "            'New Salem, ND', 'Minot, ND', 'Fargo, ND',\n",
    "            'Rapid City, SD', 'Aberdeen, SD', 'Sioux Falls, SD']\n",
    "\n",
    "city_town = ['Rural', 'Suburban', 'Urban',\n",
    "             'Rural', 'Suburban', 'Urban',\n",
    "             'Rural', 'Suburban', 'Urban',\n",
    "             'Rural', 'Suburban', 'Urban',\n",
    "             'Rural', 'Suburban', 'Urban',\n",
    "             'Rural', 'Suburban', 'Urban',\n",
    "             'Rural', 'Suburban', 'Urban'] \n",
    "\n",
    "\n",
    "combined_data = []\n",
    "\n",
    "# --- Setup Driver ---\n",
    "def setup_driver():\n",
    "    options = Options()\n",
    "    options.add_argument(\"--disable-blink-features=AutomationControlled\")\n",
    "    options.add_argument(\"--window-size=1920x1080\")\n",
    "    driver = webdriver.Firefox(options=options)\n",
    "    driver.set_page_load_timeout(30)\n",
    "    return driver\n",
    "\n",
    "def close_modal(driver):\n",
    "    try:\n",
    "        WebDriverWait(driver, 5).until(\n",
    "            EC.element_to_be_clickable((By.CLASS_NAME, \"styles_overlay__3ZDC1\"))\n",
    "        )\n",
    "        close_btn = driver.find_element(By.CLASS_NAME, \"styles_overlay__3ZDC1\")\n",
    "        driver.execute_script(\"arguments[0].click();\", close_btn)\n",
    "        time.sleep(2)\n",
    "    except:\n",
    "        pass\n",
    "\n",
    "# --- Scraping Loop ---\n",
    "for product_name, url in products:\n",
    "    print(f\"📦 Scraping {product_name}...\")\n",
    "    driver = setup_driver()\n",
    "    try:\n",
    "        driver.get(url)\n",
    "        time.sleep(5)\n",
    "        close_modal(driver)\n",
    "\n",
    "        price_element = WebDriverWait(driver, 10).until(\n",
    "            EC.presence_of_element_located((By.XPATH, \"//span[contains(@data-test, 'product-price')]\"))\n",
    "        )\n",
    "        price = price_element.text\n",
    "        #combined_data.append({\"Product\": product_name, \"Zip Code\": zips[0], \"Price\": price})\n",
    "        print(f\"✅ Zip Code: {zips} , Price: {price}\")\n",
    "        time.sleep(2)\n",
    "\n",
    "        for zip_code in zips:\n",
    "            try:\n",
    "                time.sleep(2)\n",
    "                \n",
    "                edit_buttons = driver.find_elements(By.XPATH, '//*[@id=\"web-store-id-msg-btn\"]/div/div[2]/span')\n",
    "                time.sleep(3)\n",
    "                if not edit_buttons:\n",
    "                    print(f\"❌ Could not find 'Edit your location' for zip {zip_code}\")\n",
    "                    continue\n",
    "                edit_buttons[0].click()\n",
    "                time.sleep(1)\n",
    "                zip_input = driver.find_element(By.XPATH, '//*[@id=\"zip-or-city-state\"]')\n",
    "                zip_input.send_keys(Keys.COMMAND + \"a\")\n",
    "                zip_input.send_keys(Keys.BACKSPACE)\n",
    "                zip_input.send_keys(zip_code)\n",
    "                time.sleep(1)\n",
    "                \n",
    "                print(\"Clicking the button to update zip\")\n",
    "                \n",
    "                lookup = driver.find_element(By.XPATH, \"/html/body/div[5]/div/div/div[2]/div[1]/div/div[1]/div[2]/button\")\n",
    "                lookup.click()\n",
    "                time.sleep(3)\n",
    "                \n",
    "                first_available_store = driver.find_element(By.XPATH, \"/html/body/div[5]/div/div/div[2]/div[2]/fieldset/div[1]/div/div[1]/label\")\n",
    "                first_available_store.click()\n",
    "                time.sleep(1)\n",
    "                \n",
    "                shop_this_store = driver.find_element(By.XPATH, \"/html/body/div[5]/div/div/div[3]/button\")\n",
    "                shop_this_store.click()\n",
    "                time.sleep(3)\n",
    "                \n",
    "                price_element = WebDriverWait(driver, 10).until(\n",
    "                    EC.presence_of_element_located((By.XPATH, \"//span[contains(@data-test, 'product-price')]\"))\n",
    "                )\n",
    "                price = price_element.text\n",
    "                combined_data.append({\"Product\": product_name, \"Zip Code\": zip_code, \"Price\": price})\n",
    "                print(f\"✅ Zip Code: {zip_code} , Price: {price}\")\n",
    "\n",
    "            except Exception as e:\n",
    "                print(f\"❌ Error processing zip {zip_code}: {e}\")\n",
    "    except Exception as e:\n",
    "        print(f\"❌ Error on main product for {product_name}: {e}\")\n",
    "    finally:\n",
    "        driver.quit()"
   ]
  },
  {
   "cell_type": "markdown",
   "id": "498c4b3f",
   "metadata": {},
   "source": [
    "### Cleanup and Exploratory Analysis\n",
    "With our data scraped, it can immediately be processed through the cleanup code, analyzed, and saved as a .csv file for future use.\n",
    "\n",
    "There is also a version below this cell that instead works with uploaded .csv files instead of the dataframe outputted from the scraping program, just in case we need to do analysis on data that has already been saved."
   ]
  },
  {
   "cell_type": "code",
   "execution_count": null,
   "id": "7064a449",
   "metadata": {},
   "outputs": [],
   "source": [
    "# Updated! This cleans up the data and saves to to a csv, alongside printing the statistics.\n",
    "# --- Data Cleanup ---\n",
    "df = pd.DataFrame(combined_data)\n",
    "display(df)\n",
    "zip_map = dict(zip(zips, zip(location, city_town)))\n",
    "df['Location'] = df['Zip Code'].map(lambda z: zip_map.get(z, [\"\", \"\"])[0])\n",
    "df['Area Type'] = df['Zip Code'].map(lambda z: zip_map.get(z, [\"\", \"\"])[1])\n",
    "df['Price'] = df['Price'].replace('[\\$,]', '', regex=True).astype(float)\n",
    "\n",
    "# --- Category Mapping ---\n",
    "category_map = {\n",
    "    \"Bananas\": \"Food\", \"Vegetable Oil\": \"Food\", \"Gum\": \"Snack\", \"Toilet Paper\": \"Toiletries\",\n",
    "    \"AirPods\": \"Electronics\", \"Cotton Swabs\": \"Toiletries\", \"Diapers\": \"Baby Care\",\n",
    "    \"T-Shirt\": \"Clothing\", \"Eggs\": \"Food\", \"Shampoo\": \"Toiletries\", \"Milk\": \"Food\"\n",
    "}\n",
    "df[\"Category\"] = df[\"Product\"].map(category_map)\n",
    "\n",
    "df.to_csv(\"target_prices_combined.csv\", index=False)\n",
    "print(\"✅ All product data saved to target_prices_combined.csv\")\n",
    "\n",
    "# --- EDA + Visualization ---\n",
    "plt.figure(figsize=(14, 6))\n",
    "sns.boxplot(data=df, x=\"Category\", y=\"Price\")\n",
    "plt.title(\"Price Distribution by Product Category\")\n",
    "plt.xticks(rotation=45)\n",
    "plt.tight_layout()\n",
    "plt.show()\n",
    "\n",
    "pivot = df.pivot_table(index=\"Product\", columns=\"Zip Code\", values=\"Price\", aggfunc='mean')\n",
    "print(\"\\n📊 Average Price by Product and ZIP Code:\\n\")\n",
    "print(pivot)\n",
    "\n",
    "print(\"\\n📉 Product Price Variability (Standard Deviation):\\n\")\n",
    "print(df.groupby(\"Product\")[\"Price\"].std())\n",
    "\n",
    "# Linear Regression: Area Type → Price\n",
    "df_reg = df.copy()\n",
    "df_reg['Area Code'] = df_reg['Area Type'].map({'Suburban': 0, 'City': 1, 'Urban': 2})\n",
    "df_reg = df_reg.dropna(subset=['Area Code'])\n",
    "\n",
    "X = sm.add_constant(df_reg['Area Code'])\n",
    "y = df_reg['Price']\n",
    "model = sm.OLS(y, X).fit()\n",
    "print(\"\\n📈 Linear Regression Summary (Area Code → Price):\\n\")\n",
    "print(model.summary())\n",
    "\n",
    "# K-Means Clustering\n",
    "pivot_df = df.pivot_table(index=\"Zip Code\", columns=\"Product\", values=\"Price\")\n",
    "pivot_df = pivot_df.dropna()\n",
    "if pivot_df.shape[0] >= 2:\n",
    "    scaler = StandardScaler()\n",
    "    scaled = scaler.fit_transform(pivot_df)\n",
    "    kmeans = KMeans(n_clusters=2, random_state=42)\n",
    "    pivot_df['Cluster'] = kmeans.fit_predict(scaled)\n",
    "    print(\"\\n ZIP Code Clusters:\\n\")\n",
    "    print(pivot_df['Cluster'])\n",
    "else:\n",
    "    print(\"\\n Not enough ZIP Codes with full product prices to perform clustering.\")\n",
    "\n",
    "# Group Means\n",
    "print(\"\\n🏙️ Average Price by Area Type:\\n\")\n",
    "print(df.groupby(['Area Type'])['Price'].mean())\n",
    "\n",
    "print(\"\\n📊 Average Price by Category and Area Type:\\n\")\n",
    "print(df.groupby(['Category', 'Area Type'])['Price'].mean().unstack())\n",
    "\n",
    "# Heatmap\n",
    "plt.figure(figsize=(12, 6))\n",
    "sns.heatmap(pivot, annot=True, cmap=\"coolwarm\", fmt=\".2f\")\n",
    "plt.title(\"Price Variation of Products by ZIP Code\")\n",
    "plt.tight_layout()\n",
    "plt.show()\n",
    "\n",
    "\n",
    "# In[ ]:"
   ]
  },
  {
   "cell_type": "code",
   "execution_count": null,
   "id": "aa4efbfb",
   "metadata": {},
   "outputs": [],
   "source": [
    "# This version of the code just displays the statistics, importing from a csv so we don't have to re-run the scrapes.\n",
    "# --- Data Cleanup ---\n",
    "df = pd.read_csv(\"target_prices_combined_mountain.csv\")\n",
    "display(df)\n",
    "\n",
    "# --- Category Mapping ---\n",
    "category_map = {\n",
    "    \"Bananas\": \"Food\", \"Vegetable Oil\": \"Food\", \"Gum\": \"Snack\", \"Toilet Paper\": \"Toiletries\",\n",
    "    \"AirPods\": \"Electronics\", \"Cotton Swabs\": \"Toiletries\", \"Diapers\": \"Baby Care\",\n",
    "    \"T-Shirt\": \"Clothing\", \"Eggs\": \"Food\", \"Shampoo\": \"Toiletries\", \"Milk\": \"Food\"\n",
    "}\n",
    "df[\"Category\"] = df[\"Product\"].map(category_map)\n",
    "\n",
    "\n",
    "# --- EDA + Visualization ---\n",
    "plt.figure(figsize=(14, 6))\n",
    "sns.boxplot(data=df, x=\"Category\", y=\"Price\")\n",
    "plt.title(\"Price Distribution by Product Category\")\n",
    "plt.xticks(rotation=45)\n",
    "plt.tight_layout()\n",
    "plt.show()\n",
    "\n",
    "pivot = df.pivot_table(index=\"Product\", columns=\"Zip Code\", values=\"Price\", aggfunc='mean')\n",
    "print(\"\\n📊 Average Price by Product and ZIP Code:\\n\")\n",
    "print(pivot)\n",
    "\n",
    "print(\"\\n📉 Product Price Variability (Standard Deviation):\\n\")\n",
    "print(df.groupby(\"Product\")[\"Price\"].std())\n",
    "\n",
    "# Linear Regression: Area Type → Price\n",
    "df_reg = df.copy()\n",
    "df_reg['Area Code'] = df_reg['Area Type'].map({'Suburban': 0, 'City': 1, 'Urban': 2})\n",
    "df_reg = df_reg.dropna(subset=['Area Code'])\n",
    "\n",
    "X = sm.add_constant(df_reg['Area Code'])\n",
    "y = df_reg['Price']\n",
    "model = sm.OLS(y, X).fit()\n",
    "print(\"\\n📈 Linear Regression Summary (Area Code → Price):\\n\")\n",
    "print(model.summary())\n",
    "\n",
    "# K-Means Clustering\n",
    "pivot_df = df.pivot_table(index=\"Zip Code\", columns=\"Product\", values=\"Price\")\n",
    "pivot_df = pivot_df.dropna()\n",
    "if pivot_df.shape[0] >= 2:\n",
    "    scaler = StandardScaler()\n",
    "    scaled = scaler.fit_transform(pivot_df)\n",
    "    kmeans = KMeans(n_clusters=2, random_state=42)\n",
    "    pivot_df['Cluster'] = kmeans.fit_predict(scaled)\n",
    "    print(\"\\n ZIP Code Clusters:\\n\")\n",
    "    print(pivot_df['Cluster'])\n",
    "else:\n",
    "    print(\"\\n Not enough ZIP Codes with full product prices to perform clustering.\")\n",
    "\n",
    "# Group Means\n",
    "print(\"\\n🏙️ Average Price by Area Type:\\n\")\n",
    "print(df.groupby(['Area Type'])['Price'].mean())\n",
    "\n",
    "print(\"\\n📊 Average Price by Category and Area Type:\\n\")\n",
    "print(df.groupby(['Category', 'Area Type'])['Price'].mean().unstack())\n",
    "\n",
    "# Heatmap\n",
    "plt.figure(figsize=(12, 6))\n",
    "sns.heatmap(pivot, annot=True, cmap=\"coolwarm\", fmt=\".2f\")\n",
    "plt.title(\"Price Variation of Products by ZIP Code\")\n",
    "plt.tight_layout()\n",
    "plt.show()"
   ]
  },
  {
   "cell_type": "markdown",
   "id": "f4b1b9b5",
   "metadata": {},
   "source": [
    "### Cleaning the Data\n",
    "Now that the data is saved, it is further cleaned, so that it can be concatenated into one large file, various variables can be added, and exported as one combined .csv file."
   ]
  },
  {
   "cell_type": "code",
   "execution_count": null,
   "id": "4729d72e",
   "metadata": {},
   "outputs": [],
   "source": [
    "# Getting and cleaning the data.\n",
    "\n",
    "file_names = [\"target_prices_combined_east_south_central\",\n",
    "              \"target_prices_combined_mountain\",\n",
    "              \"target_prices_combined_pacific\",\n",
    "              \"target_prices_combined_south_atlantic\",\n",
    "              \"target_prices_combined_west_north_central\",\n",
    "              \"target_prices_combined_west_south_central\",\n",
    "              \"target_prices_NE\",\n",
    "              \"target_prices_NEC_full\",\n",
    "              \"target_pricing_MA\"]\n",
    "\n",
    "for file in file_names:\n",
    "    globals()[file] = pd.read_csv(\"scraped data to combine into full dataframe/\" + file + \".csv\")\n",
    "\n",
    "    \n",
    "# This is the section where I clean up some of the data so I can mash it all together in a sec.\n",
    "\n",
    "# Starting with defining some functions that I'll use to clean the data, of course.\n",
    "\n",
    "# Some zips aren't 5 numbers long.\n",
    "def zip_extender_and_stringifier(code):\n",
    "    if len(str(int(code))) != 5:\n",
    "        return \"0\" + str(int(code))\n",
    "    return str(int(code))\n",
    "\n",
    "def price_floater(price):\n",
    "    # I did not need to make this one line. I probably should not have made this one line. But I did anyways, because it made me feel awesome.\n",
    "    return float(price.split('$')[-1].split('.')[0]) + float(price.split('$')[-1].split('.')[1])/100\n",
    "\n",
    "def rent_floater(price):\n",
    "    # This is just price floater, but for thousands instead of tens with decimals.\n",
    "    if \",\" in price:\n",
    "        return float(price.split('$')[-1].split(',')[0])*1000 + float(price.split('$')[-1].split(',')[1])\n",
    "    else:\n",
    "        return float(price.split('$')[-1])\n",
    "\n",
    "def airpod_capitalizer(product):\n",
    "    if product == 'Airpods':\n",
    "        return 'AirPods'\n",
    "    return product\n",
    "\n",
    "def classification_fixer(classification):\n",
    "    return classification.title().split(' ')[0]\n",
    "\n",
    "\n",
    "target_prices_NE = target_prices_NE.drop(\"Unnamed: 5\", axis=1)  # Drops mysterious sixth column.\n",
    "target_prices_NE = target_prices_NE.dropna()  # Removes null values from data.\n",
    "target_prices_NE[\"Zip Code\"] = target_prices_NE[\"Zip Code\"].apply(zip_extender_and_stringifier)  # Fixes zips being registered as floats\n",
    "target_prices_NE[\"Price\"] = target_prices_NE[\"Price\"].apply(price_floater)  # Turns prices into floats\n",
    "target_prices_NE[\"Classification\"] = target_prices_NE[\"Classification\"].apply(classification_fixer)  # Fixes capitalization on classifications\n",
    "target_prices_NE = target_prices_NE.rename(columns={'Classification': 'Area Type'})  # ...only to immediately rename the column.\n",
    "\n",
    "# Doing the same with the other two. I tried to do this as a loop, but pandas didn't like that very much.\n",
    "target_prices_NEC_full = target_prices_NEC_full.dropna()\n",
    "target_prices_NEC_full[\"Zip Code\"] = target_prices_NEC_full[\"Zip Code\"].apply(zip_extender_and_stringifier)\n",
    "target_prices_NEC_full[\"Price\"] = target_prices_NEC_full[\"Price\"].apply(price_floater)\n",
    "target_prices_NEC_full[\"Classification\"] = target_prices_NEC_full[\"Classification\"].apply(classification_fixer)\n",
    "target_prices_NEC_full[\"Product\"] = target_prices_NEC_full[\"Product\"].apply(airpod_capitalizer) # This one changes Airpods to AirPods, to match the others' capitalization of the word. \n",
    "target_prices_NEC_full = target_prices_NEC_full.rename(columns={'Classification': 'Area Type'})\n",
    "\n",
    "target_pricing_MA = target_pricing_MA.dropna()\n",
    "target_pricing_MA[\"Zip Code\"] = target_pricing_MA[\"Zip Code\"].apply(zip_extender_and_stringifier)\n",
    "target_pricing_MA[\"Price\"] = target_pricing_MA[\"Price\"].apply(price_floater)\n",
    "target_pricing_MA[\"Classification\"] = target_pricing_MA[\"Classification\"].apply(classification_fixer)\n",
    "target_pricing_MA = target_pricing_MA.rename(columns={'Classification': 'Area Type'})\n",
    "\n",
    "\n",
    "# I messed up some of my data collection, so I'm fixing that manually(ish) for the files I know are affected.\n",
    "\n",
    "target_prices_combined_mountain = target_prices_combined_mountain.drop(range(0,275,25))\n",
    "target_prices_combined_mountain = target_prices_combined_mountain.drop(range(10,275,25))  # I accidentally duplicated 59718. I'm gonna have to re-scrape mountain later. fml.\n",
    "\n",
    "target_prices_combined_pacific = target_prices_combined_pacific.drop(range(0,165,15))\n",
    "\n",
    "target_prices_combined_west_south_central = target_prices_combined_west_south_central.drop(range(0,143,13))\n",
    "\n",
    "\n",
    "# I have no idea why my code is breaking. i'm just gonna try this out of desperation.\n",
    "target_prices_combined_east_south_central[\"Zip Code\"] = target_prices_combined_east_south_central[\"Zip Code\"].apply(zip_extender_and_stringifier)\n",
    "target_prices_combined_mountain[\"Zip Code\"] = target_prices_combined_mountain[\"Zip Code\"].apply(zip_extender_and_stringifier)\n",
    "target_prices_combined_pacific[\"Zip Code\"] = target_prices_combined_pacific[\"Zip Code\"].apply(zip_extender_and_stringifier)\n",
    "target_prices_combined_south_atlantic[\"Zip Code\"] = target_prices_combined_south_atlantic[\"Zip Code\"].apply(zip_extender_and_stringifier)\n",
    "target_prices_combined_west_north_central[\"Zip Code\"] = target_prices_combined_west_north_central[\"Zip Code\"].apply(zip_extender_and_stringifier)\n",
    "target_prices_combined_west_south_central[\"Zip Code\"] = target_prices_combined_west_south_central[\"Zip Code\"].apply(zip_extender_and_stringifier)\n",
    "# Oh hey, this actually fixed it! Well I'm keeping these here because they make all the column additions good.\n",
    "\n",
    "\n",
    "\n",
    "# And now I get to pivot and combine them. This part's really satisfying.\n",
    "\n",
    "files_to_concat = []\n",
    "\n",
    "for file in file_names:\n",
    "    df = globals()[file]\n",
    "    \n",
    "    print(\"pivoting\", file)\n",
    "    product_prices = df.pivot(index='Zip Code', columns='Product', values='Price')\n",
    "    \n",
    "    print(\"location+class for\", file)\n",
    "    location_and_class = df.drop_duplicates(\"Zip Code\")\n",
    "    location_and_class = location_and_class.drop(['Product', 'Price'], axis=1)\n",
    "    try:\n",
    "        location_and_class = location_and_class.drop('Category', axis=1)\n",
    "    except:\n",
    "        pass\n",
    "    location_and_class = location_and_class.set_index('Zip Code')\n",
    "\n",
    "    print(\"combining\", file)\n",
    "    out4 = pd.concat([product_prices, location_and_class], axis=1)\n",
    "    #display(out4)\n",
    "    print(\"done!\")\n",
    "    \n",
    "    globals()[\"pivot_\" + file] = out4  # I don't know if I'll need this? but I'll keep it in, just in case people want individual files.\n",
    "    files_to_concat.append(globals()[\"pivot_\" + file])  # This adds it to the list of frames to concat together.\n",
    "\n",
    "full_data = pd.concat(files_to_concat)\n",
    "display(full_data)\n",
    "\n",
    "\n",
    "\n",
    "# This data is found from this website: https://warehouse.ninja/target-distribution-center-locations/\n",
    "# I inputted it manually, unfortunately.\n",
    "\n",
    "warehouse_data = [[34.6449932755897,-86.8473292167007],\n",
    "                  [33.44847758394,-112.216516477379],\n",
    "                  [35.4443517679111,-119.184883986437],\n",
    "                  [34.1129032695058,-117.481059984653],\n",
    "                  [34.1556649469121,-117.430952966951],\n",
    "                  [33.8829312577458,-117.266820757673],\n",
    "                  [38.6830449523077,-121.721678642205],\n",
    "                  [34.1342886776624,-117.416355370662],\n",
    "                  [38.2782732480079,-104.467643668806],\n",
    "                  [39.8102931481305,-104.986460657673],\n",
    "                  [30.2323049532679,-82.6359163730191],\n",
    "                  [31.7765737205048,-81.3526562288365],\n",
    "                  [31.7776443503854,-81.3539269910744],\n",
    "                  [31.4215451402305,-83.5182432359064],\n",
    "                  [32.1739955290448,-81.1755252030619],\n",
    "                  [21.4792398115305,-158.016842329534],\n",
    "                  [41.9176226241567,-88.7369320728707],\n",
    "                  [41.8303900458523,-87.7238539644176],\n",
    "                  [41.8002418685309,-87.7811810344034],\n",
    "                  [41.4744170168815,-88.1627609565227],\n",
    "                  [41.9218023710286,-87.9598046121732],\n",
    "                  [39.7475498809776,-86.2948367214139],\n",
    "                  [42.4760732243742,-92.468984016849],\n",
    "                  [38.9662278505392,-95.6943807344034],\n",
    "                  [38.8653486027871,-76.7299089768994],\n",
    "                  [44.9647972364202,-85.2029499259567],\n",
    "                  [45.0979857630195,-93.2491908864199],\n",
    "                  [44.9933873277923,-93.2149055171079],\n",
    "                  [44.9452591409893,-92.9121249623863],\n",
    "                  [40.5251569148739,-74.2592140725181],\n",
    "                  [40.089765436428,-74.8200981032102],\n",
    "                  [39.7817015818632,-75.3450861543144],\n",
    "                  [43.178721716844,-73.7161892865095],\n",
    "                  [42.9386799514717,-74.2384685711634],\n",
    "                  [35.6225966445846,-81.3098264595263],\n",
    "                  [39.9520393926857,-83.3482983306921],\n",
    "                  [39.9471432044632,-83.3518352558173],\n",
    "                  [44.5794790802794,-123.115068328716],\n",
    "                  [40.1989563009857,-76.8052668801052],\n",
    "                  [39.8890231958012,-77.6729397],\n",
    "                  [34.1794119094042,-80.6818378840045],\n",
    "                  [32.4347483116907,-97.0555079725181],\n",
    "                  [34.5570298314302,-97.1446958584889],\n",
    "                  [32.8696311238109,-95.6389149051154],\n",
    "                  [32.8807284643133,-96.901032357673],\n",
    "                  [29.9461573473188,-95.5288642134904],\n",
    "                  [38.0306730381623,-78.998851715346],\n",
    "                  [36.7076274133422,-76.6651214220913],\n",
    "                  [47.0821524927726,-122.771626284653],\n",
    "                  [43.080037381646,-88.4760084558174],\n",
    "                  [42.4825228934735,-92.4709803136662]]\n",
    "# This data is from this website: https://gist.github.com/pramodpendyala/e5688b6a63d2983eac804bbaa1fd7cc0\n",
    "\n",
    "address_data = pd.read_csv('2023_Gaz_zcta_national.txt', sep=\"\\t\", header=None)\n",
    "address_data.columns = address_data.iloc[0]\n",
    "address_data = address_data.drop(0)\n",
    "# Why is the column name like this. Who is responsible. I just want to talk.\n",
    "address_data.rename(columns={'INTPTLONG                                                                                                                                  ':'INTPTLONG'}, inplace=True)\n",
    "\n",
    "address_data['INTPTLAT'] = address_data['INTPTLAT'].apply(lambda x: float(x))\n",
    "address_data['INTPTLONG'] = address_data['INTPTLONG'].apply(lambda x: float(x))\n",
    "\n",
    "address_data = address_data.drop([\"ALAND\", \"AWATER\", \"ALAND_SQMI\", \"AWATER_SQMI\"], axis=1)\n",
    "\n",
    "address_data = address_data.rename(columns={'GEOID': 'Zip Code'})\n",
    "address_data = address_data.set_index('Zip Code')\n",
    "\n",
    "\n",
    "\n",
    "full_data = full_data.join(address_data, how='left')\n",
    "\n",
    "def closest_to_distro_center(row):\n",
    "    distances = []\n",
    "    \n",
    "    \n",
    "    for coordinate in warehouse_data:\n",
    "        # I'll be honest, I have no idea how this works. I don't know most of my trig knowledge anymore, and I am trusting this stackoverflow person with my life.\n",
    "        # https://stackoverflow.com/questions/365826/calculate-distance-between-2-gps-coordinates\n",
    "        earth_radius = 3959  # This is earth's radius in miles. I can switch this to fm by changing the number to 6371\n",
    "        \n",
    "        distance_lat = math.radians(row[\"INTPTLAT\"] - coordinate[0])\n",
    "        distance_lon = math.radians(row[\"INTPTLONG\"] - coordinate[1])\n",
    "        \n",
    "        lat1 = math.radians(row[\"INTPTLAT\"])\n",
    "        lat2 = math.radians(coordinate[0])\n",
    "        \n",
    "        a = pow(math.sin(distance_lat / 2), 2) + (pow(math.sin(distance_lon / 2), 2) * math.cos(lat1) * math.cos(lat2))\n",
    "        \n",
    "        c = 2 * math.atan2(math.sqrt(a), math.sqrt(1-a))\n",
    "        distances.append(earth_radius * c)\n",
    "        \n",
    "    \n",
    "    return min(distances)\n",
    "\n",
    "\n",
    "full_data[\"Closest Distro Center\"] = full_data.apply(closest_to_distro_center, axis=1)\n",
    "\n",
    "full_data = full_data.drop([\"INTPTLAT\", \"INTPTLONG\"], axis=1)\n",
    "display(full_data)\n",
    "\n",
    "\n",
    "# Ok now to add the rent data to the columns.\n",
    "\n",
    "rent = pd.read_csv(\"scraped data to combine into full dataframe/df_rent.csv\")\n",
    "#display(rent)\n",
    "rent = rent.drop([\"Unnamed: 9\", \"Unnamed: 10\", \"Unnamed: 11\", \"Unnamed: 12\", \"Unnamed: 13\", \"Unnamed: 14\", \"Unnamed: 15\", \"Unnamed: 16\", \"Unnamed: 17\", \"Unnamed: 18\", \"Unnamed: 19\"], axis=1)\n",
    "#display(rent)\n",
    "rent = rent.dropna()\n",
    "rent = rent.rename(columns={'ZIP': 'Zip Code'})\n",
    "rent[\"Zip Code\"] = rent[\"Zip Code\"].apply(zip_extender_and_stringifier)  # Fixes zips being registered as floats\n",
    "rent = rent.set_index('Zip Code')\n",
    "#display(rent)\n",
    "rent[\"Studio\"] = rent[\"Studio\"].apply(rent_floater)\n",
    "rent[\"1BR\"] = rent[\"1BR\"].apply(rent_floater)\n",
    "rent[\"2BR\"] = rent[\"2BR\"].apply(rent_floater)\n",
    "rent[\"3BR\"] = rent[\"3BR\"].apply(rent_floater)\n",
    "rent[\"4BR\"] = rent[\"4BR\"].apply(rent_floater)\n",
    "\n",
    "full_data = full_data.join(rent, how='left')\n",
    "\n",
    "\n",
    "\n",
    "# And I'll also make sure to add income.\n",
    "\n",
    "income = pd.read_excel(\"scraped data to combine into full dataframe/Med_income.xlsx\")\n",
    "income = income.drop(\"Unnamed: 3\", axis=1)\n",
    "income = income.rename(columns={'ZIP': 'Zip Code'})\n",
    "income[\"Zip Code\"] = income[\"Zip Code\"].apply(zip_extender_and_stringifier)  # Fixes zips being registered as floats\n",
    "income = income.set_index('Zip Code')\n",
    "\n",
    "\n",
    "full_data = full_data.join(income, how='left')\n",
    "\n",
    "full_data = full_data.drop_duplicates()\n",
    "\n",
    "display(full_data)\n",
    "\n",
    "# When importing the data as a CSV, make sure to turn the zip code back into an index so it doesn't get in the way.\n",
    "# I have an example of doing this in the data modeling file, right at the top in the clustering section.\n",
    "full_data.to_csv(\"full_data.csv\")"
   ]
  },
  {
   "cell_type": "markdown",
   "id": "e699b2c0",
   "metadata": {},
   "source": [
    "### Data Modeling\n",
    "Now that the data is sufficiently clean, we can model the data in various ways. Starting by once again importing the data from csv."
   ]
  },
  {
   "cell_type": "code",
   "execution_count": 3,
   "id": "0913e2b0",
   "metadata": {},
   "outputs": [],
   "source": [
    "\n",
    "# Bringing in the data.\n",
    "# I do this for both linear regression and clustering, so I feel like I should have it happen out here.\n",
    "\n",
    "data = pd.read_csv(\"full_data.csv\")\n",
    "\n",
    "# Sure is annoying having to redefine this. Oh, well!\n",
    "def zip_extender_and_stringifier(code):\n",
    "    if len(str(int(code))) != 5:\n",
    "        return \"0\" + str(int(code))\n",
    "    return str(int(code))\n",
    "data[\"Zip Code\"] = data[\"Zip Code\"].apply(zip_extender_and_stringifier)\n",
    "\n",
    "data = data.set_index('Zip Code')\n",
    "\n",
    "\n"
   ]
  },
  {
   "cell_type": "markdown",
   "id": "2c8db2a5",
   "metadata": {},
   "source": [
    "### Clustering!\n",
    "First, we ran clustering models on the data, to see if there were any obvious groups that the Targets seemed to fall under."
   ]
  },
  {
   "cell_type": "code",
   "execution_count": 6,
   "id": "64e0b7ae",
   "metadata": {},
   "outputs": [
    {
     "data": {
      "text/html": [
       "<div>\n",
       "<style scoped>\n",
       "    .dataframe tbody tr th:only-of-type {\n",
       "        vertical-align: middle;\n",
       "    }\n",
       "\n",
       "    .dataframe tbody tr th {\n",
       "        vertical-align: top;\n",
       "    }\n",
       "\n",
       "    .dataframe thead th {\n",
       "        text-align: right;\n",
       "    }\n",
       "</style>\n",
       "<table border=\"1\" class=\"dataframe\">\n",
       "  <thead>\n",
       "    <tr style=\"text-align: right;\">\n",
       "      <th></th>\n",
       "      <th>AirPods</th>\n",
       "      <th>Bananas</th>\n",
       "      <th>Cotton Swabs</th>\n",
       "      <th>Diapers</th>\n",
       "      <th>Eggs</th>\n",
       "      <th>Gum</th>\n",
       "      <th>Milk</th>\n",
       "      <th>Shampoo</th>\n",
       "      <th>T-Shirt</th>\n",
       "      <th>Toilet Paper</th>\n",
       "      <th>...</th>\n",
       "      <th>Studio</th>\n",
       "      <th>1BR</th>\n",
       "      <th>2BR</th>\n",
       "      <th>3BR</th>\n",
       "      <th>4BR</th>\n",
       "      <th>Division</th>\n",
       "      <th>Region</th>\n",
       "      <th>Median Income</th>\n",
       "      <th>Population</th>\n",
       "      <th>Cluster</th>\n",
       "    </tr>\n",
       "    <tr>\n",
       "      <th>Zip Code</th>\n",
       "      <th></th>\n",
       "      <th></th>\n",
       "      <th></th>\n",
       "      <th></th>\n",
       "      <th></th>\n",
       "      <th></th>\n",
       "      <th></th>\n",
       "      <th></th>\n",
       "      <th></th>\n",
       "      <th></th>\n",
       "      <th></th>\n",
       "      <th></th>\n",
       "      <th></th>\n",
       "      <th></th>\n",
       "      <th></th>\n",
       "      <th></th>\n",
       "      <th></th>\n",
       "      <th></th>\n",
       "      <th></th>\n",
       "      <th></th>\n",
       "      <th></th>\n",
       "    </tr>\n",
       "  </thead>\n",
       "  <tbody>\n",
       "    <tr>\n",
       "      <th>02865</th>\n",
       "      <td>179.99</td>\n",
       "      <td>1.99</td>\n",
       "      <td>3.39</td>\n",
       "      <td>44.99</td>\n",
       "      <td>4.99</td>\n",
       "      <td>1.69</td>\n",
       "      <td>3.89</td>\n",
       "      <td>9.99</td>\n",
       "      <td>9.6</td>\n",
       "      <td>12.99</td>\n",
       "      <td>...</td>\n",
       "      <td>1233.0</td>\n",
       "      <td>1319.0</td>\n",
       "      <td>1614.0</td>\n",
       "      <td>1945.0</td>\n",
       "      <td>2359.0</td>\n",
       "      <td>New England</td>\n",
       "      <td>Northeast</td>\n",
       "      <td>117042.0</td>\n",
       "      <td>17902.0</td>\n",
       "      <td>0</td>\n",
       "    </tr>\n",
       "    <tr>\n",
       "      <th>02886</th>\n",
       "      <td>NaN</td>\n",
       "      <td>1.99</td>\n",
       "      <td>NaN</td>\n",
       "      <td>44.99</td>\n",
       "      <td>4.99</td>\n",
       "      <td>1.79</td>\n",
       "      <td>NaN</td>\n",
       "      <td>NaN</td>\n",
       "      <td>9.6</td>\n",
       "      <td>NaN</td>\n",
       "      <td>...</td>\n",
       "      <td>1233.0</td>\n",
       "      <td>1319.0</td>\n",
       "      <td>1614.0</td>\n",
       "      <td>1945.0</td>\n",
       "      <td>2359.0</td>\n",
       "      <td>New England</td>\n",
       "      <td>Northeast</td>\n",
       "      <td>91037.0</td>\n",
       "      <td>29373.0</td>\n",
       "      <td>0</td>\n",
       "    </tr>\n",
       "    <tr>\n",
       "      <th>02917</th>\n",
       "      <td>179.99</td>\n",
       "      <td>1.99</td>\n",
       "      <td>3.39</td>\n",
       "      <td>44.99</td>\n",
       "      <td>5.99</td>\n",
       "      <td>1.69</td>\n",
       "      <td>3.89</td>\n",
       "      <td>9.99</td>\n",
       "      <td>9.6</td>\n",
       "      <td>12.99</td>\n",
       "      <td>...</td>\n",
       "      <td>1233.0</td>\n",
       "      <td>1319.0</td>\n",
       "      <td>1614.0</td>\n",
       "      <td>1945.0</td>\n",
       "      <td>2359.0</td>\n",
       "      <td>New England</td>\n",
       "      <td>Northeast</td>\n",
       "      <td>106924.0</td>\n",
       "      <td>16036.0</td>\n",
       "      <td>0</td>\n",
       "    </tr>\n",
       "    <tr>\n",
       "      <th>03063</th>\n",
       "      <td>179.99</td>\n",
       "      <td>1.99</td>\n",
       "      <td>3.39</td>\n",
       "      <td>44.99</td>\n",
       "      <td>4.99</td>\n",
       "      <td>1.69</td>\n",
       "      <td>3.49</td>\n",
       "      <td>9.99</td>\n",
       "      <td>9.6</td>\n",
       "      <td>12.99</td>\n",
       "      <td>...</td>\n",
       "      <td>1184.0</td>\n",
       "      <td>1192.0</td>\n",
       "      <td>1564.0</td>\n",
       "      <td>1917.0</td>\n",
       "      <td>2405.0</td>\n",
       "      <td>New England</td>\n",
       "      <td>Northeast</td>\n",
       "      <td>106924.0</td>\n",
       "      <td>16036.0</td>\n",
       "      <td>0</td>\n",
       "    </tr>\n",
       "    <tr>\n",
       "      <th>05403</th>\n",
       "      <td>179.99</td>\n",
       "      <td>1.99</td>\n",
       "      <td>3.39</td>\n",
       "      <td>44.99</td>\n",
       "      <td>4.99</td>\n",
       "      <td>1.69</td>\n",
       "      <td>3.49</td>\n",
       "      <td>9.99</td>\n",
       "      <td>NaN</td>\n",
       "      <td>12.99</td>\n",
       "      <td>...</td>\n",
       "      <td>1380.0</td>\n",
       "      <td>1476.0</td>\n",
       "      <td>1936.0</td>\n",
       "      <td>2491.0</td>\n",
       "      <td>2567.0</td>\n",
       "      <td>New England</td>\n",
       "      <td>Northeast</td>\n",
       "      <td>97041.0</td>\n",
       "      <td>20166.0</td>\n",
       "      <td>0</td>\n",
       "    </tr>\n",
       "    <tr>\n",
       "      <th>...</th>\n",
       "      <td>...</td>\n",
       "      <td>...</td>\n",
       "      <td>...</td>\n",
       "      <td>...</td>\n",
       "      <td>...</td>\n",
       "      <td>...</td>\n",
       "      <td>...</td>\n",
       "      <td>...</td>\n",
       "      <td>...</td>\n",
       "      <td>...</td>\n",
       "      <td>...</td>\n",
       "      <td>...</td>\n",
       "      <td>...</td>\n",
       "      <td>...</td>\n",
       "      <td>...</td>\n",
       "      <td>...</td>\n",
       "      <td>...</td>\n",
       "      <td>...</td>\n",
       "      <td>...</td>\n",
       "      <td>...</td>\n",
       "      <td>...</td>\n",
       "    </tr>\n",
       "    <tr>\n",
       "      <th>87402</th>\n",
       "      <td>179.99</td>\n",
       "      <td>1.99</td>\n",
       "      <td>3.39</td>\n",
       "      <td>44.99</td>\n",
       "      <td>4.99</td>\n",
       "      <td>1.79</td>\n",
       "      <td>3.39</td>\n",
       "      <td>9.99</td>\n",
       "      <td>9.6</td>\n",
       "      <td>12.99</td>\n",
       "      <td>...</td>\n",
       "      <td>841.0</td>\n",
       "      <td>855.0</td>\n",
       "      <td>1034.0</td>\n",
       "      <td>1449.0</td>\n",
       "      <td>1571.0</td>\n",
       "      <td>Mountain</td>\n",
       "      <td>West</td>\n",
       "      <td>76992.0</td>\n",
       "      <td>11646.0</td>\n",
       "      <td>3</td>\n",
       "    </tr>\n",
       "    <tr>\n",
       "      <th>89705</th>\n",
       "      <td>179.99</td>\n",
       "      <td>1.99</td>\n",
       "      <td>3.39</td>\n",
       "      <td>44.99</td>\n",
       "      <td>1.49</td>\n",
       "      <td>1.79</td>\n",
       "      <td>4.69</td>\n",
       "      <td>9.99</td>\n",
       "      <td>9.6</td>\n",
       "      <td>12.99</td>\n",
       "      <td>...</td>\n",
       "      <td>1004.0</td>\n",
       "      <td>1199.0</td>\n",
       "      <td>1464.0</td>\n",
       "      <td>2051.0</td>\n",
       "      <td>2458.0</td>\n",
       "      <td>Mountain</td>\n",
       "      <td>West</td>\n",
       "      <td>78269.0</td>\n",
       "      <td>5266.0</td>\n",
       "      <td>3</td>\n",
       "    </tr>\n",
       "    <tr>\n",
       "      <th>98233</th>\n",
       "      <td>179.99</td>\n",
       "      <td>1.99</td>\n",
       "      <td>3.39</td>\n",
       "      <td>44.99</td>\n",
       "      <td>1.99</td>\n",
       "      <td>1.79</td>\n",
       "      <td>3.49</td>\n",
       "      <td>9.99</td>\n",
       "      <td>9.6</td>\n",
       "      <td>12.99</td>\n",
       "      <td>...</td>\n",
       "      <td>1166.0</td>\n",
       "      <td>1300.0</td>\n",
       "      <td>1701.0</td>\n",
       "      <td>2384.0</td>\n",
       "      <td>2592.0</td>\n",
       "      <td>Pacific</td>\n",
       "      <td>West</td>\n",
       "      <td>83560.0</td>\n",
       "      <td>16034.0</td>\n",
       "      <td>3</td>\n",
       "    </tr>\n",
       "    <tr>\n",
       "      <th>98614</th>\n",
       "      <td>179.99</td>\n",
       "      <td>1.99</td>\n",
       "      <td>3.39</td>\n",
       "      <td>44.99</td>\n",
       "      <td>4.49</td>\n",
       "      <td>1.79</td>\n",
       "      <td>3.69</td>\n",
       "      <td>9.99</td>\n",
       "      <td>9.6</td>\n",
       "      <td>12.99</td>\n",
       "      <td>...</td>\n",
       "      <td>NaN</td>\n",
       "      <td>NaN</td>\n",
       "      <td>NaN</td>\n",
       "      <td>NaN</td>\n",
       "      <td>NaN</td>\n",
       "      <td>NaN</td>\n",
       "      <td>NaN</td>\n",
       "      <td>NaN</td>\n",
       "      <td>NaN</td>\n",
       "      <td>3</td>\n",
       "    </tr>\n",
       "    <tr>\n",
       "      <th>98626</th>\n",
       "      <td>179.99</td>\n",
       "      <td>1.99</td>\n",
       "      <td>3.39</td>\n",
       "      <td>44.99</td>\n",
       "      <td>4.49</td>\n",
       "      <td>1.79</td>\n",
       "      <td>3.69</td>\n",
       "      <td>9.99</td>\n",
       "      <td>9.6</td>\n",
       "      <td>12.99</td>\n",
       "      <td>...</td>\n",
       "      <td>963.0</td>\n",
       "      <td>1186.0</td>\n",
       "      <td>1404.0</td>\n",
       "      <td>1967.0</td>\n",
       "      <td>2358.0</td>\n",
       "      <td>Pacific</td>\n",
       "      <td>West</td>\n",
       "      <td>70058.0</td>\n",
       "      <td>26291.0</td>\n",
       "      <td>3</td>\n",
       "    </tr>\n",
       "  </tbody>\n",
       "</table>\n",
       "<p>149 rows × 25 columns</p>\n",
       "</div>"
      ],
      "text/plain": [
       "          AirPods  Bananas  Cotton Swabs  Diapers  Eggs   Gum  Milk  Shampoo  \\\n",
       "Zip Code                                                                       \n",
       "02865      179.99     1.99          3.39    44.99  4.99  1.69  3.89     9.99   \n",
       "02886         NaN     1.99           NaN    44.99  4.99  1.79   NaN      NaN   \n",
       "02917      179.99     1.99          3.39    44.99  5.99  1.69  3.89     9.99   \n",
       "03063      179.99     1.99          3.39    44.99  4.99  1.69  3.49     9.99   \n",
       "05403      179.99     1.99          3.39    44.99  4.99  1.69  3.49     9.99   \n",
       "...           ...      ...           ...      ...   ...   ...   ...      ...   \n",
       "87402      179.99     1.99          3.39    44.99  4.99  1.79  3.39     9.99   \n",
       "89705      179.99     1.99          3.39    44.99  1.49  1.79  4.69     9.99   \n",
       "98233      179.99     1.99          3.39    44.99  1.99  1.79  3.49     9.99   \n",
       "98614      179.99     1.99          3.39    44.99  4.49  1.79  3.69     9.99   \n",
       "98626      179.99     1.99          3.39    44.99  4.49  1.79  3.69     9.99   \n",
       "\n",
       "          T-Shirt  Toilet Paper  ...  Studio     1BR     2BR     3BR     4BR  \\\n",
       "Zip Code                         ...                                           \n",
       "02865         9.6         12.99  ...  1233.0  1319.0  1614.0  1945.0  2359.0   \n",
       "02886         9.6           NaN  ...  1233.0  1319.0  1614.0  1945.0  2359.0   \n",
       "02917         9.6         12.99  ...  1233.0  1319.0  1614.0  1945.0  2359.0   \n",
       "03063         9.6         12.99  ...  1184.0  1192.0  1564.0  1917.0  2405.0   \n",
       "05403         NaN         12.99  ...  1380.0  1476.0  1936.0  2491.0  2567.0   \n",
       "...           ...           ...  ...     ...     ...     ...     ...     ...   \n",
       "87402         9.6         12.99  ...   841.0   855.0  1034.0  1449.0  1571.0   \n",
       "89705         9.6         12.99  ...  1004.0  1199.0  1464.0  2051.0  2458.0   \n",
       "98233         9.6         12.99  ...  1166.0  1300.0  1701.0  2384.0  2592.0   \n",
       "98614         9.6         12.99  ...     NaN     NaN     NaN     NaN     NaN   \n",
       "98626         9.6         12.99  ...   963.0  1186.0  1404.0  1967.0  2358.0   \n",
       "\n",
       "             Division     Region  Median Income  Population  Cluster  \n",
       "Zip Code                                                              \n",
       "02865     New England  Northeast       117042.0     17902.0        0  \n",
       "02886     New England  Northeast        91037.0     29373.0        0  \n",
       "02917     New England  Northeast       106924.0     16036.0        0  \n",
       "03063     New England  Northeast       106924.0     16036.0        0  \n",
       "05403     New England  Northeast        97041.0     20166.0        0  \n",
       "...               ...        ...            ...         ...      ...  \n",
       "87402        Mountain       West        76992.0     11646.0        3  \n",
       "89705        Mountain       West        78269.0      5266.0        3  \n",
       "98233         Pacific       West        83560.0     16034.0        3  \n",
       "98614             NaN        NaN            NaN         NaN        3  \n",
       "98626         Pacific       West        70058.0     26291.0        3  \n",
       "\n",
       "[149 rows x 25 columns]"
      ]
     },
     "metadata": {},
     "output_type": "display_data"
    }
   ],
   "source": [
    "\n",
    "#display(data)\n",
    "# I can't have any categorical variables for clustering, unfortunately.\n",
    "data_clustering_version = data.copy()\n",
    "data_clustering_version = data_clustering_version.drop([\"Location\", \"Area Type\", \"Division\", \"Region\"], axis=1)\n",
    "data_clustering_version = data_clustering_version.fillna(method='ffill')\n",
    "\n",
    "# Averaging the rent to try and get more conclusive results.\n",
    "data_averaging_for_rent = data_clustering_version.drop([\"AirPods\", \"Bananas\", \"Cotton Swabs\", \"Diapers\", \"Eggs\", \"Gum\", \"Milk\", \"Shampoo\", \"T-Shirt\", \"Toilet Paper\", \"Vegetable Oil\", \"Closest Distro Center\", \"Unemployment Rate\", \"Median Income\", \"Population\"], axis=1)\n",
    "data_averaging_for_rent = data_averaging_for_rent.mean(axis=1)\n",
    "\n",
    "data_clustering_version[\"Rent\"] = data_averaging_for_rent\n",
    "data_clustering_version = data_clustering_version.drop([\"Studio\", \"1BR\", \"2BR\", \"3BR\", \"4BR\"], axis=1)\n",
    "\n",
    "#display(data_clustering_version)\n",
    "\n",
    "\n",
    "\n",
    "# Specify the number of clusters\n",
    "k = 4\n",
    "\n",
    "# Create k-means object and fit the data\n",
    "kmeans = KMeans(n_clusters=k)\n",
    "kmeans.fit(data_clustering_version)\n",
    "\n",
    "# Get cluster labels and centroids\n",
    "labels = kmeans.labels_\n",
    "centroids = kmeans.cluster_centers_\n",
    "\n",
    "# Print results\n",
    "#print(\"Cluster labels:\", labels)\n",
    "#print(\"Centroids:\", centroids)\n",
    "\n",
    "data_clustering_results = data.copy()\n",
    "\n",
    "data_clustering_results[\"Cluster\"] = labels\n",
    "\n",
    "data_clustering_results = data_clustering_results.sort_values([\"Cluster\", \"Zip Code\"])\n",
    "\n",
    "\n",
    "# When importing the data as a CSV, make sure to turn the zip code back into an index so it doesn't get in the way.\n",
    "# Uncomment the line below if you'd prefer to export to a csv instead of working in this file.\n",
    "# data_clustering_results.to_csv(\"clustered_data.csv\")\n",
    "\n",
    "display(data_clustering_results)\n",
    "\n"
   ]
  },
  {
   "cell_type": "markdown",
   "id": "2f655da6",
   "metadata": {},
   "source": [
    "### Linear Regression!\n",
    "After clustering was shown to be inconclusive, it was time to look at linear regression, to see if increases/decreases in product pricing correlate with other factors."
   ]
  },
  {
   "cell_type": "code",
   "execution_count": 7,
   "id": "9f25b826",
   "metadata": {},
   "outputs": [
    {
     "name": "stdout",
     "output_type": "stream",
     "text": [
      "---Model for AirPods---\n",
      "Mean Squared Error: 3.2311742677852644e-27\n",
      "Coefficients for AirPods:\n",
      "\tBananas: 5.606752724327861e-25\n",
      "\tCotton Swabs: 1.689324508519133e-24\n",
      "\tDiapers: -1.1231242407832314e-34\n",
      "\tEggs: 1.3009420687833573e-26\n",
      "\tGum: 1.3474331506376855e-25\n",
      "\tMilk: 2.631296795156804e-27\n",
      "\tShampoo: -2.5046664529486486e-24\n",
      "\tT-Shirt: -4.040761830951668e-39\n",
      "\tToilet Paper: -1.9869172727670675e-24\n",
      "\tVegetable Oil: 2.4106291286997103e-24\n",
      "\tClosest Distro Center: 2.2075903188610686e-29\n",
      "\tUnemployment Rate: -8.901410916187791e-28\n",
      "\tMedian Income: 1.1314053345920259e-31\n",
      "\tPopulation: -2.360988776986313e-31\n",
      "\tRent: -7.329706357753063e-30\n",
      "\n",
      "Leading coeff for AirPods is Shampoo\n"
     ]
    },
    {
     "data": {
      "image/png": "[encoded data removed]",
      "text/plain": [
       "<Figure size 640x480 with 1 Axes>"
      ]
     },
     "metadata": {},
     "output_type": "display_data"
    },
    {
     "name": "stdout",
     "output_type": "stream",
     "text": [
      "---Model for Bananas---\n",
      "Mean Squared Error: 0.005470462719585023\n",
      "Coefficients for Bananas:\n",
      "\tAirPods: 1.1631252261329559e-16\n",
      "\tCotton Swabs: -1.8945573821983706\n",
      "\tDiapers: -3.334067263840837e-11\n",
      "\tEggs: -0.01024717891774895\n",
      "\tGum: -0.5764513405559278\n",
      "\tMilk: 0.009887195234284236\n",
      "\tShampoo: 1.7167722144303583\n",
      "\tT-Shirt: -2.3240552116796252e-12\n",
      "\tToilet Paper: 2.873707164114434\n",
      "\tVegetable Oil: -2.76928082106676\n",
      "\tClosest Distro Center: -0.00013646955405904356\n",
      "\tUnemployment Rate: -0.006629788781902837\n",
      "\tMedian Income: -5.521830222196958e-07\n",
      "\tPopulation: 5.050973033790745e-07\n",
      "\tRent: 2.3591080042040036e-07\n",
      "\n",
      "Leading coeff for Bananas is Toilet Paper\n"
     ]
    },
    {
     "data": {
      "image/png": "[encoded data removed]",
      "text/plain": [
       "<Figure size 640x480 with 1 Axes>"
      ]
     },
     "metadata": {},
     "output_type": "display_data"
    },
    {
     "name": "stdout",
     "output_type": "stream",
     "text": [
      "---Model for Cotton Swabs---\n",
      "Mean Squared Error: 0.189542250757936\n",
      "Coefficients for Cotton Swabs:\n",
      "\tAirPods: 1.7282178633145075e-17\n",
      "\tBananas: 0.520344351509131\n",
      "\tDiapers: -1.3280759228234205e-13\n",
      "\tEggs: -0.008724594832066765\n",
      "\tGum: -0.11631754395210227\n",
      "\tMilk: -0.004624769080119367\n",
      "\tShampoo: 0.49384585771152895\n",
      "\tT-Shirt: 2.4524879038453528e-14\n",
      "\tToilet Paper: 0.5683598986264097\n",
      "\tVegetable Oil: -0.5796502754405534\n",
      "\tClosest Distro Center: 1.5487849090482938e-05\n",
      "\tUnemployment Rate: -0.00027847600579560016\n",
      "\tMedian Income: -3.4871106996569916e-07\n",
      "\tPopulation: 4.447087467729368e-08\n",
      "\tRent: 1.2492097112189675e-05\n",
      "\n",
      "Leading coeff for Cotton Swabs is Vegetable Oil\n"
     ]
    },
    {
     "data": {
      "image/png": "[encoded data removed]",
      "text/plain": [
       "<Figure size 640x480 with 1 Axes>"
      ]
     },
     "metadata": {},
     "output_type": "display_data"
    },
    {
     "name": "stdout",
     "output_type": "stream",
     "text": [
      "---Model for Diapers---\n",
      "Mean Squared Error: 2.0194839173657902e-28\n",
      "Coefficients for Diapers:\n",
      "\tAirPods: -6.47858161257954e-42\n",
      "\tBananas: -3.8333535895154835e-26\n",
      "\tCotton Swabs: -9.410737741206009e-26\n",
      "\tEggs: 2.3251989349660052e-28\n",
      "\tGum: -1.8965282081344377e-26\n",
      "\tMilk: -8.479986430412589e-30\n",
      "\tShampoo: 9.687179025799205e-26\n",
      "\tT-Shirt: -2.2312129785995125e-38\n",
      "\tToilet Paper: 1.3267450780167987e-25\n",
      "\tVegetable Oil: -1.3686971315105143e-25\n",
      "\tClosest Distro Center: -3.988485933432236e-30\n",
      "\tUnemployment Rate: -1.8842319779811007e-28\n",
      "\tMedian Income: -2.703308041022905e-32\n",
      "\tPopulation: 4.4696741341852625e-33\n",
      "\tRent: 2.0854400161998737e-31\n",
      "\n",
      "Leading coeff for Diapers is Vegetable Oil\n"
     ]
    },
    {
     "data": {
      "image/png": "[encoded data removed]",
      "text/plain": [
       "<Figure size 640x480 with 1 Axes>"
      ]
     },
     "metadata": {},
     "output_type": "display_data"
    },
    {
     "name": "stdout",
     "output_type": "stream",
     "text": [
      "---Model for Eggs---\n",
      "Mean Squared Error: 5.092642568763891\n",
      "Coefficients for Eggs:\n",
      "\tAirPods: 5.703055430525916e-16\n",
      "\tBananas: -5.864010637078262\n",
      "\tCotton Swabs: -13.357688574283461\n",
      "\tDiapers: 8.120770156893429e-11\n",
      "\tGum: -2.581942822820719\n",
      "\tMilk: -0.08586622906145798\n",
      "\tShampoo: 19.020287953040132\n",
      "\tT-Shirt: 4.415539872909179e-11\n",
      "\tToilet Paper: 17.331462279497355\n",
      "\tVegetable Oil: -22.38830498129517\n",
      "\tClosest Distro Center: -0.00033888336778595344\n",
      "\tUnemployment Rate: 0.010490223842693856\n",
      "\tMedian Income: -2.1667614619882194e-06\n",
      "\tPopulation: 5.911780863276559e-06\n",
      "\tRent: 6.257122536865311e-05\n",
      "\n",
      "Leading coeff for Eggs is Vegetable Oil\n"
     ]
    },
    {
     "data": {
      "image/png": "[encoded data removed]",
      "text/plain": [
       "<Figure size 640x480 with 1 Axes>"
      ]
     },
     "metadata": {},
     "output_type": "display_data"
    },
    {
     "name": "stdout",
     "output_type": "stream",
     "text": [
      "---Model for Gum---\n",
      "Mean Squared Error: 0.0018355793720662985\n",
      "Coefficients for Gum:\n",
      "\tAirPods: -1.3139717731768293e-17\n",
      "\tBananas: -0.10557787490314756\n",
      "\tCotton Swabs: -0.2957821340847607\n",
      "\tDiapers: -5.969985047815354e-13\n",
      "\tEggs: -0.007817759272714225\n",
      "\tMilk: -0.0040527621970241935\n",
      "\tShampoo: 0.11637495565480926\n",
      "\tT-Shirt: 1.3995188932193576e-13\n",
      "\tToilet Paper: 0.39496561518376555\n",
      "\tVegetable Oil: -0.27071119283090767\n",
      "\tClosest Distro Center: 0.00014129521969891547\n",
      "\tUnemployment Rate: -0.0010591431470447035\n",
      "\tMedian Income: -2.7602289547336407e-07\n",
      "\tPopulation: 2.6826235452559e-07\n",
      "\tRent: 8.72870144759839e-06\n",
      "\n",
      "Leading coeff for Gum is Toilet Paper\n"
     ]
    },
    {
     "data": {
      "image/png": "[encoded data removed]",
      "text/plain": [
       "<Figure size 640x480 with 1 Axes>"
      ]
     },
     "metadata": {},
     "output_type": "display_data"
    },
    {
     "name": "stdout",
     "output_type": "stream",
     "text": [
      "---Model for Milk---\n",
      "Mean Squared Error: 0.7342061036621796\n",
      "Coefficients for Milk:\n",
      "\tAirPods: -1.0174560540408247e-16\n",
      "\tBananas: 0.09510815194439773\n",
      "\tCotton Swabs: -4.262374187120044\n",
      "\tDiapers: 1.0370054905410558e-11\n",
      "\tEggs: -0.03768915565209479\n",
      "\tGum: -0.5076044549837763\n",
      "\tShampoo: 3.03422979299249\n",
      "\tT-Shirt: 2.174177957468629e-13\n",
      "\tToilet Paper: 3.527955589691742\n",
      "\tVegetable Oil: -3.49310942963843\n",
      "\tClosest Distro Center: 0.0006669238537228695\n",
      "\tUnemployment Rate: -0.010049190746591994\n",
      "\tMedian Income: -6.9125221559346715e-06\n",
      "\tPopulation: -6.280646301132397e-06\n",
      "\tRent: 0.00016653553289744505\n",
      "\n",
      "Leading coeff for Milk is Cotton Swabs\n"
     ]
    },
    {
     "data": {
      "image/png": "[encoded data removed]",
      "text/plain": [
       "<Figure size 640x480 with 1 Axes>"
      ]
     },
     "metadata": {},
     "output_type": "display_data"
    },
    {
     "name": "stdout",
     "output_type": "stream",
     "text": [
      "---Model for Shampoo---\n",
      "Mean Squared Error: 0.00026820623989124624\n",
      "Coefficients for Shampoo:\n",
      "\tAirPods: 6.573509733464267e-17\n",
      "\tBananas: 0.21883757622485198\n",
      "\tCotton Swabs: 0.801738994975003\n",
      "\tDiapers: -5.293953108234389e-13\n",
      "\tEggs: -0.003928941531465775\n",
      "\tGum: 0.1214467521160713\n",
      "\tMilk: 0.0014690296568958473\n",
      "\tT-Shirt: -2.865759878907389e-13\n",
      "\tToilet Paper: -0.8524982128937946\n",
      "\tVegetable Oil: 0.936549138621834\n",
      "\tClosest Distro Center: -5.057455309175704e-05\n",
      "\tUnemployment Rate: -0.0009452226157258482\n",
      "\tMedian Income: 5.584089906562153e-08\n",
      "\tPopulation: 1.2355001987480346e-08\n",
      "\tRent: 1.7889506132978355e-06\n",
      "\n",
      "Leading coeff for Shampoo is Vegetable Oil\n"
     ]
    },
    {
     "data": {
      "image/png": "[encoded data removed]",
      "text/plain": [
       "<Figure size 640x480 with 1 Axes>"
      ]
     },
     "metadata": {},
     "output_type": "display_data"
    },
    {
     "name": "stdout",
     "output_type": "stream",
     "text": [
      "---Model for T-Shirt---\n",
      "Mean Squared Error: 5.048709793414476e-29\n",
      "Coefficients for T-Shirt:\n",
      "\tAirPods: -3.870595509398698e-49\n",
      "\tBananas: -3.8220238414755625e-26\n",
      "\tCotton Swabs: -9.906344041366111e-26\n",
      "\tDiapers: 2.5105117270858594e-38\n",
      "\tEggs: 4.772733150991867e-29\n",
      "\tGum: -2.201478784180086e-27\n",
      "\tMilk: -4.646896532384373e-29\n",
      "\tShampoo: 7.360775047315155e-26\n",
      "\tToilet Paper: 1.3068249018496359e-25\n",
      "\tVegetable Oil: -1.2098688659460473e-25\n",
      "\tClosest Distro Center: -7.427357956925395e-30\n",
      "\tUnemployment Rate: -2.8553195284969616e-28\n",
      "\tMedian Income: -1.5365430103106906e-32\n",
      "\tPopulation: 3.179621208236549e-33\n",
      "\tRent: 4.582686520966782e-31\n",
      "\n",
      "Leading coeff for T-Shirt is Toilet Paper\n"
     ]
    },
    {
     "data": {
      "image/png": "[encoded data removed]",
      "text/plain": [
       "<Figure size 640x480 with 1 Axes>"
      ]
     },
     "metadata": {},
     "output_type": "display_data"
    },
    {
     "name": "stdout",
     "output_type": "stream",
     "text": [
      "---Model for Toilet Paper---\n",
      "Mean Squared Error: 0.00018080912163194444\n",
      "Coefficients for Toilet Paper:\n",
      "\tAirPods: 1.2050712830834902e-17\n",
      "\tBananas: 0.28449860286078676\n",
      "\tCotton Swabs: 0.7487366177604744\n",
      "\tDiapers: 1.3376706264761224e-12\n",
      "\tEggs: 0.0011219996648307313\n",
      "\tGum: 0.22732827760602053\n",
      "\tMilk: 0.0019368092367992784\n",
      "\tShampoo: -0.6426441459006654\n",
      "\tT-Shirt: 6.069542574030166e-13\n",
      "\tVegetable Oil: 0.9634668899975904\n",
      "\tClosest Distro Center: 2.413540727005454e-05\n",
      "\tUnemployment Rate: 0.0015820887198929596\n",
      "\tMedian Income: 2.218282461307792e-07\n",
      "\tPopulation: -1.6614880814211744e-07\n",
      "\tRent: 7.948461071795266e-07\n",
      "\n",
      "Leading coeff for Toilet Paper is Vegetable Oil\n"
     ]
    },
    {
     "data": {
      "image/png": "[encoded data removed]",
      "text/plain": [
       "<Figure size 640x480 with 1 Axes>"
      ]
     },
     "metadata": {},
     "output_type": "display_data"
    },
    {
     "name": "stdout",
     "output_type": "stream",
     "text": [
      "---Model for Vegetable Oil---\n",
      "Mean Squared Error: 8.336344302728673e-05\n",
      "Coefficients for Vegetable Oil:\n",
      "\tAirPods: 7.593300138417652e-18\n",
      "\tBananas: -0.2758892349957403\n",
      "\tCotton Swabs: -0.7247960370527907\n",
      "\tDiapers: 1.4553739332594285e-13\n",
      "\tEggs: 0.001966151853114304\n",
      "\tGum: -0.14450934072158061\n",
      "\tMilk: -0.0014240256190771123\n",
      "\tShampoo: 0.7232484731079305\n",
      "\tT-Shirt: 6.059905394283303e-15\n",
      "\tToilet Paper: 0.9724236355848346\n",
      "\tClosest Distro Center: -3.6793751725454554e-05\n",
      "\tUnemployment Rate: -0.001447903433621095\n",
      "\tMedian Income: -1.7539302479775683e-07\n",
      "\tPopulation: 6.297875680750768e-08\n",
      "\tRent: 2.332085265567922e-06\n",
      "\n",
      "Leading coeff for Vegetable Oil is Toilet Paper\n"
     ]
    },
    {
     "data": {
      "image/png": "[encoded data removed]",
      "text/plain": [
       "<Figure size 640x480 with 1 Axes>"
      ]
     },
     "metadata": {},
     "output_type": "display_data"
    },
    {
     "name": "stdout",
     "output_type": "stream",
     "text": [
      "done!\n"
     ]
    }
   ],
   "source": [
    "\n",
    "# Linear Regression! I think I got everything I need for this? I kinda wish it had more visualization to it, but I couldn't really do that.\n",
    "\n",
    "data_modeling_version = data.drop([\"Location\", \"Area Type\", \"Division\", \"Region\"], axis=1)\n",
    "data_modeling_version = data_modeling_version.fillna(method='ffill')\n",
    "\n",
    "# Averaging the rent to try and get more conclusive results.\n",
    "data_averaging_for_rent = data_modeling_version.drop([\"AirPods\", \"Bananas\", \"Cotton Swabs\", \"Diapers\", \"Eggs\", \"Gum\", \"Milk\", \"Shampoo\", \"T-Shirt\", \"Toilet Paper\", \"Vegetable Oil\", \"Closest Distro Center\", \"Unemployment Rate\", \"Median Income\", \"Population\"], axis=1)\n",
    "data_averaging_for_rent = data_averaging_for_rent.mean(axis=1)\n",
    "\n",
    "data_modeling_version[\"Rent\"] = data_averaging_for_rent\n",
    "data_modeling_version = data_modeling_version.drop([\"Studio\", \"1BR\", \"2BR\", \"3BR\", \"4BR\"], axis=1)\n",
    "\n",
    "\n",
    "\n",
    "\n",
    "\n",
    "# I'll need this for later.\n",
    "coeff_labels = ['Closest Distro Center', 'Unemployment Rate', 'Median Income', 'Population', 'Rent']\n",
    "\n",
    "product_list = ['AirPods', 'Bananas', 'Cotton Swabs', 'Diapers', 'Eggs', 'Gum', 'Milk', 'Shampoo', 'T-Shirt', 'Toilet Paper', 'Vegetable Oil']\n",
    "\n",
    "for product in product_list:\n",
    "    # Separate features (X) and target variable (y)\n",
    "    #X = data_modeling_version.drop(product_list, axis=1)\n",
    "    X = data_modeling_version.drop(product, axis=1)\n",
    "    y = data_modeling_version[product]\n",
    "\n",
    "    # Split the data into training and testing sets\n",
    "    X_train, X_test, y_train, y_test = train_test_split(X, y, test_size=0.2)\n",
    "\n",
    "    # Create Linear Regression model\n",
    "    model = LinearRegression()\n",
    "    model.fit(X_train, y_train)\n",
    "\n",
    "    # Make predictions\n",
    "    y_pred = model.predict(X_test)\n",
    "\n",
    "    # Evaluate the model\n",
    "    print(\"---Model for \" + product + \"---\")\n",
    "    \n",
    "    mse = mean_squared_error(y_test, y_pred)\n",
    "    print(f'Mean Squared Error: {mse}')\n",
    "\n",
    "    \n",
    "    \n",
    "    # grab the coefficients! I'm gonna print them out all neatly.\n",
    "    coefficients = model.coef_\n",
    "    \n",
    "    coeff_labels = ['Closest Distro Center', 'Unemployment Rate', 'Median Income', 'Population', 'Rent']\n",
    "    modified_product_list = ['AirPods', 'Bananas', 'Cotton Swabs', 'Diapers', 'Eggs', 'Gum', 'Milk', 'Shampoo', 'T-Shirt', 'Toilet Paper', 'Vegetable Oil']\n",
    "    modified_product_list.remove(product)\n",
    "    \n",
    "    coeff_labels = modified_product_list + coeff_labels\n",
    "    \n",
    "    \n",
    "    \n",
    "    big_ol_print = \"Coefficients for \" + product + \":\\n\"\n",
    "    for x in range(0, len(coefficients)):\n",
    "        big_ol_print += \"\\t\" + coeff_labels[x] + \": \" + str(coefficients[x]) + \"\\n\"\n",
    "        \n",
    "    print(big_ol_print)\n",
    "    \n",
    "    \n",
    "    leading_coefficient = 0\n",
    "    leading_coeff_label = \"\"\n",
    "    for x in range(0, len(coefficients)):\n",
    "        if abs(coefficients[x]) > leading_coefficient:\n",
    "            leading_coefficient = abs(coefficients[x])\n",
    "            leading_coeff_label = coeff_labels[x]\n",
    "    print(\"Leading coeff for\", product, \"is\", leading_coeff_label)\n",
    "    \n",
    "    plt.scatter(x=data_modeling_version[leading_coeff_label], y=data_modeling_version[product], )\n",
    "    \n",
    "    \n",
    "    axes = plt.gca()\n",
    "    x_vals = np.array(axes.get_xlim())\n",
    "    y_vals = model.intercept_ + leading_coefficient * x_vals  # I could also use np.sum(model.coef_) instead of leading_coefficient, but that feels dishonest.\n",
    "    plt.plot(x_vals, y_vals, '--')\n",
    "    \n",
    "    \n",
    "    plt.title(\"Price of \" + product + \" vs \" + leading_coeff_label)\n",
    "    plt.xlabel(leading_coeff_label)\n",
    "    plt.ylabel(\"Price\")\n",
    "    \n",
    "    \n",
    "    plt.savefig(\"saved_figures/scatterplot/\" + product + \" vs \" + leading_coeff_label + \".png\", dpi=300, bbox_inches='tight')\n",
    "    \n",
    "    plt.show()\n",
    "\n",
    "\n",
    "print(\"done!\")\n",
    "\n",
    "\n"
   ]
  },
  {
   "cell_type": "markdown",
   "id": "7a368ba1",
   "metadata": {},
   "source": [
    "### Mapping\n",
    "While seeing the raw numbers and coefficients is nice, they don't tell the story quite like a nice visualization can. Below is the code and output of a few of said visualizations, that being a heatmap of pricing per state, and a scatterplot of the targets and distribution centers."
   ]
  },
  {
   "cell_type": "code",
   "execution_count": 9,
   "id": "089419b6",
   "metadata": {},
   "outputs": [
    {
     "data": {
      "text/html": [
       "<div>\n",
       "<style scoped>\n",
       "    .dataframe tbody tr th:only-of-type {\n",
       "        vertical-align: middle;\n",
       "    }\n",
       "\n",
       "    .dataframe tbody tr th {\n",
       "        vertical-align: top;\n",
       "    }\n",
       "\n",
       "    .dataframe thead th {\n",
       "        text-align: right;\n",
       "    }\n",
       "</style>\n",
       "<table border=\"1\" class=\"dataframe\">\n",
       "  <thead>\n",
       "    <tr style=\"text-align: right;\">\n",
       "      <th></th>\n",
       "      <th>AirPods</th>\n",
       "      <th>Bananas</th>\n",
       "      <th>Cotton Swabs</th>\n",
       "      <th>Diapers</th>\n",
       "      <th>Eggs</th>\n",
       "      <th>Gum</th>\n",
       "      <th>Milk</th>\n",
       "      <th>Shampoo</th>\n",
       "      <th>T-Shirt</th>\n",
       "      <th>Toilet Paper</th>\n",
       "      <th>...</th>\n",
       "      <th>Average Bananas Price</th>\n",
       "      <th>Average Cotton Swabs Price</th>\n",
       "      <th>Average Diapers Price</th>\n",
       "      <th>Average Eggs Price</th>\n",
       "      <th>Average Gum Price</th>\n",
       "      <th>Average Milk Price</th>\n",
       "      <th>Average Shampoo Price</th>\n",
       "      <th>Average T-Shirt Price</th>\n",
       "      <th>Average Toilet Paper Price</th>\n",
       "      <th>Average Vegetable Oil Price</th>\n",
       "    </tr>\n",
       "    <tr>\n",
       "      <th>Zip Code</th>\n",
       "      <th></th>\n",
       "      <th></th>\n",
       "      <th></th>\n",
       "      <th></th>\n",
       "      <th></th>\n",
       "      <th></th>\n",
       "      <th></th>\n",
       "      <th></th>\n",
       "      <th></th>\n",
       "      <th></th>\n",
       "      <th></th>\n",
       "      <th></th>\n",
       "      <th></th>\n",
       "      <th></th>\n",
       "      <th></th>\n",
       "      <th></th>\n",
       "      <th></th>\n",
       "      <th></th>\n",
       "      <th></th>\n",
       "      <th></th>\n",
       "      <th></th>\n",
       "    </tr>\n",
       "  </thead>\n",
       "  <tbody>\n",
       "    <tr>\n",
       "      <th>01040</th>\n",
       "      <td>179.99</td>\n",
       "      <td>1.99</td>\n",
       "      <td>3.39</td>\n",
       "      <td>44.99</td>\n",
       "      <td>4.99</td>\n",
       "      <td>1.79</td>\n",
       "      <td>4.19</td>\n",
       "      <td>9.99</td>\n",
       "      <td>9.6</td>\n",
       "      <td>12.99</td>\n",
       "      <td>...</td>\n",
       "      <td>1.99</td>\n",
       "      <td>3.39</td>\n",
       "      <td>44.99</td>\n",
       "      <td>5.323333</td>\n",
       "      <td>1.756667</td>\n",
       "      <td>4.19</td>\n",
       "      <td>9.99</td>\n",
       "      <td>9.6</td>\n",
       "      <td>12.99</td>\n",
       "      <td>9.39</td>\n",
       "    </tr>\n",
       "    <tr>\n",
       "      <th>02114</th>\n",
       "      <td>179.99</td>\n",
       "      <td>1.99</td>\n",
       "      <td>3.39</td>\n",
       "      <td>44.99</td>\n",
       "      <td>5.49</td>\n",
       "      <td>1.69</td>\n",
       "      <td>4.19</td>\n",
       "      <td>9.99</td>\n",
       "      <td>9.6</td>\n",
       "      <td>12.99</td>\n",
       "      <td>...</td>\n",
       "      <td>1.99</td>\n",
       "      <td>3.39</td>\n",
       "      <td>44.99</td>\n",
       "      <td>5.323333</td>\n",
       "      <td>1.756667</td>\n",
       "      <td>4.19</td>\n",
       "      <td>9.99</td>\n",
       "      <td>9.6</td>\n",
       "      <td>12.99</td>\n",
       "      <td>9.39</td>\n",
       "    </tr>\n",
       "    <tr>\n",
       "      <th>02122</th>\n",
       "      <td>179.99</td>\n",
       "      <td>1.99</td>\n",
       "      <td>3.39</td>\n",
       "      <td>44.99</td>\n",
       "      <td>5.49</td>\n",
       "      <td>1.79</td>\n",
       "      <td>4.19</td>\n",
       "      <td>9.99</td>\n",
       "      <td>9.6</td>\n",
       "      <td>12.99</td>\n",
       "      <td>...</td>\n",
       "      <td>1.99</td>\n",
       "      <td>3.39</td>\n",
       "      <td>44.99</td>\n",
       "      <td>5.323333</td>\n",
       "      <td>1.756667</td>\n",
       "      <td>4.19</td>\n",
       "      <td>9.99</td>\n",
       "      <td>9.6</td>\n",
       "      <td>12.99</td>\n",
       "      <td>9.39</td>\n",
       "    </tr>\n",
       "    <tr>\n",
       "      <th>02865</th>\n",
       "      <td>179.99</td>\n",
       "      <td>1.99</td>\n",
       "      <td>3.39</td>\n",
       "      <td>44.99</td>\n",
       "      <td>4.99</td>\n",
       "      <td>1.69</td>\n",
       "      <td>3.89</td>\n",
       "      <td>9.99</td>\n",
       "      <td>9.6</td>\n",
       "      <td>12.99</td>\n",
       "      <td>...</td>\n",
       "      <td>1.99</td>\n",
       "      <td>3.39</td>\n",
       "      <td>44.99</td>\n",
       "      <td>5.323333</td>\n",
       "      <td>1.723333</td>\n",
       "      <td>3.89</td>\n",
       "      <td>9.99</td>\n",
       "      <td>9.6</td>\n",
       "      <td>12.99</td>\n",
       "      <td>9.39</td>\n",
       "    </tr>\n",
       "    <tr>\n",
       "      <th>02886</th>\n",
       "      <td>NaN</td>\n",
       "      <td>1.99</td>\n",
       "      <td>NaN</td>\n",
       "      <td>44.99</td>\n",
       "      <td>4.99</td>\n",
       "      <td>1.79</td>\n",
       "      <td>NaN</td>\n",
       "      <td>NaN</td>\n",
       "      <td>9.6</td>\n",
       "      <td>NaN</td>\n",
       "      <td>...</td>\n",
       "      <td>1.99</td>\n",
       "      <td>3.39</td>\n",
       "      <td>44.99</td>\n",
       "      <td>5.323333</td>\n",
       "      <td>1.723333</td>\n",
       "      <td>3.89</td>\n",
       "      <td>9.99</td>\n",
       "      <td>9.6</td>\n",
       "      <td>12.99</td>\n",
       "      <td>9.39</td>\n",
       "    </tr>\n",
       "    <tr>\n",
       "      <th>...</th>\n",
       "      <td>...</td>\n",
       "      <td>...</td>\n",
       "      <td>...</td>\n",
       "      <td>...</td>\n",
       "      <td>...</td>\n",
       "      <td>...</td>\n",
       "      <td>...</td>\n",
       "      <td>...</td>\n",
       "      <td>...</td>\n",
       "      <td>...</td>\n",
       "      <td>...</td>\n",
       "      <td>...</td>\n",
       "      <td>...</td>\n",
       "      <td>...</td>\n",
       "      <td>...</td>\n",
       "      <td>...</td>\n",
       "      <td>...</td>\n",
       "      <td>...</td>\n",
       "      <td>...</td>\n",
       "      <td>...</td>\n",
       "      <td>...</td>\n",
       "    </tr>\n",
       "    <tr>\n",
       "      <th>98614</th>\n",
       "      <td>179.99</td>\n",
       "      <td>1.99</td>\n",
       "      <td>3.39</td>\n",
       "      <td>44.99</td>\n",
       "      <td>4.49</td>\n",
       "      <td>1.79</td>\n",
       "      <td>3.69</td>\n",
       "      <td>9.99</td>\n",
       "      <td>9.6</td>\n",
       "      <td>12.99</td>\n",
       "      <td>...</td>\n",
       "      <td>2.03</td>\n",
       "      <td>3.51</td>\n",
       "      <td>44.99</td>\n",
       "      <td>2.990000</td>\n",
       "      <td>1.790000</td>\n",
       "      <td>3.63</td>\n",
       "      <td>10.11</td>\n",
       "      <td>9.6</td>\n",
       "      <td>13.19</td>\n",
       "      <td>9.59</td>\n",
       "    </tr>\n",
       "    <tr>\n",
       "      <th>98626</th>\n",
       "      <td>179.99</td>\n",
       "      <td>1.99</td>\n",
       "      <td>3.39</td>\n",
       "      <td>44.99</td>\n",
       "      <td>4.49</td>\n",
       "      <td>1.79</td>\n",
       "      <td>3.69</td>\n",
       "      <td>9.99</td>\n",
       "      <td>9.6</td>\n",
       "      <td>12.99</td>\n",
       "      <td>...</td>\n",
       "      <td>2.03</td>\n",
       "      <td>3.51</td>\n",
       "      <td>44.99</td>\n",
       "      <td>2.990000</td>\n",
       "      <td>1.790000</td>\n",
       "      <td>3.63</td>\n",
       "      <td>10.11</td>\n",
       "      <td>9.6</td>\n",
       "      <td>13.19</td>\n",
       "      <td>9.59</td>\n",
       "    </tr>\n",
       "    <tr>\n",
       "      <th>98901</th>\n",
       "      <td>179.99</td>\n",
       "      <td>1.99</td>\n",
       "      <td>3.39</td>\n",
       "      <td>44.99</td>\n",
       "      <td>1.99</td>\n",
       "      <td>1.79</td>\n",
       "      <td>3.59</td>\n",
       "      <td>9.99</td>\n",
       "      <td>9.6</td>\n",
       "      <td>12.99</td>\n",
       "      <td>...</td>\n",
       "      <td>2.03</td>\n",
       "      <td>3.51</td>\n",
       "      <td>44.99</td>\n",
       "      <td>2.990000</td>\n",
       "      <td>1.790000</td>\n",
       "      <td>3.63</td>\n",
       "      <td>10.11</td>\n",
       "      <td>9.6</td>\n",
       "      <td>13.19</td>\n",
       "      <td>9.59</td>\n",
       "    </tr>\n",
       "    <tr>\n",
       "      <th>99515</th>\n",
       "      <td>179.99</td>\n",
       "      <td>2.69</td>\n",
       "      <td>4.29</td>\n",
       "      <td>44.99</td>\n",
       "      <td>4.99</td>\n",
       "      <td>1.99</td>\n",
       "      <td>3.89</td>\n",
       "      <td>9.99</td>\n",
       "      <td>9.6</td>\n",
       "      <td>13.99</td>\n",
       "      <td>...</td>\n",
       "      <td>2.69</td>\n",
       "      <td>4.29</td>\n",
       "      <td>44.99</td>\n",
       "      <td>4.990000</td>\n",
       "      <td>1.990000</td>\n",
       "      <td>3.89</td>\n",
       "      <td>9.99</td>\n",
       "      <td>9.6</td>\n",
       "      <td>13.99</td>\n",
       "      <td>9.39</td>\n",
       "    </tr>\n",
       "    <tr>\n",
       "      <th>99654</th>\n",
       "      <td>179.99</td>\n",
       "      <td>2.69</td>\n",
       "      <td>4.29</td>\n",
       "      <td>44.99</td>\n",
       "      <td>4.99</td>\n",
       "      <td>1.99</td>\n",
       "      <td>3.89</td>\n",
       "      <td>9.99</td>\n",
       "      <td>9.6</td>\n",
       "      <td>13.99</td>\n",
       "      <td>...</td>\n",
       "      <td>2.69</td>\n",
       "      <td>4.29</td>\n",
       "      <td>44.99</td>\n",
       "      <td>4.990000</td>\n",
       "      <td>1.990000</td>\n",
       "      <td>3.89</td>\n",
       "      <td>9.99</td>\n",
       "      <td>9.6</td>\n",
       "      <td>13.99</td>\n",
       "      <td>9.39</td>\n",
       "    </tr>\n",
       "  </tbody>\n",
       "</table>\n",
       "<p>149 rows × 39 columns</p>\n",
       "</div>"
      ],
      "text/plain": [
       "          AirPods  Bananas  Cotton Swabs  Diapers  Eggs   Gum  Milk  Shampoo  \\\n",
       "Zip Code                                                                       \n",
       "01040      179.99     1.99          3.39    44.99  4.99  1.79  4.19     9.99   \n",
       "02114      179.99     1.99          3.39    44.99  5.49  1.69  4.19     9.99   \n",
       "02122      179.99     1.99          3.39    44.99  5.49  1.79  4.19     9.99   \n",
       "02865      179.99     1.99          3.39    44.99  4.99  1.69  3.89     9.99   \n",
       "02886         NaN     1.99           NaN    44.99  4.99  1.79   NaN      NaN   \n",
       "...           ...      ...           ...      ...   ...   ...   ...      ...   \n",
       "98614      179.99     1.99          3.39    44.99  4.49  1.79  3.69     9.99   \n",
       "98626      179.99     1.99          3.39    44.99  4.49  1.79  3.69     9.99   \n",
       "98901      179.99     1.99          3.39    44.99  1.99  1.79  3.59     9.99   \n",
       "99515      179.99     2.69          4.29    44.99  4.99  1.99  3.89     9.99   \n",
       "99654      179.99     2.69          4.29    44.99  4.99  1.99  3.89     9.99   \n",
       "\n",
       "          T-Shirt  Toilet Paper  ...  Average Bananas Price  \\\n",
       "Zip Code                         ...                          \n",
       "01040         9.6         12.99  ...                   1.99   \n",
       "02114         9.6         12.99  ...                   1.99   \n",
       "02122         9.6         12.99  ...                   1.99   \n",
       "02865         9.6         12.99  ...                   1.99   \n",
       "02886         9.6           NaN  ...                   1.99   \n",
       "...           ...           ...  ...                    ...   \n",
       "98614         9.6         12.99  ...                   2.03   \n",
       "98626         9.6         12.99  ...                   2.03   \n",
       "98901         9.6         12.99  ...                   2.03   \n",
       "99515         9.6         13.99  ...                   2.69   \n",
       "99654         9.6         13.99  ...                   2.69   \n",
       "\n",
       "         Average Cotton Swabs Price Average Diapers Price  Average Eggs Price  \\\n",
       "Zip Code                                                                        \n",
       "01040                          3.39                 44.99            5.323333   \n",
       "02114                          3.39                 44.99            5.323333   \n",
       "02122                          3.39                 44.99            5.323333   \n",
       "02865                          3.39                 44.99            5.323333   \n",
       "02886                          3.39                 44.99            5.323333   \n",
       "...                             ...                   ...                 ...   \n",
       "98614                          3.51                 44.99            2.990000   \n",
       "98626                          3.51                 44.99            2.990000   \n",
       "98901                          3.51                 44.99            2.990000   \n",
       "99515                          4.29                 44.99            4.990000   \n",
       "99654                          4.29                 44.99            4.990000   \n",
       "\n",
       "          Average Gum Price  Average Milk Price  Average Shampoo Price  \\\n",
       "Zip Code                                                                 \n",
       "01040              1.756667                4.19                   9.99   \n",
       "02114              1.756667                4.19                   9.99   \n",
       "02122              1.756667                4.19                   9.99   \n",
       "02865              1.723333                3.89                   9.99   \n",
       "02886              1.723333                3.89                   9.99   \n",
       "...                     ...                 ...                    ...   \n",
       "98614              1.790000                3.63                  10.11   \n",
       "98626              1.790000                3.63                  10.11   \n",
       "98901              1.790000                3.63                  10.11   \n",
       "99515              1.990000                3.89                   9.99   \n",
       "99654              1.990000                3.89                   9.99   \n",
       "\n",
       "          Average T-Shirt Price  Average Toilet Paper Price  \\\n",
       "Zip Code                                                      \n",
       "01040                       9.6                       12.99   \n",
       "02114                       9.6                       12.99   \n",
       "02122                       9.6                       12.99   \n",
       "02865                       9.6                       12.99   \n",
       "02886                       9.6                       12.99   \n",
       "...                         ...                         ...   \n",
       "98614                       9.6                       13.19   \n",
       "98626                       9.6                       13.19   \n",
       "98901                       9.6                       13.19   \n",
       "99515                       9.6                       13.99   \n",
       "99654                       9.6                       13.99   \n",
       "\n",
       "          Average Vegetable Oil Price  \n",
       "Zip Code                               \n",
       "01040                            9.39  \n",
       "02114                            9.39  \n",
       "02122                            9.39  \n",
       "02865                            9.39  \n",
       "02886                            9.39  \n",
       "...                               ...  \n",
       "98614                            9.59  \n",
       "98626                            9.59  \n",
       "98901                            9.59  \n",
       "99515                            9.39  \n",
       "99654                            9.39  \n",
       "\n",
       "[149 rows x 39 columns]"
      ]
     },
     "metadata": {},
     "output_type": "display_data"
    },
    {
     "data": {
      "application/vnd.plotly.v1+json": {
       "config": {
        "plotlyServerURL": "https://plot.ly"
       },
       "data": [
        {
         "coloraxis": "coloraxis",
         "geo": "geo",
         "hovertemplate": "<b>%{hovertext}</b><br><br>State=%{location}<br>Average AirPods Price=%{z}<extra></extra>",
         "hovertext": [
          "01040",
          "02114",
          "02122",
          "02865",
          "02886",
          "02917",
          "03063",
          "03110",
          "03840",
          "04086",
          "04401",
          "04952",
          "05403",
          "06042",
          "06241",
          "06901",
          "07047",
          "07310",
          "08865",
          "11217",
          "14020",
          "14850",
          "16601",
          "16803",
          "17013",
          "19103",
          "19148",
          "19808",
          "19901",
          "19931",
          "20886",
          "21009",
          "21030",
          "21704",
          "22305",
          "24151",
          "24487",
          "25309",
          "25526",
          "26059",
          "27609",
          "28104",
          "28704",
          "29607",
          "29621",
          "29680",
          "30189",
          "30324",
          "31525",
          "33403",
          "33428",
          "33463",
          "35226",
          "35601",
          "36526",
          "37801",
          "38017",
          "38133",
          "39159",
          "39213",
          "39402",
          "40241",
          "42104",
          "42301",
          "44870",
          "45236",
          "45249",
          "46237",
          "46383",
          "47401",
          "48374",
          "48507",
          "49855",
          "50009",
          "50702",
          "52404",
          "53085",
          "53207",
          "54235",
          "55066",
          "55403",
          "56601",
          "57110",
          "57401",
          "57701",
          "58103",
          "58563",
          "58701",
          "59718",
          "59901",
          "60014",
          "60610",
          "61401",
          "63010",
          "63033",
          "64114",
          "66062",
          "66111",
          "67401",
          "68073",
          "68116",
          "68123",
          "70816",
          "71111",
          "71301",
          "72032",
          "72703",
          "72903",
          "73034",
          "74055",
          "74133",
          "77840",
          "78717",
          "79707",
          "79707",
          "80108",
          "80202",
          "81401",
          "82009",
          "82609",
          "83001",
          "83704",
          "83713",
          "83815",
          "84095",
          "84121",
          "84660",
          "85207",
          "85748",
          "87114",
          "87124",
          "87402",
          "89183",
          "89434",
          "89705",
          "90065",
          "91730",
          "95330",
          "96734",
          "96740",
          "97217",
          "97303",
          "98101",
          "98233",
          "98614",
          "98626",
          "98901",
          "99515",
          "99654"
         ],
         "locationmode": "USA-states",
         "locations": [
          "MA",
          "MA",
          "MA",
          "RI",
          "RI",
          "RI",
          "NH",
          "NH",
          "NH",
          "ME",
          "ME",
          "ME",
          "VT",
          "CT",
          "CT",
          "CT",
          "NJ",
          "NJ",
          "NJ",
          "NY",
          "NY",
          "NY",
          "PA",
          "",
          "PA",
          "PA",
          "",
          "DE",
          "DE",
          "DE",
          "Germantown",
          "MD",
          "MD",
          "MD",
          "VA",
          "VA",
          "VA",
          "WV",
          "WV",
          "WV",
          "NC",
          "NC",
          "NC",
          "SC",
          "SC",
          "SC",
          "GA",
          "GA",
          "GA",
          "FL",
          "FL",
          "FL",
          "AL",
          "AL",
          "AL",
          "TN",
          "TN",
          "TN",
          "MS",
          "MS",
          "MS",
          "KY",
          "KY",
          "KY",
          "OH",
          "OH",
          "OH",
          "IN",
          "IN",
          "IN",
          "MI",
          "MI",
          "MI",
          "IA",
          "IA",
          "IA",
          "WI",
          "WI",
          "WI",
          "MN",
          "MN",
          "MN",
          "SD",
          "SD",
          "SD",
          "ND",
          "ND",
          "ND",
          "MT",
          "MT",
          "IL",
          "IL",
          "IL",
          "MO",
          "MO",
          "MO",
          "KS",
          "KS",
          "KS",
          "NE",
          "NE",
          "NE",
          "LA",
          "LA",
          "LA",
          "AR",
          "AR",
          "AR",
          "OK",
          "OK",
          "OK",
          "TX",
          "TX",
          "TX",
          "TX",
          "CO",
          "CO",
          "CO",
          "WY",
          "WY",
          "WY",
          "ID",
          "ID",
          "ID",
          "UT",
          "UT",
          "UT",
          "AZ",
          "AZ",
          "NM",
          "NM",
          "NM",
          "NV",
          "NV",
          "NV",
          "CA",
          "CA",
          "CA",
          "HI",
          "HI",
          "OR",
          "OR",
          "WA",
          "WA",
          "WA",
          "WA",
          "WA",
          "AK",
          "AK"
         ],
         "name": "",
         "type": "choropleth",
         "z": [
          179.99,
          179.99,
          179.99,
          179.99,
          179.99,
          179.99,
          179.99,
          179.99,
          179.99,
          179.99,
          179.99,
          179.99,
          179.99,
          179.99,
          179.99,
          179.99,
          179.99,
          179.99,
          179.99,
          179.99,
          179.99,
          179.99,
          179.99,
          null,
          179.99,
          179.99,
          null,
          179.99,
          179.99,
          179.99,
          179.99,
          179.99,
          179.99,
          179.99,
          179.99,
          179.99,
          179.99,
          179.99,
          179.99,
          179.99,
          179.99,
          179.99,
          179.99,
          179.99,
          179.99,
          179.99,
          179.99,
          179.99,
          179.99,
          179.99,
          179.99,
          179.99,
          179.99,
          179.99,
          179.99,
          179.99,
          179.99,
          179.99,
          179.99,
          179.99,
          179.99,
          179.99,
          179.99,
          179.99,
          179.99,
          179.99,
          179.99,
          179.99,
          179.99,
          179.99,
          null,
          null,
          null,
          179.99,
          179.99,
          179.99,
          179.99,
          179.99,
          179.99,
          179.99,
          179.99,
          179.99,
          179.99,
          179.99,
          179.99,
          179.99,
          179.99,
          179.99,
          179.99,
          179.99,
          179.99,
          179.99,
          179.99,
          179.99,
          179.99,
          179.99,
          179.99,
          179.99,
          179.99,
          179.99,
          179.99,
          179.99,
          179.99,
          179.99,
          179.99,
          179.99,
          179.99,
          179.99,
          179.99,
          179.99,
          179.99,
          179.99,
          179.99,
          179.99,
          179.99,
          179.99,
          179.99,
          179.99,
          179.99,
          179.99,
          179.99,
          179.99,
          179.99,
          179.99,
          179.99,
          179.99,
          179.99,
          179.99,
          179.99,
          179.99,
          179.99,
          179.99,
          179.99,
          179.99,
          179.99,
          179.99,
          179.99,
          179.99,
          179.99,
          179.99,
          179.99,
          179.99,
          179.99,
          179.99,
          179.99,
          179.99,
          179.99,
          179.99,
          179.99
         ]
        }
       ],
       "layout": {
        "coloraxis": {
         "colorbar": {
          "title": {
           "text": "Average AirPods Price"
          }
         },
         "colorscale": [
          [
           0,
           "#0d0887"
          ],
          [
           0.1111111111111111,
           "#46039f"
          ],
          [
           0.2222222222222222,
           "#7201a8"
          ],
          [
           0.3333333333333333,
           "#9c179e"
          ],
          [
           0.4444444444444444,
           "#bd3786"
          ],
          [
           0.5555555555555556,
           "#d8576b"
          ],
          [
           0.6666666666666666,
           "#ed7953"
          ],
          [
           0.7777777777777778,
           "#fb9f3a"
          ],
          [
           0.8888888888888888,
           "#fdca26"
          ],
          [
           1,
           "#f0f921"
          ]
         ]
        },
        "geo": {
         "center": {},
         "domain": {
          "x": [
           0,
           1
          ],
          "y": [
           0,
           1
          ]
         },
         "scope": "usa"
        },
        "legend": {
         "tracegroupgap": 0
        },
        "margin": {
         "t": 60
        },
        "template": {
         "data": {
          "bar": [
           {
            "error_x": {
             "color": "#2a3f5f"
            },
            "error_y": {
             "color": "#2a3f5f"
            },
            "marker": {
             "line": {
              "color": "#E5ECF6",
              "width": 0.5
             },
             "pattern": {
              "fillmode": "overlay",
              "size": 10,
              "solidity": 0.2
             }
            },
            "type": "bar"
           }
          ],
          "barpolar": [
           {
            "marker": {
             "line": {
              "color": "#E5ECF6",
              "width": 0.5
             },
             "pattern": {
              "fillmode": "overlay",
              "size": 10,
              "solidity": 0.2
             }
            },
            "type": "barpolar"
           }
          ],
          "carpet": [
           {
            "aaxis": {
             "endlinecolor": "#2a3f5f",
             "gridcolor": "white",
             "linecolor": "white",
             "minorgridcolor": "white",
             "startlinecolor": "#2a3f5f"
            },
            "baxis": {
             "endlinecolor": "#2a3f5f",
             "gridcolor": "white",
             "linecolor": "white",
             "minorgridcolor": "white",
             "startlinecolor": "#2a3f5f"
            },
            "type": "carpet"
           }
          ],
          "choropleth": [
           {
            "colorbar": {
             "outlinewidth": 0,
             "ticks": ""
            },
            "type": "choropleth"
           }
          ],
          "contour": [
           {
            "colorbar": {
             "outlinewidth": 0,
             "ticks": ""
            },
            "colorscale": [
             [
              0,
              "#0d0887"
             ],
             [
              0.1111111111111111,
              "#46039f"
             ],
             [
              0.2222222222222222,
              "#7201a8"
             ],
             [
              0.3333333333333333,
              "#9c179e"
             ],
             [
              0.4444444444444444,
              "#bd3786"
             ],
             [
              0.5555555555555556,
              "#d8576b"
             ],
             [
              0.6666666666666666,
              "#ed7953"
             ],
             [
              0.7777777777777778,
              "#fb9f3a"
             ],
             [
              0.8888888888888888,
              "#fdca26"
             ],
             [
              1,
              "#f0f921"
             ]
            ],
            "type": "contour"
           }
          ],
          "contourcarpet": [
           {
            "colorbar": {
             "outlinewidth": 0,
             "ticks": ""
            },
            "type": "contourcarpet"
           }
          ],
          "heatmap": [
           {
            "colorbar": {
             "outlinewidth": 0,
             "ticks": ""
            },
            "colorscale": [
             [
              0,
              "#0d0887"
             ],
             [
              0.1111111111111111,
              "#46039f"
             ],
             [
              0.2222222222222222,
              "#7201a8"
             ],
             [
              0.3333333333333333,
              "#9c179e"
             ],
             [
              0.4444444444444444,
              "#bd3786"
             ],
             [
              0.5555555555555556,
              "#d8576b"
             ],
             [
              0.6666666666666666,
              "#ed7953"
             ],
             [
              0.7777777777777778,
              "#fb9f3a"
             ],
             [
              0.8888888888888888,
              "#fdca26"
             ],
             [
              1,
              "#f0f921"
             ]
            ],
            "type": "heatmap"
           }
          ],
          "heatmapgl": [
           {
            "colorbar": {
             "outlinewidth": 0,
             "ticks": ""
            },
            "colorscale": [
             [
              0,
              "#0d0887"
             ],
             [
              0.1111111111111111,
              "#46039f"
             ],
             [
              0.2222222222222222,
              "#7201a8"
             ],
             [
              0.3333333333333333,
              "#9c179e"
             ],
             [
              0.4444444444444444,
              "#bd3786"
             ],
             [
              0.5555555555555556,
              "#d8576b"
             ],
             [
              0.6666666666666666,
              "#ed7953"
             ],
             [
              0.7777777777777778,
              "#fb9f3a"
             ],
             [
              0.8888888888888888,
              "#fdca26"
             ],
             [
              1,
              "#f0f921"
             ]
            ],
            "type": "heatmapgl"
           }
          ],
          "histogram": [
           {
            "marker": {
             "pattern": {
              "fillmode": "overlay",
              "size": 10,
              "solidity": 0.2
             }
            },
            "type": "histogram"
           }
          ],
          "histogram2d": [
           {
            "colorbar": {
             "outlinewidth": 0,
             "ticks": ""
            },
            "colorscale": [
             [
              0,
              "#0d0887"
             ],
             [
              0.1111111111111111,
              "#46039f"
             ],
             [
              0.2222222222222222,
              "#7201a8"
             ],
             [
              0.3333333333333333,
              "#9c179e"
             ],
             [
              0.4444444444444444,
              "#bd3786"
             ],
             [
              0.5555555555555556,
              "#d8576b"
             ],
             [
              0.6666666666666666,
              "#ed7953"
             ],
             [
              0.7777777777777778,
              "#fb9f3a"
             ],
             [
              0.8888888888888888,
              "#fdca26"
             ],
             [
              1,
              "#f0f921"
             ]
            ],
            "type": "histogram2d"
           }
          ],
          "histogram2dcontour": [
           {
            "colorbar": {
             "outlinewidth": 0,
             "ticks": ""
            },
            "colorscale": [
             [
              0,
              "#0d0887"
             ],
             [
              0.1111111111111111,
              "#46039f"
             ],
             [
              0.2222222222222222,
              "#7201a8"
             ],
             [
              0.3333333333333333,
              "#9c179e"
             ],
             [
              0.4444444444444444,
              "#bd3786"
             ],
             [
              0.5555555555555556,
              "#d8576b"
             ],
             [
              0.6666666666666666,
              "#ed7953"
             ],
             [
              0.7777777777777778,
              "#fb9f3a"
             ],
             [
              0.8888888888888888,
              "#fdca26"
             ],
             [
              1,
              "#f0f921"
             ]
            ],
            "type": "histogram2dcontour"
           }
          ],
          "mesh3d": [
           {
            "colorbar": {
             "outlinewidth": 0,
             "ticks": ""
            },
            "type": "mesh3d"
           }
          ],
          "parcoords": [
           {
            "line": {
             "colorbar": {
              "outlinewidth": 0,
              "ticks": ""
             }
            },
            "type": "parcoords"
           }
          ],
          "pie": [
           {
            "automargin": true,
            "type": "pie"
           }
          ],
          "scatter": [
           {
            "fillpattern": {
             "fillmode": "overlay",
             "size": 10,
             "solidity": 0.2
            },
            "type": "scatter"
           }
          ],
          "scatter3d": [
           {
            "line": {
             "colorbar": {
              "outlinewidth": 0,
              "ticks": ""
             }
            },
            "marker": {
             "colorbar": {
              "outlinewidth": 0,
              "ticks": ""
             }
            },
            "type": "scatter3d"
           }
          ],
          "scattercarpet": [
           {
            "marker": {
             "colorbar": {
              "outlinewidth": 0,
              "ticks": ""
             }
            },
            "type": "scattercarpet"
           }
          ],
          "scattergeo": [
           {
            "marker": {
             "colorbar": {
              "outlinewidth": 0,
              "ticks": ""
             }
            },
            "type": "scattergeo"
           }
          ],
          "scattergl": [
           {
            "marker": {
             "colorbar": {
              "outlinewidth": 0,
              "ticks": ""
             }
            },
            "type": "scattergl"
           }
          ],
          "scattermapbox": [
           {
            "marker": {
             "colorbar": {
              "outlinewidth": 0,
              "ticks": ""
             }
            },
            "type": "scattermapbox"
           }
          ],
          "scatterpolar": [
           {
            "marker": {
             "colorbar": {
              "outlinewidth": 0,
              "ticks": ""
             }
            },
            "type": "scatterpolar"
           }
          ],
          "scatterpolargl": [
           {
            "marker": {
             "colorbar": {
              "outlinewidth": 0,
              "ticks": ""
             }
            },
            "type": "scatterpolargl"
           }
          ],
          "scatterternary": [
           {
            "marker": {
             "colorbar": {
              "outlinewidth": 0,
              "ticks": ""
             }
            },
            "type": "scatterternary"
           }
          ],
          "surface": [
           {
            "colorbar": {
             "outlinewidth": 0,
             "ticks": ""
            },
            "colorscale": [
             [
              0,
              "#0d0887"
             ],
             [
              0.1111111111111111,
              "#46039f"
             ],
             [
              0.2222222222222222,
              "#7201a8"
             ],
             [
              0.3333333333333333,
              "#9c179e"
             ],
             [
              0.4444444444444444,
              "#bd3786"
             ],
             [
              0.5555555555555556,
              "#d8576b"
             ],
             [
              0.6666666666666666,
              "#ed7953"
             ],
             [
              0.7777777777777778,
              "#fb9f3a"
             ],
             [
              0.8888888888888888,
              "#fdca26"
             ],
             [
              1,
              "#f0f921"
             ]
            ],
            "type": "surface"
           }
          ],
          "table": [
           {
            "cells": {
             "fill": {
              "color": "#EBF0F8"
             },
             "line": {
              "color": "white"
             }
            },
            "header": {
             "fill": {
              "color": "#C8D4E3"
             },
             "line": {
              "color": "white"
             }
            },
            "type": "table"
           }
          ]
         },
         "layout": {
          "annotationdefaults": {
           "arrowcolor": "#2a3f5f",
           "arrowhead": 0,
           "arrowwidth": 1
          },
          "autotypenumbers": "strict",
          "coloraxis": {
           "colorbar": {
            "outlinewidth": 0,
            "ticks": ""
           }
          },
          "colorscale": {
           "diverging": [
            [
             0,
             "#8e0152"
            ],
            [
             0.1,
             "#c51b7d"
            ],
            [
             0.2,
             "#de77ae"
            ],
            [
             0.3,
             "#f1b6da"
            ],
            [
             0.4,
             "#fde0ef"
            ],
            [
             0.5,
             "#f7f7f7"
            ],
            [
             0.6,
             "#e6f5d0"
            ],
            [
             0.7,
             "#b8e186"
            ],
            [
             0.8,
             "#7fbc41"
            ],
            [
             0.9,
             "#4d9221"
            ],
            [
             1,
             "#276419"
            ]
           ],
           "sequential": [
            [
             0,
             "#0d0887"
            ],
            [
             0.1111111111111111,
             "#46039f"
            ],
            [
             0.2222222222222222,
             "#7201a8"
            ],
            [
             0.3333333333333333,
             "#9c179e"
            ],
            [
             0.4444444444444444,
             "#bd3786"
            ],
            [
             0.5555555555555556,
             "#d8576b"
            ],
            [
             0.6666666666666666,
             "#ed7953"
            ],
            [
             0.7777777777777778,
             "#fb9f3a"
            ],
            [
             0.8888888888888888,
             "#fdca26"
            ],
            [
             1,
             "#f0f921"
            ]
           ],
           "sequentialminus": [
            [
             0,
             "#0d0887"
            ],
            [
             0.1111111111111111,
             "#46039f"
            ],
            [
             0.2222222222222222,
             "#7201a8"
            ],
            [
             0.3333333333333333,
             "#9c179e"
            ],
            [
             0.4444444444444444,
             "#bd3786"
            ],
            [
             0.5555555555555556,
             "#d8576b"
            ],
            [
             0.6666666666666666,
             "#ed7953"
            ],
            [
             0.7777777777777778,
             "#fb9f3a"
            ],
            [
             0.8888888888888888,
             "#fdca26"
            ],
            [
             1,
             "#f0f921"
            ]
           ]
          },
          "colorway": [
           "#636efa",
           "#EF553B",
           "#00cc96",
           "#ab63fa",
           "#FFA15A",
           "#19d3f3",
           "#FF6692",
           "#B6E880",
           "#FF97FF",
           "#FECB52"
          ],
          "font": {
           "color": "#2a3f5f"
          },
          "geo": {
           "bgcolor": "white",
           "lakecolor": "white",
           "landcolor": "#E5ECF6",
           "showlakes": true,
           "showland": true,
           "subunitcolor": "white"
          },
          "hoverlabel": {
           "align": "left"
          },
          "hovermode": "closest",
          "mapbox": {
           "style": "light"
          },
          "paper_bgcolor": "white",
          "plot_bgcolor": "#E5ECF6",
          "polar": {
           "angularaxis": {
            "gridcolor": "white",
            "linecolor": "white",
            "ticks": ""
           },
           "bgcolor": "#E5ECF6",
           "radialaxis": {
            "gridcolor": "white",
            "linecolor": "white",
            "ticks": ""
           }
          },
          "scene": {
           "xaxis": {
            "backgroundcolor": "#E5ECF6",
            "gridcolor": "white",
            "gridwidth": 2,
            "linecolor": "white",
            "showbackground": true,
            "ticks": "",
            "zerolinecolor": "white"
           },
           "yaxis": {
            "backgroundcolor": "#E5ECF6",
            "gridcolor": "white",
            "gridwidth": 2,
            "linecolor": "white",
            "showbackground": true,
            "ticks": "",
            "zerolinecolor": "white"
           },
           "zaxis": {
            "backgroundcolor": "#E5ECF6",
            "gridcolor": "white",
            "gridwidth": 2,
            "linecolor": "white",
            "showbackground": true,
            "ticks": "",
            "zerolinecolor": "white"
           }
          },
          "shapedefaults": {
           "line": {
            "color": "#2a3f5f"
           }
          },
          "ternary": {
           "aaxis": {
            "gridcolor": "white",
            "linecolor": "white",
            "ticks": ""
           },
           "baxis": {
            "gridcolor": "white",
            "linecolor": "white",
            "ticks": ""
           },
           "bgcolor": "#E5ECF6",
           "caxis": {
            "gridcolor": "white",
            "linecolor": "white",
            "ticks": ""
           }
          },
          "title": {
           "x": 0.05
          },
          "xaxis": {
           "automargin": true,
           "gridcolor": "white",
           "linecolor": "white",
           "ticks": "",
           "title": {
            "standoff": 15
           },
           "zerolinecolor": "white",
           "zerolinewidth": 2
          },
          "yaxis": {
           "automargin": true,
           "gridcolor": "white",
           "linecolor": "white",
           "ticks": "",
           "title": {
            "standoff": 15
           },
           "zerolinecolor": "white",
           "zerolinewidth": 2
          }
         }
        }
       }
      },
      "text/html": [
       "<div>                            <div id=\"d0655f2b-ee83-427d-9bd2-c8d9fe6a4d00\" class=\"plotly-graph-div\" style=\"height:525px; width:100%;\"></div>            <script type=\"text/javascript\">                require([\"plotly\"], function(Plotly) {                    window.PLOTLYENV=window.PLOTLYENV || {};                                    if (document.getElementById(\"d0655f2b-ee83-427d-9bd2-c8d9fe6a4d00\")) {                    Plotly.newPlot(                        \"d0655f2b-ee83-427d-9bd2-c8d9fe6a4d00\",                        [{\"coloraxis\":\"coloraxis\",\"geo\":\"geo\",\"hovertemplate\":\"<b>%{hovertext}</b><br><br>State=%{location}<br>Average AirPods Price=%{z}<extra></extra>\",\"hovertext\":[\"01040\",\"02114\",\"02122\",\"02865\",\"02886\",\"02917\",\"03063\",\"03110\",\"03840\",\"04086\",\"04401\",\"04952\",\"05403\",\"06042\",\"06241\",\"06901\",\"07047\",\"07310\",\"08865\",\"11217\",\"14020\",\"14850\",\"16601\",\"16803\",\"17013\",\"19103\",\"19148\",\"19808\",\"19901\",\"19931\",\"20886\",\"21009\",\"21030\",\"21704\",\"22305\",\"24151\",\"24487\",\"25309\",\"25526\",\"26059\",\"27609\",\"28104\",\"28704\",\"29607\",\"29621\",\"29680\",\"30189\",\"30324\",\"31525\",\"33403\",\"33428\",\"33463\",\"35226\",\"35601\",\"36526\",\"37801\",\"38017\",\"38133\",\"39159\",\"39213\",\"39402\",\"40241\",\"42104\",\"42301\",\"44870\",\"45236\",\"45249\",\"46237\",\"46383\",\"47401\",\"48374\",\"48507\",\"49855\",\"50009\",\"50702\",\"52404\",\"53085\",\"53207\",\"54235\",\"55066\",\"55403\",\"56601\",\"57110\",\"57401\",\"57701\",\"58103\",\"58563\",\"58701\",\"59718\",\"59901\",\"60014\",\"60610\",\"61401\",\"63010\",\"63033\",\"64114\",\"66062\",\"66111\",\"67401\",\"68073\",\"68116\",\"68123\",\"70816\",\"71111\",\"71301\",\"72032\",\"72703\",\"72903\",\"73034\",\"74055\",\"74133\",\"77840\",\"78717\",\"79707\",\"79707\",\"80108\",\"80202\",\"81401\",\"82009\",\"82609\",\"83001\",\"83704\",\"83713\",\"83815\",\"84095\",\"84121\",\"84660\",\"85207\",\"85748\",\"87114\",\"87124\",\"87402\",\"89183\",\"89434\",\"89705\",\"90065\",\"91730\",\"95330\",\"96734\",\"96740\",\"97217\",\"97303\",\"98101\",\"98233\",\"98614\",\"98626\",\"98901\",\"99515\",\"99654\"],\"locationmode\":\"USA-states\",\"locations\":[\"MA\",\"MA\",\"MA\",\"RI\",\"RI\",\"RI\",\"NH\",\"NH\",\"NH\",\"ME\",\"ME\",\"ME\",\"VT\",\"CT\",\"CT\",\"CT\",\"NJ\",\"NJ\",\"NJ\",\"NY\",\"NY\",\"NY\",\"PA\",\"\",\"PA\",\"PA\",\"\",\"DE\",\"DE\",\"DE\",\"Germantown\",\"MD\",\"MD\",\"MD\",\"VA\",\"VA\",\"VA\",\"WV\",\"WV\",\"WV\",\"NC\",\"NC\",\"NC\",\"SC\",\"SC\",\"SC\",\"GA\",\"GA\",\"GA\",\"FL\",\"FL\",\"FL\",\"AL\",\"AL\",\"AL\",\"TN\",\"TN\",\"TN\",\"MS\",\"MS\",\"MS\",\"KY\",\"KY\",\"KY\",\"OH\",\"OH\",\"OH\",\"IN\",\"IN\",\"IN\",\"MI\",\"MI\",\"MI\",\"IA\",\"IA\",\"IA\",\"WI\",\"WI\",\"WI\",\"MN\",\"MN\",\"MN\",\"SD\",\"SD\",\"SD\",\"ND\",\"ND\",\"ND\",\"MT\",\"MT\",\"IL\",\"IL\",\"IL\",\"MO\",\"MO\",\"MO\",\"KS\",\"KS\",\"KS\",\"NE\",\"NE\",\"NE\",\"LA\",\"LA\",\"LA\",\"AR\",\"AR\",\"AR\",\"OK\",\"OK\",\"OK\",\"TX\",\"TX\",\"TX\",\"TX\",\"CO\",\"CO\",\"CO\",\"WY\",\"WY\",\"WY\",\"ID\",\"ID\",\"ID\",\"UT\",\"UT\",\"UT\",\"AZ\",\"AZ\",\"NM\",\"NM\",\"NM\",\"NV\",\"NV\",\"NV\",\"CA\",\"CA\",\"CA\",\"HI\",\"HI\",\"OR\",\"OR\",\"WA\",\"WA\",\"WA\",\"WA\",\"WA\",\"AK\",\"AK\"],\"name\":\"\",\"z\":[179.99,179.99,179.99,179.99,179.99,179.99,179.99,179.99,179.99,179.99,179.99,179.99,179.99,179.99,179.99,179.99,179.99,179.99,179.99,179.99,179.99,179.99,179.99,null,179.99,179.99,null,179.99,179.99,179.99,179.99,179.99,179.99,179.99,179.99,179.99,179.99,179.99,179.99,179.99,179.99,179.99,179.99,179.99,179.99,179.99,179.99,179.99,179.99,179.99,179.99,179.99,179.99,179.99,179.99,179.99,179.99,179.99,179.99,179.99,179.99,179.99,179.99,179.99,179.99,179.99,179.99,179.99,179.99,179.99,null,null,null,179.99,179.99,179.99,179.99,179.99,179.99,179.99,179.99,179.99,179.99,179.99,179.99,179.99,179.99,179.99,179.99,179.99,179.99,179.99,179.99,179.99,179.99,179.99,179.99,179.99,179.99,179.99,179.99,179.99,179.99,179.99,179.99,179.99,179.99,179.99,179.99,179.99,179.99,179.99,179.99,179.99,179.99,179.99,179.99,179.99,179.99,179.99,179.99,179.99,179.99,179.99,179.99,179.99,179.99,179.99,179.99,179.99,179.99,179.99,179.99,179.99,179.99,179.99,179.99,179.99,179.99,179.99,179.99,179.99,179.99,179.99,179.99,179.99,179.99,179.99,179.99],\"type\":\"choropleth\"}],                        {\"template\":{\"data\":{\"histogram2dcontour\":[{\"type\":\"histogram2dcontour\",\"colorbar\":{\"outlinewidth\":0,\"ticks\":\"\"},\"colorscale\":[[0.0,\"#0d0887\"],[0.1111111111111111,\"#46039f\"],[0.2222222222222222,\"#7201a8\"],[0.3333333333333333,\"#9c179e\"],[0.4444444444444444,\"#bd3786\"],[0.5555555555555556,\"#d8576b\"],[0.6666666666666666,\"#ed7953\"],[0.7777777777777778,\"#fb9f3a\"],[0.8888888888888888,\"#fdca26\"],[1.0,\"#f0f921\"]]}],\"choropleth\":[{\"type\":\"choropleth\",\"colorbar\":{\"outlinewidth\":0,\"ticks\":\"\"}}],\"histogram2d\":[{\"type\":\"histogram2d\",\"colorbar\":{\"outlinewidth\":0,\"ticks\":\"\"},\"colorscale\":[[0.0,\"#0d0887\"],[0.1111111111111111,\"#46039f\"],[0.2222222222222222,\"#7201a8\"],[0.3333333333333333,\"#9c179e\"],[0.4444444444444444,\"#bd3786\"],[0.5555555555555556,\"#d8576b\"],[0.6666666666666666,\"#ed7953\"],[0.7777777777777778,\"#fb9f3a\"],[0.8888888888888888,\"#fdca26\"],[1.0,\"#f0f921\"]]}],\"heatmap\":[{\"type\":\"heatmap\",\"colorbar\":{\"outlinewidth\":0,\"ticks\":\"\"},\"colorscale\":[[0.0,\"#0d0887\"],[0.1111111111111111,\"#46039f\"],[0.2222222222222222,\"#7201a8\"],[0.3333333333333333,\"#9c179e\"],[0.4444444444444444,\"#bd3786\"],[0.5555555555555556,\"#d8576b\"],[0.6666666666666666,\"#ed7953\"],[0.7777777777777778,\"#fb9f3a\"],[0.8888888888888888,\"#fdca26\"],[1.0,\"#f0f921\"]]}],\"heatmapgl\":[{\"type\":\"heatmapgl\",\"colorbar\":{\"outlinewidth\":0,\"ticks\":\"\"},\"colorscale\":[[0.0,\"#0d0887\"],[0.1111111111111111,\"#46039f\"],[0.2222222222222222,\"#7201a8\"],[0.3333333333333333,\"#9c179e\"],[0.4444444444444444,\"#bd3786\"],[0.5555555555555556,\"#d8576b\"],[0.6666666666666666,\"#ed7953\"],[0.7777777777777778,\"#fb9f3a\"],[0.8888888888888888,\"#fdca26\"],[1.0,\"#f0f921\"]]}],\"contourcarpet\":[{\"type\":\"contourcarpet\",\"colorbar\":{\"outlinewidth\":0,\"ticks\":\"\"}}],\"contour\":[{\"type\":\"contour\",\"colorbar\":{\"outlinewidth\":0,\"ticks\":\"\"},\"colorscale\":[[0.0,\"#0d0887\"],[0.1111111111111111,\"#46039f\"],[0.2222222222222222,\"#7201a8\"],[0.3333333333333333,\"#9c179e\"],[0.4444444444444444,\"#bd3786\"],[0.5555555555555556,\"#d8576b\"],[0.6666666666666666,\"#ed7953\"],[0.7777777777777778,\"#fb9f3a\"],[0.8888888888888888,\"#fdca26\"],[1.0,\"#f0f921\"]]}],\"surface\":[{\"type\":\"surface\",\"colorbar\":{\"outlinewidth\":0,\"ticks\":\"\"},\"colorscale\":[[0.0,\"#0d0887\"],[0.1111111111111111,\"#46039f\"],[0.2222222222222222,\"#7201a8\"],[0.3333333333333333,\"#9c179e\"],[0.4444444444444444,\"#bd3786\"],[0.5555555555555556,\"#d8576b\"],[0.6666666666666666,\"#ed7953\"],[0.7777777777777778,\"#fb9f3a\"],[0.8888888888888888,\"#fdca26\"],[1.0,\"#f0f921\"]]}],\"mesh3d\":[{\"type\":\"mesh3d\",\"colorbar\":{\"outlinewidth\":0,\"ticks\":\"\"}}],\"scatter\":[{\"fillpattern\":{\"fillmode\":\"overlay\",\"size\":10,\"solidity\":0.2},\"type\":\"scatter\"}],\"parcoords\":[{\"type\":\"parcoords\",\"line\":{\"colorbar\":{\"outlinewidth\":0,\"ticks\":\"\"}}}],\"scatterpolargl\":[{\"type\":\"scatterpolargl\",\"marker\":{\"colorbar\":{\"outlinewidth\":0,\"ticks\":\"\"}}}],\"bar\":[{\"error_x\":{\"color\":\"#2a3f5f\"},\"error_y\":{\"color\":\"#2a3f5f\"},\"marker\":{\"line\":{\"color\":\"#E5ECF6\",\"width\":0.5},\"pattern\":{\"fillmode\":\"overlay\",\"size\":10,\"solidity\":0.2}},\"type\":\"bar\"}],\"scattergeo\":[{\"type\":\"scattergeo\",\"marker\":{\"colorbar\":{\"outlinewidth\":0,\"ticks\":\"\"}}}],\"scatterpolar\":[{\"type\":\"scatterpolar\",\"marker\":{\"colorbar\":{\"outlinewidth\":0,\"ticks\":\"\"}}}],\"histogram\":[{\"marker\":{\"pattern\":{\"fillmode\":\"overlay\",\"size\":10,\"solidity\":0.2}},\"type\":\"histogram\"}],\"scattergl\":[{\"type\":\"scattergl\",\"marker\":{\"colorbar\":{\"outlinewidth\":0,\"ticks\":\"\"}}}],\"scatter3d\":[{\"type\":\"scatter3d\",\"line\":{\"colorbar\":{\"outlinewidth\":0,\"ticks\":\"\"}},\"marker\":{\"colorbar\":{\"outlinewidth\":0,\"ticks\":\"\"}}}],\"scattermapbox\":[{\"type\":\"scattermapbox\",\"marker\":{\"colorbar\":{\"outlinewidth\":0,\"ticks\":\"\"}}}],\"scatterternary\":[{\"type\":\"scatterternary\",\"marker\":{\"colorbar\":{\"outlinewidth\":0,\"ticks\":\"\"}}}],\"scattercarpet\":[{\"type\":\"scattercarpet\",\"marker\":{\"colorbar\":{\"outlinewidth\":0,\"ticks\":\"\"}}}],\"carpet\":[{\"aaxis\":{\"endlinecolor\":\"#2a3f5f\",\"gridcolor\":\"white\",\"linecolor\":\"white\",\"minorgridcolor\":\"white\",\"startlinecolor\":\"#2a3f5f\"},\"baxis\":{\"endlinecolor\":\"#2a3f5f\",\"gridcolor\":\"white\",\"linecolor\":\"white\",\"minorgridcolor\":\"white\",\"startlinecolor\":\"#2a3f5f\"},\"type\":\"carpet\"}],\"table\":[{\"cells\":{\"fill\":{\"color\":\"#EBF0F8\"},\"line\":{\"color\":\"white\"}},\"header\":{\"fill\":{\"color\":\"#C8D4E3\"},\"line\":{\"color\":\"white\"}},\"type\":\"table\"}],\"barpolar\":[{\"marker\":{\"line\":{\"color\":\"#E5ECF6\",\"width\":0.5},\"pattern\":{\"fillmode\":\"overlay\",\"size\":10,\"solidity\":0.2}},\"type\":\"barpolar\"}],\"pie\":[{\"automargin\":true,\"type\":\"pie\"}]},\"layout\":{\"autotypenumbers\":\"strict\",\"colorway\":[\"#636efa\",\"#EF553B\",\"#00cc96\",\"#ab63fa\",\"#FFA15A\",\"#19d3f3\",\"#FF6692\",\"#B6E880\",\"#FF97FF\",\"#FECB52\"],\"font\":{\"color\":\"#2a3f5f\"},\"hovermode\":\"closest\",\"hoverlabel\":{\"align\":\"left\"},\"paper_bgcolor\":\"white\",\"plot_bgcolor\":\"#E5ECF6\",\"polar\":{\"bgcolor\":\"#E5ECF6\",\"angularaxis\":{\"gridcolor\":\"white\",\"linecolor\":\"white\",\"ticks\":\"\"},\"radialaxis\":{\"gridcolor\":\"white\",\"linecolor\":\"white\",\"ticks\":\"\"}},\"ternary\":{\"bgcolor\":\"#E5ECF6\",\"aaxis\":{\"gridcolor\":\"white\",\"linecolor\":\"white\",\"ticks\":\"\"},\"baxis\":{\"gridcolor\":\"white\",\"linecolor\":\"white\",\"ticks\":\"\"},\"caxis\":{\"gridcolor\":\"white\",\"linecolor\":\"white\",\"ticks\":\"\"}},\"coloraxis\":{\"colorbar\":{\"outlinewidth\":0,\"ticks\":\"\"}},\"colorscale\":{\"sequential\":[[0.0,\"#0d0887\"],[0.1111111111111111,\"#46039f\"],[0.2222222222222222,\"#7201a8\"],[0.3333333333333333,\"#9c179e\"],[0.4444444444444444,\"#bd3786\"],[0.5555555555555556,\"#d8576b\"],[0.6666666666666666,\"#ed7953\"],[0.7777777777777778,\"#fb9f3a\"],[0.8888888888888888,\"#fdca26\"],[1.0,\"#f0f921\"]],\"sequentialminus\":[[0.0,\"#0d0887\"],[0.1111111111111111,\"#46039f\"],[0.2222222222222222,\"#7201a8\"],[0.3333333333333333,\"#9c179e\"],[0.4444444444444444,\"#bd3786\"],[0.5555555555555556,\"#d8576b\"],[0.6666666666666666,\"#ed7953\"],[0.7777777777777778,\"#fb9f3a\"],[0.8888888888888888,\"#fdca26\"],[1.0,\"#f0f921\"]],\"diverging\":[[0,\"#8e0152\"],[0.1,\"#c51b7d\"],[0.2,\"#de77ae\"],[0.3,\"#f1b6da\"],[0.4,\"#fde0ef\"],[0.5,\"#f7f7f7\"],[0.6,\"#e6f5d0\"],[0.7,\"#b8e186\"],[0.8,\"#7fbc41\"],[0.9,\"#4d9221\"],[1,\"#276419\"]]},\"xaxis\":{\"gridcolor\":\"white\",\"linecolor\":\"white\",\"ticks\":\"\",\"title\":{\"standoff\":15},\"zerolinecolor\":\"white\",\"automargin\":true,\"zerolinewidth\":2},\"yaxis\":{\"gridcolor\":\"white\",\"linecolor\":\"white\",\"ticks\":\"\",\"title\":{\"standoff\":15},\"zerolinecolor\":\"white\",\"automargin\":true,\"zerolinewidth\":2},\"scene\":{\"xaxis\":{\"backgroundcolor\":\"#E5ECF6\",\"gridcolor\":\"white\",\"linecolor\":\"white\",\"showbackground\":true,\"ticks\":\"\",\"zerolinecolor\":\"white\",\"gridwidth\":2},\"yaxis\":{\"backgroundcolor\":\"#E5ECF6\",\"gridcolor\":\"white\",\"linecolor\":\"white\",\"showbackground\":true,\"ticks\":\"\",\"zerolinecolor\":\"white\",\"gridwidth\":2},\"zaxis\":{\"backgroundcolor\":\"#E5ECF6\",\"gridcolor\":\"white\",\"linecolor\":\"white\",\"showbackground\":true,\"ticks\":\"\",\"zerolinecolor\":\"white\",\"gridwidth\":2}},\"shapedefaults\":{\"line\":{\"color\":\"#2a3f5f\"}},\"annotationdefaults\":{\"arrowcolor\":\"#2a3f5f\",\"arrowhead\":0,\"arrowwidth\":1},\"geo\":{\"bgcolor\":\"white\",\"landcolor\":\"#E5ECF6\",\"subunitcolor\":\"white\",\"showland\":true,\"showlakes\":true,\"lakecolor\":\"white\"},\"title\":{\"x\":0.05},\"mapbox\":{\"style\":\"light\"}}},\"geo\":{\"domain\":{\"x\":[0.0,1.0],\"y\":[0.0,1.0]},\"center\":{},\"scope\":\"usa\"},\"coloraxis\":{\"colorbar\":{\"title\":{\"text\":\"Average AirPods Price\"}},\"colorscale\":[[0.0,\"#0d0887\"],[0.1111111111111111,\"#46039f\"],[0.2222222222222222,\"#7201a8\"],[0.3333333333333333,\"#9c179e\"],[0.4444444444444444,\"#bd3786\"],[0.5555555555555556,\"#d8576b\"],[0.6666666666666666,\"#ed7953\"],[0.7777777777777778,\"#fb9f3a\"],[0.8888888888888888,\"#fdca26\"],[1.0,\"#f0f921\"]]},\"legend\":{\"tracegroupgap\":0},\"margin\":{\"t\":60}},                        {\"responsive\": true}                    ).then(function(){\n",
       "                            \n",
       "var gd = document.getElementById('d0655f2b-ee83-427d-9bd2-c8d9fe6a4d00');\n",
       "var x = new MutationObserver(function (mutations, observer) {{\n",
       "        var display = window.getComputedStyle(gd).display;\n",
       "        if (!display || display === 'none') {{\n",
       "            console.log([gd, 'removed!']);\n",
       "            Plotly.purge(gd);\n",
       "            observer.disconnect();\n",
       "        }}\n",
       "}});\n",
       "\n",
       "// Listen for the removal of the full notebook cells\n",
       "var notebookContainer = gd.closest('#notebook-container');\n",
       "if (notebookContainer) {{\n",
       "    x.observe(notebookContainer, {childList: true});\n",
       "}}\n",
       "\n",
       "// Listen for the clearing of the current output cell\n",
       "var outputEl = gd.closest('.output');\n",
       "if (outputEl) {{\n",
       "    x.observe(outputEl, {childList: true});\n",
       "}}\n",
       "\n",
       "                        })                };                });            </script>        </div>"
      ]
     },
     "metadata": {},
     "output_type": "display_data"
    },
    {
     "data": {
      "application/vnd.plotly.v1+json": {
       "config": {
        "plotlyServerURL": "https://plot.ly"
       },
       "data": [
        {
         "coloraxis": "coloraxis",
         "geo": "geo",
         "hovertemplate": "<b>%{hovertext}</b><br><br>State=%{location}<br>Average Bananas Price=%{z}<extra></extra>",
         "hovertext": [
          "01040",
          "02114",
          "02122",
          "02865",
          "02886",
          "02917",
          "03063",
          "03110",
          "03840",
          "04086",
          "04401",
          "04952",
          "05403",
          "06042",
          "06241",
          "06901",
          "07047",
          "07310",
          "08865",
          "11217",
          "14020",
          "14850",
          "16601",
          "16803",
          "17013",
          "19103",
          "19148",
          "19808",
          "19901",
          "19931",
          "20886",
          "21009",
          "21030",
          "21704",
          "22305",
          "24151",
          "24487",
          "25309",
          "25526",
          "26059",
          "27609",
          "28104",
          "28704",
          "29607",
          "29621",
          "29680",
          "30189",
          "30324",
          "31525",
          "33403",
          "33428",
          "33463",
          "35226",
          "35601",
          "36526",
          "37801",
          "38017",
          "38133",
          "39159",
          "39213",
          "39402",
          "40241",
          "42104",
          "42301",
          "44870",
          "45236",
          "45249",
          "46237",
          "46383",
          "47401",
          "48374",
          "48507",
          "49855",
          "50009",
          "50702",
          "52404",
          "53085",
          "53207",
          "54235",
          "55066",
          "55403",
          "56601",
          "57110",
          "57401",
          "57701",
          "58103",
          "58563",
          "58701",
          "59718",
          "59901",
          "60014",
          "60610",
          "61401",
          "63010",
          "63033",
          "64114",
          "66062",
          "66111",
          "67401",
          "68073",
          "68116",
          "68123",
          "70816",
          "71111",
          "71301",
          "72032",
          "72703",
          "72903",
          "73034",
          "74055",
          "74133",
          "77840",
          "78717",
          "79707",
          "79707",
          "80108",
          "80202",
          "81401",
          "82009",
          "82609",
          "83001",
          "83704",
          "83713",
          "83815",
          "84095",
          "84121",
          "84660",
          "85207",
          "85748",
          "87114",
          "87124",
          "87402",
          "89183",
          "89434",
          "89705",
          "90065",
          "91730",
          "95330",
          "96734",
          "96740",
          "97217",
          "97303",
          "98101",
          "98233",
          "98614",
          "98626",
          "98901",
          "99515",
          "99654"
         ],
         "locationmode": "USA-states",
         "locations": [
          "MA",
          "MA",
          "MA",
          "RI",
          "RI",
          "RI",
          "NH",
          "NH",
          "NH",
          "ME",
          "ME",
          "ME",
          "VT",
          "CT",
          "CT",
          "CT",
          "NJ",
          "NJ",
          "NJ",
          "NY",
          "NY",
          "NY",
          "PA",
          "",
          "PA",
          "PA",
          "",
          "DE",
          "DE",
          "DE",
          "Germantown",
          "MD",
          "MD",
          "MD",
          "VA",
          "VA",
          "VA",
          "WV",
          "WV",
          "WV",
          "NC",
          "NC",
          "NC",
          "SC",
          "SC",
          "SC",
          "GA",
          "GA",
          "GA",
          "FL",
          "FL",
          "FL",
          "AL",
          "AL",
          "AL",
          "TN",
          "TN",
          "TN",
          "MS",
          "MS",
          "MS",
          "KY",
          "KY",
          "KY",
          "OH",
          "OH",
          "OH",
          "IN",
          "IN",
          "IN",
          "MI",
          "MI",
          "MI",
          "IA",
          "IA",
          "IA",
          "WI",
          "WI",
          "WI",
          "MN",
          "MN",
          "MN",
          "SD",
          "SD",
          "SD",
          "ND",
          "ND",
          "ND",
          "MT",
          "MT",
          "IL",
          "IL",
          "IL",
          "MO",
          "MO",
          "MO",
          "KS",
          "KS",
          "KS",
          "NE",
          "NE",
          "NE",
          "LA",
          "LA",
          "LA",
          "AR",
          "AR",
          "AR",
          "OK",
          "OK",
          "OK",
          "TX",
          "TX",
          "TX",
          "TX",
          "CO",
          "CO",
          "CO",
          "WY",
          "WY",
          "WY",
          "ID",
          "ID",
          "ID",
          "UT",
          "UT",
          "UT",
          "AZ",
          "AZ",
          "NM",
          "NM",
          "NM",
          "NV",
          "NV",
          "NV",
          "CA",
          "CA",
          "CA",
          "HI",
          "HI",
          "OR",
          "OR",
          "WA",
          "WA",
          "WA",
          "WA",
          "WA",
          "AK",
          "AK"
         ],
         "name": "",
         "type": "choropleth",
         "z": [
          1.99,
          1.99,
          1.99,
          1.99,
          1.99,
          1.99,
          1.99,
          1.99,
          1.99,
          1.99,
          1.99,
          1.99,
          1.99,
          1.99,
          1.99,
          1.99,
          1.99,
          1.99,
          1.99,
          1.99,
          1.99,
          1.99,
          1.99,
          null,
          1.99,
          1.99,
          null,
          1.99,
          1.99,
          1.99,
          null,
          1.99,
          1.99,
          1.99,
          1.99,
          1.99,
          1.99,
          1.99,
          1.99,
          1.99,
          1.99,
          1.99,
          1.99,
          1.99,
          1.99,
          1.99,
          1.99,
          1.99,
          1.99,
          1.99,
          1.99,
          1.99,
          1.99,
          1.99,
          1.99,
          1.99,
          1.99,
          1.99,
          1.99,
          1.99,
          1.99,
          1.99,
          1.99,
          1.99,
          1.99,
          1.99,
          1.99,
          1.99,
          1.99,
          1.99,
          1.99,
          1.99,
          1.99,
          1.99,
          1.99,
          1.99,
          1.99,
          1.99,
          1.99,
          1.99,
          1.99,
          1.99,
          1.99,
          1.99,
          1.99,
          1.99,
          1.99,
          1.99,
          1.99,
          1.99,
          1.99,
          1.99,
          1.99,
          1.99,
          1.99,
          1.99,
          1.99,
          1.99,
          1.99,
          1.99,
          1.99,
          1.99,
          1.99,
          1.99,
          1.99,
          1.99,
          1.99,
          1.99,
          1.99,
          1.99,
          1.99,
          1.99,
          1.99,
          1.99,
          1.99,
          2.0566666666666666,
          2.0566666666666666,
          2.0566666666666666,
          2.0566666666666666,
          2.0566666666666666,
          2.0566666666666666,
          1.99,
          1.99,
          1.99,
          1.99,
          1.99,
          1.99,
          1.99,
          1.99,
          1.99,
          1.99,
          1.99,
          1.99,
          1.99,
          1.99,
          1.99,
          1.99,
          1.99,
          4.69,
          4.69,
          1.99,
          1.99,
          2.0300000000000002,
          2.0300000000000002,
          2.0300000000000002,
          2.0300000000000002,
          2.0300000000000002,
          2.69,
          2.69
         ]
        }
       ],
       "layout": {
        "coloraxis": {
         "colorbar": {
          "title": {
           "text": "Average Bananas Price"
          }
         },
         "colorscale": [
          [
           0,
           "#0d0887"
          ],
          [
           0.1111111111111111,
           "#46039f"
          ],
          [
           0.2222222222222222,
           "#7201a8"
          ],
          [
           0.3333333333333333,
           "#9c179e"
          ],
          [
           0.4444444444444444,
           "#bd3786"
          ],
          [
           0.5555555555555556,
           "#d8576b"
          ],
          [
           0.6666666666666666,
           "#ed7953"
          ],
          [
           0.7777777777777778,
           "#fb9f3a"
          ],
          [
           0.8888888888888888,
           "#fdca26"
          ],
          [
           1,
           "#f0f921"
          ]
         ]
        },
        "geo": {
         "center": {},
         "domain": {
          "x": [
           0,
           1
          ],
          "y": [
           0,
           1
          ]
         },
         "scope": "usa"
        },
        "legend": {
         "tracegroupgap": 0
        },
        "margin": {
         "t": 60
        },
        "template": {
         "data": {
          "bar": [
           {
            "error_x": {
             "color": "#2a3f5f"
            },
            "error_y": {
             "color": "#2a3f5f"
            },
            "marker": {
             "line": {
              "color": "#E5ECF6",
              "width": 0.5
             },
             "pattern": {
              "fillmode": "overlay",
              "size": 10,
              "solidity": 0.2
             }
            },
            "type": "bar"
           }
          ],
          "barpolar": [
           {
            "marker": {
             "line": {
              "color": "#E5ECF6",
              "width": 0.5
             },
             "pattern": {
              "fillmode": "overlay",
              "size": 10,
              "solidity": 0.2
             }
            },
            "type": "barpolar"
           }
          ],
          "carpet": [
           {
            "aaxis": {
             "endlinecolor": "#2a3f5f",
             "gridcolor": "white",
             "linecolor": "white",
             "minorgridcolor": "white",
             "startlinecolor": "#2a3f5f"
            },
            "baxis": {
             "endlinecolor": "#2a3f5f",
             "gridcolor": "white",
             "linecolor": "white",
             "minorgridcolor": "white",
             "startlinecolor": "#2a3f5f"
            },
            "type": "carpet"
           }
          ],
          "choropleth": [
           {
            "colorbar": {
             "outlinewidth": 0,
             "ticks": ""
            },
            "type": "choropleth"
           }
          ],
          "contour": [
           {
            "colorbar": {
             "outlinewidth": 0,
             "ticks": ""
            },
            "colorscale": [
             [
              0,
              "#0d0887"
             ],
             [
              0.1111111111111111,
              "#46039f"
             ],
             [
              0.2222222222222222,
              "#7201a8"
             ],
             [
              0.3333333333333333,
              "#9c179e"
             ],
             [
              0.4444444444444444,
              "#bd3786"
             ],
             [
              0.5555555555555556,
              "#d8576b"
             ],
             [
              0.6666666666666666,
              "#ed7953"
             ],
             [
              0.7777777777777778,
              "#fb9f3a"
             ],
             [
              0.8888888888888888,
              "#fdca26"
             ],
             [
              1,
              "#f0f921"
             ]
            ],
            "type": "contour"
           }
          ],
          "contourcarpet": [
           {
            "colorbar": {
             "outlinewidth": 0,
             "ticks": ""
            },
            "type": "contourcarpet"
           }
          ],
          "heatmap": [
           {
            "colorbar": {
             "outlinewidth": 0,
             "ticks": ""
            },
            "colorscale": [
             [
              0,
              "#0d0887"
             ],
             [
              0.1111111111111111,
              "#46039f"
             ],
             [
              0.2222222222222222,
              "#7201a8"
             ],
             [
              0.3333333333333333,
              "#9c179e"
             ],
             [
              0.4444444444444444,
              "#bd3786"
             ],
             [
              0.5555555555555556,
              "#d8576b"
             ],
             [
              0.6666666666666666,
              "#ed7953"
             ],
             [
              0.7777777777777778,
              "#fb9f3a"
             ],
             [
              0.8888888888888888,
              "#fdca26"
             ],
             [
              1,
              "#f0f921"
             ]
            ],
            "type": "heatmap"
           }
          ],
          "heatmapgl": [
           {
            "colorbar": {
             "outlinewidth": 0,
             "ticks": ""
            },
            "colorscale": [
             [
              0,
              "#0d0887"
             ],
             [
              0.1111111111111111,
              "#46039f"
             ],
             [
              0.2222222222222222,
              "#7201a8"
             ],
             [
              0.3333333333333333,
              "#9c179e"
             ],
             [
              0.4444444444444444,
              "#bd3786"
             ],
             [
              0.5555555555555556,
              "#d8576b"
             ],
             [
              0.6666666666666666,
              "#ed7953"
             ],
             [
              0.7777777777777778,
              "#fb9f3a"
             ],
             [
              0.8888888888888888,
              "#fdca26"
             ],
             [
              1,
              "#f0f921"
             ]
            ],
            "type": "heatmapgl"
           }
          ],
          "histogram": [
           {
            "marker": {
             "pattern": {
              "fillmode": "overlay",
              "size": 10,
              "solidity": 0.2
             }
            },
            "type": "histogram"
           }
          ],
          "histogram2d": [
           {
            "colorbar": {
             "outlinewidth": 0,
             "ticks": ""
            },
            "colorscale": [
             [
              0,
              "#0d0887"
             ],
             [
              0.1111111111111111,
              "#46039f"
             ],
             [
              0.2222222222222222,
              "#7201a8"
             ],
             [
              0.3333333333333333,
              "#9c179e"
             ],
             [
              0.4444444444444444,
              "#bd3786"
             ],
             [
              0.5555555555555556,
              "#d8576b"
             ],
             [
              0.6666666666666666,
              "#ed7953"
             ],
             [
              0.7777777777777778,
              "#fb9f3a"
             ],
             [
              0.8888888888888888,
              "#fdca26"
             ],
             [
              1,
              "#f0f921"
             ]
            ],
            "type": "histogram2d"
           }
          ],
          "histogram2dcontour": [
           {
            "colorbar": {
             "outlinewidth": 0,
             "ticks": ""
            },
            "colorscale": [
             [
              0,
              "#0d0887"
             ],
             [
              0.1111111111111111,
              "#46039f"
             ],
             [
              0.2222222222222222,
              "#7201a8"
             ],
             [
              0.3333333333333333,
              "#9c179e"
             ],
             [
              0.4444444444444444,
              "#bd3786"
             ],
             [
              0.5555555555555556,
              "#d8576b"
             ],
             [
              0.6666666666666666,
              "#ed7953"
             ],
             [
              0.7777777777777778,
              "#fb9f3a"
             ],
             [
              0.8888888888888888,
              "#fdca26"
             ],
             [
              1,
              "#f0f921"
             ]
            ],
            "type": "histogram2dcontour"
           }
          ],
          "mesh3d": [
           {
            "colorbar": {
             "outlinewidth": 0,
             "ticks": ""
            },
            "type": "mesh3d"
           }
          ],
          "parcoords": [
           {
            "line": {
             "colorbar": {
              "outlinewidth": 0,
              "ticks": ""
             }
            },
            "type": "parcoords"
           }
          ],
          "pie": [
           {
            "automargin": true,
            "type": "pie"
           }
          ],
          "scatter": [
           {
            "fillpattern": {
             "fillmode": "overlay",
             "size": 10,
             "solidity": 0.2
            },
            "type": "scatter"
           }
          ],
          "scatter3d": [
           {
            "line": {
             "colorbar": {
              "outlinewidth": 0,
              "ticks": ""
             }
            },
            "marker": {
             "colorbar": {
              "outlinewidth": 0,
              "ticks": ""
             }
            },
            "type": "scatter3d"
           }
          ],
          "scattercarpet": [
           {
            "marker": {
             "colorbar": {
              "outlinewidth": 0,
              "ticks": ""
             }
            },
            "type": "scattercarpet"
           }
          ],
          "scattergeo": [
           {
            "marker": {
             "colorbar": {
              "outlinewidth": 0,
              "ticks": ""
             }
            },
            "type": "scattergeo"
           }
          ],
          "scattergl": [
           {
            "marker": {
             "colorbar": {
              "outlinewidth": 0,
              "ticks": ""
             }
            },
            "type": "scattergl"
           }
          ],
          "scattermapbox": [
           {
            "marker": {
             "colorbar": {
              "outlinewidth": 0,
              "ticks": ""
             }
            },
            "type": "scattermapbox"
           }
          ],
          "scatterpolar": [
           {
            "marker": {
             "colorbar": {
              "outlinewidth": 0,
              "ticks": ""
             }
            },
            "type": "scatterpolar"
           }
          ],
          "scatterpolargl": [
           {
            "marker": {
             "colorbar": {
              "outlinewidth": 0,
              "ticks": ""
             }
            },
            "type": "scatterpolargl"
           }
          ],
          "scatterternary": [
           {
            "marker": {
             "colorbar": {
              "outlinewidth": 0,
              "ticks": ""
             }
            },
            "type": "scatterternary"
           }
          ],
          "surface": [
           {
            "colorbar": {
             "outlinewidth": 0,
             "ticks": ""
            },
            "colorscale": [
             [
              0,
              "#0d0887"
             ],
             [
              0.1111111111111111,
              "#46039f"
             ],
             [
              0.2222222222222222,
              "#7201a8"
             ],
             [
              0.3333333333333333,
              "#9c179e"
             ],
             [
              0.4444444444444444,
              "#bd3786"
             ],
             [
              0.5555555555555556,
              "#d8576b"
             ],
             [
              0.6666666666666666,
              "#ed7953"
             ],
             [
              0.7777777777777778,
              "#fb9f3a"
             ],
             [
              0.8888888888888888,
              "#fdca26"
             ],
             [
              1,
              "#f0f921"
             ]
            ],
            "type": "surface"
           }
          ],
          "table": [
           {
            "cells": {
             "fill": {
              "color": "#EBF0F8"
             },
             "line": {
              "color": "white"
             }
            },
            "header": {
             "fill": {
              "color": "#C8D4E3"
             },
             "line": {
              "color": "white"
             }
            },
            "type": "table"
           }
          ]
         },
         "layout": {
          "annotationdefaults": {
           "arrowcolor": "#2a3f5f",
           "arrowhead": 0,
           "arrowwidth": 1
          },
          "autotypenumbers": "strict",
          "coloraxis": {
           "colorbar": {
            "outlinewidth": 0,
            "ticks": ""
           }
          },
          "colorscale": {
           "diverging": [
            [
             0,
             "#8e0152"
            ],
            [
             0.1,
             "#c51b7d"
            ],
            [
             0.2,
             "#de77ae"
            ],
            [
             0.3,
             "#f1b6da"
            ],
            [
             0.4,
             "#fde0ef"
            ],
            [
             0.5,
             "#f7f7f7"
            ],
            [
             0.6,
             "#e6f5d0"
            ],
            [
             0.7,
             "#b8e186"
            ],
            [
             0.8,
             "#7fbc41"
            ],
            [
             0.9,
             "#4d9221"
            ],
            [
             1,
             "#276419"
            ]
           ],
           "sequential": [
            [
             0,
             "#0d0887"
            ],
            [
             0.1111111111111111,
             "#46039f"
            ],
            [
             0.2222222222222222,
             "#7201a8"
            ],
            [
             0.3333333333333333,
             "#9c179e"
            ],
            [
             0.4444444444444444,
             "#bd3786"
            ],
            [
             0.5555555555555556,
             "#d8576b"
            ],
            [
             0.6666666666666666,
             "#ed7953"
            ],
            [
             0.7777777777777778,
             "#fb9f3a"
            ],
            [
             0.8888888888888888,
             "#fdca26"
            ],
            [
             1,
             "#f0f921"
            ]
           ],
           "sequentialminus": [
            [
             0,
             "#0d0887"
            ],
            [
             0.1111111111111111,
             "#46039f"
            ],
            [
             0.2222222222222222,
             "#7201a8"
            ],
            [
             0.3333333333333333,
             "#9c179e"
            ],
            [
             0.4444444444444444,
             "#bd3786"
            ],
            [
             0.5555555555555556,
             "#d8576b"
            ],
            [
             0.6666666666666666,
             "#ed7953"
            ],
            [
             0.7777777777777778,
             "#fb9f3a"
            ],
            [
             0.8888888888888888,
             "#fdca26"
            ],
            [
             1,
             "#f0f921"
            ]
           ]
          },
          "colorway": [
           "#636efa",
           "#EF553B",
           "#00cc96",
           "#ab63fa",
           "#FFA15A",
           "#19d3f3",
           "#FF6692",
           "#B6E880",
           "#FF97FF",
           "#FECB52"
          ],
          "font": {
           "color": "#2a3f5f"
          },
          "geo": {
           "bgcolor": "white",
           "lakecolor": "white",
           "landcolor": "#E5ECF6",
           "showlakes": true,
           "showland": true,
           "subunitcolor": "white"
          },
          "hoverlabel": {
           "align": "left"
          },
          "hovermode": "closest",
          "mapbox": {
           "style": "light"
          },
          "paper_bgcolor": "white",
          "plot_bgcolor": "#E5ECF6",
          "polar": {
           "angularaxis": {
            "gridcolor": "white",
            "linecolor": "white",
            "ticks": ""
           },
           "bgcolor": "#E5ECF6",
           "radialaxis": {
            "gridcolor": "white",
            "linecolor": "white",
            "ticks": ""
           }
          },
          "scene": {
           "xaxis": {
            "backgroundcolor": "#E5ECF6",
            "gridcolor": "white",
            "gridwidth": 2,
            "linecolor": "white",
            "showbackground": true,
            "ticks": "",
            "zerolinecolor": "white"
           },
           "yaxis": {
            "backgroundcolor": "#E5ECF6",
            "gridcolor": "white",
            "gridwidth": 2,
            "linecolor": "white",
            "showbackground": true,
            "ticks": "",
            "zerolinecolor": "white"
           },
           "zaxis": {
            "backgroundcolor": "#E5ECF6",
            "gridcolor": "white",
            "gridwidth": 2,
            "linecolor": "white",
            "showbackground": true,
            "ticks": "",
            "zerolinecolor": "white"
           }
          },
          "shapedefaults": {
           "line": {
            "color": "#2a3f5f"
           }
          },
          "ternary": {
           "aaxis": {
            "gridcolor": "white",
            "linecolor": "white",
            "ticks": ""
           },
           "baxis": {
            "gridcolor": "white",
            "linecolor": "white",
            "ticks": ""
           },
           "bgcolor": "#E5ECF6",
           "caxis": {
            "gridcolor": "white",
            "linecolor": "white",
            "ticks": ""
           }
          },
          "title": {
           "x": 0.05
          },
          "xaxis": {
           "automargin": true,
           "gridcolor": "white",
           "linecolor": "white",
           "ticks": "",
           "title": {
            "standoff": 15
           },
           "zerolinecolor": "white",
           "zerolinewidth": 2
          },
          "yaxis": {
           "automargin": true,
           "gridcolor": "white",
           "linecolor": "white",
           "ticks": "",
           "title": {
            "standoff": 15
           },
           "zerolinecolor": "white",
           "zerolinewidth": 2
          }
         }
        }
       }
      },
      "text/html": [
       "<div>                            <div id=\"4316b719-c024-4959-9968-0f6f23f92b80\" class=\"plotly-graph-div\" style=\"height:525px; width:100%;\"></div>            <script type=\"text/javascript\">                require([\"plotly\"], function(Plotly) {                    window.PLOTLYENV=window.PLOTLYENV || {};                                    if (document.getElementById(\"4316b719-c024-4959-9968-0f6f23f92b80\")) {                    Plotly.newPlot(                        \"4316b719-c024-4959-9968-0f6f23f92b80\",                        [{\"coloraxis\":\"coloraxis\",\"geo\":\"geo\",\"hovertemplate\":\"<b>%{hovertext}</b><br><br>State=%{location}<br>Average Bananas Price=%{z}<extra></extra>\",\"hovertext\":[\"01040\",\"02114\",\"02122\",\"02865\",\"02886\",\"02917\",\"03063\",\"03110\",\"03840\",\"04086\",\"04401\",\"04952\",\"05403\",\"06042\",\"06241\",\"06901\",\"07047\",\"07310\",\"08865\",\"11217\",\"14020\",\"14850\",\"16601\",\"16803\",\"17013\",\"19103\",\"19148\",\"19808\",\"19901\",\"19931\",\"20886\",\"21009\",\"21030\",\"21704\",\"22305\",\"24151\",\"24487\",\"25309\",\"25526\",\"26059\",\"27609\",\"28104\",\"28704\",\"29607\",\"29621\",\"29680\",\"30189\",\"30324\",\"31525\",\"33403\",\"33428\",\"33463\",\"35226\",\"35601\",\"36526\",\"37801\",\"38017\",\"38133\",\"39159\",\"39213\",\"39402\",\"40241\",\"42104\",\"42301\",\"44870\",\"45236\",\"45249\",\"46237\",\"46383\",\"47401\",\"48374\",\"48507\",\"49855\",\"50009\",\"50702\",\"52404\",\"53085\",\"53207\",\"54235\",\"55066\",\"55403\",\"56601\",\"57110\",\"57401\",\"57701\",\"58103\",\"58563\",\"58701\",\"59718\",\"59901\",\"60014\",\"60610\",\"61401\",\"63010\",\"63033\",\"64114\",\"66062\",\"66111\",\"67401\",\"68073\",\"68116\",\"68123\",\"70816\",\"71111\",\"71301\",\"72032\",\"72703\",\"72903\",\"73034\",\"74055\",\"74133\",\"77840\",\"78717\",\"79707\",\"79707\",\"80108\",\"80202\",\"81401\",\"82009\",\"82609\",\"83001\",\"83704\",\"83713\",\"83815\",\"84095\",\"84121\",\"84660\",\"85207\",\"85748\",\"87114\",\"87124\",\"87402\",\"89183\",\"89434\",\"89705\",\"90065\",\"91730\",\"95330\",\"96734\",\"96740\",\"97217\",\"97303\",\"98101\",\"98233\",\"98614\",\"98626\",\"98901\",\"99515\",\"99654\"],\"locationmode\":\"USA-states\",\"locations\":[\"MA\",\"MA\",\"MA\",\"RI\",\"RI\",\"RI\",\"NH\",\"NH\",\"NH\",\"ME\",\"ME\",\"ME\",\"VT\",\"CT\",\"CT\",\"CT\",\"NJ\",\"NJ\",\"NJ\",\"NY\",\"NY\",\"NY\",\"PA\",\"\",\"PA\",\"PA\",\"\",\"DE\",\"DE\",\"DE\",\"Germantown\",\"MD\",\"MD\",\"MD\",\"VA\",\"VA\",\"VA\",\"WV\",\"WV\",\"WV\",\"NC\",\"NC\",\"NC\",\"SC\",\"SC\",\"SC\",\"GA\",\"GA\",\"GA\",\"FL\",\"FL\",\"FL\",\"AL\",\"AL\",\"AL\",\"TN\",\"TN\",\"TN\",\"MS\",\"MS\",\"MS\",\"KY\",\"KY\",\"KY\",\"OH\",\"OH\",\"OH\",\"IN\",\"IN\",\"IN\",\"MI\",\"MI\",\"MI\",\"IA\",\"IA\",\"IA\",\"WI\",\"WI\",\"WI\",\"MN\",\"MN\",\"MN\",\"SD\",\"SD\",\"SD\",\"ND\",\"ND\",\"ND\",\"MT\",\"MT\",\"IL\",\"IL\",\"IL\",\"MO\",\"MO\",\"MO\",\"KS\",\"KS\",\"KS\",\"NE\",\"NE\",\"NE\",\"LA\",\"LA\",\"LA\",\"AR\",\"AR\",\"AR\",\"OK\",\"OK\",\"OK\",\"TX\",\"TX\",\"TX\",\"TX\",\"CO\",\"CO\",\"CO\",\"WY\",\"WY\",\"WY\",\"ID\",\"ID\",\"ID\",\"UT\",\"UT\",\"UT\",\"AZ\",\"AZ\",\"NM\",\"NM\",\"NM\",\"NV\",\"NV\",\"NV\",\"CA\",\"CA\",\"CA\",\"HI\",\"HI\",\"OR\",\"OR\",\"WA\",\"WA\",\"WA\",\"WA\",\"WA\",\"AK\",\"AK\"],\"name\":\"\",\"z\":[1.99,1.99,1.99,1.99,1.99,1.99,1.99,1.99,1.99,1.99,1.99,1.99,1.99,1.99,1.99,1.99,1.99,1.99,1.99,1.99,1.99,1.99,1.99,null,1.99,1.99,null,1.99,1.99,1.99,null,1.99,1.99,1.99,1.99,1.99,1.99,1.99,1.99,1.99,1.99,1.99,1.99,1.99,1.99,1.99,1.99,1.99,1.99,1.99,1.99,1.99,1.99,1.99,1.99,1.99,1.99,1.99,1.99,1.99,1.99,1.99,1.99,1.99,1.99,1.99,1.99,1.99,1.99,1.99,1.99,1.99,1.99,1.99,1.99,1.99,1.99,1.99,1.99,1.99,1.99,1.99,1.99,1.99,1.99,1.99,1.99,1.99,1.99,1.99,1.99,1.99,1.99,1.99,1.99,1.99,1.99,1.99,1.99,1.99,1.99,1.99,1.99,1.99,1.99,1.99,1.99,1.99,1.99,1.99,1.99,1.99,1.99,1.99,1.99,2.0566666666666666,2.0566666666666666,2.0566666666666666,2.0566666666666666,2.0566666666666666,2.0566666666666666,1.99,1.99,1.99,1.99,1.99,1.99,1.99,1.99,1.99,1.99,1.99,1.99,1.99,1.99,1.99,1.99,1.99,4.69,4.69,1.99,1.99,2.0300000000000002,2.0300000000000002,2.0300000000000002,2.0300000000000002,2.0300000000000002,2.69,2.69],\"type\":\"choropleth\"}],                        {\"template\":{\"data\":{\"histogram2dcontour\":[{\"type\":\"histogram2dcontour\",\"colorbar\":{\"outlinewidth\":0,\"ticks\":\"\"},\"colorscale\":[[0.0,\"#0d0887\"],[0.1111111111111111,\"#46039f\"],[0.2222222222222222,\"#7201a8\"],[0.3333333333333333,\"#9c179e\"],[0.4444444444444444,\"#bd3786\"],[0.5555555555555556,\"#d8576b\"],[0.6666666666666666,\"#ed7953\"],[0.7777777777777778,\"#fb9f3a\"],[0.8888888888888888,\"#fdca26\"],[1.0,\"#f0f921\"]]}],\"choropleth\":[{\"type\":\"choropleth\",\"colorbar\":{\"outlinewidth\":0,\"ticks\":\"\"}}],\"histogram2d\":[{\"type\":\"histogram2d\",\"colorbar\":{\"outlinewidth\":0,\"ticks\":\"\"},\"colorscale\":[[0.0,\"#0d0887\"],[0.1111111111111111,\"#46039f\"],[0.2222222222222222,\"#7201a8\"],[0.3333333333333333,\"#9c179e\"],[0.4444444444444444,\"#bd3786\"],[0.5555555555555556,\"#d8576b\"],[0.6666666666666666,\"#ed7953\"],[0.7777777777777778,\"#fb9f3a\"],[0.8888888888888888,\"#fdca26\"],[1.0,\"#f0f921\"]]}],\"heatmap\":[{\"type\":\"heatmap\",\"colorbar\":{\"outlinewidth\":0,\"ticks\":\"\"},\"colorscale\":[[0.0,\"#0d0887\"],[0.1111111111111111,\"#46039f\"],[0.2222222222222222,\"#7201a8\"],[0.3333333333333333,\"#9c179e\"],[0.4444444444444444,\"#bd3786\"],[0.5555555555555556,\"#d8576b\"],[0.6666666666666666,\"#ed7953\"],[0.7777777777777778,\"#fb9f3a\"],[0.8888888888888888,\"#fdca26\"],[1.0,\"#f0f921\"]]}],\"heatmapgl\":[{\"type\":\"heatmapgl\",\"colorbar\":{\"outlinewidth\":0,\"ticks\":\"\"},\"colorscale\":[[0.0,\"#0d0887\"],[0.1111111111111111,\"#46039f\"],[0.2222222222222222,\"#7201a8\"],[0.3333333333333333,\"#9c179e\"],[0.4444444444444444,\"#bd3786\"],[0.5555555555555556,\"#d8576b\"],[0.6666666666666666,\"#ed7953\"],[0.7777777777777778,\"#fb9f3a\"],[0.8888888888888888,\"#fdca26\"],[1.0,\"#f0f921\"]]}],\"contourcarpet\":[{\"type\":\"contourcarpet\",\"colorbar\":{\"outlinewidth\":0,\"ticks\":\"\"}}],\"contour\":[{\"type\":\"contour\",\"colorbar\":{\"outlinewidth\":0,\"ticks\":\"\"},\"colorscale\":[[0.0,\"#0d0887\"],[0.1111111111111111,\"#46039f\"],[0.2222222222222222,\"#7201a8\"],[0.3333333333333333,\"#9c179e\"],[0.4444444444444444,\"#bd3786\"],[0.5555555555555556,\"#d8576b\"],[0.6666666666666666,\"#ed7953\"],[0.7777777777777778,\"#fb9f3a\"],[0.8888888888888888,\"#fdca26\"],[1.0,\"#f0f921\"]]}],\"surface\":[{\"type\":\"surface\",\"colorbar\":{\"outlinewidth\":0,\"ticks\":\"\"},\"colorscale\":[[0.0,\"#0d0887\"],[0.1111111111111111,\"#46039f\"],[0.2222222222222222,\"#7201a8\"],[0.3333333333333333,\"#9c179e\"],[0.4444444444444444,\"#bd3786\"],[0.5555555555555556,\"#d8576b\"],[0.6666666666666666,\"#ed7953\"],[0.7777777777777778,\"#fb9f3a\"],[0.8888888888888888,\"#fdca26\"],[1.0,\"#f0f921\"]]}],\"mesh3d\":[{\"type\":\"mesh3d\",\"colorbar\":{\"outlinewidth\":0,\"ticks\":\"\"}}],\"scatter\":[{\"fillpattern\":{\"fillmode\":\"overlay\",\"size\":10,\"solidity\":0.2},\"type\":\"scatter\"}],\"parcoords\":[{\"type\":\"parcoords\",\"line\":{\"colorbar\":{\"outlinewidth\":0,\"ticks\":\"\"}}}],\"scatterpolargl\":[{\"type\":\"scatterpolargl\",\"marker\":{\"colorbar\":{\"outlinewidth\":0,\"ticks\":\"\"}}}],\"bar\":[{\"error_x\":{\"color\":\"#2a3f5f\"},\"error_y\":{\"color\":\"#2a3f5f\"},\"marker\":{\"line\":{\"color\":\"#E5ECF6\",\"width\":0.5},\"pattern\":{\"fillmode\":\"overlay\",\"size\":10,\"solidity\":0.2}},\"type\":\"bar\"}],\"scattergeo\":[{\"type\":\"scattergeo\",\"marker\":{\"colorbar\":{\"outlinewidth\":0,\"ticks\":\"\"}}}],\"scatterpolar\":[{\"type\":\"scatterpolar\",\"marker\":{\"colorbar\":{\"outlinewidth\":0,\"ticks\":\"\"}}}],\"histogram\":[{\"marker\":{\"pattern\":{\"fillmode\":\"overlay\",\"size\":10,\"solidity\":0.2}},\"type\":\"histogram\"}],\"scattergl\":[{\"type\":\"scattergl\",\"marker\":{\"colorbar\":{\"outlinewidth\":0,\"ticks\":\"\"}}}],\"scatter3d\":[{\"type\":\"scatter3d\",\"line\":{\"colorbar\":{\"outlinewidth\":0,\"ticks\":\"\"}},\"marker\":{\"colorbar\":{\"outlinewidth\":0,\"ticks\":\"\"}}}],\"scattermapbox\":[{\"type\":\"scattermapbox\",\"marker\":{\"colorbar\":{\"outlinewidth\":0,\"ticks\":\"\"}}}],\"scatterternary\":[{\"type\":\"scatterternary\",\"marker\":{\"colorbar\":{\"outlinewidth\":0,\"ticks\":\"\"}}}],\"scattercarpet\":[{\"type\":\"scattercarpet\",\"marker\":{\"colorbar\":{\"outlinewidth\":0,\"ticks\":\"\"}}}],\"carpet\":[{\"aaxis\":{\"endlinecolor\":\"#2a3f5f\",\"gridcolor\":\"white\",\"linecolor\":\"white\",\"minorgridcolor\":\"white\",\"startlinecolor\":\"#2a3f5f\"},\"baxis\":{\"endlinecolor\":\"#2a3f5f\",\"gridcolor\":\"white\",\"linecolor\":\"white\",\"minorgridcolor\":\"white\",\"startlinecolor\":\"#2a3f5f\"},\"type\":\"carpet\"}],\"table\":[{\"cells\":{\"fill\":{\"color\":\"#EBF0F8\"},\"line\":{\"color\":\"white\"}},\"header\":{\"fill\":{\"color\":\"#C8D4E3\"},\"line\":{\"color\":\"white\"}},\"type\":\"table\"}],\"barpolar\":[{\"marker\":{\"line\":{\"color\":\"#E5ECF6\",\"width\":0.5},\"pattern\":{\"fillmode\":\"overlay\",\"size\":10,\"solidity\":0.2}},\"type\":\"barpolar\"}],\"pie\":[{\"automargin\":true,\"type\":\"pie\"}]},\"layout\":{\"autotypenumbers\":\"strict\",\"colorway\":[\"#636efa\",\"#EF553B\",\"#00cc96\",\"#ab63fa\",\"#FFA15A\",\"#19d3f3\",\"#FF6692\",\"#B6E880\",\"#FF97FF\",\"#FECB52\"],\"font\":{\"color\":\"#2a3f5f\"},\"hovermode\":\"closest\",\"hoverlabel\":{\"align\":\"left\"},\"paper_bgcolor\":\"white\",\"plot_bgcolor\":\"#E5ECF6\",\"polar\":{\"bgcolor\":\"#E5ECF6\",\"angularaxis\":{\"gridcolor\":\"white\",\"linecolor\":\"white\",\"ticks\":\"\"},\"radialaxis\":{\"gridcolor\":\"white\",\"linecolor\":\"white\",\"ticks\":\"\"}},\"ternary\":{\"bgcolor\":\"#E5ECF6\",\"aaxis\":{\"gridcolor\":\"white\",\"linecolor\":\"white\",\"ticks\":\"\"},\"baxis\":{\"gridcolor\":\"white\",\"linecolor\":\"white\",\"ticks\":\"\"},\"caxis\":{\"gridcolor\":\"white\",\"linecolor\":\"white\",\"ticks\":\"\"}},\"coloraxis\":{\"colorbar\":{\"outlinewidth\":0,\"ticks\":\"\"}},\"colorscale\":{\"sequential\":[[0.0,\"#0d0887\"],[0.1111111111111111,\"#46039f\"],[0.2222222222222222,\"#7201a8\"],[0.3333333333333333,\"#9c179e\"],[0.4444444444444444,\"#bd3786\"],[0.5555555555555556,\"#d8576b\"],[0.6666666666666666,\"#ed7953\"],[0.7777777777777778,\"#fb9f3a\"],[0.8888888888888888,\"#fdca26\"],[1.0,\"#f0f921\"]],\"sequentialminus\":[[0.0,\"#0d0887\"],[0.1111111111111111,\"#46039f\"],[0.2222222222222222,\"#7201a8\"],[0.3333333333333333,\"#9c179e\"],[0.4444444444444444,\"#bd3786\"],[0.5555555555555556,\"#d8576b\"],[0.6666666666666666,\"#ed7953\"],[0.7777777777777778,\"#fb9f3a\"],[0.8888888888888888,\"#fdca26\"],[1.0,\"#f0f921\"]],\"diverging\":[[0,\"#8e0152\"],[0.1,\"#c51b7d\"],[0.2,\"#de77ae\"],[0.3,\"#f1b6da\"],[0.4,\"#fde0ef\"],[0.5,\"#f7f7f7\"],[0.6,\"#e6f5d0\"],[0.7,\"#b8e186\"],[0.8,\"#7fbc41\"],[0.9,\"#4d9221\"],[1,\"#276419\"]]},\"xaxis\":{\"gridcolor\":\"white\",\"linecolor\":\"white\",\"ticks\":\"\",\"title\":{\"standoff\":15},\"zerolinecolor\":\"white\",\"automargin\":true,\"zerolinewidth\":2},\"yaxis\":{\"gridcolor\":\"white\",\"linecolor\":\"white\",\"ticks\":\"\",\"title\":{\"standoff\":15},\"zerolinecolor\":\"white\",\"automargin\":true,\"zerolinewidth\":2},\"scene\":{\"xaxis\":{\"backgroundcolor\":\"#E5ECF6\",\"gridcolor\":\"white\",\"linecolor\":\"white\",\"showbackground\":true,\"ticks\":\"\",\"zerolinecolor\":\"white\",\"gridwidth\":2},\"yaxis\":{\"backgroundcolor\":\"#E5ECF6\",\"gridcolor\":\"white\",\"linecolor\":\"white\",\"showbackground\":true,\"ticks\":\"\",\"zerolinecolor\":\"white\",\"gridwidth\":2},\"zaxis\":{\"backgroundcolor\":\"#E5ECF6\",\"gridcolor\":\"white\",\"linecolor\":\"white\",\"showbackground\":true,\"ticks\":\"\",\"zerolinecolor\":\"white\",\"gridwidth\":2}},\"shapedefaults\":{\"line\":{\"color\":\"#2a3f5f\"}},\"annotationdefaults\":{\"arrowcolor\":\"#2a3f5f\",\"arrowhead\":0,\"arrowwidth\":1},\"geo\":{\"bgcolor\":\"white\",\"landcolor\":\"#E5ECF6\",\"subunitcolor\":\"white\",\"showland\":true,\"showlakes\":true,\"lakecolor\":\"white\"},\"title\":{\"x\":0.05},\"mapbox\":{\"style\":\"light\"}}},\"geo\":{\"domain\":{\"x\":[0.0,1.0],\"y\":[0.0,1.0]},\"center\":{},\"scope\":\"usa\"},\"coloraxis\":{\"colorbar\":{\"title\":{\"text\":\"Average Bananas Price\"}},\"colorscale\":[[0.0,\"#0d0887\"],[0.1111111111111111,\"#46039f\"],[0.2222222222222222,\"#7201a8\"],[0.3333333333333333,\"#9c179e\"],[0.4444444444444444,\"#bd3786\"],[0.5555555555555556,\"#d8576b\"],[0.6666666666666666,\"#ed7953\"],[0.7777777777777778,\"#fb9f3a\"],[0.8888888888888888,\"#fdca26\"],[1.0,\"#f0f921\"]]},\"legend\":{\"tracegroupgap\":0},\"margin\":{\"t\":60}},                        {\"responsive\": true}                    ).then(function(){\n",
       "                            \n",
       "var gd = document.getElementById('4316b719-c024-4959-9968-0f6f23f92b80');\n",
       "var x = new MutationObserver(function (mutations, observer) {{\n",
       "        var display = window.getComputedStyle(gd).display;\n",
       "        if (!display || display === 'none') {{\n",
       "            console.log([gd, 'removed!']);\n",
       "            Plotly.purge(gd);\n",
       "            observer.disconnect();\n",
       "        }}\n",
       "}});\n",
       "\n",
       "// Listen for the removal of the full notebook cells\n",
       "var notebookContainer = gd.closest('#notebook-container');\n",
       "if (notebookContainer) {{\n",
       "    x.observe(notebookContainer, {childList: true});\n",
       "}}\n",
       "\n",
       "// Listen for the clearing of the current output cell\n",
       "var outputEl = gd.closest('.output');\n",
       "if (outputEl) {{\n",
       "    x.observe(outputEl, {childList: true});\n",
       "}}\n",
       "\n",
       "                        })                };                });            </script>        </div>"
      ]
     },
     "metadata": {},
     "output_type": "display_data"
    },
    {
     "data": {
      "application/vnd.plotly.v1+json": {
       "config": {
        "plotlyServerURL": "https://plot.ly"
       },
       "data": [
        {
         "coloraxis": "coloraxis",
         "geo": "geo",
         "hovertemplate": "<b>%{hovertext}</b><br><br>State=%{location}<br>Average Cotton Swabs Price=%{z}<extra></extra>",
         "hovertext": [
          "01040",
          "02114",
          "02122",
          "02865",
          "02886",
          "02917",
          "03063",
          "03110",
          "03840",
          "04086",
          "04401",
          "04952",
          "05403",
          "06042",
          "06241",
          "06901",
          "07047",
          "07310",
          "08865",
          "11217",
          "14020",
          "14850",
          "16601",
          "16803",
          "17013",
          "19103",
          "19148",
          "19808",
          "19901",
          "19931",
          "20886",
          "21009",
          "21030",
          "21704",
          "22305",
          "24151",
          "24487",
          "25309",
          "25526",
          "26059",
          "27609",
          "28104",
          "28704",
          "29607",
          "29621",
          "29680",
          "30189",
          "30324",
          "31525",
          "33403",
          "33428",
          "33463",
          "35226",
          "35601",
          "36526",
          "37801",
          "38017",
          "38133",
          "39159",
          "39213",
          "39402",
          "40241",
          "42104",
          "42301",
          "44870",
          "45236",
          "45249",
          "46237",
          "46383",
          "47401",
          "48374",
          "48507",
          "49855",
          "50009",
          "50702",
          "52404",
          "53085",
          "53207",
          "54235",
          "55066",
          "55403",
          "56601",
          "57110",
          "57401",
          "57701",
          "58103",
          "58563",
          "58701",
          "59718",
          "59901",
          "60014",
          "60610",
          "61401",
          "63010",
          "63033",
          "64114",
          "66062",
          "66111",
          "67401",
          "68073",
          "68116",
          "68123",
          "70816",
          "71111",
          "71301",
          "72032",
          "72703",
          "72903",
          "73034",
          "74055",
          "74133",
          "77840",
          "78717",
          "79707",
          "79707",
          "80108",
          "80202",
          "81401",
          "82009",
          "82609",
          "83001",
          "83704",
          "83713",
          "83815",
          "84095",
          "84121",
          "84660",
          "85207",
          "85748",
          "87114",
          "87124",
          "87402",
          "89183",
          "89434",
          "89705",
          "90065",
          "91730",
          "95330",
          "96734",
          "96740",
          "97217",
          "97303",
          "98101",
          "98233",
          "98614",
          "98626",
          "98901",
          "99515",
          "99654"
         ],
         "locationmode": "USA-states",
         "locations": [
          "MA",
          "MA",
          "MA",
          "RI",
          "RI",
          "RI",
          "NH",
          "NH",
          "NH",
          "ME",
          "ME",
          "ME",
          "VT",
          "CT",
          "CT",
          "CT",
          "NJ",
          "NJ",
          "NJ",
          "NY",
          "NY",
          "NY",
          "PA",
          "",
          "PA",
          "PA",
          "",
          "DE",
          "DE",
          "DE",
          "Germantown",
          "MD",
          "MD",
          "MD",
          "VA",
          "VA",
          "VA",
          "WV",
          "WV",
          "WV",
          "NC",
          "NC",
          "NC",
          "SC",
          "SC",
          "SC",
          "GA",
          "GA",
          "GA",
          "FL",
          "FL",
          "FL",
          "AL",
          "AL",
          "AL",
          "TN",
          "TN",
          "TN",
          "MS",
          "MS",
          "MS",
          "KY",
          "KY",
          "KY",
          "OH",
          "OH",
          "OH",
          "IN",
          "IN",
          "IN",
          "MI",
          "MI",
          "MI",
          "IA",
          "IA",
          "IA",
          "WI",
          "WI",
          "WI",
          "MN",
          "MN",
          "MN",
          "SD",
          "SD",
          "SD",
          "ND",
          "ND",
          "ND",
          "MT",
          "MT",
          "IL",
          "IL",
          "IL",
          "MO",
          "MO",
          "MO",
          "KS",
          "KS",
          "KS",
          "NE",
          "NE",
          "NE",
          "LA",
          "LA",
          "LA",
          "AR",
          "AR",
          "AR",
          "OK",
          "OK",
          "OK",
          "TX",
          "TX",
          "TX",
          "TX",
          "CO",
          "CO",
          "CO",
          "WY",
          "WY",
          "WY",
          "ID",
          "ID",
          "ID",
          "UT",
          "UT",
          "UT",
          "AZ",
          "AZ",
          "NM",
          "NM",
          "NM",
          "NV",
          "NV",
          "NV",
          "CA",
          "CA",
          "CA",
          "HI",
          "HI",
          "OR",
          "OR",
          "WA",
          "WA",
          "WA",
          "WA",
          "WA",
          "AK",
          "AK"
         ],
         "name": "",
         "type": "choropleth",
         "z": [
          3.39,
          3.39,
          3.39,
          3.39,
          3.39,
          3.39,
          3.39,
          3.39,
          3.39,
          3.39,
          3.39,
          3.39,
          3.39,
          3.39,
          3.39,
          3.39,
          3.39,
          3.39,
          3.39,
          3.39,
          3.39,
          3.39,
          3.39,
          null,
          3.39,
          3.39,
          null,
          3.39,
          3.39,
          3.39,
          3.39,
          3.39,
          3.39,
          3.39,
          3.39,
          3.39,
          3.39,
          3.39,
          3.39,
          3.39,
          3.39,
          3.39,
          3.39,
          3.39,
          3.39,
          3.39,
          3.39,
          3.39,
          3.39,
          3.39,
          3.39,
          3.39,
          3.39,
          3.39,
          3.39,
          3.3233333333333337,
          3.3233333333333337,
          3.3233333333333337,
          3.39,
          3.39,
          3.39,
          3.39,
          3.39,
          3.39,
          3.39,
          3.39,
          3.39,
          3.39,
          3.39,
          3.39,
          3.39,
          3.39,
          3.39,
          3.39,
          3.39,
          3.39,
          3.39,
          3.39,
          3.39,
          3.39,
          3.39,
          3.39,
          3.39,
          3.39,
          3.39,
          3.39,
          3.39,
          3.39,
          3.39,
          3.39,
          3.39,
          3.39,
          3.39,
          3.39,
          3.39,
          3.39,
          3.39,
          3.39,
          3.39,
          3.39,
          3.39,
          3.39,
          3.39,
          3.39,
          3.39,
          3.39,
          3.39,
          3.39,
          3.39,
          3.39,
          3.39,
          3.39,
          3.39,
          3.39,
          3.39,
          3.4233333333333333,
          3.4233333333333333,
          3.4233333333333333,
          3.4233333333333333,
          3.4233333333333333,
          3.4233333333333333,
          3.39,
          3.39,
          3.39,
          3.39,
          3.39,
          3.39,
          3.39,
          3.39,
          3.39,
          3.39,
          3.39,
          3.39,
          3.39,
          3.39,
          3.39,
          3.39,
          3.39,
          3.69,
          3.69,
          3.39,
          3.39,
          3.5100000000000002,
          3.5100000000000002,
          3.5100000000000002,
          3.5100000000000002,
          3.5100000000000002,
          4.29,
          4.29
         ]
        }
       ],
       "layout": {
        "coloraxis": {
         "colorbar": {
          "title": {
           "text": "Average Cotton Swabs Price"
          }
         },
         "colorscale": [
          [
           0,
           "#0d0887"
          ],
          [
           0.1111111111111111,
           "#46039f"
          ],
          [
           0.2222222222222222,
           "#7201a8"
          ],
          [
           0.3333333333333333,
           "#9c179e"
          ],
          [
           0.4444444444444444,
           "#bd3786"
          ],
          [
           0.5555555555555556,
           "#d8576b"
          ],
          [
           0.6666666666666666,
           "#ed7953"
          ],
          [
           0.7777777777777778,
           "#fb9f3a"
          ],
          [
           0.8888888888888888,
           "#fdca26"
          ],
          [
           1,
           "#f0f921"
          ]
         ]
        },
        "geo": {
         "center": {},
         "domain": {
          "x": [
           0,
           1
          ],
          "y": [
           0,
           1
          ]
         },
         "scope": "usa"
        },
        "legend": {
         "tracegroupgap": 0
        },
        "margin": {
         "t": 60
        },
        "template": {
         "data": {
          "bar": [
           {
            "error_x": {
             "color": "#2a3f5f"
            },
            "error_y": {
             "color": "#2a3f5f"
            },
            "marker": {
             "line": {
              "color": "#E5ECF6",
              "width": 0.5
             },
             "pattern": {
              "fillmode": "overlay",
              "size": 10,
              "solidity": 0.2
             }
            },
            "type": "bar"
           }
          ],
          "barpolar": [
           {
            "marker": {
             "line": {
              "color": "#E5ECF6",
              "width": 0.5
             },
             "pattern": {
              "fillmode": "overlay",
              "size": 10,
              "solidity": 0.2
             }
            },
            "type": "barpolar"
           }
          ],
          "carpet": [
           {
            "aaxis": {
             "endlinecolor": "#2a3f5f",
             "gridcolor": "white",
             "linecolor": "white",
             "minorgridcolor": "white",
             "startlinecolor": "#2a3f5f"
            },
            "baxis": {
             "endlinecolor": "#2a3f5f",
             "gridcolor": "white",
             "linecolor": "white",
             "minorgridcolor": "white",
             "startlinecolor": "#2a3f5f"
            },
            "type": "carpet"
           }
          ],
          "choropleth": [
           {
            "colorbar": {
             "outlinewidth": 0,
             "ticks": ""
            },
            "type": "choropleth"
           }
          ],
          "contour": [
           {
            "colorbar": {
             "outlinewidth": 0,
             "ticks": ""
            },
            "colorscale": [
             [
              0,
              "#0d0887"
             ],
             [
              0.1111111111111111,
              "#46039f"
             ],
             [
              0.2222222222222222,
              "#7201a8"
             ],
             [
              0.3333333333333333,
              "#9c179e"
             ],
             [
              0.4444444444444444,
              "#bd3786"
             ],
             [
              0.5555555555555556,
              "#d8576b"
             ],
             [
              0.6666666666666666,
              "#ed7953"
             ],
             [
              0.7777777777777778,
              "#fb9f3a"
             ],
             [
              0.8888888888888888,
              "#fdca26"
             ],
             [
              1,
              "#f0f921"
             ]
            ],
            "type": "contour"
           }
          ],
          "contourcarpet": [
           {
            "colorbar": {
             "outlinewidth": 0,
             "ticks": ""
            },
            "type": "contourcarpet"
           }
          ],
          "heatmap": [
           {
            "colorbar": {
             "outlinewidth": 0,
             "ticks": ""
            },
            "colorscale": [
             [
              0,
              "#0d0887"
             ],
             [
              0.1111111111111111,
              "#46039f"
             ],
             [
              0.2222222222222222,
              "#7201a8"
             ],
             [
              0.3333333333333333,
              "#9c179e"
             ],
             [
              0.4444444444444444,
              "#bd3786"
             ],
             [
              0.5555555555555556,
              "#d8576b"
             ],
             [
              0.6666666666666666,
              "#ed7953"
             ],
             [
              0.7777777777777778,
              "#fb9f3a"
             ],
             [
              0.8888888888888888,
              "#fdca26"
             ],
             [
              1,
              "#f0f921"
             ]
            ],
            "type": "heatmap"
           }
          ],
          "heatmapgl": [
           {
            "colorbar": {
             "outlinewidth": 0,
             "ticks": ""
            },
            "colorscale": [
             [
              0,
              "#0d0887"
             ],
             [
              0.1111111111111111,
              "#46039f"
             ],
             [
              0.2222222222222222,
              "#7201a8"
             ],
             [
              0.3333333333333333,
              "#9c179e"
             ],
             [
              0.4444444444444444,
              "#bd3786"
             ],
             [
              0.5555555555555556,
              "#d8576b"
             ],
             [
              0.6666666666666666,
              "#ed7953"
             ],
             [
              0.7777777777777778,
              "#fb9f3a"
             ],
             [
              0.8888888888888888,
              "#fdca26"
             ],
             [
              1,
              "#f0f921"
             ]
            ],
            "type": "heatmapgl"
           }
          ],
          "histogram": [
           {
            "marker": {
             "pattern": {
              "fillmode": "overlay",
              "size": 10,
              "solidity": 0.2
             }
            },
            "type": "histogram"
           }
          ],
          "histogram2d": [
           {
            "colorbar": {
             "outlinewidth": 0,
             "ticks": ""
            },
            "colorscale": [
             [
              0,
              "#0d0887"
             ],
             [
              0.1111111111111111,
              "#46039f"
             ],
             [
              0.2222222222222222,
              "#7201a8"
             ],
             [
              0.3333333333333333,
              "#9c179e"
             ],
             [
              0.4444444444444444,
              "#bd3786"
             ],
             [
              0.5555555555555556,
              "#d8576b"
             ],
             [
              0.6666666666666666,
              "#ed7953"
             ],
             [
              0.7777777777777778,
              "#fb9f3a"
             ],
             [
              0.8888888888888888,
              "#fdca26"
             ],
             [
              1,
              "#f0f921"
             ]
            ],
            "type": "histogram2d"
           }
          ],
          "histogram2dcontour": [
           {
            "colorbar": {
             "outlinewidth": 0,
             "ticks": ""
            },
            "colorscale": [
             [
              0,
              "#0d0887"
             ],
             [
              0.1111111111111111,
              "#46039f"
             ],
             [
              0.2222222222222222,
              "#7201a8"
             ],
             [
              0.3333333333333333,
              "#9c179e"
             ],
             [
              0.4444444444444444,
              "#bd3786"
             ],
             [
              0.5555555555555556,
              "#d8576b"
             ],
             [
              0.6666666666666666,
              "#ed7953"
             ],
             [
              0.7777777777777778,
              "#fb9f3a"
             ],
             [
              0.8888888888888888,
              "#fdca26"
             ],
             [
              1,
              "#f0f921"
             ]
            ],
            "type": "histogram2dcontour"
           }
          ],
          "mesh3d": [
           {
            "colorbar": {
             "outlinewidth": 0,
             "ticks": ""
            },
            "type": "mesh3d"
           }
          ],
          "parcoords": [
           {
            "line": {
             "colorbar": {
              "outlinewidth": 0,
              "ticks": ""
             }
            },
            "type": "parcoords"
           }
          ],
          "pie": [
           {
            "automargin": true,
            "type": "pie"
           }
          ],
          "scatter": [
           {
            "fillpattern": {
             "fillmode": "overlay",
             "size": 10,
             "solidity": 0.2
            },
            "type": "scatter"
           }
          ],
          "scatter3d": [
           {
            "line": {
             "colorbar": {
              "outlinewidth": 0,
              "ticks": ""
             }
            },
            "marker": {
             "colorbar": {
              "outlinewidth": 0,
              "ticks": ""
             }
            },
            "type": "scatter3d"
           }
          ],
          "scattercarpet": [
           {
            "marker": {
             "colorbar": {
              "outlinewidth": 0,
              "ticks": ""
             }
            },
            "type": "scattercarpet"
           }
          ],
          "scattergeo": [
           {
            "marker": {
             "colorbar": {
              "outlinewidth": 0,
              "ticks": ""
             }
            },
            "type": "scattergeo"
           }
          ],
          "scattergl": [
           {
            "marker": {
             "colorbar": {
              "outlinewidth": 0,
              "ticks": ""
             }
            },
            "type": "scattergl"
           }
          ],
          "scattermapbox": [
           {
            "marker": {
             "colorbar": {
              "outlinewidth": 0,
              "ticks": ""
             }
            },
            "type": "scattermapbox"
           }
          ],
          "scatterpolar": [
           {
            "marker": {
             "colorbar": {
              "outlinewidth": 0,
              "ticks": ""
             }
            },
            "type": "scatterpolar"
           }
          ],
          "scatterpolargl": [
           {
            "marker": {
             "colorbar": {
              "outlinewidth": 0,
              "ticks": ""
             }
            },
            "type": "scatterpolargl"
           }
          ],
          "scatterternary": [
           {
            "marker": {
             "colorbar": {
              "outlinewidth": 0,
              "ticks": ""
             }
            },
            "type": "scatterternary"
           }
          ],
          "surface": [
           {
            "colorbar": {
             "outlinewidth": 0,
             "ticks": ""
            },
            "colorscale": [
             [
              0,
              "#0d0887"
             ],
             [
              0.1111111111111111,
              "#46039f"
             ],
             [
              0.2222222222222222,
              "#7201a8"
             ],
             [
              0.3333333333333333,
              "#9c179e"
             ],
             [
              0.4444444444444444,
              "#bd3786"
             ],
             [
              0.5555555555555556,
              "#d8576b"
             ],
             [
              0.6666666666666666,
              "#ed7953"
             ],
             [
              0.7777777777777778,
              "#fb9f3a"
             ],
             [
              0.8888888888888888,
              "#fdca26"
             ],
             [
              1,
              "#f0f921"
             ]
            ],
            "type": "surface"
           }
          ],
          "table": [
           {
            "cells": {
             "fill": {
              "color": "#EBF0F8"
             },
             "line": {
              "color": "white"
             }
            },
            "header": {
             "fill": {
              "color": "#C8D4E3"
             },
             "line": {
              "color": "white"
             }
            },
            "type": "table"
           }
          ]
         },
         "layout": {
          "annotationdefaults": {
           "arrowcolor": "#2a3f5f",
           "arrowhead": 0,
           "arrowwidth": 1
          },
          "autotypenumbers": "strict",
          "coloraxis": {
           "colorbar": {
            "outlinewidth": 0,
            "ticks": ""
           }
          },
          "colorscale": {
           "diverging": [
            [
             0,
             "#8e0152"
            ],
            [
             0.1,
             "#c51b7d"
            ],
            [
             0.2,
             "#de77ae"
            ],
            [
             0.3,
             "#f1b6da"
            ],
            [
             0.4,
             "#fde0ef"
            ],
            [
             0.5,
             "#f7f7f7"
            ],
            [
             0.6,
             "#e6f5d0"
            ],
            [
             0.7,
             "#b8e186"
            ],
            [
             0.8,
             "#7fbc41"
            ],
            [
             0.9,
             "#4d9221"
            ],
            [
             1,
             "#276419"
            ]
           ],
           "sequential": [
            [
             0,
             "#0d0887"
            ],
            [
             0.1111111111111111,
             "#46039f"
            ],
            [
             0.2222222222222222,
             "#7201a8"
            ],
            [
             0.3333333333333333,
             "#9c179e"
            ],
            [
             0.4444444444444444,
             "#bd3786"
            ],
            [
             0.5555555555555556,
             "#d8576b"
            ],
            [
             0.6666666666666666,
             "#ed7953"
            ],
            [
             0.7777777777777778,
             "#fb9f3a"
            ],
            [
             0.8888888888888888,
             "#fdca26"
            ],
            [
             1,
             "#f0f921"
            ]
           ],
           "sequentialminus": [
            [
             0,
             "#0d0887"
            ],
            [
             0.1111111111111111,
             "#46039f"
            ],
            [
             0.2222222222222222,
             "#7201a8"
            ],
            [
             0.3333333333333333,
             "#9c179e"
            ],
            [
             0.4444444444444444,
             "#bd3786"
            ],
            [
             0.5555555555555556,
             "#d8576b"
            ],
            [
             0.6666666666666666,
             "#ed7953"
            ],
            [
             0.7777777777777778,
             "#fb9f3a"
            ],
            [
             0.8888888888888888,
             "#fdca26"
            ],
            [
             1,
             "#f0f921"
            ]
           ]
          },
          "colorway": [
           "#636efa",
           "#EF553B",
           "#00cc96",
           "#ab63fa",
           "#FFA15A",
           "#19d3f3",
           "#FF6692",
           "#B6E880",
           "#FF97FF",
           "#FECB52"
          ],
          "font": {
           "color": "#2a3f5f"
          },
          "geo": {
           "bgcolor": "white",
           "lakecolor": "white",
           "landcolor": "#E5ECF6",
           "showlakes": true,
           "showland": true,
           "subunitcolor": "white"
          },
          "hoverlabel": {
           "align": "left"
          },
          "hovermode": "closest",
          "mapbox": {
           "style": "light"
          },
          "paper_bgcolor": "white",
          "plot_bgcolor": "#E5ECF6",
          "polar": {
           "angularaxis": {
            "gridcolor": "white",
            "linecolor": "white",
            "ticks": ""
           },
           "bgcolor": "#E5ECF6",
           "radialaxis": {
            "gridcolor": "white",
            "linecolor": "white",
            "ticks": ""
           }
          },
          "scene": {
           "xaxis": {
            "backgroundcolor": "#E5ECF6",
            "gridcolor": "white",
            "gridwidth": 2,
            "linecolor": "white",
            "showbackground": true,
            "ticks": "",
            "zerolinecolor": "white"
           },
           "yaxis": {
            "backgroundcolor": "#E5ECF6",
            "gridcolor": "white",
            "gridwidth": 2,
            "linecolor": "white",
            "showbackground": true,
            "ticks": "",
            "zerolinecolor": "white"
           },
           "zaxis": {
            "backgroundcolor": "#E5ECF6",
            "gridcolor": "white",
            "gridwidth": 2,
            "linecolor": "white",
            "showbackground": true,
            "ticks": "",
            "zerolinecolor": "white"
           }
          },
          "shapedefaults": {
           "line": {
            "color": "#2a3f5f"
           }
          },
          "ternary": {
           "aaxis": {
            "gridcolor": "white",
            "linecolor": "white",
            "ticks": ""
           },
           "baxis": {
            "gridcolor": "white",
            "linecolor": "white",
            "ticks": ""
           },
           "bgcolor": "#E5ECF6",
           "caxis": {
            "gridcolor": "white",
            "linecolor": "white",
            "ticks": ""
           }
          },
          "title": {
           "x": 0.05
          },
          "xaxis": {
           "automargin": true,
           "gridcolor": "white",
           "linecolor": "white",
           "ticks": "",
           "title": {
            "standoff": 15
           },
           "zerolinecolor": "white",
           "zerolinewidth": 2
          },
          "yaxis": {
           "automargin": true,
           "gridcolor": "white",
           "linecolor": "white",
           "ticks": "",
           "title": {
            "standoff": 15
           },
           "zerolinecolor": "white",
           "zerolinewidth": 2
          }
         }
        }
       }
      },
      "text/html": [
       "<div>                            <div id=\"8a4f38e2-3a84-4228-8bc3-eb0def1c271d\" class=\"plotly-graph-div\" style=\"height:525px; width:100%;\"></div>            <script type=\"text/javascript\">                require([\"plotly\"], function(Plotly) {                    window.PLOTLYENV=window.PLOTLYENV || {};                                    if (document.getElementById(\"8a4f38e2-3a84-4228-8bc3-eb0def1c271d\")) {                    Plotly.newPlot(                        \"8a4f38e2-3a84-4228-8bc3-eb0def1c271d\",                        [{\"coloraxis\":\"coloraxis\",\"geo\":\"geo\",\"hovertemplate\":\"<b>%{hovertext}</b><br><br>State=%{location}<br>Average Cotton Swabs Price=%{z}<extra></extra>\",\"hovertext\":[\"01040\",\"02114\",\"02122\",\"02865\",\"02886\",\"02917\",\"03063\",\"03110\",\"03840\",\"04086\",\"04401\",\"04952\",\"05403\",\"06042\",\"06241\",\"06901\",\"07047\",\"07310\",\"08865\",\"11217\",\"14020\",\"14850\",\"16601\",\"16803\",\"17013\",\"19103\",\"19148\",\"19808\",\"19901\",\"19931\",\"20886\",\"21009\",\"21030\",\"21704\",\"22305\",\"24151\",\"24487\",\"25309\",\"25526\",\"26059\",\"27609\",\"28104\",\"28704\",\"29607\",\"29621\",\"29680\",\"30189\",\"30324\",\"31525\",\"33403\",\"33428\",\"33463\",\"35226\",\"35601\",\"36526\",\"37801\",\"38017\",\"38133\",\"39159\",\"39213\",\"39402\",\"40241\",\"42104\",\"42301\",\"44870\",\"45236\",\"45249\",\"46237\",\"46383\",\"47401\",\"48374\",\"48507\",\"49855\",\"50009\",\"50702\",\"52404\",\"53085\",\"53207\",\"54235\",\"55066\",\"55403\",\"56601\",\"57110\",\"57401\",\"57701\",\"58103\",\"58563\",\"58701\",\"59718\",\"59901\",\"60014\",\"60610\",\"61401\",\"63010\",\"63033\",\"64114\",\"66062\",\"66111\",\"67401\",\"68073\",\"68116\",\"68123\",\"70816\",\"71111\",\"71301\",\"72032\",\"72703\",\"72903\",\"73034\",\"74055\",\"74133\",\"77840\",\"78717\",\"79707\",\"79707\",\"80108\",\"80202\",\"81401\",\"82009\",\"82609\",\"83001\",\"83704\",\"83713\",\"83815\",\"84095\",\"84121\",\"84660\",\"85207\",\"85748\",\"87114\",\"87124\",\"87402\",\"89183\",\"89434\",\"89705\",\"90065\",\"91730\",\"95330\",\"96734\",\"96740\",\"97217\",\"97303\",\"98101\",\"98233\",\"98614\",\"98626\",\"98901\",\"99515\",\"99654\"],\"locationmode\":\"USA-states\",\"locations\":[\"MA\",\"MA\",\"MA\",\"RI\",\"RI\",\"RI\",\"NH\",\"NH\",\"NH\",\"ME\",\"ME\",\"ME\",\"VT\",\"CT\",\"CT\",\"CT\",\"NJ\",\"NJ\",\"NJ\",\"NY\",\"NY\",\"NY\",\"PA\",\"\",\"PA\",\"PA\",\"\",\"DE\",\"DE\",\"DE\",\"Germantown\",\"MD\",\"MD\",\"MD\",\"VA\",\"VA\",\"VA\",\"WV\",\"WV\",\"WV\",\"NC\",\"NC\",\"NC\",\"SC\",\"SC\",\"SC\",\"GA\",\"GA\",\"GA\",\"FL\",\"FL\",\"FL\",\"AL\",\"AL\",\"AL\",\"TN\",\"TN\",\"TN\",\"MS\",\"MS\",\"MS\",\"KY\",\"KY\",\"KY\",\"OH\",\"OH\",\"OH\",\"IN\",\"IN\",\"IN\",\"MI\",\"MI\",\"MI\",\"IA\",\"IA\",\"IA\",\"WI\",\"WI\",\"WI\",\"MN\",\"MN\",\"MN\",\"SD\",\"SD\",\"SD\",\"ND\",\"ND\",\"ND\",\"MT\",\"MT\",\"IL\",\"IL\",\"IL\",\"MO\",\"MO\",\"MO\",\"KS\",\"KS\",\"KS\",\"NE\",\"NE\",\"NE\",\"LA\",\"LA\",\"LA\",\"AR\",\"AR\",\"AR\",\"OK\",\"OK\",\"OK\",\"TX\",\"TX\",\"TX\",\"TX\",\"CO\",\"CO\",\"CO\",\"WY\",\"WY\",\"WY\",\"ID\",\"ID\",\"ID\",\"UT\",\"UT\",\"UT\",\"AZ\",\"AZ\",\"NM\",\"NM\",\"NM\",\"NV\",\"NV\",\"NV\",\"CA\",\"CA\",\"CA\",\"HI\",\"HI\",\"OR\",\"OR\",\"WA\",\"WA\",\"WA\",\"WA\",\"WA\",\"AK\",\"AK\"],\"name\":\"\",\"z\":[3.39,3.39,3.39,3.39,3.39,3.39,3.39,3.39,3.39,3.39,3.39,3.39,3.39,3.39,3.39,3.39,3.39,3.39,3.39,3.39,3.39,3.39,3.39,null,3.39,3.39,null,3.39,3.39,3.39,3.39,3.39,3.39,3.39,3.39,3.39,3.39,3.39,3.39,3.39,3.39,3.39,3.39,3.39,3.39,3.39,3.39,3.39,3.39,3.39,3.39,3.39,3.39,3.39,3.39,3.3233333333333337,3.3233333333333337,3.3233333333333337,3.39,3.39,3.39,3.39,3.39,3.39,3.39,3.39,3.39,3.39,3.39,3.39,3.39,3.39,3.39,3.39,3.39,3.39,3.39,3.39,3.39,3.39,3.39,3.39,3.39,3.39,3.39,3.39,3.39,3.39,3.39,3.39,3.39,3.39,3.39,3.39,3.39,3.39,3.39,3.39,3.39,3.39,3.39,3.39,3.39,3.39,3.39,3.39,3.39,3.39,3.39,3.39,3.39,3.39,3.39,3.39,3.39,3.4233333333333333,3.4233333333333333,3.4233333333333333,3.4233333333333333,3.4233333333333333,3.4233333333333333,3.39,3.39,3.39,3.39,3.39,3.39,3.39,3.39,3.39,3.39,3.39,3.39,3.39,3.39,3.39,3.39,3.39,3.69,3.69,3.39,3.39,3.5100000000000002,3.5100000000000002,3.5100000000000002,3.5100000000000002,3.5100000000000002,4.29,4.29],\"type\":\"choropleth\"}],                        {\"template\":{\"data\":{\"histogram2dcontour\":[{\"type\":\"histogram2dcontour\",\"colorbar\":{\"outlinewidth\":0,\"ticks\":\"\"},\"colorscale\":[[0.0,\"#0d0887\"],[0.1111111111111111,\"#46039f\"],[0.2222222222222222,\"#7201a8\"],[0.3333333333333333,\"#9c179e\"],[0.4444444444444444,\"#bd3786\"],[0.5555555555555556,\"#d8576b\"],[0.6666666666666666,\"#ed7953\"],[0.7777777777777778,\"#fb9f3a\"],[0.8888888888888888,\"#fdca26\"],[1.0,\"#f0f921\"]]}],\"choropleth\":[{\"type\":\"choropleth\",\"colorbar\":{\"outlinewidth\":0,\"ticks\":\"\"}}],\"histogram2d\":[{\"type\":\"histogram2d\",\"colorbar\":{\"outlinewidth\":0,\"ticks\":\"\"},\"colorscale\":[[0.0,\"#0d0887\"],[0.1111111111111111,\"#46039f\"],[0.2222222222222222,\"#7201a8\"],[0.3333333333333333,\"#9c179e\"],[0.4444444444444444,\"#bd3786\"],[0.5555555555555556,\"#d8576b\"],[0.6666666666666666,\"#ed7953\"],[0.7777777777777778,\"#fb9f3a\"],[0.8888888888888888,\"#fdca26\"],[1.0,\"#f0f921\"]]}],\"heatmap\":[{\"type\":\"heatmap\",\"colorbar\":{\"outlinewidth\":0,\"ticks\":\"\"},\"colorscale\":[[0.0,\"#0d0887\"],[0.1111111111111111,\"#46039f\"],[0.2222222222222222,\"#7201a8\"],[0.3333333333333333,\"#9c179e\"],[0.4444444444444444,\"#bd3786\"],[0.5555555555555556,\"#d8576b\"],[0.6666666666666666,\"#ed7953\"],[0.7777777777777778,\"#fb9f3a\"],[0.8888888888888888,\"#fdca26\"],[1.0,\"#f0f921\"]]}],\"heatmapgl\":[{\"type\":\"heatmapgl\",\"colorbar\":{\"outlinewidth\":0,\"ticks\":\"\"},\"colorscale\":[[0.0,\"#0d0887\"],[0.1111111111111111,\"#46039f\"],[0.2222222222222222,\"#7201a8\"],[0.3333333333333333,\"#9c179e\"],[0.4444444444444444,\"#bd3786\"],[0.5555555555555556,\"#d8576b\"],[0.6666666666666666,\"#ed7953\"],[0.7777777777777778,\"#fb9f3a\"],[0.8888888888888888,\"#fdca26\"],[1.0,\"#f0f921\"]]}],\"contourcarpet\":[{\"type\":\"contourcarpet\",\"colorbar\":{\"outlinewidth\":0,\"ticks\":\"\"}}],\"contour\":[{\"type\":\"contour\",\"colorbar\":{\"outlinewidth\":0,\"ticks\":\"\"},\"colorscale\":[[0.0,\"#0d0887\"],[0.1111111111111111,\"#46039f\"],[0.2222222222222222,\"#7201a8\"],[0.3333333333333333,\"#9c179e\"],[0.4444444444444444,\"#bd3786\"],[0.5555555555555556,\"#d8576b\"],[0.6666666666666666,\"#ed7953\"],[0.7777777777777778,\"#fb9f3a\"],[0.8888888888888888,\"#fdca26\"],[1.0,\"#f0f921\"]]}],\"surface\":[{\"type\":\"surface\",\"colorbar\":{\"outlinewidth\":0,\"ticks\":\"\"},\"colorscale\":[[0.0,\"#0d0887\"],[0.1111111111111111,\"#46039f\"],[0.2222222222222222,\"#7201a8\"],[0.3333333333333333,\"#9c179e\"],[0.4444444444444444,\"#bd3786\"],[0.5555555555555556,\"#d8576b\"],[0.6666666666666666,\"#ed7953\"],[0.7777777777777778,\"#fb9f3a\"],[0.8888888888888888,\"#fdca26\"],[1.0,\"#f0f921\"]]}],\"mesh3d\":[{\"type\":\"mesh3d\",\"colorbar\":{\"outlinewidth\":0,\"ticks\":\"\"}}],\"scatter\":[{\"fillpattern\":{\"fillmode\":\"overlay\",\"size\":10,\"solidity\":0.2},\"type\":\"scatter\"}],\"parcoords\":[{\"type\":\"parcoords\",\"line\":{\"colorbar\":{\"outlinewidth\":0,\"ticks\":\"\"}}}],\"scatterpolargl\":[{\"type\":\"scatterpolargl\",\"marker\":{\"colorbar\":{\"outlinewidth\":0,\"ticks\":\"\"}}}],\"bar\":[{\"error_x\":{\"color\":\"#2a3f5f\"},\"error_y\":{\"color\":\"#2a3f5f\"},\"marker\":{\"line\":{\"color\":\"#E5ECF6\",\"width\":0.5},\"pattern\":{\"fillmode\":\"overlay\",\"size\":10,\"solidity\":0.2}},\"type\":\"bar\"}],\"scattergeo\":[{\"type\":\"scattergeo\",\"marker\":{\"colorbar\":{\"outlinewidth\":0,\"ticks\":\"\"}}}],\"scatterpolar\":[{\"type\":\"scatterpolar\",\"marker\":{\"colorbar\":{\"outlinewidth\":0,\"ticks\":\"\"}}}],\"histogram\":[{\"marker\":{\"pattern\":{\"fillmode\":\"overlay\",\"size\":10,\"solidity\":0.2}},\"type\":\"histogram\"}],\"scattergl\":[{\"type\":\"scattergl\",\"marker\":{\"colorbar\":{\"outlinewidth\":0,\"ticks\":\"\"}}}],\"scatter3d\":[{\"type\":\"scatter3d\",\"line\":{\"colorbar\":{\"outlinewidth\":0,\"ticks\":\"\"}},\"marker\":{\"colorbar\":{\"outlinewidth\":0,\"ticks\":\"\"}}}],\"scattermapbox\":[{\"type\":\"scattermapbox\",\"marker\":{\"colorbar\":{\"outlinewidth\":0,\"ticks\":\"\"}}}],\"scatterternary\":[{\"type\":\"scatterternary\",\"marker\":{\"colorbar\":{\"outlinewidth\":0,\"ticks\":\"\"}}}],\"scattercarpet\":[{\"type\":\"scattercarpet\",\"marker\":{\"colorbar\":{\"outlinewidth\":0,\"ticks\":\"\"}}}],\"carpet\":[{\"aaxis\":{\"endlinecolor\":\"#2a3f5f\",\"gridcolor\":\"white\",\"linecolor\":\"white\",\"minorgridcolor\":\"white\",\"startlinecolor\":\"#2a3f5f\"},\"baxis\":{\"endlinecolor\":\"#2a3f5f\",\"gridcolor\":\"white\",\"linecolor\":\"white\",\"minorgridcolor\":\"white\",\"startlinecolor\":\"#2a3f5f\"},\"type\":\"carpet\"}],\"table\":[{\"cells\":{\"fill\":{\"color\":\"#EBF0F8\"},\"line\":{\"color\":\"white\"}},\"header\":{\"fill\":{\"color\":\"#C8D4E3\"},\"line\":{\"color\":\"white\"}},\"type\":\"table\"}],\"barpolar\":[{\"marker\":{\"line\":{\"color\":\"#E5ECF6\",\"width\":0.5},\"pattern\":{\"fillmode\":\"overlay\",\"size\":10,\"solidity\":0.2}},\"type\":\"barpolar\"}],\"pie\":[{\"automargin\":true,\"type\":\"pie\"}]},\"layout\":{\"autotypenumbers\":\"strict\",\"colorway\":[\"#636efa\",\"#EF553B\",\"#00cc96\",\"#ab63fa\",\"#FFA15A\",\"#19d3f3\",\"#FF6692\",\"#B6E880\",\"#FF97FF\",\"#FECB52\"],\"font\":{\"color\":\"#2a3f5f\"},\"hovermode\":\"closest\",\"hoverlabel\":{\"align\":\"left\"},\"paper_bgcolor\":\"white\",\"plot_bgcolor\":\"#E5ECF6\",\"polar\":{\"bgcolor\":\"#E5ECF6\",\"angularaxis\":{\"gridcolor\":\"white\",\"linecolor\":\"white\",\"ticks\":\"\"},\"radialaxis\":{\"gridcolor\":\"white\",\"linecolor\":\"white\",\"ticks\":\"\"}},\"ternary\":{\"bgcolor\":\"#E5ECF6\",\"aaxis\":{\"gridcolor\":\"white\",\"linecolor\":\"white\",\"ticks\":\"\"},\"baxis\":{\"gridcolor\":\"white\",\"linecolor\":\"white\",\"ticks\":\"\"},\"caxis\":{\"gridcolor\":\"white\",\"linecolor\":\"white\",\"ticks\":\"\"}},\"coloraxis\":{\"colorbar\":{\"outlinewidth\":0,\"ticks\":\"\"}},\"colorscale\":{\"sequential\":[[0.0,\"#0d0887\"],[0.1111111111111111,\"#46039f\"],[0.2222222222222222,\"#7201a8\"],[0.3333333333333333,\"#9c179e\"],[0.4444444444444444,\"#bd3786\"],[0.5555555555555556,\"#d8576b\"],[0.6666666666666666,\"#ed7953\"],[0.7777777777777778,\"#fb9f3a\"],[0.8888888888888888,\"#fdca26\"],[1.0,\"#f0f921\"]],\"sequentialminus\":[[0.0,\"#0d0887\"],[0.1111111111111111,\"#46039f\"],[0.2222222222222222,\"#7201a8\"],[0.3333333333333333,\"#9c179e\"],[0.4444444444444444,\"#bd3786\"],[0.5555555555555556,\"#d8576b\"],[0.6666666666666666,\"#ed7953\"],[0.7777777777777778,\"#fb9f3a\"],[0.8888888888888888,\"#fdca26\"],[1.0,\"#f0f921\"]],\"diverging\":[[0,\"#8e0152\"],[0.1,\"#c51b7d\"],[0.2,\"#de77ae\"],[0.3,\"#f1b6da\"],[0.4,\"#fde0ef\"],[0.5,\"#f7f7f7\"],[0.6,\"#e6f5d0\"],[0.7,\"#b8e186\"],[0.8,\"#7fbc41\"],[0.9,\"#4d9221\"],[1,\"#276419\"]]},\"xaxis\":{\"gridcolor\":\"white\",\"linecolor\":\"white\",\"ticks\":\"\",\"title\":{\"standoff\":15},\"zerolinecolor\":\"white\",\"automargin\":true,\"zerolinewidth\":2},\"yaxis\":{\"gridcolor\":\"white\",\"linecolor\":\"white\",\"ticks\":\"\",\"title\":{\"standoff\":15},\"zerolinecolor\":\"white\",\"automargin\":true,\"zerolinewidth\":2},\"scene\":{\"xaxis\":{\"backgroundcolor\":\"#E5ECF6\",\"gridcolor\":\"white\",\"linecolor\":\"white\",\"showbackground\":true,\"ticks\":\"\",\"zerolinecolor\":\"white\",\"gridwidth\":2},\"yaxis\":{\"backgroundcolor\":\"#E5ECF6\",\"gridcolor\":\"white\",\"linecolor\":\"white\",\"showbackground\":true,\"ticks\":\"\",\"zerolinecolor\":\"white\",\"gridwidth\":2},\"zaxis\":{\"backgroundcolor\":\"#E5ECF6\",\"gridcolor\":\"white\",\"linecolor\":\"white\",\"showbackground\":true,\"ticks\":\"\",\"zerolinecolor\":\"white\",\"gridwidth\":2}},\"shapedefaults\":{\"line\":{\"color\":\"#2a3f5f\"}},\"annotationdefaults\":{\"arrowcolor\":\"#2a3f5f\",\"arrowhead\":0,\"arrowwidth\":1},\"geo\":{\"bgcolor\":\"white\",\"landcolor\":\"#E5ECF6\",\"subunitcolor\":\"white\",\"showland\":true,\"showlakes\":true,\"lakecolor\":\"white\"},\"title\":{\"x\":0.05},\"mapbox\":{\"style\":\"light\"}}},\"geo\":{\"domain\":{\"x\":[0.0,1.0],\"y\":[0.0,1.0]},\"center\":{},\"scope\":\"usa\"},\"coloraxis\":{\"colorbar\":{\"title\":{\"text\":\"Average Cotton Swabs Price\"}},\"colorscale\":[[0.0,\"#0d0887\"],[0.1111111111111111,\"#46039f\"],[0.2222222222222222,\"#7201a8\"],[0.3333333333333333,\"#9c179e\"],[0.4444444444444444,\"#bd3786\"],[0.5555555555555556,\"#d8576b\"],[0.6666666666666666,\"#ed7953\"],[0.7777777777777778,\"#fb9f3a\"],[0.8888888888888888,\"#fdca26\"],[1.0,\"#f0f921\"]]},\"legend\":{\"tracegroupgap\":0},\"margin\":{\"t\":60}},                        {\"responsive\": true}                    ).then(function(){\n",
       "                            \n",
       "var gd = document.getElementById('8a4f38e2-3a84-4228-8bc3-eb0def1c271d');\n",
       "var x = new MutationObserver(function (mutations, observer) {{\n",
       "        var display = window.getComputedStyle(gd).display;\n",
       "        if (!display || display === 'none') {{\n",
       "            console.log([gd, 'removed!']);\n",
       "            Plotly.purge(gd);\n",
       "            observer.disconnect();\n",
       "        }}\n",
       "}});\n",
       "\n",
       "// Listen for the removal of the full notebook cells\n",
       "var notebookContainer = gd.closest('#notebook-container');\n",
       "if (notebookContainer) {{\n",
       "    x.observe(notebookContainer, {childList: true});\n",
       "}}\n",
       "\n",
       "// Listen for the clearing of the current output cell\n",
       "var outputEl = gd.closest('.output');\n",
       "if (outputEl) {{\n",
       "    x.observe(outputEl, {childList: true});\n",
       "}}\n",
       "\n",
       "                        })                };                });            </script>        </div>"
      ]
     },
     "metadata": {},
     "output_type": "display_data"
    },
    {
     "data": {
      "application/vnd.plotly.v1+json": {
       "config": {
        "plotlyServerURL": "https://plot.ly"
       },
       "data": [
        {
         "coloraxis": "coloraxis",
         "geo": "geo",
         "hovertemplate": "<b>%{hovertext}</b><br><br>State=%{location}<br>Average Diapers Price=%{z}<extra></extra>",
         "hovertext": [
          "01040",
          "02114",
          "02122",
          "02865",
          "02886",
          "02917",
          "03063",
          "03110",
          "03840",
          "04086",
          "04401",
          "04952",
          "05403",
          "06042",
          "06241",
          "06901",
          "07047",
          "07310",
          "08865",
          "11217",
          "14020",
          "14850",
          "16601",
          "16803",
          "17013",
          "19103",
          "19148",
          "19808",
          "19901",
          "19931",
          "20886",
          "21009",
          "21030",
          "21704",
          "22305",
          "24151",
          "24487",
          "25309",
          "25526",
          "26059",
          "27609",
          "28104",
          "28704",
          "29607",
          "29621",
          "29680",
          "30189",
          "30324",
          "31525",
          "33403",
          "33428",
          "33463",
          "35226",
          "35601",
          "36526",
          "37801",
          "38017",
          "38133",
          "39159",
          "39213",
          "39402",
          "40241",
          "42104",
          "42301",
          "44870",
          "45236",
          "45249",
          "46237",
          "46383",
          "47401",
          "48374",
          "48507",
          "49855",
          "50009",
          "50702",
          "52404",
          "53085",
          "53207",
          "54235",
          "55066",
          "55403",
          "56601",
          "57110",
          "57401",
          "57701",
          "58103",
          "58563",
          "58701",
          "59718",
          "59901",
          "60014",
          "60610",
          "61401",
          "63010",
          "63033",
          "64114",
          "66062",
          "66111",
          "67401",
          "68073",
          "68116",
          "68123",
          "70816",
          "71111",
          "71301",
          "72032",
          "72703",
          "72903",
          "73034",
          "74055",
          "74133",
          "77840",
          "78717",
          "79707",
          "79707",
          "80108",
          "80202",
          "81401",
          "82009",
          "82609",
          "83001",
          "83704",
          "83713",
          "83815",
          "84095",
          "84121",
          "84660",
          "85207",
          "85748",
          "87114",
          "87124",
          "87402",
          "89183",
          "89434",
          "89705",
          "90065",
          "91730",
          "95330",
          "96734",
          "96740",
          "97217",
          "97303",
          "98101",
          "98233",
          "98614",
          "98626",
          "98901",
          "99515",
          "99654"
         ],
         "locationmode": "USA-states",
         "locations": [
          "MA",
          "MA",
          "MA",
          "RI",
          "RI",
          "RI",
          "NH",
          "NH",
          "NH",
          "ME",
          "ME",
          "ME",
          "VT",
          "CT",
          "CT",
          "CT",
          "NJ",
          "NJ",
          "NJ",
          "NY",
          "NY",
          "NY",
          "PA",
          "",
          "PA",
          "PA",
          "",
          "DE",
          "DE",
          "DE",
          "Germantown",
          "MD",
          "MD",
          "MD",
          "VA",
          "VA",
          "VA",
          "WV",
          "WV",
          "WV",
          "NC",
          "NC",
          "NC",
          "SC",
          "SC",
          "SC",
          "GA",
          "GA",
          "GA",
          "FL",
          "FL",
          "FL",
          "AL",
          "AL",
          "AL",
          "TN",
          "TN",
          "TN",
          "MS",
          "MS",
          "MS",
          "KY",
          "KY",
          "KY",
          "OH",
          "OH",
          "OH",
          "IN",
          "IN",
          "IN",
          "MI",
          "MI",
          "MI",
          "IA",
          "IA",
          "IA",
          "WI",
          "WI",
          "WI",
          "MN",
          "MN",
          "MN",
          "SD",
          "SD",
          "SD",
          "ND",
          "ND",
          "ND",
          "MT",
          "MT",
          "IL",
          "IL",
          "IL",
          "MO",
          "MO",
          "MO",
          "KS",
          "KS",
          "KS",
          "NE",
          "NE",
          "NE",
          "LA",
          "LA",
          "LA",
          "AR",
          "AR",
          "AR",
          "OK",
          "OK",
          "OK",
          "TX",
          "TX",
          "TX",
          "TX",
          "CO",
          "CO",
          "CO",
          "WY",
          "WY",
          "WY",
          "ID",
          "ID",
          "ID",
          "UT",
          "UT",
          "UT",
          "AZ",
          "AZ",
          "NM",
          "NM",
          "NM",
          "NV",
          "NV",
          "NV",
          "CA",
          "CA",
          "CA",
          "HI",
          "HI",
          "OR",
          "OR",
          "WA",
          "WA",
          "WA",
          "WA",
          "WA",
          "AK",
          "AK"
         ],
         "name": "",
         "type": "choropleth",
         "z": [
          44.99,
          44.99,
          44.99,
          44.99,
          44.99,
          44.99,
          44.99,
          44.99,
          44.99,
          44.99,
          44.99,
          44.99,
          44.99,
          44.99,
          44.99,
          44.99,
          44.99,
          44.99,
          44.99,
          44.99,
          44.99,
          44.99,
          44.99,
          null,
          44.99,
          44.99,
          null,
          44.99,
          44.99,
          44.99,
          null,
          44.99,
          44.99,
          44.99,
          44.99,
          44.99,
          44.99,
          44.99,
          44.99,
          44.99,
          44.99,
          44.99,
          44.99,
          44.99,
          44.99,
          44.99,
          44.99,
          44.99,
          44.99,
          44.99,
          44.99,
          44.99,
          44.99,
          44.99,
          44.99,
          44.99,
          44.99,
          44.99,
          44.99,
          44.99,
          44.99,
          44.99,
          44.99,
          44.99,
          44.99,
          44.99,
          44.99,
          44.99,
          44.99,
          44.99,
          44.99,
          44.99,
          44.99,
          44.99,
          44.99,
          44.99,
          44.99,
          44.99,
          44.99,
          44.99,
          44.99,
          44.99,
          44.99,
          44.99,
          44.99,
          44.99,
          44.99,
          44.99,
          44.99,
          44.99,
          44.99,
          44.99,
          44.99,
          44.99,
          44.99,
          44.99,
          44.99,
          44.99,
          44.99,
          44.99,
          44.99,
          44.99,
          44.99,
          44.99,
          44.99,
          44.99,
          44.99,
          44.99,
          44.99,
          44.99,
          44.99,
          44.99,
          44.99,
          44.99,
          44.99,
          44.99,
          44.99,
          44.99,
          44.99,
          44.99,
          44.99,
          44.99,
          44.99,
          44.99,
          44.99,
          44.99,
          44.99,
          44.99,
          44.99,
          44.99,
          44.99,
          44.99,
          44.99,
          44.99,
          44.99,
          44.99,
          44.99,
          44.99,
          44.99,
          44.99,
          44.99,
          44.99,
          44.99,
          44.99,
          44.99,
          44.99,
          44.99,
          44.99,
          44.99
         ]
        }
       ],
       "layout": {
        "coloraxis": {
         "colorbar": {
          "title": {
           "text": "Average Diapers Price"
          }
         },
         "colorscale": [
          [
           0,
           "#0d0887"
          ],
          [
           0.1111111111111111,
           "#46039f"
          ],
          [
           0.2222222222222222,
           "#7201a8"
          ],
          [
           0.3333333333333333,
           "#9c179e"
          ],
          [
           0.4444444444444444,
           "#bd3786"
          ],
          [
           0.5555555555555556,
           "#d8576b"
          ],
          [
           0.6666666666666666,
           "#ed7953"
          ],
          [
           0.7777777777777778,
           "#fb9f3a"
          ],
          [
           0.8888888888888888,
           "#fdca26"
          ],
          [
           1,
           "#f0f921"
          ]
         ]
        },
        "geo": {
         "center": {},
         "domain": {
          "x": [
           0,
           1
          ],
          "y": [
           0,
           1
          ]
         },
         "scope": "usa"
        },
        "legend": {
         "tracegroupgap": 0
        },
        "margin": {
         "t": 60
        },
        "template": {
         "data": {
          "bar": [
           {
            "error_x": {
             "color": "#2a3f5f"
            },
            "error_y": {
             "color": "#2a3f5f"
            },
            "marker": {
             "line": {
              "color": "#E5ECF6",
              "width": 0.5
             },
             "pattern": {
              "fillmode": "overlay",
              "size": 10,
              "solidity": 0.2
             }
            },
            "type": "bar"
           }
          ],
          "barpolar": [
           {
            "marker": {
             "line": {
              "color": "#E5ECF6",
              "width": 0.5
             },
             "pattern": {
              "fillmode": "overlay",
              "size": 10,
              "solidity": 0.2
             }
            },
            "type": "barpolar"
           }
          ],
          "carpet": [
           {
            "aaxis": {
             "endlinecolor": "#2a3f5f",
             "gridcolor": "white",
             "linecolor": "white",
             "minorgridcolor": "white",
             "startlinecolor": "#2a3f5f"
            },
            "baxis": {
             "endlinecolor": "#2a3f5f",
             "gridcolor": "white",
             "linecolor": "white",
             "minorgridcolor": "white",
             "startlinecolor": "#2a3f5f"
            },
            "type": "carpet"
           }
          ],
          "choropleth": [
           {
            "colorbar": {
             "outlinewidth": 0,
             "ticks": ""
            },
            "type": "choropleth"
           }
          ],
          "contour": [
           {
            "colorbar": {
             "outlinewidth": 0,
             "ticks": ""
            },
            "colorscale": [
             [
              0,
              "#0d0887"
             ],
             [
              0.1111111111111111,
              "#46039f"
             ],
             [
              0.2222222222222222,
              "#7201a8"
             ],
             [
              0.3333333333333333,
              "#9c179e"
             ],
             [
              0.4444444444444444,
              "#bd3786"
             ],
             [
              0.5555555555555556,
              "#d8576b"
             ],
             [
              0.6666666666666666,
              "#ed7953"
             ],
             [
              0.7777777777777778,
              "#fb9f3a"
             ],
             [
              0.8888888888888888,
              "#fdca26"
             ],
             [
              1,
              "#f0f921"
             ]
            ],
            "type": "contour"
           }
          ],
          "contourcarpet": [
           {
            "colorbar": {
             "outlinewidth": 0,
             "ticks": ""
            },
            "type": "contourcarpet"
           }
          ],
          "heatmap": [
           {
            "colorbar": {
             "outlinewidth": 0,
             "ticks": ""
            },
            "colorscale": [
             [
              0,
              "#0d0887"
             ],
             [
              0.1111111111111111,
              "#46039f"
             ],
             [
              0.2222222222222222,
              "#7201a8"
             ],
             [
              0.3333333333333333,
              "#9c179e"
             ],
             [
              0.4444444444444444,
              "#bd3786"
             ],
             [
              0.5555555555555556,
              "#d8576b"
             ],
             [
              0.6666666666666666,
              "#ed7953"
             ],
             [
              0.7777777777777778,
              "#fb9f3a"
             ],
             [
              0.8888888888888888,
              "#fdca26"
             ],
             [
              1,
              "#f0f921"
             ]
            ],
            "type": "heatmap"
           }
          ],
          "heatmapgl": [
           {
            "colorbar": {
             "outlinewidth": 0,
             "ticks": ""
            },
            "colorscale": [
             [
              0,
              "#0d0887"
             ],
             [
              0.1111111111111111,
              "#46039f"
             ],
             [
              0.2222222222222222,
              "#7201a8"
             ],
             [
              0.3333333333333333,
              "#9c179e"
             ],
             [
              0.4444444444444444,
              "#bd3786"
             ],
             [
              0.5555555555555556,
              "#d8576b"
             ],
             [
              0.6666666666666666,
              "#ed7953"
             ],
             [
              0.7777777777777778,
              "#fb9f3a"
             ],
             [
              0.8888888888888888,
              "#fdca26"
             ],
             [
              1,
              "#f0f921"
             ]
            ],
            "type": "heatmapgl"
           }
          ],
          "histogram": [
           {
            "marker": {
             "pattern": {
              "fillmode": "overlay",
              "size": 10,
              "solidity": 0.2
             }
            },
            "type": "histogram"
           }
          ],
          "histogram2d": [
           {
            "colorbar": {
             "outlinewidth": 0,
             "ticks": ""
            },
            "colorscale": [
             [
              0,
              "#0d0887"
             ],
             [
              0.1111111111111111,
              "#46039f"
             ],
             [
              0.2222222222222222,
              "#7201a8"
             ],
             [
              0.3333333333333333,
              "#9c179e"
             ],
             [
              0.4444444444444444,
              "#bd3786"
             ],
             [
              0.5555555555555556,
              "#d8576b"
             ],
             [
              0.6666666666666666,
              "#ed7953"
             ],
             [
              0.7777777777777778,
              "#fb9f3a"
             ],
             [
              0.8888888888888888,
              "#fdca26"
             ],
             [
              1,
              "#f0f921"
             ]
            ],
            "type": "histogram2d"
           }
          ],
          "histogram2dcontour": [
           {
            "colorbar": {
             "outlinewidth": 0,
             "ticks": ""
            },
            "colorscale": [
             [
              0,
              "#0d0887"
             ],
             [
              0.1111111111111111,
              "#46039f"
             ],
             [
              0.2222222222222222,
              "#7201a8"
             ],
             [
              0.3333333333333333,
              "#9c179e"
             ],
             [
              0.4444444444444444,
              "#bd3786"
             ],
             [
              0.5555555555555556,
              "#d8576b"
             ],
             [
              0.6666666666666666,
              "#ed7953"
             ],
             [
              0.7777777777777778,
              "#fb9f3a"
             ],
             [
              0.8888888888888888,
              "#fdca26"
             ],
             [
              1,
              "#f0f921"
             ]
            ],
            "type": "histogram2dcontour"
           }
          ],
          "mesh3d": [
           {
            "colorbar": {
             "outlinewidth": 0,
             "ticks": ""
            },
            "type": "mesh3d"
           }
          ],
          "parcoords": [
           {
            "line": {
             "colorbar": {
              "outlinewidth": 0,
              "ticks": ""
             }
            },
            "type": "parcoords"
           }
          ],
          "pie": [
           {
            "automargin": true,
            "type": "pie"
           }
          ],
          "scatter": [
           {
            "fillpattern": {
             "fillmode": "overlay",
             "size": 10,
             "solidity": 0.2
            },
            "type": "scatter"
           }
          ],
          "scatter3d": [
           {
            "line": {
             "colorbar": {
              "outlinewidth": 0,
              "ticks": ""
             }
            },
            "marker": {
             "colorbar": {
              "outlinewidth": 0,
              "ticks": ""
             }
            },
            "type": "scatter3d"
           }
          ],
          "scattercarpet": [
           {
            "marker": {
             "colorbar": {
              "outlinewidth": 0,
              "ticks": ""
             }
            },
            "type": "scattercarpet"
           }
          ],
          "scattergeo": [
           {
            "marker": {
             "colorbar": {
              "outlinewidth": 0,
              "ticks": ""
             }
            },
            "type": "scattergeo"
           }
          ],
          "scattergl": [
           {
            "marker": {
             "colorbar": {
              "outlinewidth": 0,
              "ticks": ""
             }
            },
            "type": "scattergl"
           }
          ],
          "scattermapbox": [
           {
            "marker": {
             "colorbar": {
              "outlinewidth": 0,
              "ticks": ""
             }
            },
            "type": "scattermapbox"
           }
          ],
          "scatterpolar": [
           {
            "marker": {
             "colorbar": {
              "outlinewidth": 0,
              "ticks": ""
             }
            },
            "type": "scatterpolar"
           }
          ],
          "scatterpolargl": [
           {
            "marker": {
             "colorbar": {
              "outlinewidth": 0,
              "ticks": ""
             }
            },
            "type": "scatterpolargl"
           }
          ],
          "scatterternary": [
           {
            "marker": {
             "colorbar": {
              "outlinewidth": 0,
              "ticks": ""
             }
            },
            "type": "scatterternary"
           }
          ],
          "surface": [
           {
            "colorbar": {
             "outlinewidth": 0,
             "ticks": ""
            },
            "colorscale": [
             [
              0,
              "#0d0887"
             ],
             [
              0.1111111111111111,
              "#46039f"
             ],
             [
              0.2222222222222222,
              "#7201a8"
             ],
             [
              0.3333333333333333,
              "#9c179e"
             ],
             [
              0.4444444444444444,
              "#bd3786"
             ],
             [
              0.5555555555555556,
              "#d8576b"
             ],
             [
              0.6666666666666666,
              "#ed7953"
             ],
             [
              0.7777777777777778,
              "#fb9f3a"
             ],
             [
              0.8888888888888888,
              "#fdca26"
             ],
             [
              1,
              "#f0f921"
             ]
            ],
            "type": "surface"
           }
          ],
          "table": [
           {
            "cells": {
             "fill": {
              "color": "#EBF0F8"
             },
             "line": {
              "color": "white"
             }
            },
            "header": {
             "fill": {
              "color": "#C8D4E3"
             },
             "line": {
              "color": "white"
             }
            },
            "type": "table"
           }
          ]
         },
         "layout": {
          "annotationdefaults": {
           "arrowcolor": "#2a3f5f",
           "arrowhead": 0,
           "arrowwidth": 1
          },
          "autotypenumbers": "strict",
          "coloraxis": {
           "colorbar": {
            "outlinewidth": 0,
            "ticks": ""
           }
          },
          "colorscale": {
           "diverging": [
            [
             0,
             "#8e0152"
            ],
            [
             0.1,
             "#c51b7d"
            ],
            [
             0.2,
             "#de77ae"
            ],
            [
             0.3,
             "#f1b6da"
            ],
            [
             0.4,
             "#fde0ef"
            ],
            [
             0.5,
             "#f7f7f7"
            ],
            [
             0.6,
             "#e6f5d0"
            ],
            [
             0.7,
             "#b8e186"
            ],
            [
             0.8,
             "#7fbc41"
            ],
            [
             0.9,
             "#4d9221"
            ],
            [
             1,
             "#276419"
            ]
           ],
           "sequential": [
            [
             0,
             "#0d0887"
            ],
            [
             0.1111111111111111,
             "#46039f"
            ],
            [
             0.2222222222222222,
             "#7201a8"
            ],
            [
             0.3333333333333333,
             "#9c179e"
            ],
            [
             0.4444444444444444,
             "#bd3786"
            ],
            [
             0.5555555555555556,
             "#d8576b"
            ],
            [
             0.6666666666666666,
             "#ed7953"
            ],
            [
             0.7777777777777778,
             "#fb9f3a"
            ],
            [
             0.8888888888888888,
             "#fdca26"
            ],
            [
             1,
             "#f0f921"
            ]
           ],
           "sequentialminus": [
            [
             0,
             "#0d0887"
            ],
            [
             0.1111111111111111,
             "#46039f"
            ],
            [
             0.2222222222222222,
             "#7201a8"
            ],
            [
             0.3333333333333333,
             "#9c179e"
            ],
            [
             0.4444444444444444,
             "#bd3786"
            ],
            [
             0.5555555555555556,
             "#d8576b"
            ],
            [
             0.6666666666666666,
             "#ed7953"
            ],
            [
             0.7777777777777778,
             "#fb9f3a"
            ],
            [
             0.8888888888888888,
             "#fdca26"
            ],
            [
             1,
             "#f0f921"
            ]
           ]
          },
          "colorway": [
           "#636efa",
           "#EF553B",
           "#00cc96",
           "#ab63fa",
           "#FFA15A",
           "#19d3f3",
           "#FF6692",
           "#B6E880",
           "#FF97FF",
           "#FECB52"
          ],
          "font": {
           "color": "#2a3f5f"
          },
          "geo": {
           "bgcolor": "white",
           "lakecolor": "white",
           "landcolor": "#E5ECF6",
           "showlakes": true,
           "showland": true,
           "subunitcolor": "white"
          },
          "hoverlabel": {
           "align": "left"
          },
          "hovermode": "closest",
          "mapbox": {
           "style": "light"
          },
          "paper_bgcolor": "white",
          "plot_bgcolor": "#E5ECF6",
          "polar": {
           "angularaxis": {
            "gridcolor": "white",
            "linecolor": "white",
            "ticks": ""
           },
           "bgcolor": "#E5ECF6",
           "radialaxis": {
            "gridcolor": "white",
            "linecolor": "white",
            "ticks": ""
           }
          },
          "scene": {
           "xaxis": {
            "backgroundcolor": "#E5ECF6",
            "gridcolor": "white",
            "gridwidth": 2,
            "linecolor": "white",
            "showbackground": true,
            "ticks": "",
            "zerolinecolor": "white"
           },
           "yaxis": {
            "backgroundcolor": "#E5ECF6",
            "gridcolor": "white",
            "gridwidth": 2,
            "linecolor": "white",
            "showbackground": true,
            "ticks": "",
            "zerolinecolor": "white"
           },
           "zaxis": {
            "backgroundcolor": "#E5ECF6",
            "gridcolor": "white",
            "gridwidth": 2,
            "linecolor": "white",
            "showbackground": true,
            "ticks": "",
            "zerolinecolor": "white"
           }
          },
          "shapedefaults": {
           "line": {
            "color": "#2a3f5f"
           }
          },
          "ternary": {
           "aaxis": {
            "gridcolor": "white",
            "linecolor": "white",
            "ticks": ""
           },
           "baxis": {
            "gridcolor": "white",
            "linecolor": "white",
            "ticks": ""
           },
           "bgcolor": "#E5ECF6",
           "caxis": {
            "gridcolor": "white",
            "linecolor": "white",
            "ticks": ""
           }
          },
          "title": {
           "x": 0.05
          },
          "xaxis": {
           "automargin": true,
           "gridcolor": "white",
           "linecolor": "white",
           "ticks": "",
           "title": {
            "standoff": 15
           },
           "zerolinecolor": "white",
           "zerolinewidth": 2
          },
          "yaxis": {
           "automargin": true,
           "gridcolor": "white",
           "linecolor": "white",
           "ticks": "",
           "title": {
            "standoff": 15
           },
           "zerolinecolor": "white",
           "zerolinewidth": 2
          }
         }
        }
       }
      },
      "text/html": [
       "<div>                            <div id=\"a2b28604-1fe6-4525-ac9b-c9eb223cb980\" class=\"plotly-graph-div\" style=\"height:525px; width:100%;\"></div>            <script type=\"text/javascript\">                require([\"plotly\"], function(Plotly) {                    window.PLOTLYENV=window.PLOTLYENV || {};                                    if (document.getElementById(\"a2b28604-1fe6-4525-ac9b-c9eb223cb980\")) {                    Plotly.newPlot(                        \"a2b28604-1fe6-4525-ac9b-c9eb223cb980\",                        [{\"coloraxis\":\"coloraxis\",\"geo\":\"geo\",\"hovertemplate\":\"<b>%{hovertext}</b><br><br>State=%{location}<br>Average Diapers Price=%{z}<extra></extra>\",\"hovertext\":[\"01040\",\"02114\",\"02122\",\"02865\",\"02886\",\"02917\",\"03063\",\"03110\",\"03840\",\"04086\",\"04401\",\"04952\",\"05403\",\"06042\",\"06241\",\"06901\",\"07047\",\"07310\",\"08865\",\"11217\",\"14020\",\"14850\",\"16601\",\"16803\",\"17013\",\"19103\",\"19148\",\"19808\",\"19901\",\"19931\",\"20886\",\"21009\",\"21030\",\"21704\",\"22305\",\"24151\",\"24487\",\"25309\",\"25526\",\"26059\",\"27609\",\"28104\",\"28704\",\"29607\",\"29621\",\"29680\",\"30189\",\"30324\",\"31525\",\"33403\",\"33428\",\"33463\",\"35226\",\"35601\",\"36526\",\"37801\",\"38017\",\"38133\",\"39159\",\"39213\",\"39402\",\"40241\",\"42104\",\"42301\",\"44870\",\"45236\",\"45249\",\"46237\",\"46383\",\"47401\",\"48374\",\"48507\",\"49855\",\"50009\",\"50702\",\"52404\",\"53085\",\"53207\",\"54235\",\"55066\",\"55403\",\"56601\",\"57110\",\"57401\",\"57701\",\"58103\",\"58563\",\"58701\",\"59718\",\"59901\",\"60014\",\"60610\",\"61401\",\"63010\",\"63033\",\"64114\",\"66062\",\"66111\",\"67401\",\"68073\",\"68116\",\"68123\",\"70816\",\"71111\",\"71301\",\"72032\",\"72703\",\"72903\",\"73034\",\"74055\",\"74133\",\"77840\",\"78717\",\"79707\",\"79707\",\"80108\",\"80202\",\"81401\",\"82009\",\"82609\",\"83001\",\"83704\",\"83713\",\"83815\",\"84095\",\"84121\",\"84660\",\"85207\",\"85748\",\"87114\",\"87124\",\"87402\",\"89183\",\"89434\",\"89705\",\"90065\",\"91730\",\"95330\",\"96734\",\"96740\",\"97217\",\"97303\",\"98101\",\"98233\",\"98614\",\"98626\",\"98901\",\"99515\",\"99654\"],\"locationmode\":\"USA-states\",\"locations\":[\"MA\",\"MA\",\"MA\",\"RI\",\"RI\",\"RI\",\"NH\",\"NH\",\"NH\",\"ME\",\"ME\",\"ME\",\"VT\",\"CT\",\"CT\",\"CT\",\"NJ\",\"NJ\",\"NJ\",\"NY\",\"NY\",\"NY\",\"PA\",\"\",\"PA\",\"PA\",\"\",\"DE\",\"DE\",\"DE\",\"Germantown\",\"MD\",\"MD\",\"MD\",\"VA\",\"VA\",\"VA\",\"WV\",\"WV\",\"WV\",\"NC\",\"NC\",\"NC\",\"SC\",\"SC\",\"SC\",\"GA\",\"GA\",\"GA\",\"FL\",\"FL\",\"FL\",\"AL\",\"AL\",\"AL\",\"TN\",\"TN\",\"TN\",\"MS\",\"MS\",\"MS\",\"KY\",\"KY\",\"KY\",\"OH\",\"OH\",\"OH\",\"IN\",\"IN\",\"IN\",\"MI\",\"MI\",\"MI\",\"IA\",\"IA\",\"IA\",\"WI\",\"WI\",\"WI\",\"MN\",\"MN\",\"MN\",\"SD\",\"SD\",\"SD\",\"ND\",\"ND\",\"ND\",\"MT\",\"MT\",\"IL\",\"IL\",\"IL\",\"MO\",\"MO\",\"MO\",\"KS\",\"KS\",\"KS\",\"NE\",\"NE\",\"NE\",\"LA\",\"LA\",\"LA\",\"AR\",\"AR\",\"AR\",\"OK\",\"OK\",\"OK\",\"TX\",\"TX\",\"TX\",\"TX\",\"CO\",\"CO\",\"CO\",\"WY\",\"WY\",\"WY\",\"ID\",\"ID\",\"ID\",\"UT\",\"UT\",\"UT\",\"AZ\",\"AZ\",\"NM\",\"NM\",\"NM\",\"NV\",\"NV\",\"NV\",\"CA\",\"CA\",\"CA\",\"HI\",\"HI\",\"OR\",\"OR\",\"WA\",\"WA\",\"WA\",\"WA\",\"WA\",\"AK\",\"AK\"],\"name\":\"\",\"z\":[44.99,44.99,44.99,44.99,44.99,44.99,44.99,44.99,44.99,44.99,44.99,44.99,44.99,44.99,44.99,44.99,44.99,44.99,44.99,44.99,44.99,44.99,44.99,null,44.99,44.99,null,44.99,44.99,44.99,null,44.99,44.99,44.99,44.99,44.99,44.99,44.99,44.99,44.99,44.99,44.99,44.99,44.99,44.99,44.99,44.99,44.99,44.99,44.99,44.99,44.99,44.99,44.99,44.99,44.99,44.99,44.99,44.99,44.99,44.99,44.99,44.99,44.99,44.99,44.99,44.99,44.99,44.99,44.99,44.99,44.99,44.99,44.99,44.99,44.99,44.99,44.99,44.99,44.99,44.99,44.99,44.99,44.99,44.99,44.99,44.99,44.99,44.99,44.99,44.99,44.99,44.99,44.99,44.99,44.99,44.99,44.99,44.99,44.99,44.99,44.99,44.99,44.99,44.99,44.99,44.99,44.99,44.99,44.99,44.99,44.99,44.99,44.99,44.99,44.99,44.99,44.99,44.99,44.99,44.99,44.99,44.99,44.99,44.99,44.99,44.99,44.99,44.99,44.99,44.99,44.99,44.99,44.99,44.99,44.99,44.99,44.99,44.99,44.99,44.99,44.99,44.99,44.99,44.99,44.99,44.99,44.99,44.99],\"type\":\"choropleth\"}],                        {\"template\":{\"data\":{\"histogram2dcontour\":[{\"type\":\"histogram2dcontour\",\"colorbar\":{\"outlinewidth\":0,\"ticks\":\"\"},\"colorscale\":[[0.0,\"#0d0887\"],[0.1111111111111111,\"#46039f\"],[0.2222222222222222,\"#7201a8\"],[0.3333333333333333,\"#9c179e\"],[0.4444444444444444,\"#bd3786\"],[0.5555555555555556,\"#d8576b\"],[0.6666666666666666,\"#ed7953\"],[0.7777777777777778,\"#fb9f3a\"],[0.8888888888888888,\"#fdca26\"],[1.0,\"#f0f921\"]]}],\"choropleth\":[{\"type\":\"choropleth\",\"colorbar\":{\"outlinewidth\":0,\"ticks\":\"\"}}],\"histogram2d\":[{\"type\":\"histogram2d\",\"colorbar\":{\"outlinewidth\":0,\"ticks\":\"\"},\"colorscale\":[[0.0,\"#0d0887\"],[0.1111111111111111,\"#46039f\"],[0.2222222222222222,\"#7201a8\"],[0.3333333333333333,\"#9c179e\"],[0.4444444444444444,\"#bd3786\"],[0.5555555555555556,\"#d8576b\"],[0.6666666666666666,\"#ed7953\"],[0.7777777777777778,\"#fb9f3a\"],[0.8888888888888888,\"#fdca26\"],[1.0,\"#f0f921\"]]}],\"heatmap\":[{\"type\":\"heatmap\",\"colorbar\":{\"outlinewidth\":0,\"ticks\":\"\"},\"colorscale\":[[0.0,\"#0d0887\"],[0.1111111111111111,\"#46039f\"],[0.2222222222222222,\"#7201a8\"],[0.3333333333333333,\"#9c179e\"],[0.4444444444444444,\"#bd3786\"],[0.5555555555555556,\"#d8576b\"],[0.6666666666666666,\"#ed7953\"],[0.7777777777777778,\"#fb9f3a\"],[0.8888888888888888,\"#fdca26\"],[1.0,\"#f0f921\"]]}],\"heatmapgl\":[{\"type\":\"heatmapgl\",\"colorbar\":{\"outlinewidth\":0,\"ticks\":\"\"},\"colorscale\":[[0.0,\"#0d0887\"],[0.1111111111111111,\"#46039f\"],[0.2222222222222222,\"#7201a8\"],[0.3333333333333333,\"#9c179e\"],[0.4444444444444444,\"#bd3786\"],[0.5555555555555556,\"#d8576b\"],[0.6666666666666666,\"#ed7953\"],[0.7777777777777778,\"#fb9f3a\"],[0.8888888888888888,\"#fdca26\"],[1.0,\"#f0f921\"]]}],\"contourcarpet\":[{\"type\":\"contourcarpet\",\"colorbar\":{\"outlinewidth\":0,\"ticks\":\"\"}}],\"contour\":[{\"type\":\"contour\",\"colorbar\":{\"outlinewidth\":0,\"ticks\":\"\"},\"colorscale\":[[0.0,\"#0d0887\"],[0.1111111111111111,\"#46039f\"],[0.2222222222222222,\"#7201a8\"],[0.3333333333333333,\"#9c179e\"],[0.4444444444444444,\"#bd3786\"],[0.5555555555555556,\"#d8576b\"],[0.6666666666666666,\"#ed7953\"],[0.7777777777777778,\"#fb9f3a\"],[0.8888888888888888,\"#fdca26\"],[1.0,\"#f0f921\"]]}],\"surface\":[{\"type\":\"surface\",\"colorbar\":{\"outlinewidth\":0,\"ticks\":\"\"},\"colorscale\":[[0.0,\"#0d0887\"],[0.1111111111111111,\"#46039f\"],[0.2222222222222222,\"#7201a8\"],[0.3333333333333333,\"#9c179e\"],[0.4444444444444444,\"#bd3786\"],[0.5555555555555556,\"#d8576b\"],[0.6666666666666666,\"#ed7953\"],[0.7777777777777778,\"#fb9f3a\"],[0.8888888888888888,\"#fdca26\"],[1.0,\"#f0f921\"]]}],\"mesh3d\":[{\"type\":\"mesh3d\",\"colorbar\":{\"outlinewidth\":0,\"ticks\":\"\"}}],\"scatter\":[{\"fillpattern\":{\"fillmode\":\"overlay\",\"size\":10,\"solidity\":0.2},\"type\":\"scatter\"}],\"parcoords\":[{\"type\":\"parcoords\",\"line\":{\"colorbar\":{\"outlinewidth\":0,\"ticks\":\"\"}}}],\"scatterpolargl\":[{\"type\":\"scatterpolargl\",\"marker\":{\"colorbar\":{\"outlinewidth\":0,\"ticks\":\"\"}}}],\"bar\":[{\"error_x\":{\"color\":\"#2a3f5f\"},\"error_y\":{\"color\":\"#2a3f5f\"},\"marker\":{\"line\":{\"color\":\"#E5ECF6\",\"width\":0.5},\"pattern\":{\"fillmode\":\"overlay\",\"size\":10,\"solidity\":0.2}},\"type\":\"bar\"}],\"scattergeo\":[{\"type\":\"scattergeo\",\"marker\":{\"colorbar\":{\"outlinewidth\":0,\"ticks\":\"\"}}}],\"scatterpolar\":[{\"type\":\"scatterpolar\",\"marker\":{\"colorbar\":{\"outlinewidth\":0,\"ticks\":\"\"}}}],\"histogram\":[{\"marker\":{\"pattern\":{\"fillmode\":\"overlay\",\"size\":10,\"solidity\":0.2}},\"type\":\"histogram\"}],\"scattergl\":[{\"type\":\"scattergl\",\"marker\":{\"colorbar\":{\"outlinewidth\":0,\"ticks\":\"\"}}}],\"scatter3d\":[{\"type\":\"scatter3d\",\"line\":{\"colorbar\":{\"outlinewidth\":0,\"ticks\":\"\"}},\"marker\":{\"colorbar\":{\"outlinewidth\":0,\"ticks\":\"\"}}}],\"scattermapbox\":[{\"type\":\"scattermapbox\",\"marker\":{\"colorbar\":{\"outlinewidth\":0,\"ticks\":\"\"}}}],\"scatterternary\":[{\"type\":\"scatterternary\",\"marker\":{\"colorbar\":{\"outlinewidth\":0,\"ticks\":\"\"}}}],\"scattercarpet\":[{\"type\":\"scattercarpet\",\"marker\":{\"colorbar\":{\"outlinewidth\":0,\"ticks\":\"\"}}}],\"carpet\":[{\"aaxis\":{\"endlinecolor\":\"#2a3f5f\",\"gridcolor\":\"white\",\"linecolor\":\"white\",\"minorgridcolor\":\"white\",\"startlinecolor\":\"#2a3f5f\"},\"baxis\":{\"endlinecolor\":\"#2a3f5f\",\"gridcolor\":\"white\",\"linecolor\":\"white\",\"minorgridcolor\":\"white\",\"startlinecolor\":\"#2a3f5f\"},\"type\":\"carpet\"}],\"table\":[{\"cells\":{\"fill\":{\"color\":\"#EBF0F8\"},\"line\":{\"color\":\"white\"}},\"header\":{\"fill\":{\"color\":\"#C8D4E3\"},\"line\":{\"color\":\"white\"}},\"type\":\"table\"}],\"barpolar\":[{\"marker\":{\"line\":{\"color\":\"#E5ECF6\",\"width\":0.5},\"pattern\":{\"fillmode\":\"overlay\",\"size\":10,\"solidity\":0.2}},\"type\":\"barpolar\"}],\"pie\":[{\"automargin\":true,\"type\":\"pie\"}]},\"layout\":{\"autotypenumbers\":\"strict\",\"colorway\":[\"#636efa\",\"#EF553B\",\"#00cc96\",\"#ab63fa\",\"#FFA15A\",\"#19d3f3\",\"#FF6692\",\"#B6E880\",\"#FF97FF\",\"#FECB52\"],\"font\":{\"color\":\"#2a3f5f\"},\"hovermode\":\"closest\",\"hoverlabel\":{\"align\":\"left\"},\"paper_bgcolor\":\"white\",\"plot_bgcolor\":\"#E5ECF6\",\"polar\":{\"bgcolor\":\"#E5ECF6\",\"angularaxis\":{\"gridcolor\":\"white\",\"linecolor\":\"white\",\"ticks\":\"\"},\"radialaxis\":{\"gridcolor\":\"white\",\"linecolor\":\"white\",\"ticks\":\"\"}},\"ternary\":{\"bgcolor\":\"#E5ECF6\",\"aaxis\":{\"gridcolor\":\"white\",\"linecolor\":\"white\",\"ticks\":\"\"},\"baxis\":{\"gridcolor\":\"white\",\"linecolor\":\"white\",\"ticks\":\"\"},\"caxis\":{\"gridcolor\":\"white\",\"linecolor\":\"white\",\"ticks\":\"\"}},\"coloraxis\":{\"colorbar\":{\"outlinewidth\":0,\"ticks\":\"\"}},\"colorscale\":{\"sequential\":[[0.0,\"#0d0887\"],[0.1111111111111111,\"#46039f\"],[0.2222222222222222,\"#7201a8\"],[0.3333333333333333,\"#9c179e\"],[0.4444444444444444,\"#bd3786\"],[0.5555555555555556,\"#d8576b\"],[0.6666666666666666,\"#ed7953\"],[0.7777777777777778,\"#fb9f3a\"],[0.8888888888888888,\"#fdca26\"],[1.0,\"#f0f921\"]],\"sequentialminus\":[[0.0,\"#0d0887\"],[0.1111111111111111,\"#46039f\"],[0.2222222222222222,\"#7201a8\"],[0.3333333333333333,\"#9c179e\"],[0.4444444444444444,\"#bd3786\"],[0.5555555555555556,\"#d8576b\"],[0.6666666666666666,\"#ed7953\"],[0.7777777777777778,\"#fb9f3a\"],[0.8888888888888888,\"#fdca26\"],[1.0,\"#f0f921\"]],\"diverging\":[[0,\"#8e0152\"],[0.1,\"#c51b7d\"],[0.2,\"#de77ae\"],[0.3,\"#f1b6da\"],[0.4,\"#fde0ef\"],[0.5,\"#f7f7f7\"],[0.6,\"#e6f5d0\"],[0.7,\"#b8e186\"],[0.8,\"#7fbc41\"],[0.9,\"#4d9221\"],[1,\"#276419\"]]},\"xaxis\":{\"gridcolor\":\"white\",\"linecolor\":\"white\",\"ticks\":\"\",\"title\":{\"standoff\":15},\"zerolinecolor\":\"white\",\"automargin\":true,\"zerolinewidth\":2},\"yaxis\":{\"gridcolor\":\"white\",\"linecolor\":\"white\",\"ticks\":\"\",\"title\":{\"standoff\":15},\"zerolinecolor\":\"white\",\"automargin\":true,\"zerolinewidth\":2},\"scene\":{\"xaxis\":{\"backgroundcolor\":\"#E5ECF6\",\"gridcolor\":\"white\",\"linecolor\":\"white\",\"showbackground\":true,\"ticks\":\"\",\"zerolinecolor\":\"white\",\"gridwidth\":2},\"yaxis\":{\"backgroundcolor\":\"#E5ECF6\",\"gridcolor\":\"white\",\"linecolor\":\"white\",\"showbackground\":true,\"ticks\":\"\",\"zerolinecolor\":\"white\",\"gridwidth\":2},\"zaxis\":{\"backgroundcolor\":\"#E5ECF6\",\"gridcolor\":\"white\",\"linecolor\":\"white\",\"showbackground\":true,\"ticks\":\"\",\"zerolinecolor\":\"white\",\"gridwidth\":2}},\"shapedefaults\":{\"line\":{\"color\":\"#2a3f5f\"}},\"annotationdefaults\":{\"arrowcolor\":\"#2a3f5f\",\"arrowhead\":0,\"arrowwidth\":1},\"geo\":{\"bgcolor\":\"white\",\"landcolor\":\"#E5ECF6\",\"subunitcolor\":\"white\",\"showland\":true,\"showlakes\":true,\"lakecolor\":\"white\"},\"title\":{\"x\":0.05},\"mapbox\":{\"style\":\"light\"}}},\"geo\":{\"domain\":{\"x\":[0.0,1.0],\"y\":[0.0,1.0]},\"center\":{},\"scope\":\"usa\"},\"coloraxis\":{\"colorbar\":{\"title\":{\"text\":\"Average Diapers Price\"}},\"colorscale\":[[0.0,\"#0d0887\"],[0.1111111111111111,\"#46039f\"],[0.2222222222222222,\"#7201a8\"],[0.3333333333333333,\"#9c179e\"],[0.4444444444444444,\"#bd3786\"],[0.5555555555555556,\"#d8576b\"],[0.6666666666666666,\"#ed7953\"],[0.7777777777777778,\"#fb9f3a\"],[0.8888888888888888,\"#fdca26\"],[1.0,\"#f0f921\"]]},\"legend\":{\"tracegroupgap\":0},\"margin\":{\"t\":60}},                        {\"responsive\": true}                    ).then(function(){\n",
       "                            \n",
       "var gd = document.getElementById('a2b28604-1fe6-4525-ac9b-c9eb223cb980');\n",
       "var x = new MutationObserver(function (mutations, observer) {{\n",
       "        var display = window.getComputedStyle(gd).display;\n",
       "        if (!display || display === 'none') {{\n",
       "            console.log([gd, 'removed!']);\n",
       "            Plotly.purge(gd);\n",
       "            observer.disconnect();\n",
       "        }}\n",
       "}});\n",
       "\n",
       "// Listen for the removal of the full notebook cells\n",
       "var notebookContainer = gd.closest('#notebook-container');\n",
       "if (notebookContainer) {{\n",
       "    x.observe(notebookContainer, {childList: true});\n",
       "}}\n",
       "\n",
       "// Listen for the clearing of the current output cell\n",
       "var outputEl = gd.closest('.output');\n",
       "if (outputEl) {{\n",
       "    x.observe(outputEl, {childList: true});\n",
       "}}\n",
       "\n",
       "                        })                };                });            </script>        </div>"
      ]
     },
     "metadata": {},
     "output_type": "display_data"
    },
    {
     "data": {
      "application/vnd.plotly.v1+json": {
       "config": {
        "plotlyServerURL": "https://plot.ly"
       },
       "data": [
        {
         "coloraxis": "coloraxis",
         "geo": "geo",
         "hovertemplate": "<b>%{hovertext}</b><br><br>State=%{location}<br>Average Eggs Price=%{z}<extra></extra>",
         "hovertext": [
          "01040",
          "02114",
          "02122",
          "02865",
          "02886",
          "02917",
          "03063",
          "03110",
          "03840",
          "04086",
          "04401",
          "04952",
          "05403",
          "06042",
          "06241",
          "06901",
          "07047",
          "07310",
          "08865",
          "11217",
          "14020",
          "14850",
          "16601",
          "16803",
          "17013",
          "19103",
          "19148",
          "19808",
          "19901",
          "19931",
          "20886",
          "21009",
          "21030",
          "21704",
          "22305",
          "24151",
          "24487",
          "25309",
          "25526",
          "26059",
          "27609",
          "28104",
          "28704",
          "29607",
          "29621",
          "29680",
          "30189",
          "30324",
          "31525",
          "33403",
          "33428",
          "33463",
          "35226",
          "35601",
          "36526",
          "37801",
          "38017",
          "38133",
          "39159",
          "39213",
          "39402",
          "40241",
          "42104",
          "42301",
          "44870",
          "45236",
          "45249",
          "46237",
          "46383",
          "47401",
          "48374",
          "48507",
          "49855",
          "50009",
          "50702",
          "52404",
          "53085",
          "53207",
          "54235",
          "55066",
          "55403",
          "56601",
          "57110",
          "57401",
          "57701",
          "58103",
          "58563",
          "58701",
          "59718",
          "59901",
          "60014",
          "60610",
          "61401",
          "63010",
          "63033",
          "64114",
          "66062",
          "66111",
          "67401",
          "68073",
          "68116",
          "68123",
          "70816",
          "71111",
          "71301",
          "72032",
          "72703",
          "72903",
          "73034",
          "74055",
          "74133",
          "77840",
          "78717",
          "79707",
          "79707",
          "80108",
          "80202",
          "81401",
          "82009",
          "82609",
          "83001",
          "83704",
          "83713",
          "83815",
          "84095",
          "84121",
          "84660",
          "85207",
          "85748",
          "87114",
          "87124",
          "87402",
          "89183",
          "89434",
          "89705",
          "90065",
          "91730",
          "95330",
          "96734",
          "96740",
          "97217",
          "97303",
          "98101",
          "98233",
          "98614",
          "98626",
          "98901",
          "99515",
          "99654"
         ],
         "locationmode": "USA-states",
         "locations": [
          "MA",
          "MA",
          "MA",
          "RI",
          "RI",
          "RI",
          "NH",
          "NH",
          "NH",
          "ME",
          "ME",
          "ME",
          "VT",
          "CT",
          "CT",
          "CT",
          "NJ",
          "NJ",
          "NJ",
          "NY",
          "NY",
          "NY",
          "PA",
          "",
          "PA",
          "PA",
          "",
          "DE",
          "DE",
          "DE",
          "Germantown",
          "MD",
          "MD",
          "MD",
          "VA",
          "VA",
          "VA",
          "WV",
          "WV",
          "WV",
          "NC",
          "NC",
          "NC",
          "SC",
          "SC",
          "SC",
          "GA",
          "GA",
          "GA",
          "FL",
          "FL",
          "FL",
          "AL",
          "AL",
          "AL",
          "TN",
          "TN",
          "TN",
          "MS",
          "MS",
          "MS",
          "KY",
          "KY",
          "KY",
          "OH",
          "OH",
          "OH",
          "IN",
          "IN",
          "IN",
          "MI",
          "MI",
          "MI",
          "IA",
          "IA",
          "IA",
          "WI",
          "WI",
          "WI",
          "MN",
          "MN",
          "MN",
          "SD",
          "SD",
          "SD",
          "ND",
          "ND",
          "ND",
          "MT",
          "MT",
          "IL",
          "IL",
          "IL",
          "MO",
          "MO",
          "MO",
          "KS",
          "KS",
          "KS",
          "NE",
          "NE",
          "NE",
          "LA",
          "LA",
          "LA",
          "AR",
          "AR",
          "AR",
          "OK",
          "OK",
          "OK",
          "TX",
          "TX",
          "TX",
          "TX",
          "CO",
          "CO",
          "CO",
          "WY",
          "WY",
          "WY",
          "ID",
          "ID",
          "ID",
          "UT",
          "UT",
          "UT",
          "AZ",
          "AZ",
          "NM",
          "NM",
          "NM",
          "NV",
          "NV",
          "NV",
          "CA",
          "CA",
          "CA",
          "HI",
          "HI",
          "OR",
          "OR",
          "WA",
          "WA",
          "WA",
          "WA",
          "WA",
          "AK",
          "AK"
         ],
         "name": "",
         "type": "choropleth",
         "z": [
          5.323333333333333,
          5.323333333333333,
          5.323333333333333,
          5.323333333333333,
          5.323333333333333,
          5.323333333333333,
          4.99,
          4.99,
          4.99,
          4.99,
          4.99,
          4.99,
          4.99,
          5.123333333333334,
          5.123333333333334,
          5.123333333333334,
          4.99,
          4.99,
          4.99,
          5.123333333333334,
          5.123333333333334,
          5.123333333333334,
          5.123333333333334,
          null,
          5.123333333333334,
          5.123333333333334,
          null,
          4.99,
          4.99,
          4.99,
          null,
          4.99,
          4.99,
          4.99,
          5.0566666666666675,
          5.0566666666666675,
          5.0566666666666675,
          4.99,
          4.99,
          4.99,
          4.99,
          4.99,
          4.99,
          4.99,
          4.99,
          4.99,
          4.99,
          4.99,
          4.99,
          4.99,
          4.99,
          4.99,
          4.99,
          4.99,
          4.99,
          4.99,
          4.99,
          4.99,
          4.99,
          4.99,
          4.99,
          4.99,
          4.99,
          4.99,
          4.99,
          4.99,
          4.99,
          4.99,
          4.99,
          4.99,
          null,
          null,
          null,
          4.99,
          4.99,
          4.99,
          4.99,
          4.99,
          4.99,
          4.99,
          4.99,
          4.99,
          5.323333333333333,
          5.323333333333333,
          5.323333333333333,
          4.99,
          4.99,
          4.99,
          4.99,
          4.99,
          5.09,
          5.09,
          5.09,
          4.99,
          4.99,
          4.99,
          4.99,
          4.99,
          4.99,
          4.99,
          4.99,
          4.99,
          4.99,
          4.99,
          4.99,
          4.99,
          4.99,
          4.99,
          4.99,
          4.99,
          4.99,
          3.99,
          3.99,
          3.99,
          3.99,
          4.923333333333333,
          4.923333333333333,
          4.923333333333333,
          6.223333333333334,
          6.223333333333334,
          6.223333333333334,
          3.9233333333333333,
          3.9233333333333333,
          3.9233333333333333,
          4.99,
          4.99,
          4.99,
          3.99,
          3.99,
          4.723333333333334,
          4.723333333333334,
          4.723333333333334,
          2.3233333333333337,
          2.3233333333333337,
          2.3233333333333337,
          5.19,
          5.19,
          5.19,
          2.19,
          2.19,
          4.49,
          4.49,
          2.99,
          2.99,
          2.99,
          2.99,
          2.99,
          4.99,
          4.99
         ]
        }
       ],
       "layout": {
        "coloraxis": {
         "colorbar": {
          "title": {
           "text": "Average Eggs Price"
          }
         },
         "colorscale": [
          [
           0,
           "#0d0887"
          ],
          [
           0.1111111111111111,
           "#46039f"
          ],
          [
           0.2222222222222222,
           "#7201a8"
          ],
          [
           0.3333333333333333,
           "#9c179e"
          ],
          [
           0.4444444444444444,
           "#bd3786"
          ],
          [
           0.5555555555555556,
           "#d8576b"
          ],
          [
           0.6666666666666666,
           "#ed7953"
          ],
          [
           0.7777777777777778,
           "#fb9f3a"
          ],
          [
           0.8888888888888888,
           "#fdca26"
          ],
          [
           1,
           "#f0f921"
          ]
         ]
        },
        "geo": {
         "center": {},
         "domain": {
          "x": [
           0,
           1
          ],
          "y": [
           0,
           1
          ]
         },
         "scope": "usa"
        },
        "legend": {
         "tracegroupgap": 0
        },
        "margin": {
         "t": 60
        },
        "template": {
         "data": {
          "bar": [
           {
            "error_x": {
             "color": "#2a3f5f"
            },
            "error_y": {
             "color": "#2a3f5f"
            },
            "marker": {
             "line": {
              "color": "#E5ECF6",
              "width": 0.5
             },
             "pattern": {
              "fillmode": "overlay",
              "size": 10,
              "solidity": 0.2
             }
            },
            "type": "bar"
           }
          ],
          "barpolar": [
           {
            "marker": {
             "line": {
              "color": "#E5ECF6",
              "width": 0.5
             },
             "pattern": {
              "fillmode": "overlay",
              "size": 10,
              "solidity": 0.2
             }
            },
            "type": "barpolar"
           }
          ],
          "carpet": [
           {
            "aaxis": {
             "endlinecolor": "#2a3f5f",
             "gridcolor": "white",
             "linecolor": "white",
             "minorgridcolor": "white",
             "startlinecolor": "#2a3f5f"
            },
            "baxis": {
             "endlinecolor": "#2a3f5f",
             "gridcolor": "white",
             "linecolor": "white",
             "minorgridcolor": "white",
             "startlinecolor": "#2a3f5f"
            },
            "type": "carpet"
           }
          ],
          "choropleth": [
           {
            "colorbar": {
             "outlinewidth": 0,
             "ticks": ""
            },
            "type": "choropleth"
           }
          ],
          "contour": [
           {
            "colorbar": {
             "outlinewidth": 0,
             "ticks": ""
            },
            "colorscale": [
             [
              0,
              "#0d0887"
             ],
             [
              0.1111111111111111,
              "#46039f"
             ],
             [
              0.2222222222222222,
              "#7201a8"
             ],
             [
              0.3333333333333333,
              "#9c179e"
             ],
             [
              0.4444444444444444,
              "#bd3786"
             ],
             [
              0.5555555555555556,
              "#d8576b"
             ],
             [
              0.6666666666666666,
              "#ed7953"
             ],
             [
              0.7777777777777778,
              "#fb9f3a"
             ],
             [
              0.8888888888888888,
              "#fdca26"
             ],
             [
              1,
              "#f0f921"
             ]
            ],
            "type": "contour"
           }
          ],
          "contourcarpet": [
           {
            "colorbar": {
             "outlinewidth": 0,
             "ticks": ""
            },
            "type": "contourcarpet"
           }
          ],
          "heatmap": [
           {
            "colorbar": {
             "outlinewidth": 0,
             "ticks": ""
            },
            "colorscale": [
             [
              0,
              "#0d0887"
             ],
             [
              0.1111111111111111,
              "#46039f"
             ],
             [
              0.2222222222222222,
              "#7201a8"
             ],
             [
              0.3333333333333333,
              "#9c179e"
             ],
             [
              0.4444444444444444,
              "#bd3786"
             ],
             [
              0.5555555555555556,
              "#d8576b"
             ],
             [
              0.6666666666666666,
              "#ed7953"
             ],
             [
              0.7777777777777778,
              "#fb9f3a"
             ],
             [
              0.8888888888888888,
              "#fdca26"
             ],
             [
              1,
              "#f0f921"
             ]
            ],
            "type": "heatmap"
           }
          ],
          "heatmapgl": [
           {
            "colorbar": {
             "outlinewidth": 0,
             "ticks": ""
            },
            "colorscale": [
             [
              0,
              "#0d0887"
             ],
             [
              0.1111111111111111,
              "#46039f"
             ],
             [
              0.2222222222222222,
              "#7201a8"
             ],
             [
              0.3333333333333333,
              "#9c179e"
             ],
             [
              0.4444444444444444,
              "#bd3786"
             ],
             [
              0.5555555555555556,
              "#d8576b"
             ],
             [
              0.6666666666666666,
              "#ed7953"
             ],
             [
              0.7777777777777778,
              "#fb9f3a"
             ],
             [
              0.8888888888888888,
              "#fdca26"
             ],
             [
              1,
              "#f0f921"
             ]
            ],
            "type": "heatmapgl"
           }
          ],
          "histogram": [
           {
            "marker": {
             "pattern": {
              "fillmode": "overlay",
              "size": 10,
              "solidity": 0.2
             }
            },
            "type": "histogram"
           }
          ],
          "histogram2d": [
           {
            "colorbar": {
             "outlinewidth": 0,
             "ticks": ""
            },
            "colorscale": [
             [
              0,
              "#0d0887"
             ],
             [
              0.1111111111111111,
              "#46039f"
             ],
             [
              0.2222222222222222,
              "#7201a8"
             ],
             [
              0.3333333333333333,
              "#9c179e"
             ],
             [
              0.4444444444444444,
              "#bd3786"
             ],
             [
              0.5555555555555556,
              "#d8576b"
             ],
             [
              0.6666666666666666,
              "#ed7953"
             ],
             [
              0.7777777777777778,
              "#fb9f3a"
             ],
             [
              0.8888888888888888,
              "#fdca26"
             ],
             [
              1,
              "#f0f921"
             ]
            ],
            "type": "histogram2d"
           }
          ],
          "histogram2dcontour": [
           {
            "colorbar": {
             "outlinewidth": 0,
             "ticks": ""
            },
            "colorscale": [
             [
              0,
              "#0d0887"
             ],
             [
              0.1111111111111111,
              "#46039f"
             ],
             [
              0.2222222222222222,
              "#7201a8"
             ],
             [
              0.3333333333333333,
              "#9c179e"
             ],
             [
              0.4444444444444444,
              "#bd3786"
             ],
             [
              0.5555555555555556,
              "#d8576b"
             ],
             [
              0.6666666666666666,
              "#ed7953"
             ],
             [
              0.7777777777777778,
              "#fb9f3a"
             ],
             [
              0.8888888888888888,
              "#fdca26"
             ],
             [
              1,
              "#f0f921"
             ]
            ],
            "type": "histogram2dcontour"
           }
          ],
          "mesh3d": [
           {
            "colorbar": {
             "outlinewidth": 0,
             "ticks": ""
            },
            "type": "mesh3d"
           }
          ],
          "parcoords": [
           {
            "line": {
             "colorbar": {
              "outlinewidth": 0,
              "ticks": ""
             }
            },
            "type": "parcoords"
           }
          ],
          "pie": [
           {
            "automargin": true,
            "type": "pie"
           }
          ],
          "scatter": [
           {
            "fillpattern": {
             "fillmode": "overlay",
             "size": 10,
             "solidity": 0.2
            },
            "type": "scatter"
           }
          ],
          "scatter3d": [
           {
            "line": {
             "colorbar": {
              "outlinewidth": 0,
              "ticks": ""
             }
            },
            "marker": {
             "colorbar": {
              "outlinewidth": 0,
              "ticks": ""
             }
            },
            "type": "scatter3d"
           }
          ],
          "scattercarpet": [
           {
            "marker": {
             "colorbar": {
              "outlinewidth": 0,
              "ticks": ""
             }
            },
            "type": "scattercarpet"
           }
          ],
          "scattergeo": [
           {
            "marker": {
             "colorbar": {
              "outlinewidth": 0,
              "ticks": ""
             }
            },
            "type": "scattergeo"
           }
          ],
          "scattergl": [
           {
            "marker": {
             "colorbar": {
              "outlinewidth": 0,
              "ticks": ""
             }
            },
            "type": "scattergl"
           }
          ],
          "scattermapbox": [
           {
            "marker": {
             "colorbar": {
              "outlinewidth": 0,
              "ticks": ""
             }
            },
            "type": "scattermapbox"
           }
          ],
          "scatterpolar": [
           {
            "marker": {
             "colorbar": {
              "outlinewidth": 0,
              "ticks": ""
             }
            },
            "type": "scatterpolar"
           }
          ],
          "scatterpolargl": [
           {
            "marker": {
             "colorbar": {
              "outlinewidth": 0,
              "ticks": ""
             }
            },
            "type": "scatterpolargl"
           }
          ],
          "scatterternary": [
           {
            "marker": {
             "colorbar": {
              "outlinewidth": 0,
              "ticks": ""
             }
            },
            "type": "scatterternary"
           }
          ],
          "surface": [
           {
            "colorbar": {
             "outlinewidth": 0,
             "ticks": ""
            },
            "colorscale": [
             [
              0,
              "#0d0887"
             ],
             [
              0.1111111111111111,
              "#46039f"
             ],
             [
              0.2222222222222222,
              "#7201a8"
             ],
             [
              0.3333333333333333,
              "#9c179e"
             ],
             [
              0.4444444444444444,
              "#bd3786"
             ],
             [
              0.5555555555555556,
              "#d8576b"
             ],
             [
              0.6666666666666666,
              "#ed7953"
             ],
             [
              0.7777777777777778,
              "#fb9f3a"
             ],
             [
              0.8888888888888888,
              "#fdca26"
             ],
             [
              1,
              "#f0f921"
             ]
            ],
            "type": "surface"
           }
          ],
          "table": [
           {
            "cells": {
             "fill": {
              "color": "#EBF0F8"
             },
             "line": {
              "color": "white"
             }
            },
            "header": {
             "fill": {
              "color": "#C8D4E3"
             },
             "line": {
              "color": "white"
             }
            },
            "type": "table"
           }
          ]
         },
         "layout": {
          "annotationdefaults": {
           "arrowcolor": "#2a3f5f",
           "arrowhead": 0,
           "arrowwidth": 1
          },
          "autotypenumbers": "strict",
          "coloraxis": {
           "colorbar": {
            "outlinewidth": 0,
            "ticks": ""
           }
          },
          "colorscale": {
           "diverging": [
            [
             0,
             "#8e0152"
            ],
            [
             0.1,
             "#c51b7d"
            ],
            [
             0.2,
             "#de77ae"
            ],
            [
             0.3,
             "#f1b6da"
            ],
            [
             0.4,
             "#fde0ef"
            ],
            [
             0.5,
             "#f7f7f7"
            ],
            [
             0.6,
             "#e6f5d0"
            ],
            [
             0.7,
             "#b8e186"
            ],
            [
             0.8,
             "#7fbc41"
            ],
            [
             0.9,
             "#4d9221"
            ],
            [
             1,
             "#276419"
            ]
           ],
           "sequential": [
            [
             0,
             "#0d0887"
            ],
            [
             0.1111111111111111,
             "#46039f"
            ],
            [
             0.2222222222222222,
             "#7201a8"
            ],
            [
             0.3333333333333333,
             "#9c179e"
            ],
            [
             0.4444444444444444,
             "#bd3786"
            ],
            [
             0.5555555555555556,
             "#d8576b"
            ],
            [
             0.6666666666666666,
             "#ed7953"
            ],
            [
             0.7777777777777778,
             "#fb9f3a"
            ],
            [
             0.8888888888888888,
             "#fdca26"
            ],
            [
             1,
             "#f0f921"
            ]
           ],
           "sequentialminus": [
            [
             0,
             "#0d0887"
            ],
            [
             0.1111111111111111,
             "#46039f"
            ],
            [
             0.2222222222222222,
             "#7201a8"
            ],
            [
             0.3333333333333333,
             "#9c179e"
            ],
            [
             0.4444444444444444,
             "#bd3786"
            ],
            [
             0.5555555555555556,
             "#d8576b"
            ],
            [
             0.6666666666666666,
             "#ed7953"
            ],
            [
             0.7777777777777778,
             "#fb9f3a"
            ],
            [
             0.8888888888888888,
             "#fdca26"
            ],
            [
             1,
             "#f0f921"
            ]
           ]
          },
          "colorway": [
           "#636efa",
           "#EF553B",
           "#00cc96",
           "#ab63fa",
           "#FFA15A",
           "#19d3f3",
           "#FF6692",
           "#B6E880",
           "#FF97FF",
           "#FECB52"
          ],
          "font": {
           "color": "#2a3f5f"
          },
          "geo": {
           "bgcolor": "white",
           "lakecolor": "white",
           "landcolor": "#E5ECF6",
           "showlakes": true,
           "showland": true,
           "subunitcolor": "white"
          },
          "hoverlabel": {
           "align": "left"
          },
          "hovermode": "closest",
          "mapbox": {
           "style": "light"
          },
          "paper_bgcolor": "white",
          "plot_bgcolor": "#E5ECF6",
          "polar": {
           "angularaxis": {
            "gridcolor": "white",
            "linecolor": "white",
            "ticks": ""
           },
           "bgcolor": "#E5ECF6",
           "radialaxis": {
            "gridcolor": "white",
            "linecolor": "white",
            "ticks": ""
           }
          },
          "scene": {
           "xaxis": {
            "backgroundcolor": "#E5ECF6",
            "gridcolor": "white",
            "gridwidth": 2,
            "linecolor": "white",
            "showbackground": true,
            "ticks": "",
            "zerolinecolor": "white"
           },
           "yaxis": {
            "backgroundcolor": "#E5ECF6",
            "gridcolor": "white",
            "gridwidth": 2,
            "linecolor": "white",
            "showbackground": true,
            "ticks": "",
            "zerolinecolor": "white"
           },
           "zaxis": {
            "backgroundcolor": "#E5ECF6",
            "gridcolor": "white",
            "gridwidth": 2,
            "linecolor": "white",
            "showbackground": true,
            "ticks": "",
            "zerolinecolor": "white"
           }
          },
          "shapedefaults": {
           "line": {
            "color": "#2a3f5f"
           }
          },
          "ternary": {
           "aaxis": {
            "gridcolor": "white",
            "linecolor": "white",
            "ticks": ""
           },
           "baxis": {
            "gridcolor": "white",
            "linecolor": "white",
            "ticks": ""
           },
           "bgcolor": "#E5ECF6",
           "caxis": {
            "gridcolor": "white",
            "linecolor": "white",
            "ticks": ""
           }
          },
          "title": {
           "x": 0.05
          },
          "xaxis": {
           "automargin": true,
           "gridcolor": "white",
           "linecolor": "white",
           "ticks": "",
           "title": {
            "standoff": 15
           },
           "zerolinecolor": "white",
           "zerolinewidth": 2
          },
          "yaxis": {
           "automargin": true,
           "gridcolor": "white",
           "linecolor": "white",
           "ticks": "",
           "title": {
            "standoff": 15
           },
           "zerolinecolor": "white",
           "zerolinewidth": 2
          }
         }
        }
       }
      },
      "text/html": [
       "<div>                            <div id=\"d9f02a2a-f828-4b7f-9c10-93fdaca7bc1e\" class=\"plotly-graph-div\" style=\"height:525px; width:100%;\"></div>            <script type=\"text/javascript\">                require([\"plotly\"], function(Plotly) {                    window.PLOTLYENV=window.PLOTLYENV || {};                                    if (document.getElementById(\"d9f02a2a-f828-4b7f-9c10-93fdaca7bc1e\")) {                    Plotly.newPlot(                        \"d9f02a2a-f828-4b7f-9c10-93fdaca7bc1e\",                        [{\"coloraxis\":\"coloraxis\",\"geo\":\"geo\",\"hovertemplate\":\"<b>%{hovertext}</b><br><br>State=%{location}<br>Average Eggs Price=%{z}<extra></extra>\",\"hovertext\":[\"01040\",\"02114\",\"02122\",\"02865\",\"02886\",\"02917\",\"03063\",\"03110\",\"03840\",\"04086\",\"04401\",\"04952\",\"05403\",\"06042\",\"06241\",\"06901\",\"07047\",\"07310\",\"08865\",\"11217\",\"14020\",\"14850\",\"16601\",\"16803\",\"17013\",\"19103\",\"19148\",\"19808\",\"19901\",\"19931\",\"20886\",\"21009\",\"21030\",\"21704\",\"22305\",\"24151\",\"24487\",\"25309\",\"25526\",\"26059\",\"27609\",\"28104\",\"28704\",\"29607\",\"29621\",\"29680\",\"30189\",\"30324\",\"31525\",\"33403\",\"33428\",\"33463\",\"35226\",\"35601\",\"36526\",\"37801\",\"38017\",\"38133\",\"39159\",\"39213\",\"39402\",\"40241\",\"42104\",\"42301\",\"44870\",\"45236\",\"45249\",\"46237\",\"46383\",\"47401\",\"48374\",\"48507\",\"49855\",\"50009\",\"50702\",\"52404\",\"53085\",\"53207\",\"54235\",\"55066\",\"55403\",\"56601\",\"57110\",\"57401\",\"57701\",\"58103\",\"58563\",\"58701\",\"59718\",\"59901\",\"60014\",\"60610\",\"61401\",\"63010\",\"63033\",\"64114\",\"66062\",\"66111\",\"67401\",\"68073\",\"68116\",\"68123\",\"70816\",\"71111\",\"71301\",\"72032\",\"72703\",\"72903\",\"73034\",\"74055\",\"74133\",\"77840\",\"78717\",\"79707\",\"79707\",\"80108\",\"80202\",\"81401\",\"82009\",\"82609\",\"83001\",\"83704\",\"83713\",\"83815\",\"84095\",\"84121\",\"84660\",\"85207\",\"85748\",\"87114\",\"87124\",\"87402\",\"89183\",\"89434\",\"89705\",\"90065\",\"91730\",\"95330\",\"96734\",\"96740\",\"97217\",\"97303\",\"98101\",\"98233\",\"98614\",\"98626\",\"98901\",\"99515\",\"99654\"],\"locationmode\":\"USA-states\",\"locations\":[\"MA\",\"MA\",\"MA\",\"RI\",\"RI\",\"RI\",\"NH\",\"NH\",\"NH\",\"ME\",\"ME\",\"ME\",\"VT\",\"CT\",\"CT\",\"CT\",\"NJ\",\"NJ\",\"NJ\",\"NY\",\"NY\",\"NY\",\"PA\",\"\",\"PA\",\"PA\",\"\",\"DE\",\"DE\",\"DE\",\"Germantown\",\"MD\",\"MD\",\"MD\",\"VA\",\"VA\",\"VA\",\"WV\",\"WV\",\"WV\",\"NC\",\"NC\",\"NC\",\"SC\",\"SC\",\"SC\",\"GA\",\"GA\",\"GA\",\"FL\",\"FL\",\"FL\",\"AL\",\"AL\",\"AL\",\"TN\",\"TN\",\"TN\",\"MS\",\"MS\",\"MS\",\"KY\",\"KY\",\"KY\",\"OH\",\"OH\",\"OH\",\"IN\",\"IN\",\"IN\",\"MI\",\"MI\",\"MI\",\"IA\",\"IA\",\"IA\",\"WI\",\"WI\",\"WI\",\"MN\",\"MN\",\"MN\",\"SD\",\"SD\",\"SD\",\"ND\",\"ND\",\"ND\",\"MT\",\"MT\",\"IL\",\"IL\",\"IL\",\"MO\",\"MO\",\"MO\",\"KS\",\"KS\",\"KS\",\"NE\",\"NE\",\"NE\",\"LA\",\"LA\",\"LA\",\"AR\",\"AR\",\"AR\",\"OK\",\"OK\",\"OK\",\"TX\",\"TX\",\"TX\",\"TX\",\"CO\",\"CO\",\"CO\",\"WY\",\"WY\",\"WY\",\"ID\",\"ID\",\"ID\",\"UT\",\"UT\",\"UT\",\"AZ\",\"AZ\",\"NM\",\"NM\",\"NM\",\"NV\",\"NV\",\"NV\",\"CA\",\"CA\",\"CA\",\"HI\",\"HI\",\"OR\",\"OR\",\"WA\",\"WA\",\"WA\",\"WA\",\"WA\",\"AK\",\"AK\"],\"name\":\"\",\"z\":[5.323333333333333,5.323333333333333,5.323333333333333,5.323333333333333,5.323333333333333,5.323333333333333,4.99,4.99,4.99,4.99,4.99,4.99,4.99,5.123333333333334,5.123333333333334,5.123333333333334,4.99,4.99,4.99,5.123333333333334,5.123333333333334,5.123333333333334,5.123333333333334,null,5.123333333333334,5.123333333333334,null,4.99,4.99,4.99,null,4.99,4.99,4.99,5.0566666666666675,5.0566666666666675,5.0566666666666675,4.99,4.99,4.99,4.99,4.99,4.99,4.99,4.99,4.99,4.99,4.99,4.99,4.99,4.99,4.99,4.99,4.99,4.99,4.99,4.99,4.99,4.99,4.99,4.99,4.99,4.99,4.99,4.99,4.99,4.99,4.99,4.99,4.99,null,null,null,4.99,4.99,4.99,4.99,4.99,4.99,4.99,4.99,4.99,5.323333333333333,5.323333333333333,5.323333333333333,4.99,4.99,4.99,4.99,4.99,5.09,5.09,5.09,4.99,4.99,4.99,4.99,4.99,4.99,4.99,4.99,4.99,4.99,4.99,4.99,4.99,4.99,4.99,4.99,4.99,4.99,3.99,3.99,3.99,3.99,4.923333333333333,4.923333333333333,4.923333333333333,6.223333333333334,6.223333333333334,6.223333333333334,3.9233333333333333,3.9233333333333333,3.9233333333333333,4.99,4.99,4.99,3.99,3.99,4.723333333333334,4.723333333333334,4.723333333333334,2.3233333333333337,2.3233333333333337,2.3233333333333337,5.19,5.19,5.19,2.19,2.19,4.49,4.49,2.99,2.99,2.99,2.99,2.99,4.99,4.99],\"type\":\"choropleth\"}],                        {\"template\":{\"data\":{\"histogram2dcontour\":[{\"type\":\"histogram2dcontour\",\"colorbar\":{\"outlinewidth\":0,\"ticks\":\"\"},\"colorscale\":[[0.0,\"#0d0887\"],[0.1111111111111111,\"#46039f\"],[0.2222222222222222,\"#7201a8\"],[0.3333333333333333,\"#9c179e\"],[0.4444444444444444,\"#bd3786\"],[0.5555555555555556,\"#d8576b\"],[0.6666666666666666,\"#ed7953\"],[0.7777777777777778,\"#fb9f3a\"],[0.8888888888888888,\"#fdca26\"],[1.0,\"#f0f921\"]]}],\"choropleth\":[{\"type\":\"choropleth\",\"colorbar\":{\"outlinewidth\":0,\"ticks\":\"\"}}],\"histogram2d\":[{\"type\":\"histogram2d\",\"colorbar\":{\"outlinewidth\":0,\"ticks\":\"\"},\"colorscale\":[[0.0,\"#0d0887\"],[0.1111111111111111,\"#46039f\"],[0.2222222222222222,\"#7201a8\"],[0.3333333333333333,\"#9c179e\"],[0.4444444444444444,\"#bd3786\"],[0.5555555555555556,\"#d8576b\"],[0.6666666666666666,\"#ed7953\"],[0.7777777777777778,\"#fb9f3a\"],[0.8888888888888888,\"#fdca26\"],[1.0,\"#f0f921\"]]}],\"heatmap\":[{\"type\":\"heatmap\",\"colorbar\":{\"outlinewidth\":0,\"ticks\":\"\"},\"colorscale\":[[0.0,\"#0d0887\"],[0.1111111111111111,\"#46039f\"],[0.2222222222222222,\"#7201a8\"],[0.3333333333333333,\"#9c179e\"],[0.4444444444444444,\"#bd3786\"],[0.5555555555555556,\"#d8576b\"],[0.6666666666666666,\"#ed7953\"],[0.7777777777777778,\"#fb9f3a\"],[0.8888888888888888,\"#fdca26\"],[1.0,\"#f0f921\"]]}],\"heatmapgl\":[{\"type\":\"heatmapgl\",\"colorbar\":{\"outlinewidth\":0,\"ticks\":\"\"},\"colorscale\":[[0.0,\"#0d0887\"],[0.1111111111111111,\"#46039f\"],[0.2222222222222222,\"#7201a8\"],[0.3333333333333333,\"#9c179e\"],[0.4444444444444444,\"#bd3786\"],[0.5555555555555556,\"#d8576b\"],[0.6666666666666666,\"#ed7953\"],[0.7777777777777778,\"#fb9f3a\"],[0.8888888888888888,\"#fdca26\"],[1.0,\"#f0f921\"]]}],\"contourcarpet\":[{\"type\":\"contourcarpet\",\"colorbar\":{\"outlinewidth\":0,\"ticks\":\"\"}}],\"contour\":[{\"type\":\"contour\",\"colorbar\":{\"outlinewidth\":0,\"ticks\":\"\"},\"colorscale\":[[0.0,\"#0d0887\"],[0.1111111111111111,\"#46039f\"],[0.2222222222222222,\"#7201a8\"],[0.3333333333333333,\"#9c179e\"],[0.4444444444444444,\"#bd3786\"],[0.5555555555555556,\"#d8576b\"],[0.6666666666666666,\"#ed7953\"],[0.7777777777777778,\"#fb9f3a\"],[0.8888888888888888,\"#fdca26\"],[1.0,\"#f0f921\"]]}],\"surface\":[{\"type\":\"surface\",\"colorbar\":{\"outlinewidth\":0,\"ticks\":\"\"},\"colorscale\":[[0.0,\"#0d0887\"],[0.1111111111111111,\"#46039f\"],[0.2222222222222222,\"#7201a8\"],[0.3333333333333333,\"#9c179e\"],[0.4444444444444444,\"#bd3786\"],[0.5555555555555556,\"#d8576b\"],[0.6666666666666666,\"#ed7953\"],[0.7777777777777778,\"#fb9f3a\"],[0.8888888888888888,\"#fdca26\"],[1.0,\"#f0f921\"]]}],\"mesh3d\":[{\"type\":\"mesh3d\",\"colorbar\":{\"outlinewidth\":0,\"ticks\":\"\"}}],\"scatter\":[{\"fillpattern\":{\"fillmode\":\"overlay\",\"size\":10,\"solidity\":0.2},\"type\":\"scatter\"}],\"parcoords\":[{\"type\":\"parcoords\",\"line\":{\"colorbar\":{\"outlinewidth\":0,\"ticks\":\"\"}}}],\"scatterpolargl\":[{\"type\":\"scatterpolargl\",\"marker\":{\"colorbar\":{\"outlinewidth\":0,\"ticks\":\"\"}}}],\"bar\":[{\"error_x\":{\"color\":\"#2a3f5f\"},\"error_y\":{\"color\":\"#2a3f5f\"},\"marker\":{\"line\":{\"color\":\"#E5ECF6\",\"width\":0.5},\"pattern\":{\"fillmode\":\"overlay\",\"size\":10,\"solidity\":0.2}},\"type\":\"bar\"}],\"scattergeo\":[{\"type\":\"scattergeo\",\"marker\":{\"colorbar\":{\"outlinewidth\":0,\"ticks\":\"\"}}}],\"scatterpolar\":[{\"type\":\"scatterpolar\",\"marker\":{\"colorbar\":{\"outlinewidth\":0,\"ticks\":\"\"}}}],\"histogram\":[{\"marker\":{\"pattern\":{\"fillmode\":\"overlay\",\"size\":10,\"solidity\":0.2}},\"type\":\"histogram\"}],\"scattergl\":[{\"type\":\"scattergl\",\"marker\":{\"colorbar\":{\"outlinewidth\":0,\"ticks\":\"\"}}}],\"scatter3d\":[{\"type\":\"scatter3d\",\"line\":{\"colorbar\":{\"outlinewidth\":0,\"ticks\":\"\"}},\"marker\":{\"colorbar\":{\"outlinewidth\":0,\"ticks\":\"\"}}}],\"scattermapbox\":[{\"type\":\"scattermapbox\",\"marker\":{\"colorbar\":{\"outlinewidth\":0,\"ticks\":\"\"}}}],\"scatterternary\":[{\"type\":\"scatterternary\",\"marker\":{\"colorbar\":{\"outlinewidth\":0,\"ticks\":\"\"}}}],\"scattercarpet\":[{\"type\":\"scattercarpet\",\"marker\":{\"colorbar\":{\"outlinewidth\":0,\"ticks\":\"\"}}}],\"carpet\":[{\"aaxis\":{\"endlinecolor\":\"#2a3f5f\",\"gridcolor\":\"white\",\"linecolor\":\"white\",\"minorgridcolor\":\"white\",\"startlinecolor\":\"#2a3f5f\"},\"baxis\":{\"endlinecolor\":\"#2a3f5f\",\"gridcolor\":\"white\",\"linecolor\":\"white\",\"minorgridcolor\":\"white\",\"startlinecolor\":\"#2a3f5f\"},\"type\":\"carpet\"}],\"table\":[{\"cells\":{\"fill\":{\"color\":\"#EBF0F8\"},\"line\":{\"color\":\"white\"}},\"header\":{\"fill\":{\"color\":\"#C8D4E3\"},\"line\":{\"color\":\"white\"}},\"type\":\"table\"}],\"barpolar\":[{\"marker\":{\"line\":{\"color\":\"#E5ECF6\",\"width\":0.5},\"pattern\":{\"fillmode\":\"overlay\",\"size\":10,\"solidity\":0.2}},\"type\":\"barpolar\"}],\"pie\":[{\"automargin\":true,\"type\":\"pie\"}]},\"layout\":{\"autotypenumbers\":\"strict\",\"colorway\":[\"#636efa\",\"#EF553B\",\"#00cc96\",\"#ab63fa\",\"#FFA15A\",\"#19d3f3\",\"#FF6692\",\"#B6E880\",\"#FF97FF\",\"#FECB52\"],\"font\":{\"color\":\"#2a3f5f\"},\"hovermode\":\"closest\",\"hoverlabel\":{\"align\":\"left\"},\"paper_bgcolor\":\"white\",\"plot_bgcolor\":\"#E5ECF6\",\"polar\":{\"bgcolor\":\"#E5ECF6\",\"angularaxis\":{\"gridcolor\":\"white\",\"linecolor\":\"white\",\"ticks\":\"\"},\"radialaxis\":{\"gridcolor\":\"white\",\"linecolor\":\"white\",\"ticks\":\"\"}},\"ternary\":{\"bgcolor\":\"#E5ECF6\",\"aaxis\":{\"gridcolor\":\"white\",\"linecolor\":\"white\",\"ticks\":\"\"},\"baxis\":{\"gridcolor\":\"white\",\"linecolor\":\"white\",\"ticks\":\"\"},\"caxis\":{\"gridcolor\":\"white\",\"linecolor\":\"white\",\"ticks\":\"\"}},\"coloraxis\":{\"colorbar\":{\"outlinewidth\":0,\"ticks\":\"\"}},\"colorscale\":{\"sequential\":[[0.0,\"#0d0887\"],[0.1111111111111111,\"#46039f\"],[0.2222222222222222,\"#7201a8\"],[0.3333333333333333,\"#9c179e\"],[0.4444444444444444,\"#bd3786\"],[0.5555555555555556,\"#d8576b\"],[0.6666666666666666,\"#ed7953\"],[0.7777777777777778,\"#fb9f3a\"],[0.8888888888888888,\"#fdca26\"],[1.0,\"#f0f921\"]],\"sequentialminus\":[[0.0,\"#0d0887\"],[0.1111111111111111,\"#46039f\"],[0.2222222222222222,\"#7201a8\"],[0.3333333333333333,\"#9c179e\"],[0.4444444444444444,\"#bd3786\"],[0.5555555555555556,\"#d8576b\"],[0.6666666666666666,\"#ed7953\"],[0.7777777777777778,\"#fb9f3a\"],[0.8888888888888888,\"#fdca26\"],[1.0,\"#f0f921\"]],\"diverging\":[[0,\"#8e0152\"],[0.1,\"#c51b7d\"],[0.2,\"#de77ae\"],[0.3,\"#f1b6da\"],[0.4,\"#fde0ef\"],[0.5,\"#f7f7f7\"],[0.6,\"#e6f5d0\"],[0.7,\"#b8e186\"],[0.8,\"#7fbc41\"],[0.9,\"#4d9221\"],[1,\"#276419\"]]},\"xaxis\":{\"gridcolor\":\"white\",\"linecolor\":\"white\",\"ticks\":\"\",\"title\":{\"standoff\":15},\"zerolinecolor\":\"white\",\"automargin\":true,\"zerolinewidth\":2},\"yaxis\":{\"gridcolor\":\"white\",\"linecolor\":\"white\",\"ticks\":\"\",\"title\":{\"standoff\":15},\"zerolinecolor\":\"white\",\"automargin\":true,\"zerolinewidth\":2},\"scene\":{\"xaxis\":{\"backgroundcolor\":\"#E5ECF6\",\"gridcolor\":\"white\",\"linecolor\":\"white\",\"showbackground\":true,\"ticks\":\"\",\"zerolinecolor\":\"white\",\"gridwidth\":2},\"yaxis\":{\"backgroundcolor\":\"#E5ECF6\",\"gridcolor\":\"white\",\"linecolor\":\"white\",\"showbackground\":true,\"ticks\":\"\",\"zerolinecolor\":\"white\",\"gridwidth\":2},\"zaxis\":{\"backgroundcolor\":\"#E5ECF6\",\"gridcolor\":\"white\",\"linecolor\":\"white\",\"showbackground\":true,\"ticks\":\"\",\"zerolinecolor\":\"white\",\"gridwidth\":2}},\"shapedefaults\":{\"line\":{\"color\":\"#2a3f5f\"}},\"annotationdefaults\":{\"arrowcolor\":\"#2a3f5f\",\"arrowhead\":0,\"arrowwidth\":1},\"geo\":{\"bgcolor\":\"white\",\"landcolor\":\"#E5ECF6\",\"subunitcolor\":\"white\",\"showland\":true,\"showlakes\":true,\"lakecolor\":\"white\"},\"title\":{\"x\":0.05},\"mapbox\":{\"style\":\"light\"}}},\"geo\":{\"domain\":{\"x\":[0.0,1.0],\"y\":[0.0,1.0]},\"center\":{},\"scope\":\"usa\"},\"coloraxis\":{\"colorbar\":{\"title\":{\"text\":\"Average Eggs Price\"}},\"colorscale\":[[0.0,\"#0d0887\"],[0.1111111111111111,\"#46039f\"],[0.2222222222222222,\"#7201a8\"],[0.3333333333333333,\"#9c179e\"],[0.4444444444444444,\"#bd3786\"],[0.5555555555555556,\"#d8576b\"],[0.6666666666666666,\"#ed7953\"],[0.7777777777777778,\"#fb9f3a\"],[0.8888888888888888,\"#fdca26\"],[1.0,\"#f0f921\"]]},\"legend\":{\"tracegroupgap\":0},\"margin\":{\"t\":60}},                        {\"responsive\": true}                    ).then(function(){\n",
       "                            \n",
       "var gd = document.getElementById('d9f02a2a-f828-4b7f-9c10-93fdaca7bc1e');\n",
       "var x = new MutationObserver(function (mutations, observer) {{\n",
       "        var display = window.getComputedStyle(gd).display;\n",
       "        if (!display || display === 'none') {{\n",
       "            console.log([gd, 'removed!']);\n",
       "            Plotly.purge(gd);\n",
       "            observer.disconnect();\n",
       "        }}\n",
       "}});\n",
       "\n",
       "// Listen for the removal of the full notebook cells\n",
       "var notebookContainer = gd.closest('#notebook-container');\n",
       "if (notebookContainer) {{\n",
       "    x.observe(notebookContainer, {childList: true});\n",
       "}}\n",
       "\n",
       "// Listen for the clearing of the current output cell\n",
       "var outputEl = gd.closest('.output');\n",
       "if (outputEl) {{\n",
       "    x.observe(outputEl, {childList: true});\n",
       "}}\n",
       "\n",
       "                        })                };                });            </script>        </div>"
      ]
     },
     "metadata": {},
     "output_type": "display_data"
    },
    {
     "data": {
      "application/vnd.plotly.v1+json": {
       "config": {
        "plotlyServerURL": "https://plot.ly"
       },
       "data": [
        {
         "coloraxis": "coloraxis",
         "geo": "geo",
         "hovertemplate": "<b>%{hovertext}</b><br><br>State=%{location}<br>Average Gum Price=%{z}<extra></extra>",
         "hovertext": [
          "01040",
          "02114",
          "02122",
          "02865",
          "02886",
          "02917",
          "03063",
          "03110",
          "03840",
          "04086",
          "04401",
          "04952",
          "05403",
          "06042",
          "06241",
          "06901",
          "07047",
          "07310",
          "08865",
          "11217",
          "14020",
          "14850",
          "16601",
          "16803",
          "17013",
          "19103",
          "19148",
          "19808",
          "19901",
          "19931",
          "20886",
          "21009",
          "21030",
          "21704",
          "22305",
          "24151",
          "24487",
          "25309",
          "25526",
          "26059",
          "27609",
          "28104",
          "28704",
          "29607",
          "29621",
          "29680",
          "30189",
          "30324",
          "31525",
          "33403",
          "33428",
          "33463",
          "35226",
          "35601",
          "36526",
          "37801",
          "38017",
          "38133",
          "39159",
          "39213",
          "39402",
          "40241",
          "42104",
          "42301",
          "44870",
          "45236",
          "45249",
          "46237",
          "46383",
          "47401",
          "48374",
          "48507",
          "49855",
          "50009",
          "50702",
          "52404",
          "53085",
          "53207",
          "54235",
          "55066",
          "55403",
          "56601",
          "57110",
          "57401",
          "57701",
          "58103",
          "58563",
          "58701",
          "59718",
          "59901",
          "60014",
          "60610",
          "61401",
          "63010",
          "63033",
          "64114",
          "66062",
          "66111",
          "67401",
          "68073",
          "68116",
          "68123",
          "70816",
          "71111",
          "71301",
          "72032",
          "72703",
          "72903",
          "73034",
          "74055",
          "74133",
          "77840",
          "78717",
          "79707",
          "79707",
          "80108",
          "80202",
          "81401",
          "82009",
          "82609",
          "83001",
          "83704",
          "83713",
          "83815",
          "84095",
          "84121",
          "84660",
          "85207",
          "85748",
          "87114",
          "87124",
          "87402",
          "89183",
          "89434",
          "89705",
          "90065",
          "91730",
          "95330",
          "96734",
          "96740",
          "97217",
          "97303",
          "98101",
          "98233",
          "98614",
          "98626",
          "98901",
          "99515",
          "99654"
         ],
         "locationmode": "USA-states",
         "locations": [
          "MA",
          "MA",
          "MA",
          "RI",
          "RI",
          "RI",
          "NH",
          "NH",
          "NH",
          "ME",
          "ME",
          "ME",
          "VT",
          "CT",
          "CT",
          "CT",
          "NJ",
          "NJ",
          "NJ",
          "NY",
          "NY",
          "NY",
          "PA",
          "",
          "PA",
          "PA",
          "",
          "DE",
          "DE",
          "DE",
          "Germantown",
          "MD",
          "MD",
          "MD",
          "VA",
          "VA",
          "VA",
          "WV",
          "WV",
          "WV",
          "NC",
          "NC",
          "NC",
          "SC",
          "SC",
          "SC",
          "GA",
          "GA",
          "GA",
          "FL",
          "FL",
          "FL",
          "AL",
          "AL",
          "AL",
          "TN",
          "TN",
          "TN",
          "MS",
          "MS",
          "MS",
          "KY",
          "KY",
          "KY",
          "OH",
          "OH",
          "OH",
          "IN",
          "IN",
          "IN",
          "MI",
          "MI",
          "MI",
          "IA",
          "IA",
          "IA",
          "WI",
          "WI",
          "WI",
          "MN",
          "MN",
          "MN",
          "SD",
          "SD",
          "SD",
          "ND",
          "ND",
          "ND",
          "MT",
          "MT",
          "IL",
          "IL",
          "IL",
          "MO",
          "MO",
          "MO",
          "KS",
          "KS",
          "KS",
          "NE",
          "NE",
          "NE",
          "LA",
          "LA",
          "LA",
          "AR",
          "AR",
          "AR",
          "OK",
          "OK",
          "OK",
          "TX",
          "TX",
          "TX",
          "TX",
          "CO",
          "CO",
          "CO",
          "WY",
          "WY",
          "WY",
          "ID",
          "ID",
          "ID",
          "UT",
          "UT",
          "UT",
          "AZ",
          "AZ",
          "NM",
          "NM",
          "NM",
          "NV",
          "NV",
          "NV",
          "CA",
          "CA",
          "CA",
          "HI",
          "HI",
          "OR",
          "OR",
          "WA",
          "WA",
          "WA",
          "WA",
          "WA",
          "AK",
          "AK"
         ],
         "name": "",
         "type": "choropleth",
         "z": [
          1.7566666666666666,
          1.7566666666666666,
          1.7566666666666666,
          1.7233333333333334,
          1.7233333333333334,
          1.7233333333333334,
          1.6900000000000002,
          1.6900000000000002,
          1.6900000000000002,
          1.7233333333333334,
          1.7233333333333334,
          1.7233333333333334,
          1.69,
          1.7566666666666666,
          1.7566666666666666,
          1.7566666666666666,
          1.6900000000000002,
          1.6900000000000002,
          1.6900000000000002,
          1.6900000000000002,
          1.6900000000000002,
          1.6900000000000002,
          1.6900000000000002,
          null,
          1.6900000000000002,
          1.6900000000000002,
          null,
          1.6900000000000002,
          1.6900000000000002,
          1.6900000000000002,
          null,
          1.7566666666666666,
          1.7566666666666666,
          1.7566666666666666,
          1.8233333333333333,
          1.8233333333333333,
          1.8233333333333333,
          1.79,
          1.79,
          1.79,
          1.79,
          1.79,
          1.79,
          1.79,
          1.79,
          1.79,
          1.79,
          1.79,
          1.79,
          1.79,
          1.79,
          1.79,
          1.79,
          1.79,
          1.79,
          1.79,
          1.79,
          1.79,
          1.79,
          1.79,
          1.79,
          1.79,
          1.79,
          1.79,
          1.6900000000000002,
          1.6900000000000002,
          1.6900000000000002,
          1.6900000000000002,
          1.6900000000000002,
          1.6900000000000002,
          1.6900000000000002,
          1.6900000000000002,
          1.6900000000000002,
          1.79,
          1.79,
          1.79,
          1.6900000000000002,
          1.6900000000000002,
          1.6900000000000002,
          1.79,
          1.79,
          1.79,
          1.79,
          1.79,
          1.79,
          1.79,
          1.79,
          1.79,
          1.79,
          1.79,
          1.6900000000000002,
          1.6900000000000002,
          1.6900000000000002,
          1.79,
          1.79,
          1.79,
          1.79,
          1.79,
          1.79,
          1.79,
          1.79,
          1.79,
          1.79,
          1.79,
          1.79,
          1.79,
          1.79,
          1.79,
          1.79,
          1.79,
          1.79,
          1.79,
          1.79,
          1.79,
          1.79,
          1.79,
          1.79,
          1.79,
          1.79,
          1.79,
          1.79,
          1.79,
          1.79,
          1.79,
          1.79,
          1.79,
          1.79,
          1.79,
          1.79,
          1.79,
          1.79,
          1.79,
          1.79,
          1.79,
          1.79,
          1.79,
          1.79,
          1.79,
          1.79,
          1.79,
          1.79,
          1.79,
          1.7899999999999998,
          1.7899999999999998,
          1.7899999999999998,
          1.7899999999999998,
          1.7899999999999998,
          1.99,
          1.99
         ]
        }
       ],
       "layout": {
        "coloraxis": {
         "colorbar": {
          "title": {
           "text": "Average Gum Price"
          }
         },
         "colorscale": [
          [
           0,
           "#0d0887"
          ],
          [
           0.1111111111111111,
           "#46039f"
          ],
          [
           0.2222222222222222,
           "#7201a8"
          ],
          [
           0.3333333333333333,
           "#9c179e"
          ],
          [
           0.4444444444444444,
           "#bd3786"
          ],
          [
           0.5555555555555556,
           "#d8576b"
          ],
          [
           0.6666666666666666,
           "#ed7953"
          ],
          [
           0.7777777777777778,
           "#fb9f3a"
          ],
          [
           0.8888888888888888,
           "#fdca26"
          ],
          [
           1,
           "#f0f921"
          ]
         ]
        },
        "geo": {
         "center": {},
         "domain": {
          "x": [
           0,
           1
          ],
          "y": [
           0,
           1
          ]
         },
         "scope": "usa"
        },
        "legend": {
         "tracegroupgap": 0
        },
        "margin": {
         "t": 60
        },
        "template": {
         "data": {
          "bar": [
           {
            "error_x": {
             "color": "#2a3f5f"
            },
            "error_y": {
             "color": "#2a3f5f"
            },
            "marker": {
             "line": {
              "color": "#E5ECF6",
              "width": 0.5
             },
             "pattern": {
              "fillmode": "overlay",
              "size": 10,
              "solidity": 0.2
             }
            },
            "type": "bar"
           }
          ],
          "barpolar": [
           {
            "marker": {
             "line": {
              "color": "#E5ECF6",
              "width": 0.5
             },
             "pattern": {
              "fillmode": "overlay",
              "size": 10,
              "solidity": 0.2
             }
            },
            "type": "barpolar"
           }
          ],
          "carpet": [
           {
            "aaxis": {
             "endlinecolor": "#2a3f5f",
             "gridcolor": "white",
             "linecolor": "white",
             "minorgridcolor": "white",
             "startlinecolor": "#2a3f5f"
            },
            "baxis": {
             "endlinecolor": "#2a3f5f",
             "gridcolor": "white",
             "linecolor": "white",
             "minorgridcolor": "white",
             "startlinecolor": "#2a3f5f"
            },
            "type": "carpet"
           }
          ],
          "choropleth": [
           {
            "colorbar": {
             "outlinewidth": 0,
             "ticks": ""
            },
            "type": "choropleth"
           }
          ],
          "contour": [
           {
            "colorbar": {
             "outlinewidth": 0,
             "ticks": ""
            },
            "colorscale": [
             [
              0,
              "#0d0887"
             ],
             [
              0.1111111111111111,
              "#46039f"
             ],
             [
              0.2222222222222222,
              "#7201a8"
             ],
             [
              0.3333333333333333,
              "#9c179e"
             ],
             [
              0.4444444444444444,
              "#bd3786"
             ],
             [
              0.5555555555555556,
              "#d8576b"
             ],
             [
              0.6666666666666666,
              "#ed7953"
             ],
             [
              0.7777777777777778,
              "#fb9f3a"
             ],
             [
              0.8888888888888888,
              "#fdca26"
             ],
             [
              1,
              "#f0f921"
             ]
            ],
            "type": "contour"
           }
          ],
          "contourcarpet": [
           {
            "colorbar": {
             "outlinewidth": 0,
             "ticks": ""
            },
            "type": "contourcarpet"
           }
          ],
          "heatmap": [
           {
            "colorbar": {
             "outlinewidth": 0,
             "ticks": ""
            },
            "colorscale": [
             [
              0,
              "#0d0887"
             ],
             [
              0.1111111111111111,
              "#46039f"
             ],
             [
              0.2222222222222222,
              "#7201a8"
             ],
             [
              0.3333333333333333,
              "#9c179e"
             ],
             [
              0.4444444444444444,
              "#bd3786"
             ],
             [
              0.5555555555555556,
              "#d8576b"
             ],
             [
              0.6666666666666666,
              "#ed7953"
             ],
             [
              0.7777777777777778,
              "#fb9f3a"
             ],
             [
              0.8888888888888888,
              "#fdca26"
             ],
             [
              1,
              "#f0f921"
             ]
            ],
            "type": "heatmap"
           }
          ],
          "heatmapgl": [
           {
            "colorbar": {
             "outlinewidth": 0,
             "ticks": ""
            },
            "colorscale": [
             [
              0,
              "#0d0887"
             ],
             [
              0.1111111111111111,
              "#46039f"
             ],
             [
              0.2222222222222222,
              "#7201a8"
             ],
             [
              0.3333333333333333,
              "#9c179e"
             ],
             [
              0.4444444444444444,
              "#bd3786"
             ],
             [
              0.5555555555555556,
              "#d8576b"
             ],
             [
              0.6666666666666666,
              "#ed7953"
             ],
             [
              0.7777777777777778,
              "#fb9f3a"
             ],
             [
              0.8888888888888888,
              "#fdca26"
             ],
             [
              1,
              "#f0f921"
             ]
            ],
            "type": "heatmapgl"
           }
          ],
          "histogram": [
           {
            "marker": {
             "pattern": {
              "fillmode": "overlay",
              "size": 10,
              "solidity": 0.2
             }
            },
            "type": "histogram"
           }
          ],
          "histogram2d": [
           {
            "colorbar": {
             "outlinewidth": 0,
             "ticks": ""
            },
            "colorscale": [
             [
              0,
              "#0d0887"
             ],
             [
              0.1111111111111111,
              "#46039f"
             ],
             [
              0.2222222222222222,
              "#7201a8"
             ],
             [
              0.3333333333333333,
              "#9c179e"
             ],
             [
              0.4444444444444444,
              "#bd3786"
             ],
             [
              0.5555555555555556,
              "#d8576b"
             ],
             [
              0.6666666666666666,
              "#ed7953"
             ],
             [
              0.7777777777777778,
              "#fb9f3a"
             ],
             [
              0.8888888888888888,
              "#fdca26"
             ],
             [
              1,
              "#f0f921"
             ]
            ],
            "type": "histogram2d"
           }
          ],
          "histogram2dcontour": [
           {
            "colorbar": {
             "outlinewidth": 0,
             "ticks": ""
            },
            "colorscale": [
             [
              0,
              "#0d0887"
             ],
             [
              0.1111111111111111,
              "#46039f"
             ],
             [
              0.2222222222222222,
              "#7201a8"
             ],
             [
              0.3333333333333333,
              "#9c179e"
             ],
             [
              0.4444444444444444,
              "#bd3786"
             ],
             [
              0.5555555555555556,
              "#d8576b"
             ],
             [
              0.6666666666666666,
              "#ed7953"
             ],
             [
              0.7777777777777778,
              "#fb9f3a"
             ],
             [
              0.8888888888888888,
              "#fdca26"
             ],
             [
              1,
              "#f0f921"
             ]
            ],
            "type": "histogram2dcontour"
           }
          ],
          "mesh3d": [
           {
            "colorbar": {
             "outlinewidth": 0,
             "ticks": ""
            },
            "type": "mesh3d"
           }
          ],
          "parcoords": [
           {
            "line": {
             "colorbar": {
              "outlinewidth": 0,
              "ticks": ""
             }
            },
            "type": "parcoords"
           }
          ],
          "pie": [
           {
            "automargin": true,
            "type": "pie"
           }
          ],
          "scatter": [
           {
            "fillpattern": {
             "fillmode": "overlay",
             "size": 10,
             "solidity": 0.2
            },
            "type": "scatter"
           }
          ],
          "scatter3d": [
           {
            "line": {
             "colorbar": {
              "outlinewidth": 0,
              "ticks": ""
             }
            },
            "marker": {
             "colorbar": {
              "outlinewidth": 0,
              "ticks": ""
             }
            },
            "type": "scatter3d"
           }
          ],
          "scattercarpet": [
           {
            "marker": {
             "colorbar": {
              "outlinewidth": 0,
              "ticks": ""
             }
            },
            "type": "scattercarpet"
           }
          ],
          "scattergeo": [
           {
            "marker": {
             "colorbar": {
              "outlinewidth": 0,
              "ticks": ""
             }
            },
            "type": "scattergeo"
           }
          ],
          "scattergl": [
           {
            "marker": {
             "colorbar": {
              "outlinewidth": 0,
              "ticks": ""
             }
            },
            "type": "scattergl"
           }
          ],
          "scattermapbox": [
           {
            "marker": {
             "colorbar": {
              "outlinewidth": 0,
              "ticks": ""
             }
            },
            "type": "scattermapbox"
           }
          ],
          "scatterpolar": [
           {
            "marker": {
             "colorbar": {
              "outlinewidth": 0,
              "ticks": ""
             }
            },
            "type": "scatterpolar"
           }
          ],
          "scatterpolargl": [
           {
            "marker": {
             "colorbar": {
              "outlinewidth": 0,
              "ticks": ""
             }
            },
            "type": "scatterpolargl"
           }
          ],
          "scatterternary": [
           {
            "marker": {
             "colorbar": {
              "outlinewidth": 0,
              "ticks": ""
             }
            },
            "type": "scatterternary"
           }
          ],
          "surface": [
           {
            "colorbar": {
             "outlinewidth": 0,
             "ticks": ""
            },
            "colorscale": [
             [
              0,
              "#0d0887"
             ],
             [
              0.1111111111111111,
              "#46039f"
             ],
             [
              0.2222222222222222,
              "#7201a8"
             ],
             [
              0.3333333333333333,
              "#9c179e"
             ],
             [
              0.4444444444444444,
              "#bd3786"
             ],
             [
              0.5555555555555556,
              "#d8576b"
             ],
             [
              0.6666666666666666,
              "#ed7953"
             ],
             [
              0.7777777777777778,
              "#fb9f3a"
             ],
             [
              0.8888888888888888,
              "#fdca26"
             ],
             [
              1,
              "#f0f921"
             ]
            ],
            "type": "surface"
           }
          ],
          "table": [
           {
            "cells": {
             "fill": {
              "color": "#EBF0F8"
             },
             "line": {
              "color": "white"
             }
            },
            "header": {
             "fill": {
              "color": "#C8D4E3"
             },
             "line": {
              "color": "white"
             }
            },
            "type": "table"
           }
          ]
         },
         "layout": {
          "annotationdefaults": {
           "arrowcolor": "#2a3f5f",
           "arrowhead": 0,
           "arrowwidth": 1
          },
          "autotypenumbers": "strict",
          "coloraxis": {
           "colorbar": {
            "outlinewidth": 0,
            "ticks": ""
           }
          },
          "colorscale": {
           "diverging": [
            [
             0,
             "#8e0152"
            ],
            [
             0.1,
             "#c51b7d"
            ],
            [
             0.2,
             "#de77ae"
            ],
            [
             0.3,
             "#f1b6da"
            ],
            [
             0.4,
             "#fde0ef"
            ],
            [
             0.5,
             "#f7f7f7"
            ],
            [
             0.6,
             "#e6f5d0"
            ],
            [
             0.7,
             "#b8e186"
            ],
            [
             0.8,
             "#7fbc41"
            ],
            [
             0.9,
             "#4d9221"
            ],
            [
             1,
             "#276419"
            ]
           ],
           "sequential": [
            [
             0,
             "#0d0887"
            ],
            [
             0.1111111111111111,
             "#46039f"
            ],
            [
             0.2222222222222222,
             "#7201a8"
            ],
            [
             0.3333333333333333,
             "#9c179e"
            ],
            [
             0.4444444444444444,
             "#bd3786"
            ],
            [
             0.5555555555555556,
             "#d8576b"
            ],
            [
             0.6666666666666666,
             "#ed7953"
            ],
            [
             0.7777777777777778,
             "#fb9f3a"
            ],
            [
             0.8888888888888888,
             "#fdca26"
            ],
            [
             1,
             "#f0f921"
            ]
           ],
           "sequentialminus": [
            [
             0,
             "#0d0887"
            ],
            [
             0.1111111111111111,
             "#46039f"
            ],
            [
             0.2222222222222222,
             "#7201a8"
            ],
            [
             0.3333333333333333,
             "#9c179e"
            ],
            [
             0.4444444444444444,
             "#bd3786"
            ],
            [
             0.5555555555555556,
             "#d8576b"
            ],
            [
             0.6666666666666666,
             "#ed7953"
            ],
            [
             0.7777777777777778,
             "#fb9f3a"
            ],
            [
             0.8888888888888888,
             "#fdca26"
            ],
            [
             1,
             "#f0f921"
            ]
           ]
          },
          "colorway": [
           "#636efa",
           "#EF553B",
           "#00cc96",
           "#ab63fa",
           "#FFA15A",
           "#19d3f3",
           "#FF6692",
           "#B6E880",
           "#FF97FF",
           "#FECB52"
          ],
          "font": {
           "color": "#2a3f5f"
          },
          "geo": {
           "bgcolor": "white",
           "lakecolor": "white",
           "landcolor": "#E5ECF6",
           "showlakes": true,
           "showland": true,
           "subunitcolor": "white"
          },
          "hoverlabel": {
           "align": "left"
          },
          "hovermode": "closest",
          "mapbox": {
           "style": "light"
          },
          "paper_bgcolor": "white",
          "plot_bgcolor": "#E5ECF6",
          "polar": {
           "angularaxis": {
            "gridcolor": "white",
            "linecolor": "white",
            "ticks": ""
           },
           "bgcolor": "#E5ECF6",
           "radialaxis": {
            "gridcolor": "white",
            "linecolor": "white",
            "ticks": ""
           }
          },
          "scene": {
           "xaxis": {
            "backgroundcolor": "#E5ECF6",
            "gridcolor": "white",
            "gridwidth": 2,
            "linecolor": "white",
            "showbackground": true,
            "ticks": "",
            "zerolinecolor": "white"
           },
           "yaxis": {
            "backgroundcolor": "#E5ECF6",
            "gridcolor": "white",
            "gridwidth": 2,
            "linecolor": "white",
            "showbackground": true,
            "ticks": "",
            "zerolinecolor": "white"
           },
           "zaxis": {
            "backgroundcolor": "#E5ECF6",
            "gridcolor": "white",
            "gridwidth": 2,
            "linecolor": "white",
            "showbackground": true,
            "ticks": "",
            "zerolinecolor": "white"
           }
          },
          "shapedefaults": {
           "line": {
            "color": "#2a3f5f"
           }
          },
          "ternary": {
           "aaxis": {
            "gridcolor": "white",
            "linecolor": "white",
            "ticks": ""
           },
           "baxis": {
            "gridcolor": "white",
            "linecolor": "white",
            "ticks": ""
           },
           "bgcolor": "#E5ECF6",
           "caxis": {
            "gridcolor": "white",
            "linecolor": "white",
            "ticks": ""
           }
          },
          "title": {
           "x": 0.05
          },
          "xaxis": {
           "automargin": true,
           "gridcolor": "white",
           "linecolor": "white",
           "ticks": "",
           "title": {
            "standoff": 15
           },
           "zerolinecolor": "white",
           "zerolinewidth": 2
          },
          "yaxis": {
           "automargin": true,
           "gridcolor": "white",
           "linecolor": "white",
           "ticks": "",
           "title": {
            "standoff": 15
           },
           "zerolinecolor": "white",
           "zerolinewidth": 2
          }
         }
        }
       }
      },
      "text/html": [
       "<div>                            <div id=\"791532b2-d3e7-4880-97c3-d0e249d2278f\" class=\"plotly-graph-div\" style=\"height:525px; width:100%;\"></div>            <script type=\"text/javascript\">                require([\"plotly\"], function(Plotly) {                    window.PLOTLYENV=window.PLOTLYENV || {};                                    if (document.getElementById(\"791532b2-d3e7-4880-97c3-d0e249d2278f\")) {                    Plotly.newPlot(                        \"791532b2-d3e7-4880-97c3-d0e249d2278f\",                        [{\"coloraxis\":\"coloraxis\",\"geo\":\"geo\",\"hovertemplate\":\"<b>%{hovertext}</b><br><br>State=%{location}<br>Average Gum Price=%{z}<extra></extra>\",\"hovertext\":[\"01040\",\"02114\",\"02122\",\"02865\",\"02886\",\"02917\",\"03063\",\"03110\",\"03840\",\"04086\",\"04401\",\"04952\",\"05403\",\"06042\",\"06241\",\"06901\",\"07047\",\"07310\",\"08865\",\"11217\",\"14020\",\"14850\",\"16601\",\"16803\",\"17013\",\"19103\",\"19148\",\"19808\",\"19901\",\"19931\",\"20886\",\"21009\",\"21030\",\"21704\",\"22305\",\"24151\",\"24487\",\"25309\",\"25526\",\"26059\",\"27609\",\"28104\",\"28704\",\"29607\",\"29621\",\"29680\",\"30189\",\"30324\",\"31525\",\"33403\",\"33428\",\"33463\",\"35226\",\"35601\",\"36526\",\"37801\",\"38017\",\"38133\",\"39159\",\"39213\",\"39402\",\"40241\",\"42104\",\"42301\",\"44870\",\"45236\",\"45249\",\"46237\",\"46383\",\"47401\",\"48374\",\"48507\",\"49855\",\"50009\",\"50702\",\"52404\",\"53085\",\"53207\",\"54235\",\"55066\",\"55403\",\"56601\",\"57110\",\"57401\",\"57701\",\"58103\",\"58563\",\"58701\",\"59718\",\"59901\",\"60014\",\"60610\",\"61401\",\"63010\",\"63033\",\"64114\",\"66062\",\"66111\",\"67401\",\"68073\",\"68116\",\"68123\",\"70816\",\"71111\",\"71301\",\"72032\",\"72703\",\"72903\",\"73034\",\"74055\",\"74133\",\"77840\",\"78717\",\"79707\",\"79707\",\"80108\",\"80202\",\"81401\",\"82009\",\"82609\",\"83001\",\"83704\",\"83713\",\"83815\",\"84095\",\"84121\",\"84660\",\"85207\",\"85748\",\"87114\",\"87124\",\"87402\",\"89183\",\"89434\",\"89705\",\"90065\",\"91730\",\"95330\",\"96734\",\"96740\",\"97217\",\"97303\",\"98101\",\"98233\",\"98614\",\"98626\",\"98901\",\"99515\",\"99654\"],\"locationmode\":\"USA-states\",\"locations\":[\"MA\",\"MA\",\"MA\",\"RI\",\"RI\",\"RI\",\"NH\",\"NH\",\"NH\",\"ME\",\"ME\",\"ME\",\"VT\",\"CT\",\"CT\",\"CT\",\"NJ\",\"NJ\",\"NJ\",\"NY\",\"NY\",\"NY\",\"PA\",\"\",\"PA\",\"PA\",\"\",\"DE\",\"DE\",\"DE\",\"Germantown\",\"MD\",\"MD\",\"MD\",\"VA\",\"VA\",\"VA\",\"WV\",\"WV\",\"WV\",\"NC\",\"NC\",\"NC\",\"SC\",\"SC\",\"SC\",\"GA\",\"GA\",\"GA\",\"FL\",\"FL\",\"FL\",\"AL\",\"AL\",\"AL\",\"TN\",\"TN\",\"TN\",\"MS\",\"MS\",\"MS\",\"KY\",\"KY\",\"KY\",\"OH\",\"OH\",\"OH\",\"IN\",\"IN\",\"IN\",\"MI\",\"MI\",\"MI\",\"IA\",\"IA\",\"IA\",\"WI\",\"WI\",\"WI\",\"MN\",\"MN\",\"MN\",\"SD\",\"SD\",\"SD\",\"ND\",\"ND\",\"ND\",\"MT\",\"MT\",\"IL\",\"IL\",\"IL\",\"MO\",\"MO\",\"MO\",\"KS\",\"KS\",\"KS\",\"NE\",\"NE\",\"NE\",\"LA\",\"LA\",\"LA\",\"AR\",\"AR\",\"AR\",\"OK\",\"OK\",\"OK\",\"TX\",\"TX\",\"TX\",\"TX\",\"CO\",\"CO\",\"CO\",\"WY\",\"WY\",\"WY\",\"ID\",\"ID\",\"ID\",\"UT\",\"UT\",\"UT\",\"AZ\",\"AZ\",\"NM\",\"NM\",\"NM\",\"NV\",\"NV\",\"NV\",\"CA\",\"CA\",\"CA\",\"HI\",\"HI\",\"OR\",\"OR\",\"WA\",\"WA\",\"WA\",\"WA\",\"WA\",\"AK\",\"AK\"],\"name\":\"\",\"z\":[1.7566666666666666,1.7566666666666666,1.7566666666666666,1.7233333333333334,1.7233333333333334,1.7233333333333334,1.6900000000000002,1.6900000000000002,1.6900000000000002,1.7233333333333334,1.7233333333333334,1.7233333333333334,1.69,1.7566666666666666,1.7566666666666666,1.7566666666666666,1.6900000000000002,1.6900000000000002,1.6900000000000002,1.6900000000000002,1.6900000000000002,1.6900000000000002,1.6900000000000002,null,1.6900000000000002,1.6900000000000002,null,1.6900000000000002,1.6900000000000002,1.6900000000000002,null,1.7566666666666666,1.7566666666666666,1.7566666666666666,1.8233333333333333,1.8233333333333333,1.8233333333333333,1.79,1.79,1.79,1.79,1.79,1.79,1.79,1.79,1.79,1.79,1.79,1.79,1.79,1.79,1.79,1.79,1.79,1.79,1.79,1.79,1.79,1.79,1.79,1.79,1.79,1.79,1.79,1.6900000000000002,1.6900000000000002,1.6900000000000002,1.6900000000000002,1.6900000000000002,1.6900000000000002,1.6900000000000002,1.6900000000000002,1.6900000000000002,1.79,1.79,1.79,1.6900000000000002,1.6900000000000002,1.6900000000000002,1.79,1.79,1.79,1.79,1.79,1.79,1.79,1.79,1.79,1.79,1.79,1.6900000000000002,1.6900000000000002,1.6900000000000002,1.79,1.79,1.79,1.79,1.79,1.79,1.79,1.79,1.79,1.79,1.79,1.79,1.79,1.79,1.79,1.79,1.79,1.79,1.79,1.79,1.79,1.79,1.79,1.79,1.79,1.79,1.79,1.79,1.79,1.79,1.79,1.79,1.79,1.79,1.79,1.79,1.79,1.79,1.79,1.79,1.79,1.79,1.79,1.79,1.79,1.79,1.79,1.79,1.79,1.7899999999999998,1.7899999999999998,1.7899999999999998,1.7899999999999998,1.7899999999999998,1.99,1.99],\"type\":\"choropleth\"}],                        {\"template\":{\"data\":{\"histogram2dcontour\":[{\"type\":\"histogram2dcontour\",\"colorbar\":{\"outlinewidth\":0,\"ticks\":\"\"},\"colorscale\":[[0.0,\"#0d0887\"],[0.1111111111111111,\"#46039f\"],[0.2222222222222222,\"#7201a8\"],[0.3333333333333333,\"#9c179e\"],[0.4444444444444444,\"#bd3786\"],[0.5555555555555556,\"#d8576b\"],[0.6666666666666666,\"#ed7953\"],[0.7777777777777778,\"#fb9f3a\"],[0.8888888888888888,\"#fdca26\"],[1.0,\"#f0f921\"]]}],\"choropleth\":[{\"type\":\"choropleth\",\"colorbar\":{\"outlinewidth\":0,\"ticks\":\"\"}}],\"histogram2d\":[{\"type\":\"histogram2d\",\"colorbar\":{\"outlinewidth\":0,\"ticks\":\"\"},\"colorscale\":[[0.0,\"#0d0887\"],[0.1111111111111111,\"#46039f\"],[0.2222222222222222,\"#7201a8\"],[0.3333333333333333,\"#9c179e\"],[0.4444444444444444,\"#bd3786\"],[0.5555555555555556,\"#d8576b\"],[0.6666666666666666,\"#ed7953\"],[0.7777777777777778,\"#fb9f3a\"],[0.8888888888888888,\"#fdca26\"],[1.0,\"#f0f921\"]]}],\"heatmap\":[{\"type\":\"heatmap\",\"colorbar\":{\"outlinewidth\":0,\"ticks\":\"\"},\"colorscale\":[[0.0,\"#0d0887\"],[0.1111111111111111,\"#46039f\"],[0.2222222222222222,\"#7201a8\"],[0.3333333333333333,\"#9c179e\"],[0.4444444444444444,\"#bd3786\"],[0.5555555555555556,\"#d8576b\"],[0.6666666666666666,\"#ed7953\"],[0.7777777777777778,\"#fb9f3a\"],[0.8888888888888888,\"#fdca26\"],[1.0,\"#f0f921\"]]}],\"heatmapgl\":[{\"type\":\"heatmapgl\",\"colorbar\":{\"outlinewidth\":0,\"ticks\":\"\"},\"colorscale\":[[0.0,\"#0d0887\"],[0.1111111111111111,\"#46039f\"],[0.2222222222222222,\"#7201a8\"],[0.3333333333333333,\"#9c179e\"],[0.4444444444444444,\"#bd3786\"],[0.5555555555555556,\"#d8576b\"],[0.6666666666666666,\"#ed7953\"],[0.7777777777777778,\"#fb9f3a\"],[0.8888888888888888,\"#fdca26\"],[1.0,\"#f0f921\"]]}],\"contourcarpet\":[{\"type\":\"contourcarpet\",\"colorbar\":{\"outlinewidth\":0,\"ticks\":\"\"}}],\"contour\":[{\"type\":\"contour\",\"colorbar\":{\"outlinewidth\":0,\"ticks\":\"\"},\"colorscale\":[[0.0,\"#0d0887\"],[0.1111111111111111,\"#46039f\"],[0.2222222222222222,\"#7201a8\"],[0.3333333333333333,\"#9c179e\"],[0.4444444444444444,\"#bd3786\"],[0.5555555555555556,\"#d8576b\"],[0.6666666666666666,\"#ed7953\"],[0.7777777777777778,\"#fb9f3a\"],[0.8888888888888888,\"#fdca26\"],[1.0,\"#f0f921\"]]}],\"surface\":[{\"type\":\"surface\",\"colorbar\":{\"outlinewidth\":0,\"ticks\":\"\"},\"colorscale\":[[0.0,\"#0d0887\"],[0.1111111111111111,\"#46039f\"],[0.2222222222222222,\"#7201a8\"],[0.3333333333333333,\"#9c179e\"],[0.4444444444444444,\"#bd3786\"],[0.5555555555555556,\"#d8576b\"],[0.6666666666666666,\"#ed7953\"],[0.7777777777777778,\"#fb9f3a\"],[0.8888888888888888,\"#fdca26\"],[1.0,\"#f0f921\"]]}],\"mesh3d\":[{\"type\":\"mesh3d\",\"colorbar\":{\"outlinewidth\":0,\"ticks\":\"\"}}],\"scatter\":[{\"fillpattern\":{\"fillmode\":\"overlay\",\"size\":10,\"solidity\":0.2},\"type\":\"scatter\"}],\"parcoords\":[{\"type\":\"parcoords\",\"line\":{\"colorbar\":{\"outlinewidth\":0,\"ticks\":\"\"}}}],\"scatterpolargl\":[{\"type\":\"scatterpolargl\",\"marker\":{\"colorbar\":{\"outlinewidth\":0,\"ticks\":\"\"}}}],\"bar\":[{\"error_x\":{\"color\":\"#2a3f5f\"},\"error_y\":{\"color\":\"#2a3f5f\"},\"marker\":{\"line\":{\"color\":\"#E5ECF6\",\"width\":0.5},\"pattern\":{\"fillmode\":\"overlay\",\"size\":10,\"solidity\":0.2}},\"type\":\"bar\"}],\"scattergeo\":[{\"type\":\"scattergeo\",\"marker\":{\"colorbar\":{\"outlinewidth\":0,\"ticks\":\"\"}}}],\"scatterpolar\":[{\"type\":\"scatterpolar\",\"marker\":{\"colorbar\":{\"outlinewidth\":0,\"ticks\":\"\"}}}],\"histogram\":[{\"marker\":{\"pattern\":{\"fillmode\":\"overlay\",\"size\":10,\"solidity\":0.2}},\"type\":\"histogram\"}],\"scattergl\":[{\"type\":\"scattergl\",\"marker\":{\"colorbar\":{\"outlinewidth\":0,\"ticks\":\"\"}}}],\"scatter3d\":[{\"type\":\"scatter3d\",\"line\":{\"colorbar\":{\"outlinewidth\":0,\"ticks\":\"\"}},\"marker\":{\"colorbar\":{\"outlinewidth\":0,\"ticks\":\"\"}}}],\"scattermapbox\":[{\"type\":\"scattermapbox\",\"marker\":{\"colorbar\":{\"outlinewidth\":0,\"ticks\":\"\"}}}],\"scatterternary\":[{\"type\":\"scatterternary\",\"marker\":{\"colorbar\":{\"outlinewidth\":0,\"ticks\":\"\"}}}],\"scattercarpet\":[{\"type\":\"scattercarpet\",\"marker\":{\"colorbar\":{\"outlinewidth\":0,\"ticks\":\"\"}}}],\"carpet\":[{\"aaxis\":{\"endlinecolor\":\"#2a3f5f\",\"gridcolor\":\"white\",\"linecolor\":\"white\",\"minorgridcolor\":\"white\",\"startlinecolor\":\"#2a3f5f\"},\"baxis\":{\"endlinecolor\":\"#2a3f5f\",\"gridcolor\":\"white\",\"linecolor\":\"white\",\"minorgridcolor\":\"white\",\"startlinecolor\":\"#2a3f5f\"},\"type\":\"carpet\"}],\"table\":[{\"cells\":{\"fill\":{\"color\":\"#EBF0F8\"},\"line\":{\"color\":\"white\"}},\"header\":{\"fill\":{\"color\":\"#C8D4E3\"},\"line\":{\"color\":\"white\"}},\"type\":\"table\"}],\"barpolar\":[{\"marker\":{\"line\":{\"color\":\"#E5ECF6\",\"width\":0.5},\"pattern\":{\"fillmode\":\"overlay\",\"size\":10,\"solidity\":0.2}},\"type\":\"barpolar\"}],\"pie\":[{\"automargin\":true,\"type\":\"pie\"}]},\"layout\":{\"autotypenumbers\":\"strict\",\"colorway\":[\"#636efa\",\"#EF553B\",\"#00cc96\",\"#ab63fa\",\"#FFA15A\",\"#19d3f3\",\"#FF6692\",\"#B6E880\",\"#FF97FF\",\"#FECB52\"],\"font\":{\"color\":\"#2a3f5f\"},\"hovermode\":\"closest\",\"hoverlabel\":{\"align\":\"left\"},\"paper_bgcolor\":\"white\",\"plot_bgcolor\":\"#E5ECF6\",\"polar\":{\"bgcolor\":\"#E5ECF6\",\"angularaxis\":{\"gridcolor\":\"white\",\"linecolor\":\"white\",\"ticks\":\"\"},\"radialaxis\":{\"gridcolor\":\"white\",\"linecolor\":\"white\",\"ticks\":\"\"}},\"ternary\":{\"bgcolor\":\"#E5ECF6\",\"aaxis\":{\"gridcolor\":\"white\",\"linecolor\":\"white\",\"ticks\":\"\"},\"baxis\":{\"gridcolor\":\"white\",\"linecolor\":\"white\",\"ticks\":\"\"},\"caxis\":{\"gridcolor\":\"white\",\"linecolor\":\"white\",\"ticks\":\"\"}},\"coloraxis\":{\"colorbar\":{\"outlinewidth\":0,\"ticks\":\"\"}},\"colorscale\":{\"sequential\":[[0.0,\"#0d0887\"],[0.1111111111111111,\"#46039f\"],[0.2222222222222222,\"#7201a8\"],[0.3333333333333333,\"#9c179e\"],[0.4444444444444444,\"#bd3786\"],[0.5555555555555556,\"#d8576b\"],[0.6666666666666666,\"#ed7953\"],[0.7777777777777778,\"#fb9f3a\"],[0.8888888888888888,\"#fdca26\"],[1.0,\"#f0f921\"]],\"sequentialminus\":[[0.0,\"#0d0887\"],[0.1111111111111111,\"#46039f\"],[0.2222222222222222,\"#7201a8\"],[0.3333333333333333,\"#9c179e\"],[0.4444444444444444,\"#bd3786\"],[0.5555555555555556,\"#d8576b\"],[0.6666666666666666,\"#ed7953\"],[0.7777777777777778,\"#fb9f3a\"],[0.8888888888888888,\"#fdca26\"],[1.0,\"#f0f921\"]],\"diverging\":[[0,\"#8e0152\"],[0.1,\"#c51b7d\"],[0.2,\"#de77ae\"],[0.3,\"#f1b6da\"],[0.4,\"#fde0ef\"],[0.5,\"#f7f7f7\"],[0.6,\"#e6f5d0\"],[0.7,\"#b8e186\"],[0.8,\"#7fbc41\"],[0.9,\"#4d9221\"],[1,\"#276419\"]]},\"xaxis\":{\"gridcolor\":\"white\",\"linecolor\":\"white\",\"ticks\":\"\",\"title\":{\"standoff\":15},\"zerolinecolor\":\"white\",\"automargin\":true,\"zerolinewidth\":2},\"yaxis\":{\"gridcolor\":\"white\",\"linecolor\":\"white\",\"ticks\":\"\",\"title\":{\"standoff\":15},\"zerolinecolor\":\"white\",\"automargin\":true,\"zerolinewidth\":2},\"scene\":{\"xaxis\":{\"backgroundcolor\":\"#E5ECF6\",\"gridcolor\":\"white\",\"linecolor\":\"white\",\"showbackground\":true,\"ticks\":\"\",\"zerolinecolor\":\"white\",\"gridwidth\":2},\"yaxis\":{\"backgroundcolor\":\"#E5ECF6\",\"gridcolor\":\"white\",\"linecolor\":\"white\",\"showbackground\":true,\"ticks\":\"\",\"zerolinecolor\":\"white\",\"gridwidth\":2},\"zaxis\":{\"backgroundcolor\":\"#E5ECF6\",\"gridcolor\":\"white\",\"linecolor\":\"white\",\"showbackground\":true,\"ticks\":\"\",\"zerolinecolor\":\"white\",\"gridwidth\":2}},\"shapedefaults\":{\"line\":{\"color\":\"#2a3f5f\"}},\"annotationdefaults\":{\"arrowcolor\":\"#2a3f5f\",\"arrowhead\":0,\"arrowwidth\":1},\"geo\":{\"bgcolor\":\"white\",\"landcolor\":\"#E5ECF6\",\"subunitcolor\":\"white\",\"showland\":true,\"showlakes\":true,\"lakecolor\":\"white\"},\"title\":{\"x\":0.05},\"mapbox\":{\"style\":\"light\"}}},\"geo\":{\"domain\":{\"x\":[0.0,1.0],\"y\":[0.0,1.0]},\"center\":{},\"scope\":\"usa\"},\"coloraxis\":{\"colorbar\":{\"title\":{\"text\":\"Average Gum Price\"}},\"colorscale\":[[0.0,\"#0d0887\"],[0.1111111111111111,\"#46039f\"],[0.2222222222222222,\"#7201a8\"],[0.3333333333333333,\"#9c179e\"],[0.4444444444444444,\"#bd3786\"],[0.5555555555555556,\"#d8576b\"],[0.6666666666666666,\"#ed7953\"],[0.7777777777777778,\"#fb9f3a\"],[0.8888888888888888,\"#fdca26\"],[1.0,\"#f0f921\"]]},\"legend\":{\"tracegroupgap\":0},\"margin\":{\"t\":60}},                        {\"responsive\": true}                    ).then(function(){\n",
       "                            \n",
       "var gd = document.getElementById('791532b2-d3e7-4880-97c3-d0e249d2278f');\n",
       "var x = new MutationObserver(function (mutations, observer) {{\n",
       "        var display = window.getComputedStyle(gd).display;\n",
       "        if (!display || display === 'none') {{\n",
       "            console.log([gd, 'removed!']);\n",
       "            Plotly.purge(gd);\n",
       "            observer.disconnect();\n",
       "        }}\n",
       "}});\n",
       "\n",
       "// Listen for the removal of the full notebook cells\n",
       "var notebookContainer = gd.closest('#notebook-container');\n",
       "if (notebookContainer) {{\n",
       "    x.observe(notebookContainer, {childList: true});\n",
       "}}\n",
       "\n",
       "// Listen for the clearing of the current output cell\n",
       "var outputEl = gd.closest('.output');\n",
       "if (outputEl) {{\n",
       "    x.observe(outputEl, {childList: true});\n",
       "}}\n",
       "\n",
       "                        })                };                });            </script>        </div>"
      ]
     },
     "metadata": {},
     "output_type": "display_data"
    },
    {
     "data": {
      "application/vnd.plotly.v1+json": {
       "config": {
        "plotlyServerURL": "https://plot.ly"
       },
       "data": [
        {
         "coloraxis": "coloraxis",
         "geo": "geo",
         "hovertemplate": "<b>%{hovertext}</b><br><br>State=%{location}<br>Average Milk Price=%{z}<extra></extra>",
         "hovertext": [
          "01040",
          "02114",
          "02122",
          "02865",
          "02886",
          "02917",
          "03063",
          "03110",
          "03840",
          "04086",
          "04401",
          "04952",
          "05403",
          "06042",
          "06241",
          "06901",
          "07047",
          "07310",
          "08865",
          "11217",
          "14020",
          "14850",
          "16601",
          "16803",
          "17013",
          "19103",
          "19148",
          "19808",
          "19901",
          "19931",
          "20886",
          "21009",
          "21030",
          "21704",
          "22305",
          "24151",
          "24487",
          "25309",
          "25526",
          "26059",
          "27609",
          "28104",
          "28704",
          "29607",
          "29621",
          "29680",
          "30189",
          "30324",
          "31525",
          "33403",
          "33428",
          "33463",
          "35226",
          "35601",
          "36526",
          "37801",
          "38017",
          "38133",
          "39159",
          "39213",
          "39402",
          "40241",
          "42104",
          "42301",
          "44870",
          "45236",
          "45249",
          "46237",
          "46383",
          "47401",
          "48374",
          "48507",
          "49855",
          "50009",
          "50702",
          "52404",
          "53085",
          "53207",
          "54235",
          "55066",
          "55403",
          "56601",
          "57110",
          "57401",
          "57701",
          "58103",
          "58563",
          "58701",
          "59718",
          "59901",
          "60014",
          "60610",
          "61401",
          "63010",
          "63033",
          "64114",
          "66062",
          "66111",
          "67401",
          "68073",
          "68116",
          "68123",
          "70816",
          "71111",
          "71301",
          "72032",
          "72703",
          "72903",
          "73034",
          "74055",
          "74133",
          "77840",
          "78717",
          "79707",
          "79707",
          "80108",
          "80202",
          "81401",
          "82009",
          "82609",
          "83001",
          "83704",
          "83713",
          "83815",
          "84095",
          "84121",
          "84660",
          "85207",
          "85748",
          "87114",
          "87124",
          "87402",
          "89183",
          "89434",
          "89705",
          "90065",
          "91730",
          "95330",
          "96734",
          "96740",
          "97217",
          "97303",
          "98101",
          "98233",
          "98614",
          "98626",
          "98901",
          "99515",
          "99654"
         ],
         "locationmode": "USA-states",
         "locations": [
          "MA",
          "MA",
          "MA",
          "RI",
          "RI",
          "RI",
          "NH",
          "NH",
          "NH",
          "ME",
          "ME",
          "ME",
          "VT",
          "CT",
          "CT",
          "CT",
          "NJ",
          "NJ",
          "NJ",
          "NY",
          "NY",
          "NY",
          "PA",
          "",
          "PA",
          "PA",
          "",
          "DE",
          "DE",
          "DE",
          "Germantown",
          "MD",
          "MD",
          "MD",
          "VA",
          "VA",
          "VA",
          "WV",
          "WV",
          "WV",
          "NC",
          "NC",
          "NC",
          "SC",
          "SC",
          "SC",
          "GA",
          "GA",
          "GA",
          "FL",
          "FL",
          "FL",
          "AL",
          "AL",
          "AL",
          "TN",
          "TN",
          "TN",
          "MS",
          "MS",
          "MS",
          "KY",
          "KY",
          "KY",
          "OH",
          "OH",
          "OH",
          "IN",
          "IN",
          "IN",
          "MI",
          "MI",
          "MI",
          "IA",
          "IA",
          "IA",
          "WI",
          "WI",
          "WI",
          "MN",
          "MN",
          "MN",
          "SD",
          "SD",
          "SD",
          "ND",
          "ND",
          "ND",
          "MT",
          "MT",
          "IL",
          "IL",
          "IL",
          "MO",
          "MO",
          "MO",
          "KS",
          "KS",
          "KS",
          "NE",
          "NE",
          "NE",
          "LA",
          "LA",
          "LA",
          "AR",
          "AR",
          "AR",
          "OK",
          "OK",
          "OK",
          "TX",
          "TX",
          "TX",
          "TX",
          "CO",
          "CO",
          "CO",
          "WY",
          "WY",
          "WY",
          "ID",
          "ID",
          "ID",
          "UT",
          "UT",
          "UT",
          "AZ",
          "AZ",
          "NM",
          "NM",
          "NM",
          "NV",
          "NV",
          "NV",
          "CA",
          "CA",
          "CA",
          "HI",
          "HI",
          "OR",
          "OR",
          "WA",
          "WA",
          "WA",
          "WA",
          "WA",
          "AK",
          "AK"
         ],
         "name": "",
         "type": "choropleth",
         "z": [
          4.19,
          4.19,
          4.19,
          3.89,
          3.89,
          3.89,
          3.49,
          3.49,
          3.49,
          4.69,
          4.69,
          4.69,
          3.49,
          3.59,
          3.59,
          3.59,
          3.99,
          3.99,
          3.99,
          3.39,
          3.39,
          3.39,
          5.0566666666666675,
          null,
          5.0566666666666675,
          5.0566666666666675,
          null,
          2.6566666666666667,
          2.6566666666666667,
          2.6566666666666667,
          2.49,
          2.49,
          2.49,
          2.49,
          3.856666666666667,
          3.856666666666667,
          3.856666666666667,
          3.99,
          3.99,
          3.99,
          2.39,
          2.39,
          2.39,
          2.69,
          2.69,
          2.69,
          2.9566666666666666,
          2.9566666666666666,
          2.9566666666666666,
          2.99,
          2.99,
          2.99,
          3.19,
          3.19,
          3.19,
          4.69,
          4.69,
          4.69,
          4.19,
          4.19,
          4.19,
          2.723333333333333,
          2.723333333333333,
          2.723333333333333,
          2.7566666666666664,
          2.7566666666666664,
          2.7566666666666664,
          2.7566666666666664,
          2.7566666666666664,
          2.7566666666666664,
          2.6399999999999997,
          2.6399999999999997,
          2.6399999999999997,
          2.7900000000000005,
          2.7900000000000005,
          2.7900000000000005,
          3.69,
          3.69,
          3.69,
          3.69,
          3.69,
          3.69,
          3.3233333333333337,
          3.3233333333333337,
          3.3233333333333337,
          3.7900000000000005,
          3.7900000000000005,
          3.7900000000000005,
          3.69,
          3.69,
          3.356666666666667,
          3.356666666666667,
          3.356666666666667,
          4.59,
          4.59,
          4.59,
          3.4899999999999998,
          3.4899999999999998,
          3.4899999999999998,
          2.59,
          2.59,
          2.59,
          4.523333333333333,
          4.523333333333333,
          4.523333333333333,
          3.723333333333334,
          3.723333333333334,
          3.723333333333334,
          3.39,
          3.39,
          3.39,
          3.015,
          3.015,
          3.015,
          3.015,
          3.7566666666666664,
          3.7566666666666664,
          3.7566666666666664,
          4.023333333333333,
          4.023333333333333,
          4.023333333333333,
          3.59,
          3.59,
          3.59,
          3.19,
          3.19,
          3.19,
          2.9400000000000004,
          2.9400000000000004,
          3.39,
          3.39,
          3.39,
          4.423333333333334,
          4.423333333333334,
          4.423333333333334,
          4.223333333333334,
          4.223333333333334,
          4.223333333333334,
          5.99,
          5.99,
          4.19,
          4.19,
          3.63,
          3.63,
          3.63,
          3.63,
          3.63,
          3.89,
          3.89
         ]
        }
       ],
       "layout": {
        "coloraxis": {
         "colorbar": {
          "title": {
           "text": "Average Milk Price"
          }
         },
         "colorscale": [
          [
           0,
           "#0d0887"
          ],
          [
           0.1111111111111111,
           "#46039f"
          ],
          [
           0.2222222222222222,
           "#7201a8"
          ],
          [
           0.3333333333333333,
           "#9c179e"
          ],
          [
           0.4444444444444444,
           "#bd3786"
          ],
          [
           0.5555555555555556,
           "#d8576b"
          ],
          [
           0.6666666666666666,
           "#ed7953"
          ],
          [
           0.7777777777777778,
           "#fb9f3a"
          ],
          [
           0.8888888888888888,
           "#fdca26"
          ],
          [
           1,
           "#f0f921"
          ]
         ]
        },
        "geo": {
         "center": {},
         "domain": {
          "x": [
           0,
           1
          ],
          "y": [
           0,
           1
          ]
         },
         "scope": "usa"
        },
        "legend": {
         "tracegroupgap": 0
        },
        "margin": {
         "t": 60
        },
        "template": {
         "data": {
          "bar": [
           {
            "error_x": {
             "color": "#2a3f5f"
            },
            "error_y": {
             "color": "#2a3f5f"
            },
            "marker": {
             "line": {
              "color": "#E5ECF6",
              "width": 0.5
             },
             "pattern": {
              "fillmode": "overlay",
              "size": 10,
              "solidity": 0.2
             }
            },
            "type": "bar"
           }
          ],
          "barpolar": [
           {
            "marker": {
             "line": {
              "color": "#E5ECF6",
              "width": 0.5
             },
             "pattern": {
              "fillmode": "overlay",
              "size": 10,
              "solidity": 0.2
             }
            },
            "type": "barpolar"
           }
          ],
          "carpet": [
           {
            "aaxis": {
             "endlinecolor": "#2a3f5f",
             "gridcolor": "white",
             "linecolor": "white",
             "minorgridcolor": "white",
             "startlinecolor": "#2a3f5f"
            },
            "baxis": {
             "endlinecolor": "#2a3f5f",
             "gridcolor": "white",
             "linecolor": "white",
             "minorgridcolor": "white",
             "startlinecolor": "#2a3f5f"
            },
            "type": "carpet"
           }
          ],
          "choropleth": [
           {
            "colorbar": {
             "outlinewidth": 0,
             "ticks": ""
            },
            "type": "choropleth"
           }
          ],
          "contour": [
           {
            "colorbar": {
             "outlinewidth": 0,
             "ticks": ""
            },
            "colorscale": [
             [
              0,
              "#0d0887"
             ],
             [
              0.1111111111111111,
              "#46039f"
             ],
             [
              0.2222222222222222,
              "#7201a8"
             ],
             [
              0.3333333333333333,
              "#9c179e"
             ],
             [
              0.4444444444444444,
              "#bd3786"
             ],
             [
              0.5555555555555556,
              "#d8576b"
             ],
             [
              0.6666666666666666,
              "#ed7953"
             ],
             [
              0.7777777777777778,
              "#fb9f3a"
             ],
             [
              0.8888888888888888,
              "#fdca26"
             ],
             [
              1,
              "#f0f921"
             ]
            ],
            "type": "contour"
           }
          ],
          "contourcarpet": [
           {
            "colorbar": {
             "outlinewidth": 0,
             "ticks": ""
            },
            "type": "contourcarpet"
           }
          ],
          "heatmap": [
           {
            "colorbar": {
             "outlinewidth": 0,
             "ticks": ""
            },
            "colorscale": [
             [
              0,
              "#0d0887"
             ],
             [
              0.1111111111111111,
              "#46039f"
             ],
             [
              0.2222222222222222,
              "#7201a8"
             ],
             [
              0.3333333333333333,
              "#9c179e"
             ],
             [
              0.4444444444444444,
              "#bd3786"
             ],
             [
              0.5555555555555556,
              "#d8576b"
             ],
             [
              0.6666666666666666,
              "#ed7953"
             ],
             [
              0.7777777777777778,
              "#fb9f3a"
             ],
             [
              0.8888888888888888,
              "#fdca26"
             ],
             [
              1,
              "#f0f921"
             ]
            ],
            "type": "heatmap"
           }
          ],
          "heatmapgl": [
           {
            "colorbar": {
             "outlinewidth": 0,
             "ticks": ""
            },
            "colorscale": [
             [
              0,
              "#0d0887"
             ],
             [
              0.1111111111111111,
              "#46039f"
             ],
             [
              0.2222222222222222,
              "#7201a8"
             ],
             [
              0.3333333333333333,
              "#9c179e"
             ],
             [
              0.4444444444444444,
              "#bd3786"
             ],
             [
              0.5555555555555556,
              "#d8576b"
             ],
             [
              0.6666666666666666,
              "#ed7953"
             ],
             [
              0.7777777777777778,
              "#fb9f3a"
             ],
             [
              0.8888888888888888,
              "#fdca26"
             ],
             [
              1,
              "#f0f921"
             ]
            ],
            "type": "heatmapgl"
           }
          ],
          "histogram": [
           {
            "marker": {
             "pattern": {
              "fillmode": "overlay",
              "size": 10,
              "solidity": 0.2
             }
            },
            "type": "histogram"
           }
          ],
          "histogram2d": [
           {
            "colorbar": {
             "outlinewidth": 0,
             "ticks": ""
            },
            "colorscale": [
             [
              0,
              "#0d0887"
             ],
             [
              0.1111111111111111,
              "#46039f"
             ],
             [
              0.2222222222222222,
              "#7201a8"
             ],
             [
              0.3333333333333333,
              "#9c179e"
             ],
             [
              0.4444444444444444,
              "#bd3786"
             ],
             [
              0.5555555555555556,
              "#d8576b"
             ],
             [
              0.6666666666666666,
              "#ed7953"
             ],
             [
              0.7777777777777778,
              "#fb9f3a"
             ],
             [
              0.8888888888888888,
              "#fdca26"
             ],
             [
              1,
              "#f0f921"
             ]
            ],
            "type": "histogram2d"
           }
          ],
          "histogram2dcontour": [
           {
            "colorbar": {
             "outlinewidth": 0,
             "ticks": ""
            },
            "colorscale": [
             [
              0,
              "#0d0887"
             ],
             [
              0.1111111111111111,
              "#46039f"
             ],
             [
              0.2222222222222222,
              "#7201a8"
             ],
             [
              0.3333333333333333,
              "#9c179e"
             ],
             [
              0.4444444444444444,
              "#bd3786"
             ],
             [
              0.5555555555555556,
              "#d8576b"
             ],
             [
              0.6666666666666666,
              "#ed7953"
             ],
             [
              0.7777777777777778,
              "#fb9f3a"
             ],
             [
              0.8888888888888888,
              "#fdca26"
             ],
             [
              1,
              "#f0f921"
             ]
            ],
            "type": "histogram2dcontour"
           }
          ],
          "mesh3d": [
           {
            "colorbar": {
             "outlinewidth": 0,
             "ticks": ""
            },
            "type": "mesh3d"
           }
          ],
          "parcoords": [
           {
            "line": {
             "colorbar": {
              "outlinewidth": 0,
              "ticks": ""
             }
            },
            "type": "parcoords"
           }
          ],
          "pie": [
           {
            "automargin": true,
            "type": "pie"
           }
          ],
          "scatter": [
           {
            "fillpattern": {
             "fillmode": "overlay",
             "size": 10,
             "solidity": 0.2
            },
            "type": "scatter"
           }
          ],
          "scatter3d": [
           {
            "line": {
             "colorbar": {
              "outlinewidth": 0,
              "ticks": ""
             }
            },
            "marker": {
             "colorbar": {
              "outlinewidth": 0,
              "ticks": ""
             }
            },
            "type": "scatter3d"
           }
          ],
          "scattercarpet": [
           {
            "marker": {
             "colorbar": {
              "outlinewidth": 0,
              "ticks": ""
             }
            },
            "type": "scattercarpet"
           }
          ],
          "scattergeo": [
           {
            "marker": {
             "colorbar": {
              "outlinewidth": 0,
              "ticks": ""
             }
            },
            "type": "scattergeo"
           }
          ],
          "scattergl": [
           {
            "marker": {
             "colorbar": {
              "outlinewidth": 0,
              "ticks": ""
             }
            },
            "type": "scattergl"
           }
          ],
          "scattermapbox": [
           {
            "marker": {
             "colorbar": {
              "outlinewidth": 0,
              "ticks": ""
             }
            },
            "type": "scattermapbox"
           }
          ],
          "scatterpolar": [
           {
            "marker": {
             "colorbar": {
              "outlinewidth": 0,
              "ticks": ""
             }
            },
            "type": "scatterpolar"
           }
          ],
          "scatterpolargl": [
           {
            "marker": {
             "colorbar": {
              "outlinewidth": 0,
              "ticks": ""
             }
            },
            "type": "scatterpolargl"
           }
          ],
          "scatterternary": [
           {
            "marker": {
             "colorbar": {
              "outlinewidth": 0,
              "ticks": ""
             }
            },
            "type": "scatterternary"
           }
          ],
          "surface": [
           {
            "colorbar": {
             "outlinewidth": 0,
             "ticks": ""
            },
            "colorscale": [
             [
              0,
              "#0d0887"
             ],
             [
              0.1111111111111111,
              "#46039f"
             ],
             [
              0.2222222222222222,
              "#7201a8"
             ],
             [
              0.3333333333333333,
              "#9c179e"
             ],
             [
              0.4444444444444444,
              "#bd3786"
             ],
             [
              0.5555555555555556,
              "#d8576b"
             ],
             [
              0.6666666666666666,
              "#ed7953"
             ],
             [
              0.7777777777777778,
              "#fb9f3a"
             ],
             [
              0.8888888888888888,
              "#fdca26"
             ],
             [
              1,
              "#f0f921"
             ]
            ],
            "type": "surface"
           }
          ],
          "table": [
           {
            "cells": {
             "fill": {
              "color": "#EBF0F8"
             },
             "line": {
              "color": "white"
             }
            },
            "header": {
             "fill": {
              "color": "#C8D4E3"
             },
             "line": {
              "color": "white"
             }
            },
            "type": "table"
           }
          ]
         },
         "layout": {
          "annotationdefaults": {
           "arrowcolor": "#2a3f5f",
           "arrowhead": 0,
           "arrowwidth": 1
          },
          "autotypenumbers": "strict",
          "coloraxis": {
           "colorbar": {
            "outlinewidth": 0,
            "ticks": ""
           }
          },
          "colorscale": {
           "diverging": [
            [
             0,
             "#8e0152"
            ],
            [
             0.1,
             "#c51b7d"
            ],
            [
             0.2,
             "#de77ae"
            ],
            [
             0.3,
             "#f1b6da"
            ],
            [
             0.4,
             "#fde0ef"
            ],
            [
             0.5,
             "#f7f7f7"
            ],
            [
             0.6,
             "#e6f5d0"
            ],
            [
             0.7,
             "#b8e186"
            ],
            [
             0.8,
             "#7fbc41"
            ],
            [
             0.9,
             "#4d9221"
            ],
            [
             1,
             "#276419"
            ]
           ],
           "sequential": [
            [
             0,
             "#0d0887"
            ],
            [
             0.1111111111111111,
             "#46039f"
            ],
            [
             0.2222222222222222,
             "#7201a8"
            ],
            [
             0.3333333333333333,
             "#9c179e"
            ],
            [
             0.4444444444444444,
             "#bd3786"
            ],
            [
             0.5555555555555556,
             "#d8576b"
            ],
            [
             0.6666666666666666,
             "#ed7953"
            ],
            [
             0.7777777777777778,
             "#fb9f3a"
            ],
            [
             0.8888888888888888,
             "#fdca26"
            ],
            [
             1,
             "#f0f921"
            ]
           ],
           "sequentialminus": [
            [
             0,
             "#0d0887"
            ],
            [
             0.1111111111111111,
             "#46039f"
            ],
            [
             0.2222222222222222,
             "#7201a8"
            ],
            [
             0.3333333333333333,
             "#9c179e"
            ],
            [
             0.4444444444444444,
             "#bd3786"
            ],
            [
             0.5555555555555556,
             "#d8576b"
            ],
            [
             0.6666666666666666,
             "#ed7953"
            ],
            [
             0.7777777777777778,
             "#fb9f3a"
            ],
            [
             0.8888888888888888,
             "#fdca26"
            ],
            [
             1,
             "#f0f921"
            ]
           ]
          },
          "colorway": [
           "#636efa",
           "#EF553B",
           "#00cc96",
           "#ab63fa",
           "#FFA15A",
           "#19d3f3",
           "#FF6692",
           "#B6E880",
           "#FF97FF",
           "#FECB52"
          ],
          "font": {
           "color": "#2a3f5f"
          },
          "geo": {
           "bgcolor": "white",
           "lakecolor": "white",
           "landcolor": "#E5ECF6",
           "showlakes": true,
           "showland": true,
           "subunitcolor": "white"
          },
          "hoverlabel": {
           "align": "left"
          },
          "hovermode": "closest",
          "mapbox": {
           "style": "light"
          },
          "paper_bgcolor": "white",
          "plot_bgcolor": "#E5ECF6",
          "polar": {
           "angularaxis": {
            "gridcolor": "white",
            "linecolor": "white",
            "ticks": ""
           },
           "bgcolor": "#E5ECF6",
           "radialaxis": {
            "gridcolor": "white",
            "linecolor": "white",
            "ticks": ""
           }
          },
          "scene": {
           "xaxis": {
            "backgroundcolor": "#E5ECF6",
            "gridcolor": "white",
            "gridwidth": 2,
            "linecolor": "white",
            "showbackground": true,
            "ticks": "",
            "zerolinecolor": "white"
           },
           "yaxis": {
            "backgroundcolor": "#E5ECF6",
            "gridcolor": "white",
            "gridwidth": 2,
            "linecolor": "white",
            "showbackground": true,
            "ticks": "",
            "zerolinecolor": "white"
           },
           "zaxis": {
            "backgroundcolor": "#E5ECF6",
            "gridcolor": "white",
            "gridwidth": 2,
            "linecolor": "white",
            "showbackground": true,
            "ticks": "",
            "zerolinecolor": "white"
           }
          },
          "shapedefaults": {
           "line": {
            "color": "#2a3f5f"
           }
          },
          "ternary": {
           "aaxis": {
            "gridcolor": "white",
            "linecolor": "white",
            "ticks": ""
           },
           "baxis": {
            "gridcolor": "white",
            "linecolor": "white",
            "ticks": ""
           },
           "bgcolor": "#E5ECF6",
           "caxis": {
            "gridcolor": "white",
            "linecolor": "white",
            "ticks": ""
           }
          },
          "title": {
           "x": 0.05
          },
          "xaxis": {
           "automargin": true,
           "gridcolor": "white",
           "linecolor": "white",
           "ticks": "",
           "title": {
            "standoff": 15
           },
           "zerolinecolor": "white",
           "zerolinewidth": 2
          },
          "yaxis": {
           "automargin": true,
           "gridcolor": "white",
           "linecolor": "white",
           "ticks": "",
           "title": {
            "standoff": 15
           },
           "zerolinecolor": "white",
           "zerolinewidth": 2
          }
         }
        }
       }
      },
      "text/html": [
       "<div>                            <div id=\"d6d38001-6665-470c-a86f-7635d8c817be\" class=\"plotly-graph-div\" style=\"height:525px; width:100%;\"></div>            <script type=\"text/javascript\">                require([\"plotly\"], function(Plotly) {                    window.PLOTLYENV=window.PLOTLYENV || {};                                    if (document.getElementById(\"d6d38001-6665-470c-a86f-7635d8c817be\")) {                    Plotly.newPlot(                        \"d6d38001-6665-470c-a86f-7635d8c817be\",                        [{\"coloraxis\":\"coloraxis\",\"geo\":\"geo\",\"hovertemplate\":\"<b>%{hovertext}</b><br><br>State=%{location}<br>Average Milk Price=%{z}<extra></extra>\",\"hovertext\":[\"01040\",\"02114\",\"02122\",\"02865\",\"02886\",\"02917\",\"03063\",\"03110\",\"03840\",\"04086\",\"04401\",\"04952\",\"05403\",\"06042\",\"06241\",\"06901\",\"07047\",\"07310\",\"08865\",\"11217\",\"14020\",\"14850\",\"16601\",\"16803\",\"17013\",\"19103\",\"19148\",\"19808\",\"19901\",\"19931\",\"20886\",\"21009\",\"21030\",\"21704\",\"22305\",\"24151\",\"24487\",\"25309\",\"25526\",\"26059\",\"27609\",\"28104\",\"28704\",\"29607\",\"29621\",\"29680\",\"30189\",\"30324\",\"31525\",\"33403\",\"33428\",\"33463\",\"35226\",\"35601\",\"36526\",\"37801\",\"38017\",\"38133\",\"39159\",\"39213\",\"39402\",\"40241\",\"42104\",\"42301\",\"44870\",\"45236\",\"45249\",\"46237\",\"46383\",\"47401\",\"48374\",\"48507\",\"49855\",\"50009\",\"50702\",\"52404\",\"53085\",\"53207\",\"54235\",\"55066\",\"55403\",\"56601\",\"57110\",\"57401\",\"57701\",\"58103\",\"58563\",\"58701\",\"59718\",\"59901\",\"60014\",\"60610\",\"61401\",\"63010\",\"63033\",\"64114\",\"66062\",\"66111\",\"67401\",\"68073\",\"68116\",\"68123\",\"70816\",\"71111\",\"71301\",\"72032\",\"72703\",\"72903\",\"73034\",\"74055\",\"74133\",\"77840\",\"78717\",\"79707\",\"79707\",\"80108\",\"80202\",\"81401\",\"82009\",\"82609\",\"83001\",\"83704\",\"83713\",\"83815\",\"84095\",\"84121\",\"84660\",\"85207\",\"85748\",\"87114\",\"87124\",\"87402\",\"89183\",\"89434\",\"89705\",\"90065\",\"91730\",\"95330\",\"96734\",\"96740\",\"97217\",\"97303\",\"98101\",\"98233\",\"98614\",\"98626\",\"98901\",\"99515\",\"99654\"],\"locationmode\":\"USA-states\",\"locations\":[\"MA\",\"MA\",\"MA\",\"RI\",\"RI\",\"RI\",\"NH\",\"NH\",\"NH\",\"ME\",\"ME\",\"ME\",\"VT\",\"CT\",\"CT\",\"CT\",\"NJ\",\"NJ\",\"NJ\",\"NY\",\"NY\",\"NY\",\"PA\",\"\",\"PA\",\"PA\",\"\",\"DE\",\"DE\",\"DE\",\"Germantown\",\"MD\",\"MD\",\"MD\",\"VA\",\"VA\",\"VA\",\"WV\",\"WV\",\"WV\",\"NC\",\"NC\",\"NC\",\"SC\",\"SC\",\"SC\",\"GA\",\"GA\",\"GA\",\"FL\",\"FL\",\"FL\",\"AL\",\"AL\",\"AL\",\"TN\",\"TN\",\"TN\",\"MS\",\"MS\",\"MS\",\"KY\",\"KY\",\"KY\",\"OH\",\"OH\",\"OH\",\"IN\",\"IN\",\"IN\",\"MI\",\"MI\",\"MI\",\"IA\",\"IA\",\"IA\",\"WI\",\"WI\",\"WI\",\"MN\",\"MN\",\"MN\",\"SD\",\"SD\",\"SD\",\"ND\",\"ND\",\"ND\",\"MT\",\"MT\",\"IL\",\"IL\",\"IL\",\"MO\",\"MO\",\"MO\",\"KS\",\"KS\",\"KS\",\"NE\",\"NE\",\"NE\",\"LA\",\"LA\",\"LA\",\"AR\",\"AR\",\"AR\",\"OK\",\"OK\",\"OK\",\"TX\",\"TX\",\"TX\",\"TX\",\"CO\",\"CO\",\"CO\",\"WY\",\"WY\",\"WY\",\"ID\",\"ID\",\"ID\",\"UT\",\"UT\",\"UT\",\"AZ\",\"AZ\",\"NM\",\"NM\",\"NM\",\"NV\",\"NV\",\"NV\",\"CA\",\"CA\",\"CA\",\"HI\",\"HI\",\"OR\",\"OR\",\"WA\",\"WA\",\"WA\",\"WA\",\"WA\",\"AK\",\"AK\"],\"name\":\"\",\"z\":[4.19,4.19,4.19,3.89,3.89,3.89,3.49,3.49,3.49,4.69,4.69,4.69,3.49,3.59,3.59,3.59,3.99,3.99,3.99,3.39,3.39,3.39,5.0566666666666675,null,5.0566666666666675,5.0566666666666675,null,2.6566666666666667,2.6566666666666667,2.6566666666666667,2.49,2.49,2.49,2.49,3.856666666666667,3.856666666666667,3.856666666666667,3.99,3.99,3.99,2.39,2.39,2.39,2.69,2.69,2.69,2.9566666666666666,2.9566666666666666,2.9566666666666666,2.99,2.99,2.99,3.19,3.19,3.19,4.69,4.69,4.69,4.19,4.19,4.19,2.723333333333333,2.723333333333333,2.723333333333333,2.7566666666666664,2.7566666666666664,2.7566666666666664,2.7566666666666664,2.7566666666666664,2.7566666666666664,2.6399999999999997,2.6399999999999997,2.6399999999999997,2.7900000000000005,2.7900000000000005,2.7900000000000005,3.69,3.69,3.69,3.69,3.69,3.69,3.3233333333333337,3.3233333333333337,3.3233333333333337,3.7900000000000005,3.7900000000000005,3.7900000000000005,3.69,3.69,3.356666666666667,3.356666666666667,3.356666666666667,4.59,4.59,4.59,3.4899999999999998,3.4899999999999998,3.4899999999999998,2.59,2.59,2.59,4.523333333333333,4.523333333333333,4.523333333333333,3.723333333333334,3.723333333333334,3.723333333333334,3.39,3.39,3.39,3.015,3.015,3.015,3.015,3.7566666666666664,3.7566666666666664,3.7566666666666664,4.023333333333333,4.023333333333333,4.023333333333333,3.59,3.59,3.59,3.19,3.19,3.19,2.9400000000000004,2.9400000000000004,3.39,3.39,3.39,4.423333333333334,4.423333333333334,4.423333333333334,4.223333333333334,4.223333333333334,4.223333333333334,5.99,5.99,4.19,4.19,3.63,3.63,3.63,3.63,3.63,3.89,3.89],\"type\":\"choropleth\"}],                        {\"template\":{\"data\":{\"histogram2dcontour\":[{\"type\":\"histogram2dcontour\",\"colorbar\":{\"outlinewidth\":0,\"ticks\":\"\"},\"colorscale\":[[0.0,\"#0d0887\"],[0.1111111111111111,\"#46039f\"],[0.2222222222222222,\"#7201a8\"],[0.3333333333333333,\"#9c179e\"],[0.4444444444444444,\"#bd3786\"],[0.5555555555555556,\"#d8576b\"],[0.6666666666666666,\"#ed7953\"],[0.7777777777777778,\"#fb9f3a\"],[0.8888888888888888,\"#fdca26\"],[1.0,\"#f0f921\"]]}],\"choropleth\":[{\"type\":\"choropleth\",\"colorbar\":{\"outlinewidth\":0,\"ticks\":\"\"}}],\"histogram2d\":[{\"type\":\"histogram2d\",\"colorbar\":{\"outlinewidth\":0,\"ticks\":\"\"},\"colorscale\":[[0.0,\"#0d0887\"],[0.1111111111111111,\"#46039f\"],[0.2222222222222222,\"#7201a8\"],[0.3333333333333333,\"#9c179e\"],[0.4444444444444444,\"#bd3786\"],[0.5555555555555556,\"#d8576b\"],[0.6666666666666666,\"#ed7953\"],[0.7777777777777778,\"#fb9f3a\"],[0.8888888888888888,\"#fdca26\"],[1.0,\"#f0f921\"]]}],\"heatmap\":[{\"type\":\"heatmap\",\"colorbar\":{\"outlinewidth\":0,\"ticks\":\"\"},\"colorscale\":[[0.0,\"#0d0887\"],[0.1111111111111111,\"#46039f\"],[0.2222222222222222,\"#7201a8\"],[0.3333333333333333,\"#9c179e\"],[0.4444444444444444,\"#bd3786\"],[0.5555555555555556,\"#d8576b\"],[0.6666666666666666,\"#ed7953\"],[0.7777777777777778,\"#fb9f3a\"],[0.8888888888888888,\"#fdca26\"],[1.0,\"#f0f921\"]]}],\"heatmapgl\":[{\"type\":\"heatmapgl\",\"colorbar\":{\"outlinewidth\":0,\"ticks\":\"\"},\"colorscale\":[[0.0,\"#0d0887\"],[0.1111111111111111,\"#46039f\"],[0.2222222222222222,\"#7201a8\"],[0.3333333333333333,\"#9c179e\"],[0.4444444444444444,\"#bd3786\"],[0.5555555555555556,\"#d8576b\"],[0.6666666666666666,\"#ed7953\"],[0.7777777777777778,\"#fb9f3a\"],[0.8888888888888888,\"#fdca26\"],[1.0,\"#f0f921\"]]}],\"contourcarpet\":[{\"type\":\"contourcarpet\",\"colorbar\":{\"outlinewidth\":0,\"ticks\":\"\"}}],\"contour\":[{\"type\":\"contour\",\"colorbar\":{\"outlinewidth\":0,\"ticks\":\"\"},\"colorscale\":[[0.0,\"#0d0887\"],[0.1111111111111111,\"#46039f\"],[0.2222222222222222,\"#7201a8\"],[0.3333333333333333,\"#9c179e\"],[0.4444444444444444,\"#bd3786\"],[0.5555555555555556,\"#d8576b\"],[0.6666666666666666,\"#ed7953\"],[0.7777777777777778,\"#fb9f3a\"],[0.8888888888888888,\"#fdca26\"],[1.0,\"#f0f921\"]]}],\"surface\":[{\"type\":\"surface\",\"colorbar\":{\"outlinewidth\":0,\"ticks\":\"\"},\"colorscale\":[[0.0,\"#0d0887\"],[0.1111111111111111,\"#46039f\"],[0.2222222222222222,\"#7201a8\"],[0.3333333333333333,\"#9c179e\"],[0.4444444444444444,\"#bd3786\"],[0.5555555555555556,\"#d8576b\"],[0.6666666666666666,\"#ed7953\"],[0.7777777777777778,\"#fb9f3a\"],[0.8888888888888888,\"#fdca26\"],[1.0,\"#f0f921\"]]}],\"mesh3d\":[{\"type\":\"mesh3d\",\"colorbar\":{\"outlinewidth\":0,\"ticks\":\"\"}}],\"scatter\":[{\"fillpattern\":{\"fillmode\":\"overlay\",\"size\":10,\"solidity\":0.2},\"type\":\"scatter\"}],\"parcoords\":[{\"type\":\"parcoords\",\"line\":{\"colorbar\":{\"outlinewidth\":0,\"ticks\":\"\"}}}],\"scatterpolargl\":[{\"type\":\"scatterpolargl\",\"marker\":{\"colorbar\":{\"outlinewidth\":0,\"ticks\":\"\"}}}],\"bar\":[{\"error_x\":{\"color\":\"#2a3f5f\"},\"error_y\":{\"color\":\"#2a3f5f\"},\"marker\":{\"line\":{\"color\":\"#E5ECF6\",\"width\":0.5},\"pattern\":{\"fillmode\":\"overlay\",\"size\":10,\"solidity\":0.2}},\"type\":\"bar\"}],\"scattergeo\":[{\"type\":\"scattergeo\",\"marker\":{\"colorbar\":{\"outlinewidth\":0,\"ticks\":\"\"}}}],\"scatterpolar\":[{\"type\":\"scatterpolar\",\"marker\":{\"colorbar\":{\"outlinewidth\":0,\"ticks\":\"\"}}}],\"histogram\":[{\"marker\":{\"pattern\":{\"fillmode\":\"overlay\",\"size\":10,\"solidity\":0.2}},\"type\":\"histogram\"}],\"scattergl\":[{\"type\":\"scattergl\",\"marker\":{\"colorbar\":{\"outlinewidth\":0,\"ticks\":\"\"}}}],\"scatter3d\":[{\"type\":\"scatter3d\",\"line\":{\"colorbar\":{\"outlinewidth\":0,\"ticks\":\"\"}},\"marker\":{\"colorbar\":{\"outlinewidth\":0,\"ticks\":\"\"}}}],\"scattermapbox\":[{\"type\":\"scattermapbox\",\"marker\":{\"colorbar\":{\"outlinewidth\":0,\"ticks\":\"\"}}}],\"scatterternary\":[{\"type\":\"scatterternary\",\"marker\":{\"colorbar\":{\"outlinewidth\":0,\"ticks\":\"\"}}}],\"scattercarpet\":[{\"type\":\"scattercarpet\",\"marker\":{\"colorbar\":{\"outlinewidth\":0,\"ticks\":\"\"}}}],\"carpet\":[{\"aaxis\":{\"endlinecolor\":\"#2a3f5f\",\"gridcolor\":\"white\",\"linecolor\":\"white\",\"minorgridcolor\":\"white\",\"startlinecolor\":\"#2a3f5f\"},\"baxis\":{\"endlinecolor\":\"#2a3f5f\",\"gridcolor\":\"white\",\"linecolor\":\"white\",\"minorgridcolor\":\"white\",\"startlinecolor\":\"#2a3f5f\"},\"type\":\"carpet\"}],\"table\":[{\"cells\":{\"fill\":{\"color\":\"#EBF0F8\"},\"line\":{\"color\":\"white\"}},\"header\":{\"fill\":{\"color\":\"#C8D4E3\"},\"line\":{\"color\":\"white\"}},\"type\":\"table\"}],\"barpolar\":[{\"marker\":{\"line\":{\"color\":\"#E5ECF6\",\"width\":0.5},\"pattern\":{\"fillmode\":\"overlay\",\"size\":10,\"solidity\":0.2}},\"type\":\"barpolar\"}],\"pie\":[{\"automargin\":true,\"type\":\"pie\"}]},\"layout\":{\"autotypenumbers\":\"strict\",\"colorway\":[\"#636efa\",\"#EF553B\",\"#00cc96\",\"#ab63fa\",\"#FFA15A\",\"#19d3f3\",\"#FF6692\",\"#B6E880\",\"#FF97FF\",\"#FECB52\"],\"font\":{\"color\":\"#2a3f5f\"},\"hovermode\":\"closest\",\"hoverlabel\":{\"align\":\"left\"},\"paper_bgcolor\":\"white\",\"plot_bgcolor\":\"#E5ECF6\",\"polar\":{\"bgcolor\":\"#E5ECF6\",\"angularaxis\":{\"gridcolor\":\"white\",\"linecolor\":\"white\",\"ticks\":\"\"},\"radialaxis\":{\"gridcolor\":\"white\",\"linecolor\":\"white\",\"ticks\":\"\"}},\"ternary\":{\"bgcolor\":\"#E5ECF6\",\"aaxis\":{\"gridcolor\":\"white\",\"linecolor\":\"white\",\"ticks\":\"\"},\"baxis\":{\"gridcolor\":\"white\",\"linecolor\":\"white\",\"ticks\":\"\"},\"caxis\":{\"gridcolor\":\"white\",\"linecolor\":\"white\",\"ticks\":\"\"}},\"coloraxis\":{\"colorbar\":{\"outlinewidth\":0,\"ticks\":\"\"}},\"colorscale\":{\"sequential\":[[0.0,\"#0d0887\"],[0.1111111111111111,\"#46039f\"],[0.2222222222222222,\"#7201a8\"],[0.3333333333333333,\"#9c179e\"],[0.4444444444444444,\"#bd3786\"],[0.5555555555555556,\"#d8576b\"],[0.6666666666666666,\"#ed7953\"],[0.7777777777777778,\"#fb9f3a\"],[0.8888888888888888,\"#fdca26\"],[1.0,\"#f0f921\"]],\"sequentialminus\":[[0.0,\"#0d0887\"],[0.1111111111111111,\"#46039f\"],[0.2222222222222222,\"#7201a8\"],[0.3333333333333333,\"#9c179e\"],[0.4444444444444444,\"#bd3786\"],[0.5555555555555556,\"#d8576b\"],[0.6666666666666666,\"#ed7953\"],[0.7777777777777778,\"#fb9f3a\"],[0.8888888888888888,\"#fdca26\"],[1.0,\"#f0f921\"]],\"diverging\":[[0,\"#8e0152\"],[0.1,\"#c51b7d\"],[0.2,\"#de77ae\"],[0.3,\"#f1b6da\"],[0.4,\"#fde0ef\"],[0.5,\"#f7f7f7\"],[0.6,\"#e6f5d0\"],[0.7,\"#b8e186\"],[0.8,\"#7fbc41\"],[0.9,\"#4d9221\"],[1,\"#276419\"]]},\"xaxis\":{\"gridcolor\":\"white\",\"linecolor\":\"white\",\"ticks\":\"\",\"title\":{\"standoff\":15},\"zerolinecolor\":\"white\",\"automargin\":true,\"zerolinewidth\":2},\"yaxis\":{\"gridcolor\":\"white\",\"linecolor\":\"white\",\"ticks\":\"\",\"title\":{\"standoff\":15},\"zerolinecolor\":\"white\",\"automargin\":true,\"zerolinewidth\":2},\"scene\":{\"xaxis\":{\"backgroundcolor\":\"#E5ECF6\",\"gridcolor\":\"white\",\"linecolor\":\"white\",\"showbackground\":true,\"ticks\":\"\",\"zerolinecolor\":\"white\",\"gridwidth\":2},\"yaxis\":{\"backgroundcolor\":\"#E5ECF6\",\"gridcolor\":\"white\",\"linecolor\":\"white\",\"showbackground\":true,\"ticks\":\"\",\"zerolinecolor\":\"white\",\"gridwidth\":2},\"zaxis\":{\"backgroundcolor\":\"#E5ECF6\",\"gridcolor\":\"white\",\"linecolor\":\"white\",\"showbackground\":true,\"ticks\":\"\",\"zerolinecolor\":\"white\",\"gridwidth\":2}},\"shapedefaults\":{\"line\":{\"color\":\"#2a3f5f\"}},\"annotationdefaults\":{\"arrowcolor\":\"#2a3f5f\",\"arrowhead\":0,\"arrowwidth\":1},\"geo\":{\"bgcolor\":\"white\",\"landcolor\":\"#E5ECF6\",\"subunitcolor\":\"white\",\"showland\":true,\"showlakes\":true,\"lakecolor\":\"white\"},\"title\":{\"x\":0.05},\"mapbox\":{\"style\":\"light\"}}},\"geo\":{\"domain\":{\"x\":[0.0,1.0],\"y\":[0.0,1.0]},\"center\":{},\"scope\":\"usa\"},\"coloraxis\":{\"colorbar\":{\"title\":{\"text\":\"Average Milk Price\"}},\"colorscale\":[[0.0,\"#0d0887\"],[0.1111111111111111,\"#46039f\"],[0.2222222222222222,\"#7201a8\"],[0.3333333333333333,\"#9c179e\"],[0.4444444444444444,\"#bd3786\"],[0.5555555555555556,\"#d8576b\"],[0.6666666666666666,\"#ed7953\"],[0.7777777777777778,\"#fb9f3a\"],[0.8888888888888888,\"#fdca26\"],[1.0,\"#f0f921\"]]},\"legend\":{\"tracegroupgap\":0},\"margin\":{\"t\":60}},                        {\"responsive\": true}                    ).then(function(){\n",
       "                            \n",
       "var gd = document.getElementById('d6d38001-6665-470c-a86f-7635d8c817be');\n",
       "var x = new MutationObserver(function (mutations, observer) {{\n",
       "        var display = window.getComputedStyle(gd).display;\n",
       "        if (!display || display === 'none') {{\n",
       "            console.log([gd, 'removed!']);\n",
       "            Plotly.purge(gd);\n",
       "            observer.disconnect();\n",
       "        }}\n",
       "}});\n",
       "\n",
       "// Listen for the removal of the full notebook cells\n",
       "var notebookContainer = gd.closest('#notebook-container');\n",
       "if (notebookContainer) {{\n",
       "    x.observe(notebookContainer, {childList: true});\n",
       "}}\n",
       "\n",
       "// Listen for the clearing of the current output cell\n",
       "var outputEl = gd.closest('.output');\n",
       "if (outputEl) {{\n",
       "    x.observe(outputEl, {childList: true});\n",
       "}}\n",
       "\n",
       "                        })                };                });            </script>        </div>"
      ]
     },
     "metadata": {},
     "output_type": "display_data"
    },
    {
     "data": {
      "application/vnd.plotly.v1+json": {
       "config": {
        "plotlyServerURL": "https://plot.ly"
       },
       "data": [
        {
         "coloraxis": "coloraxis",
         "geo": "geo",
         "hovertemplate": "<b>%{hovertext}</b><br><br>State=%{location}<br>Average Shampoo Price=%{z}<extra></extra>",
         "hovertext": [
          "01040",
          "02114",
          "02122",
          "02865",
          "02886",
          "02917",
          "03063",
          "03110",
          "03840",
          "04086",
          "04401",
          "04952",
          "05403",
          "06042",
          "06241",
          "06901",
          "07047",
          "07310",
          "08865",
          "11217",
          "14020",
          "14850",
          "16601",
          "16803",
          "17013",
          "19103",
          "19148",
          "19808",
          "19901",
          "19931",
          "20886",
          "21009",
          "21030",
          "21704",
          "22305",
          "24151",
          "24487",
          "25309",
          "25526",
          "26059",
          "27609",
          "28104",
          "28704",
          "29607",
          "29621",
          "29680",
          "30189",
          "30324",
          "31525",
          "33403",
          "33428",
          "33463",
          "35226",
          "35601",
          "36526",
          "37801",
          "38017",
          "38133",
          "39159",
          "39213",
          "39402",
          "40241",
          "42104",
          "42301",
          "44870",
          "45236",
          "45249",
          "46237",
          "46383",
          "47401",
          "48374",
          "48507",
          "49855",
          "50009",
          "50702",
          "52404",
          "53085",
          "53207",
          "54235",
          "55066",
          "55403",
          "56601",
          "57110",
          "57401",
          "57701",
          "58103",
          "58563",
          "58701",
          "59718",
          "59901",
          "60014",
          "60610",
          "61401",
          "63010",
          "63033",
          "64114",
          "66062",
          "66111",
          "67401",
          "68073",
          "68116",
          "68123",
          "70816",
          "71111",
          "71301",
          "72032",
          "72703",
          "72903",
          "73034",
          "74055",
          "74133",
          "77840",
          "78717",
          "79707",
          "79707",
          "80108",
          "80202",
          "81401",
          "82009",
          "82609",
          "83001",
          "83704",
          "83713",
          "83815",
          "84095",
          "84121",
          "84660",
          "85207",
          "85748",
          "87114",
          "87124",
          "87402",
          "89183",
          "89434",
          "89705",
          "90065",
          "91730",
          "95330",
          "96734",
          "96740",
          "97217",
          "97303",
          "98101",
          "98233",
          "98614",
          "98626",
          "98901",
          "99515",
          "99654"
         ],
         "locationmode": "USA-states",
         "locations": [
          "MA",
          "MA",
          "MA",
          "RI",
          "RI",
          "RI",
          "NH",
          "NH",
          "NH",
          "ME",
          "ME",
          "ME",
          "VT",
          "CT",
          "CT",
          "CT",
          "NJ",
          "NJ",
          "NJ",
          "NY",
          "NY",
          "NY",
          "PA",
          "",
          "PA",
          "PA",
          "",
          "DE",
          "DE",
          "DE",
          "Germantown",
          "MD",
          "MD",
          "MD",
          "VA",
          "VA",
          "VA",
          "WV",
          "WV",
          "WV",
          "NC",
          "NC",
          "NC",
          "SC",
          "SC",
          "SC",
          "GA",
          "GA",
          "GA",
          "FL",
          "FL",
          "FL",
          "AL",
          "AL",
          "AL",
          "TN",
          "TN",
          "TN",
          "MS",
          "MS",
          "MS",
          "KY",
          "KY",
          "KY",
          "OH",
          "OH",
          "OH",
          "IN",
          "IN",
          "IN",
          "MI",
          "MI",
          "MI",
          "IA",
          "IA",
          "IA",
          "WI",
          "WI",
          "WI",
          "MN",
          "MN",
          "MN",
          "SD",
          "SD",
          "SD",
          "ND",
          "ND",
          "ND",
          "MT",
          "MT",
          "IL",
          "IL",
          "IL",
          "MO",
          "MO",
          "MO",
          "KS",
          "KS",
          "KS",
          "NE",
          "NE",
          "NE",
          "LA",
          "LA",
          "LA",
          "AR",
          "AR",
          "AR",
          "OK",
          "OK",
          "OK",
          "TX",
          "TX",
          "TX",
          "TX",
          "CO",
          "CO",
          "CO",
          "WY",
          "WY",
          "WY",
          "ID",
          "ID",
          "ID",
          "UT",
          "UT",
          "UT",
          "AZ",
          "AZ",
          "NM",
          "NM",
          "NM",
          "NV",
          "NV",
          "NV",
          "CA",
          "CA",
          "CA",
          "HI",
          "HI",
          "OR",
          "OR",
          "WA",
          "WA",
          "WA",
          "WA",
          "WA",
          "AK",
          "AK"
         ],
         "name": "",
         "type": "choropleth",
         "z": [
          9.99,
          9.99,
          9.99,
          9.99,
          9.99,
          9.99,
          9.99,
          9.99,
          9.99,
          9.99,
          9.99,
          9.99,
          9.99,
          9.99,
          9.99,
          9.99,
          9.99,
          9.99,
          9.99,
          9.99,
          9.99,
          9.99,
          9.99,
          null,
          9.99,
          9.99,
          null,
          9.99,
          9.99,
          9.99,
          9.99,
          9.99,
          9.99,
          9.99,
          9.99,
          9.99,
          9.99,
          9.99,
          9.99,
          9.99,
          9.99,
          9.99,
          9.99,
          9.99,
          9.99,
          9.99,
          9.99,
          9.99,
          9.99,
          9.99,
          9.99,
          9.99,
          9.99,
          9.99,
          9.99,
          9.99,
          9.99,
          9.99,
          9.99,
          9.99,
          9.99,
          9.99,
          9.99,
          9.99,
          9.99,
          9.99,
          9.99,
          9.99,
          9.99,
          9.99,
          9.99,
          9.99,
          9.99,
          9.99,
          9.99,
          9.99,
          9.99,
          9.99,
          9.99,
          9.99,
          9.99,
          9.99,
          9.99,
          9.99,
          9.99,
          9.99,
          9.99,
          9.99,
          9.99,
          9.99,
          9.99,
          9.99,
          9.99,
          9.99,
          9.99,
          9.99,
          9.99,
          9.99,
          9.99,
          9.99,
          9.99,
          9.99,
          9.99,
          9.99,
          9.99,
          9.99,
          9.99,
          9.99,
          9.99,
          9.99,
          9.99,
          9.99,
          9.99,
          9.99,
          9.99,
          10.19,
          10.19,
          10.19,
          9.99,
          9.99,
          9.99,
          9.99,
          9.99,
          9.99,
          9.99,
          9.99,
          9.99,
          9.99,
          9.99,
          9.99,
          9.99,
          9.99,
          9.99,
          9.99,
          9.99,
          9.99,
          9.99,
          9.99,
          9.99,
          9.99,
          9.99,
          9.99,
          10.11,
          10.11,
          10.11,
          10.11,
          10.11,
          9.99,
          9.99
         ]
        }
       ],
       "layout": {
        "coloraxis": {
         "colorbar": {
          "title": {
           "text": "Average Shampoo Price"
          }
         },
         "colorscale": [
          [
           0,
           "#0d0887"
          ],
          [
           0.1111111111111111,
           "#46039f"
          ],
          [
           0.2222222222222222,
           "#7201a8"
          ],
          [
           0.3333333333333333,
           "#9c179e"
          ],
          [
           0.4444444444444444,
           "#bd3786"
          ],
          [
           0.5555555555555556,
           "#d8576b"
          ],
          [
           0.6666666666666666,
           "#ed7953"
          ],
          [
           0.7777777777777778,
           "#fb9f3a"
          ],
          [
           0.8888888888888888,
           "#fdca26"
          ],
          [
           1,
           "#f0f921"
          ]
         ]
        },
        "geo": {
         "center": {},
         "domain": {
          "x": [
           0,
           1
          ],
          "y": [
           0,
           1
          ]
         },
         "scope": "usa"
        },
        "legend": {
         "tracegroupgap": 0
        },
        "margin": {
         "t": 60
        },
        "template": {
         "data": {
          "bar": [
           {
            "error_x": {
             "color": "#2a3f5f"
            },
            "error_y": {
             "color": "#2a3f5f"
            },
            "marker": {
             "line": {
              "color": "#E5ECF6",
              "width": 0.5
             },
             "pattern": {
              "fillmode": "overlay",
              "size": 10,
              "solidity": 0.2
             }
            },
            "type": "bar"
           }
          ],
          "barpolar": [
           {
            "marker": {
             "line": {
              "color": "#E5ECF6",
              "width": 0.5
             },
             "pattern": {
              "fillmode": "overlay",
              "size": 10,
              "solidity": 0.2
             }
            },
            "type": "barpolar"
           }
          ],
          "carpet": [
           {
            "aaxis": {
             "endlinecolor": "#2a3f5f",
             "gridcolor": "white",
             "linecolor": "white",
             "minorgridcolor": "white",
             "startlinecolor": "#2a3f5f"
            },
            "baxis": {
             "endlinecolor": "#2a3f5f",
             "gridcolor": "white",
             "linecolor": "white",
             "minorgridcolor": "white",
             "startlinecolor": "#2a3f5f"
            },
            "type": "carpet"
           }
          ],
          "choropleth": [
           {
            "colorbar": {
             "outlinewidth": 0,
             "ticks": ""
            },
            "type": "choropleth"
           }
          ],
          "contour": [
           {
            "colorbar": {
             "outlinewidth": 0,
             "ticks": ""
            },
            "colorscale": [
             [
              0,
              "#0d0887"
             ],
             [
              0.1111111111111111,
              "#46039f"
             ],
             [
              0.2222222222222222,
              "#7201a8"
             ],
             [
              0.3333333333333333,
              "#9c179e"
             ],
             [
              0.4444444444444444,
              "#bd3786"
             ],
             [
              0.5555555555555556,
              "#d8576b"
             ],
             [
              0.6666666666666666,
              "#ed7953"
             ],
             [
              0.7777777777777778,
              "#fb9f3a"
             ],
             [
              0.8888888888888888,
              "#fdca26"
             ],
             [
              1,
              "#f0f921"
             ]
            ],
            "type": "contour"
           }
          ],
          "contourcarpet": [
           {
            "colorbar": {
             "outlinewidth": 0,
             "ticks": ""
            },
            "type": "contourcarpet"
           }
          ],
          "heatmap": [
           {
            "colorbar": {
             "outlinewidth": 0,
             "ticks": ""
            },
            "colorscale": [
             [
              0,
              "#0d0887"
             ],
             [
              0.1111111111111111,
              "#46039f"
             ],
             [
              0.2222222222222222,
              "#7201a8"
             ],
             [
              0.3333333333333333,
              "#9c179e"
             ],
             [
              0.4444444444444444,
              "#bd3786"
             ],
             [
              0.5555555555555556,
              "#d8576b"
             ],
             [
              0.6666666666666666,
              "#ed7953"
             ],
             [
              0.7777777777777778,
              "#fb9f3a"
             ],
             [
              0.8888888888888888,
              "#fdca26"
             ],
             [
              1,
              "#f0f921"
             ]
            ],
            "type": "heatmap"
           }
          ],
          "heatmapgl": [
           {
            "colorbar": {
             "outlinewidth": 0,
             "ticks": ""
            },
            "colorscale": [
             [
              0,
              "#0d0887"
             ],
             [
              0.1111111111111111,
              "#46039f"
             ],
             [
              0.2222222222222222,
              "#7201a8"
             ],
             [
              0.3333333333333333,
              "#9c179e"
             ],
             [
              0.4444444444444444,
              "#bd3786"
             ],
             [
              0.5555555555555556,
              "#d8576b"
             ],
             [
              0.6666666666666666,
              "#ed7953"
             ],
             [
              0.7777777777777778,
              "#fb9f3a"
             ],
             [
              0.8888888888888888,
              "#fdca26"
             ],
             [
              1,
              "#f0f921"
             ]
            ],
            "type": "heatmapgl"
           }
          ],
          "histogram": [
           {
            "marker": {
             "pattern": {
              "fillmode": "overlay",
              "size": 10,
              "solidity": 0.2
             }
            },
            "type": "histogram"
           }
          ],
          "histogram2d": [
           {
            "colorbar": {
             "outlinewidth": 0,
             "ticks": ""
            },
            "colorscale": [
             [
              0,
              "#0d0887"
             ],
             [
              0.1111111111111111,
              "#46039f"
             ],
             [
              0.2222222222222222,
              "#7201a8"
             ],
             [
              0.3333333333333333,
              "#9c179e"
             ],
             [
              0.4444444444444444,
              "#bd3786"
             ],
             [
              0.5555555555555556,
              "#d8576b"
             ],
             [
              0.6666666666666666,
              "#ed7953"
             ],
             [
              0.7777777777777778,
              "#fb9f3a"
             ],
             [
              0.8888888888888888,
              "#fdca26"
             ],
             [
              1,
              "#f0f921"
             ]
            ],
            "type": "histogram2d"
           }
          ],
          "histogram2dcontour": [
           {
            "colorbar": {
             "outlinewidth": 0,
             "ticks": ""
            },
            "colorscale": [
             [
              0,
              "#0d0887"
             ],
             [
              0.1111111111111111,
              "#46039f"
             ],
             [
              0.2222222222222222,
              "#7201a8"
             ],
             [
              0.3333333333333333,
              "#9c179e"
             ],
             [
              0.4444444444444444,
              "#bd3786"
             ],
             [
              0.5555555555555556,
              "#d8576b"
             ],
             [
              0.6666666666666666,
              "#ed7953"
             ],
             [
              0.7777777777777778,
              "#fb9f3a"
             ],
             [
              0.8888888888888888,
              "#fdca26"
             ],
             [
              1,
              "#f0f921"
             ]
            ],
            "type": "histogram2dcontour"
           }
          ],
          "mesh3d": [
           {
            "colorbar": {
             "outlinewidth": 0,
             "ticks": ""
            },
            "type": "mesh3d"
           }
          ],
          "parcoords": [
           {
            "line": {
             "colorbar": {
              "outlinewidth": 0,
              "ticks": ""
             }
            },
            "type": "parcoords"
           }
          ],
          "pie": [
           {
            "automargin": true,
            "type": "pie"
           }
          ],
          "scatter": [
           {
            "fillpattern": {
             "fillmode": "overlay",
             "size": 10,
             "solidity": 0.2
            },
            "type": "scatter"
           }
          ],
          "scatter3d": [
           {
            "line": {
             "colorbar": {
              "outlinewidth": 0,
              "ticks": ""
             }
            },
            "marker": {
             "colorbar": {
              "outlinewidth": 0,
              "ticks": ""
             }
            },
            "type": "scatter3d"
           }
          ],
          "scattercarpet": [
           {
            "marker": {
             "colorbar": {
              "outlinewidth": 0,
              "ticks": ""
             }
            },
            "type": "scattercarpet"
           }
          ],
          "scattergeo": [
           {
            "marker": {
             "colorbar": {
              "outlinewidth": 0,
              "ticks": ""
             }
            },
            "type": "scattergeo"
           }
          ],
          "scattergl": [
           {
            "marker": {
             "colorbar": {
              "outlinewidth": 0,
              "ticks": ""
             }
            },
            "type": "scattergl"
           }
          ],
          "scattermapbox": [
           {
            "marker": {
             "colorbar": {
              "outlinewidth": 0,
              "ticks": ""
             }
            },
            "type": "scattermapbox"
           }
          ],
          "scatterpolar": [
           {
            "marker": {
             "colorbar": {
              "outlinewidth": 0,
              "ticks": ""
             }
            },
            "type": "scatterpolar"
           }
          ],
          "scatterpolargl": [
           {
            "marker": {
             "colorbar": {
              "outlinewidth": 0,
              "ticks": ""
             }
            },
            "type": "scatterpolargl"
           }
          ],
          "scatterternary": [
           {
            "marker": {
             "colorbar": {
              "outlinewidth": 0,
              "ticks": ""
             }
            },
            "type": "scatterternary"
           }
          ],
          "surface": [
           {
            "colorbar": {
             "outlinewidth": 0,
             "ticks": ""
            },
            "colorscale": [
             [
              0,
              "#0d0887"
             ],
             [
              0.1111111111111111,
              "#46039f"
             ],
             [
              0.2222222222222222,
              "#7201a8"
             ],
             [
              0.3333333333333333,
              "#9c179e"
             ],
             [
              0.4444444444444444,
              "#bd3786"
             ],
             [
              0.5555555555555556,
              "#d8576b"
             ],
             [
              0.6666666666666666,
              "#ed7953"
             ],
             [
              0.7777777777777778,
              "#fb9f3a"
             ],
             [
              0.8888888888888888,
              "#fdca26"
             ],
             [
              1,
              "#f0f921"
             ]
            ],
            "type": "surface"
           }
          ],
          "table": [
           {
            "cells": {
             "fill": {
              "color": "#EBF0F8"
             },
             "line": {
              "color": "white"
             }
            },
            "header": {
             "fill": {
              "color": "#C8D4E3"
             },
             "line": {
              "color": "white"
             }
            },
            "type": "table"
           }
          ]
         },
         "layout": {
          "annotationdefaults": {
           "arrowcolor": "#2a3f5f",
           "arrowhead": 0,
           "arrowwidth": 1
          },
          "autotypenumbers": "strict",
          "coloraxis": {
           "colorbar": {
            "outlinewidth": 0,
            "ticks": ""
           }
          },
          "colorscale": {
           "diverging": [
            [
             0,
             "#8e0152"
            ],
            [
             0.1,
             "#c51b7d"
            ],
            [
             0.2,
             "#de77ae"
            ],
            [
             0.3,
             "#f1b6da"
            ],
            [
             0.4,
             "#fde0ef"
            ],
            [
             0.5,
             "#f7f7f7"
            ],
            [
             0.6,
             "#e6f5d0"
            ],
            [
             0.7,
             "#b8e186"
            ],
            [
             0.8,
             "#7fbc41"
            ],
            [
             0.9,
             "#4d9221"
            ],
            [
             1,
             "#276419"
            ]
           ],
           "sequential": [
            [
             0,
             "#0d0887"
            ],
            [
             0.1111111111111111,
             "#46039f"
            ],
            [
             0.2222222222222222,
             "#7201a8"
            ],
            [
             0.3333333333333333,
             "#9c179e"
            ],
            [
             0.4444444444444444,
             "#bd3786"
            ],
            [
             0.5555555555555556,
             "#d8576b"
            ],
            [
             0.6666666666666666,
             "#ed7953"
            ],
            [
             0.7777777777777778,
             "#fb9f3a"
            ],
            [
             0.8888888888888888,
             "#fdca26"
            ],
            [
             1,
             "#f0f921"
            ]
           ],
           "sequentialminus": [
            [
             0,
             "#0d0887"
            ],
            [
             0.1111111111111111,
             "#46039f"
            ],
            [
             0.2222222222222222,
             "#7201a8"
            ],
            [
             0.3333333333333333,
             "#9c179e"
            ],
            [
             0.4444444444444444,
             "#bd3786"
            ],
            [
             0.5555555555555556,
             "#d8576b"
            ],
            [
             0.6666666666666666,
             "#ed7953"
            ],
            [
             0.7777777777777778,
             "#fb9f3a"
            ],
            [
             0.8888888888888888,
             "#fdca26"
            ],
            [
             1,
             "#f0f921"
            ]
           ]
          },
          "colorway": [
           "#636efa",
           "#EF553B",
           "#00cc96",
           "#ab63fa",
           "#FFA15A",
           "#19d3f3",
           "#FF6692",
           "#B6E880",
           "#FF97FF",
           "#FECB52"
          ],
          "font": {
           "color": "#2a3f5f"
          },
          "geo": {
           "bgcolor": "white",
           "lakecolor": "white",
           "landcolor": "#E5ECF6",
           "showlakes": true,
           "showland": true,
           "subunitcolor": "white"
          },
          "hoverlabel": {
           "align": "left"
          },
          "hovermode": "closest",
          "mapbox": {
           "style": "light"
          },
          "paper_bgcolor": "white",
          "plot_bgcolor": "#E5ECF6",
          "polar": {
           "angularaxis": {
            "gridcolor": "white",
            "linecolor": "white",
            "ticks": ""
           },
           "bgcolor": "#E5ECF6",
           "radialaxis": {
            "gridcolor": "white",
            "linecolor": "white",
            "ticks": ""
           }
          },
          "scene": {
           "xaxis": {
            "backgroundcolor": "#E5ECF6",
            "gridcolor": "white",
            "gridwidth": 2,
            "linecolor": "white",
            "showbackground": true,
            "ticks": "",
            "zerolinecolor": "white"
           },
           "yaxis": {
            "backgroundcolor": "#E5ECF6",
            "gridcolor": "white",
            "gridwidth": 2,
            "linecolor": "white",
            "showbackground": true,
            "ticks": "",
            "zerolinecolor": "white"
           },
           "zaxis": {
            "backgroundcolor": "#E5ECF6",
            "gridcolor": "white",
            "gridwidth": 2,
            "linecolor": "white",
            "showbackground": true,
            "ticks": "",
            "zerolinecolor": "white"
           }
          },
          "shapedefaults": {
           "line": {
            "color": "#2a3f5f"
           }
          },
          "ternary": {
           "aaxis": {
            "gridcolor": "white",
            "linecolor": "white",
            "ticks": ""
           },
           "baxis": {
            "gridcolor": "white",
            "linecolor": "white",
            "ticks": ""
           },
           "bgcolor": "#E5ECF6",
           "caxis": {
            "gridcolor": "white",
            "linecolor": "white",
            "ticks": ""
           }
          },
          "title": {
           "x": 0.05
          },
          "xaxis": {
           "automargin": true,
           "gridcolor": "white",
           "linecolor": "white",
           "ticks": "",
           "title": {
            "standoff": 15
           },
           "zerolinecolor": "white",
           "zerolinewidth": 2
          },
          "yaxis": {
           "automargin": true,
           "gridcolor": "white",
           "linecolor": "white",
           "ticks": "",
           "title": {
            "standoff": 15
           },
           "zerolinecolor": "white",
           "zerolinewidth": 2
          }
         }
        }
       }
      },
      "text/html": [
       "<div>                            <div id=\"62aa4954-c3fd-4c9b-942c-2f0ea2ffbb75\" class=\"plotly-graph-div\" style=\"height:525px; width:100%;\"></div>            <script type=\"text/javascript\">                require([\"plotly\"], function(Plotly) {                    window.PLOTLYENV=window.PLOTLYENV || {};                                    if (document.getElementById(\"62aa4954-c3fd-4c9b-942c-2f0ea2ffbb75\")) {                    Plotly.newPlot(                        \"62aa4954-c3fd-4c9b-942c-2f0ea2ffbb75\",                        [{\"coloraxis\":\"coloraxis\",\"geo\":\"geo\",\"hovertemplate\":\"<b>%{hovertext}</b><br><br>State=%{location}<br>Average Shampoo Price=%{z}<extra></extra>\",\"hovertext\":[\"01040\",\"02114\",\"02122\",\"02865\",\"02886\",\"02917\",\"03063\",\"03110\",\"03840\",\"04086\",\"04401\",\"04952\",\"05403\",\"06042\",\"06241\",\"06901\",\"07047\",\"07310\",\"08865\",\"11217\",\"14020\",\"14850\",\"16601\",\"16803\",\"17013\",\"19103\",\"19148\",\"19808\",\"19901\",\"19931\",\"20886\",\"21009\",\"21030\",\"21704\",\"22305\",\"24151\",\"24487\",\"25309\",\"25526\",\"26059\",\"27609\",\"28104\",\"28704\",\"29607\",\"29621\",\"29680\",\"30189\",\"30324\",\"31525\",\"33403\",\"33428\",\"33463\",\"35226\",\"35601\",\"36526\",\"37801\",\"38017\",\"38133\",\"39159\",\"39213\",\"39402\",\"40241\",\"42104\",\"42301\",\"44870\",\"45236\",\"45249\",\"46237\",\"46383\",\"47401\",\"48374\",\"48507\",\"49855\",\"50009\",\"50702\",\"52404\",\"53085\",\"53207\",\"54235\",\"55066\",\"55403\",\"56601\",\"57110\",\"57401\",\"57701\",\"58103\",\"58563\",\"58701\",\"59718\",\"59901\",\"60014\",\"60610\",\"61401\",\"63010\",\"63033\",\"64114\",\"66062\",\"66111\",\"67401\",\"68073\",\"68116\",\"68123\",\"70816\",\"71111\",\"71301\",\"72032\",\"72703\",\"72903\",\"73034\",\"74055\",\"74133\",\"77840\",\"78717\",\"79707\",\"79707\",\"80108\",\"80202\",\"81401\",\"82009\",\"82609\",\"83001\",\"83704\",\"83713\",\"83815\",\"84095\",\"84121\",\"84660\",\"85207\",\"85748\",\"87114\",\"87124\",\"87402\",\"89183\",\"89434\",\"89705\",\"90065\",\"91730\",\"95330\",\"96734\",\"96740\",\"97217\",\"97303\",\"98101\",\"98233\",\"98614\",\"98626\",\"98901\",\"99515\",\"99654\"],\"locationmode\":\"USA-states\",\"locations\":[\"MA\",\"MA\",\"MA\",\"RI\",\"RI\",\"RI\",\"NH\",\"NH\",\"NH\",\"ME\",\"ME\",\"ME\",\"VT\",\"CT\",\"CT\",\"CT\",\"NJ\",\"NJ\",\"NJ\",\"NY\",\"NY\",\"NY\",\"PA\",\"\",\"PA\",\"PA\",\"\",\"DE\",\"DE\",\"DE\",\"Germantown\",\"MD\",\"MD\",\"MD\",\"VA\",\"VA\",\"VA\",\"WV\",\"WV\",\"WV\",\"NC\",\"NC\",\"NC\",\"SC\",\"SC\",\"SC\",\"GA\",\"GA\",\"GA\",\"FL\",\"FL\",\"FL\",\"AL\",\"AL\",\"AL\",\"TN\",\"TN\",\"TN\",\"MS\",\"MS\",\"MS\",\"KY\",\"KY\",\"KY\",\"OH\",\"OH\",\"OH\",\"IN\",\"IN\",\"IN\",\"MI\",\"MI\",\"MI\",\"IA\",\"IA\",\"IA\",\"WI\",\"WI\",\"WI\",\"MN\",\"MN\",\"MN\",\"SD\",\"SD\",\"SD\",\"ND\",\"ND\",\"ND\",\"MT\",\"MT\",\"IL\",\"IL\",\"IL\",\"MO\",\"MO\",\"MO\",\"KS\",\"KS\",\"KS\",\"NE\",\"NE\",\"NE\",\"LA\",\"LA\",\"LA\",\"AR\",\"AR\",\"AR\",\"OK\",\"OK\",\"OK\",\"TX\",\"TX\",\"TX\",\"TX\",\"CO\",\"CO\",\"CO\",\"WY\",\"WY\",\"WY\",\"ID\",\"ID\",\"ID\",\"UT\",\"UT\",\"UT\",\"AZ\",\"AZ\",\"NM\",\"NM\",\"NM\",\"NV\",\"NV\",\"NV\",\"CA\",\"CA\",\"CA\",\"HI\",\"HI\",\"OR\",\"OR\",\"WA\",\"WA\",\"WA\",\"WA\",\"WA\",\"AK\",\"AK\"],\"name\":\"\",\"z\":[9.99,9.99,9.99,9.99,9.99,9.99,9.99,9.99,9.99,9.99,9.99,9.99,9.99,9.99,9.99,9.99,9.99,9.99,9.99,9.99,9.99,9.99,9.99,null,9.99,9.99,null,9.99,9.99,9.99,9.99,9.99,9.99,9.99,9.99,9.99,9.99,9.99,9.99,9.99,9.99,9.99,9.99,9.99,9.99,9.99,9.99,9.99,9.99,9.99,9.99,9.99,9.99,9.99,9.99,9.99,9.99,9.99,9.99,9.99,9.99,9.99,9.99,9.99,9.99,9.99,9.99,9.99,9.99,9.99,9.99,9.99,9.99,9.99,9.99,9.99,9.99,9.99,9.99,9.99,9.99,9.99,9.99,9.99,9.99,9.99,9.99,9.99,9.99,9.99,9.99,9.99,9.99,9.99,9.99,9.99,9.99,9.99,9.99,9.99,9.99,9.99,9.99,9.99,9.99,9.99,9.99,9.99,9.99,9.99,9.99,9.99,9.99,9.99,9.99,10.19,10.19,10.19,9.99,9.99,9.99,9.99,9.99,9.99,9.99,9.99,9.99,9.99,9.99,9.99,9.99,9.99,9.99,9.99,9.99,9.99,9.99,9.99,9.99,9.99,9.99,9.99,10.11,10.11,10.11,10.11,10.11,9.99,9.99],\"type\":\"choropleth\"}],                        {\"template\":{\"data\":{\"histogram2dcontour\":[{\"type\":\"histogram2dcontour\",\"colorbar\":{\"outlinewidth\":0,\"ticks\":\"\"},\"colorscale\":[[0.0,\"#0d0887\"],[0.1111111111111111,\"#46039f\"],[0.2222222222222222,\"#7201a8\"],[0.3333333333333333,\"#9c179e\"],[0.4444444444444444,\"#bd3786\"],[0.5555555555555556,\"#d8576b\"],[0.6666666666666666,\"#ed7953\"],[0.7777777777777778,\"#fb9f3a\"],[0.8888888888888888,\"#fdca26\"],[1.0,\"#f0f921\"]]}],\"choropleth\":[{\"type\":\"choropleth\",\"colorbar\":{\"outlinewidth\":0,\"ticks\":\"\"}}],\"histogram2d\":[{\"type\":\"histogram2d\",\"colorbar\":{\"outlinewidth\":0,\"ticks\":\"\"},\"colorscale\":[[0.0,\"#0d0887\"],[0.1111111111111111,\"#46039f\"],[0.2222222222222222,\"#7201a8\"],[0.3333333333333333,\"#9c179e\"],[0.4444444444444444,\"#bd3786\"],[0.5555555555555556,\"#d8576b\"],[0.6666666666666666,\"#ed7953\"],[0.7777777777777778,\"#fb9f3a\"],[0.8888888888888888,\"#fdca26\"],[1.0,\"#f0f921\"]]}],\"heatmap\":[{\"type\":\"heatmap\",\"colorbar\":{\"outlinewidth\":0,\"ticks\":\"\"},\"colorscale\":[[0.0,\"#0d0887\"],[0.1111111111111111,\"#46039f\"],[0.2222222222222222,\"#7201a8\"],[0.3333333333333333,\"#9c179e\"],[0.4444444444444444,\"#bd3786\"],[0.5555555555555556,\"#d8576b\"],[0.6666666666666666,\"#ed7953\"],[0.7777777777777778,\"#fb9f3a\"],[0.8888888888888888,\"#fdca26\"],[1.0,\"#f0f921\"]]}],\"heatmapgl\":[{\"type\":\"heatmapgl\",\"colorbar\":{\"outlinewidth\":0,\"ticks\":\"\"},\"colorscale\":[[0.0,\"#0d0887\"],[0.1111111111111111,\"#46039f\"],[0.2222222222222222,\"#7201a8\"],[0.3333333333333333,\"#9c179e\"],[0.4444444444444444,\"#bd3786\"],[0.5555555555555556,\"#d8576b\"],[0.6666666666666666,\"#ed7953\"],[0.7777777777777778,\"#fb9f3a\"],[0.8888888888888888,\"#fdca26\"],[1.0,\"#f0f921\"]]}],\"contourcarpet\":[{\"type\":\"contourcarpet\",\"colorbar\":{\"outlinewidth\":0,\"ticks\":\"\"}}],\"contour\":[{\"type\":\"contour\",\"colorbar\":{\"outlinewidth\":0,\"ticks\":\"\"},\"colorscale\":[[0.0,\"#0d0887\"],[0.1111111111111111,\"#46039f\"],[0.2222222222222222,\"#7201a8\"],[0.3333333333333333,\"#9c179e\"],[0.4444444444444444,\"#bd3786\"],[0.5555555555555556,\"#d8576b\"],[0.6666666666666666,\"#ed7953\"],[0.7777777777777778,\"#fb9f3a\"],[0.8888888888888888,\"#fdca26\"],[1.0,\"#f0f921\"]]}],\"surface\":[{\"type\":\"surface\",\"colorbar\":{\"outlinewidth\":0,\"ticks\":\"\"},\"colorscale\":[[0.0,\"#0d0887\"],[0.1111111111111111,\"#46039f\"],[0.2222222222222222,\"#7201a8\"],[0.3333333333333333,\"#9c179e\"],[0.4444444444444444,\"#bd3786\"],[0.5555555555555556,\"#d8576b\"],[0.6666666666666666,\"#ed7953\"],[0.7777777777777778,\"#fb9f3a\"],[0.8888888888888888,\"#fdca26\"],[1.0,\"#f0f921\"]]}],\"mesh3d\":[{\"type\":\"mesh3d\",\"colorbar\":{\"outlinewidth\":0,\"ticks\":\"\"}}],\"scatter\":[{\"fillpattern\":{\"fillmode\":\"overlay\",\"size\":10,\"solidity\":0.2},\"type\":\"scatter\"}],\"parcoords\":[{\"type\":\"parcoords\",\"line\":{\"colorbar\":{\"outlinewidth\":0,\"ticks\":\"\"}}}],\"scatterpolargl\":[{\"type\":\"scatterpolargl\",\"marker\":{\"colorbar\":{\"outlinewidth\":0,\"ticks\":\"\"}}}],\"bar\":[{\"error_x\":{\"color\":\"#2a3f5f\"},\"error_y\":{\"color\":\"#2a3f5f\"},\"marker\":{\"line\":{\"color\":\"#E5ECF6\",\"width\":0.5},\"pattern\":{\"fillmode\":\"overlay\",\"size\":10,\"solidity\":0.2}},\"type\":\"bar\"}],\"scattergeo\":[{\"type\":\"scattergeo\",\"marker\":{\"colorbar\":{\"outlinewidth\":0,\"ticks\":\"\"}}}],\"scatterpolar\":[{\"type\":\"scatterpolar\",\"marker\":{\"colorbar\":{\"outlinewidth\":0,\"ticks\":\"\"}}}],\"histogram\":[{\"marker\":{\"pattern\":{\"fillmode\":\"overlay\",\"size\":10,\"solidity\":0.2}},\"type\":\"histogram\"}],\"scattergl\":[{\"type\":\"scattergl\",\"marker\":{\"colorbar\":{\"outlinewidth\":0,\"ticks\":\"\"}}}],\"scatter3d\":[{\"type\":\"scatter3d\",\"line\":{\"colorbar\":{\"outlinewidth\":0,\"ticks\":\"\"}},\"marker\":{\"colorbar\":{\"outlinewidth\":0,\"ticks\":\"\"}}}],\"scattermapbox\":[{\"type\":\"scattermapbox\",\"marker\":{\"colorbar\":{\"outlinewidth\":0,\"ticks\":\"\"}}}],\"scatterternary\":[{\"type\":\"scatterternary\",\"marker\":{\"colorbar\":{\"outlinewidth\":0,\"ticks\":\"\"}}}],\"scattercarpet\":[{\"type\":\"scattercarpet\",\"marker\":{\"colorbar\":{\"outlinewidth\":0,\"ticks\":\"\"}}}],\"carpet\":[{\"aaxis\":{\"endlinecolor\":\"#2a3f5f\",\"gridcolor\":\"white\",\"linecolor\":\"white\",\"minorgridcolor\":\"white\",\"startlinecolor\":\"#2a3f5f\"},\"baxis\":{\"endlinecolor\":\"#2a3f5f\",\"gridcolor\":\"white\",\"linecolor\":\"white\",\"minorgridcolor\":\"white\",\"startlinecolor\":\"#2a3f5f\"},\"type\":\"carpet\"}],\"table\":[{\"cells\":{\"fill\":{\"color\":\"#EBF0F8\"},\"line\":{\"color\":\"white\"}},\"header\":{\"fill\":{\"color\":\"#C8D4E3\"},\"line\":{\"color\":\"white\"}},\"type\":\"table\"}],\"barpolar\":[{\"marker\":{\"line\":{\"color\":\"#E5ECF6\",\"width\":0.5},\"pattern\":{\"fillmode\":\"overlay\",\"size\":10,\"solidity\":0.2}},\"type\":\"barpolar\"}],\"pie\":[{\"automargin\":true,\"type\":\"pie\"}]},\"layout\":{\"autotypenumbers\":\"strict\",\"colorway\":[\"#636efa\",\"#EF553B\",\"#00cc96\",\"#ab63fa\",\"#FFA15A\",\"#19d3f3\",\"#FF6692\",\"#B6E880\",\"#FF97FF\",\"#FECB52\"],\"font\":{\"color\":\"#2a3f5f\"},\"hovermode\":\"closest\",\"hoverlabel\":{\"align\":\"left\"},\"paper_bgcolor\":\"white\",\"plot_bgcolor\":\"#E5ECF6\",\"polar\":{\"bgcolor\":\"#E5ECF6\",\"angularaxis\":{\"gridcolor\":\"white\",\"linecolor\":\"white\",\"ticks\":\"\"},\"radialaxis\":{\"gridcolor\":\"white\",\"linecolor\":\"white\",\"ticks\":\"\"}},\"ternary\":{\"bgcolor\":\"#E5ECF6\",\"aaxis\":{\"gridcolor\":\"white\",\"linecolor\":\"white\",\"ticks\":\"\"},\"baxis\":{\"gridcolor\":\"white\",\"linecolor\":\"white\",\"ticks\":\"\"},\"caxis\":{\"gridcolor\":\"white\",\"linecolor\":\"white\",\"ticks\":\"\"}},\"coloraxis\":{\"colorbar\":{\"outlinewidth\":0,\"ticks\":\"\"}},\"colorscale\":{\"sequential\":[[0.0,\"#0d0887\"],[0.1111111111111111,\"#46039f\"],[0.2222222222222222,\"#7201a8\"],[0.3333333333333333,\"#9c179e\"],[0.4444444444444444,\"#bd3786\"],[0.5555555555555556,\"#d8576b\"],[0.6666666666666666,\"#ed7953\"],[0.7777777777777778,\"#fb9f3a\"],[0.8888888888888888,\"#fdca26\"],[1.0,\"#f0f921\"]],\"sequentialminus\":[[0.0,\"#0d0887\"],[0.1111111111111111,\"#46039f\"],[0.2222222222222222,\"#7201a8\"],[0.3333333333333333,\"#9c179e\"],[0.4444444444444444,\"#bd3786\"],[0.5555555555555556,\"#d8576b\"],[0.6666666666666666,\"#ed7953\"],[0.7777777777777778,\"#fb9f3a\"],[0.8888888888888888,\"#fdca26\"],[1.0,\"#f0f921\"]],\"diverging\":[[0,\"#8e0152\"],[0.1,\"#c51b7d\"],[0.2,\"#de77ae\"],[0.3,\"#f1b6da\"],[0.4,\"#fde0ef\"],[0.5,\"#f7f7f7\"],[0.6,\"#e6f5d0\"],[0.7,\"#b8e186\"],[0.8,\"#7fbc41\"],[0.9,\"#4d9221\"],[1,\"#276419\"]]},\"xaxis\":{\"gridcolor\":\"white\",\"linecolor\":\"white\",\"ticks\":\"\",\"title\":{\"standoff\":15},\"zerolinecolor\":\"white\",\"automargin\":true,\"zerolinewidth\":2},\"yaxis\":{\"gridcolor\":\"white\",\"linecolor\":\"white\",\"ticks\":\"\",\"title\":{\"standoff\":15},\"zerolinecolor\":\"white\",\"automargin\":true,\"zerolinewidth\":2},\"scene\":{\"xaxis\":{\"backgroundcolor\":\"#E5ECF6\",\"gridcolor\":\"white\",\"linecolor\":\"white\",\"showbackground\":true,\"ticks\":\"\",\"zerolinecolor\":\"white\",\"gridwidth\":2},\"yaxis\":{\"backgroundcolor\":\"#E5ECF6\",\"gridcolor\":\"white\",\"linecolor\":\"white\",\"showbackground\":true,\"ticks\":\"\",\"zerolinecolor\":\"white\",\"gridwidth\":2},\"zaxis\":{\"backgroundcolor\":\"#E5ECF6\",\"gridcolor\":\"white\",\"linecolor\":\"white\",\"showbackground\":true,\"ticks\":\"\",\"zerolinecolor\":\"white\",\"gridwidth\":2}},\"shapedefaults\":{\"line\":{\"color\":\"#2a3f5f\"}},\"annotationdefaults\":{\"arrowcolor\":\"#2a3f5f\",\"arrowhead\":0,\"arrowwidth\":1},\"geo\":{\"bgcolor\":\"white\",\"landcolor\":\"#E5ECF6\",\"subunitcolor\":\"white\",\"showland\":true,\"showlakes\":true,\"lakecolor\":\"white\"},\"title\":{\"x\":0.05},\"mapbox\":{\"style\":\"light\"}}},\"geo\":{\"domain\":{\"x\":[0.0,1.0],\"y\":[0.0,1.0]},\"center\":{},\"scope\":\"usa\"},\"coloraxis\":{\"colorbar\":{\"title\":{\"text\":\"Average Shampoo Price\"}},\"colorscale\":[[0.0,\"#0d0887\"],[0.1111111111111111,\"#46039f\"],[0.2222222222222222,\"#7201a8\"],[0.3333333333333333,\"#9c179e\"],[0.4444444444444444,\"#bd3786\"],[0.5555555555555556,\"#d8576b\"],[0.6666666666666666,\"#ed7953\"],[0.7777777777777778,\"#fb9f3a\"],[0.8888888888888888,\"#fdca26\"],[1.0,\"#f0f921\"]]},\"legend\":{\"tracegroupgap\":0},\"margin\":{\"t\":60}},                        {\"responsive\": true}                    ).then(function(){\n",
       "                            \n",
       "var gd = document.getElementById('62aa4954-c3fd-4c9b-942c-2f0ea2ffbb75');\n",
       "var x = new MutationObserver(function (mutations, observer) {{\n",
       "        var display = window.getComputedStyle(gd).display;\n",
       "        if (!display || display === 'none') {{\n",
       "            console.log([gd, 'removed!']);\n",
       "            Plotly.purge(gd);\n",
       "            observer.disconnect();\n",
       "        }}\n",
       "}});\n",
       "\n",
       "// Listen for the removal of the full notebook cells\n",
       "var notebookContainer = gd.closest('#notebook-container');\n",
       "if (notebookContainer) {{\n",
       "    x.observe(notebookContainer, {childList: true});\n",
       "}}\n",
       "\n",
       "// Listen for the clearing of the current output cell\n",
       "var outputEl = gd.closest('.output');\n",
       "if (outputEl) {{\n",
       "    x.observe(outputEl, {childList: true});\n",
       "}}\n",
       "\n",
       "                        })                };                });            </script>        </div>"
      ]
     },
     "metadata": {},
     "output_type": "display_data"
    },
    {
     "data": {
      "application/vnd.plotly.v1+json": {
       "config": {
        "plotlyServerURL": "https://plot.ly"
       },
       "data": [
        {
         "coloraxis": "coloraxis",
         "geo": "geo",
         "hovertemplate": "<b>%{hovertext}</b><br><br>State=%{location}<br>Average T-Shirt Price=%{z}<extra></extra>",
         "hovertext": [
          "01040",
          "02114",
          "02122",
          "02865",
          "02886",
          "02917",
          "03063",
          "03110",
          "03840",
          "04086",
          "04401",
          "04952",
          "05403",
          "06042",
          "06241",
          "06901",
          "07047",
          "07310",
          "08865",
          "11217",
          "14020",
          "14850",
          "16601",
          "16803",
          "17013",
          "19103",
          "19148",
          "19808",
          "19901",
          "19931",
          "20886",
          "21009",
          "21030",
          "21704",
          "22305",
          "24151",
          "24487",
          "25309",
          "25526",
          "26059",
          "27609",
          "28104",
          "28704",
          "29607",
          "29621",
          "29680",
          "30189",
          "30324",
          "31525",
          "33403",
          "33428",
          "33463",
          "35226",
          "35601",
          "36526",
          "37801",
          "38017",
          "38133",
          "39159",
          "39213",
          "39402",
          "40241",
          "42104",
          "42301",
          "44870",
          "45236",
          "45249",
          "46237",
          "46383",
          "47401",
          "48374",
          "48507",
          "49855",
          "50009",
          "50702",
          "52404",
          "53085",
          "53207",
          "54235",
          "55066",
          "55403",
          "56601",
          "57110",
          "57401",
          "57701",
          "58103",
          "58563",
          "58701",
          "59718",
          "59901",
          "60014",
          "60610",
          "61401",
          "63010",
          "63033",
          "64114",
          "66062",
          "66111",
          "67401",
          "68073",
          "68116",
          "68123",
          "70816",
          "71111",
          "71301",
          "72032",
          "72703",
          "72903",
          "73034",
          "74055",
          "74133",
          "77840",
          "78717",
          "79707",
          "79707",
          "80108",
          "80202",
          "81401",
          "82009",
          "82609",
          "83001",
          "83704",
          "83713",
          "83815",
          "84095",
          "84121",
          "84660",
          "85207",
          "85748",
          "87114",
          "87124",
          "87402",
          "89183",
          "89434",
          "89705",
          "90065",
          "91730",
          "95330",
          "96734",
          "96740",
          "97217",
          "97303",
          "98101",
          "98233",
          "98614",
          "98626",
          "98901",
          "99515",
          "99654"
         ],
         "locationmode": "USA-states",
         "locations": [
          "MA",
          "MA",
          "MA",
          "RI",
          "RI",
          "RI",
          "NH",
          "NH",
          "NH",
          "ME",
          "ME",
          "ME",
          "VT",
          "CT",
          "CT",
          "CT",
          "NJ",
          "NJ",
          "NJ",
          "NY",
          "NY",
          "NY",
          "PA",
          "",
          "PA",
          "PA",
          "",
          "DE",
          "DE",
          "DE",
          "Germantown",
          "MD",
          "MD",
          "MD",
          "VA",
          "VA",
          "VA",
          "WV",
          "WV",
          "WV",
          "NC",
          "NC",
          "NC",
          "SC",
          "SC",
          "SC",
          "GA",
          "GA",
          "GA",
          "FL",
          "FL",
          "FL",
          "AL",
          "AL",
          "AL",
          "TN",
          "TN",
          "TN",
          "MS",
          "MS",
          "MS",
          "KY",
          "KY",
          "KY",
          "OH",
          "OH",
          "OH",
          "IN",
          "IN",
          "IN",
          "MI",
          "MI",
          "MI",
          "IA",
          "IA",
          "IA",
          "WI",
          "WI",
          "WI",
          "MN",
          "MN",
          "MN",
          "SD",
          "SD",
          "SD",
          "ND",
          "ND",
          "ND",
          "MT",
          "MT",
          "IL",
          "IL",
          "IL",
          "MO",
          "MO",
          "MO",
          "KS",
          "KS",
          "KS",
          "NE",
          "NE",
          "NE",
          "LA",
          "LA",
          "LA",
          "AR",
          "AR",
          "AR",
          "OK",
          "OK",
          "OK",
          "TX",
          "TX",
          "TX",
          "TX",
          "CO",
          "CO",
          "CO",
          "WY",
          "WY",
          "WY",
          "ID",
          "ID",
          "ID",
          "UT",
          "UT",
          "UT",
          "AZ",
          "AZ",
          "NM",
          "NM",
          "NM",
          "NV",
          "NV",
          "NV",
          "CA",
          "CA",
          "CA",
          "HI",
          "HI",
          "OR",
          "OR",
          "WA",
          "WA",
          "WA",
          "WA",
          "WA",
          "AK",
          "AK"
         ],
         "name": "",
         "type": "choropleth",
         "z": [
          9.6,
          9.6,
          9.6,
          9.6,
          9.6,
          9.6,
          9.6,
          9.6,
          9.6,
          9.6,
          9.6,
          9.6,
          null,
          9.6,
          9.6,
          9.6,
          9.6,
          9.6,
          9.6,
          9.6,
          9.6,
          9.6,
          9.6,
          9.6,
          9.6,
          9.6,
          9.6,
          9.6,
          9.6,
          9.6,
          null,
          9.6,
          9.6,
          9.6,
          9.6,
          9.6,
          9.6,
          9.6,
          9.6,
          9.6,
          9.6,
          9.6,
          9.6,
          9.6,
          9.6,
          9.6,
          9.6,
          9.6,
          9.6,
          9.6,
          9.6,
          9.6,
          9.6,
          9.6,
          9.6,
          9.6,
          9.6,
          9.6,
          9.6,
          9.6,
          9.6,
          9.6,
          9.6,
          9.6,
          9.6,
          9.6,
          9.6,
          9.6,
          9.6,
          9.6,
          9.6,
          9.6,
          9.6,
          9.6,
          9.6,
          9.6,
          9.6,
          9.6,
          9.6,
          9.6,
          9.6,
          9.6,
          9.6,
          9.6,
          9.6,
          9.6,
          9.6,
          9.6,
          9.6,
          9.6,
          9.6,
          9.6,
          9.6,
          9.6,
          9.6,
          9.6,
          9.6,
          9.6,
          9.6,
          9.6,
          9.6,
          9.6,
          9.6,
          9.6,
          9.6,
          9.6,
          9.6,
          9.6,
          9.6,
          9.6,
          9.6,
          9.6,
          9.6,
          9.6,
          9.6,
          9.6,
          9.6,
          9.6,
          9.6,
          9.6,
          9.6,
          9.6,
          9.6,
          9.6,
          9.6,
          9.6,
          9.6,
          9.6,
          9.6,
          9.6,
          9.6,
          9.6,
          9.6,
          9.6,
          9.6,
          9.6,
          9.6,
          9.6,
          9.6,
          9.6,
          9.6,
          9.6,
          9.6,
          9.6,
          9.6,
          9.6,
          9.6,
          9.6,
          9.6
         ]
        }
       ],
       "layout": {
        "coloraxis": {
         "colorbar": {
          "title": {
           "text": "Average T-Shirt Price"
          }
         },
         "colorscale": [
          [
           0,
           "#0d0887"
          ],
          [
           0.1111111111111111,
           "#46039f"
          ],
          [
           0.2222222222222222,
           "#7201a8"
          ],
          [
           0.3333333333333333,
           "#9c179e"
          ],
          [
           0.4444444444444444,
           "#bd3786"
          ],
          [
           0.5555555555555556,
           "#d8576b"
          ],
          [
           0.6666666666666666,
           "#ed7953"
          ],
          [
           0.7777777777777778,
           "#fb9f3a"
          ],
          [
           0.8888888888888888,
           "#fdca26"
          ],
          [
           1,
           "#f0f921"
          ]
         ]
        },
        "geo": {
         "center": {},
         "domain": {
          "x": [
           0,
           1
          ],
          "y": [
           0,
           1
          ]
         },
         "scope": "usa"
        },
        "legend": {
         "tracegroupgap": 0
        },
        "margin": {
         "t": 60
        },
        "template": {
         "data": {
          "bar": [
           {
            "error_x": {
             "color": "#2a3f5f"
            },
            "error_y": {
             "color": "#2a3f5f"
            },
            "marker": {
             "line": {
              "color": "#E5ECF6",
              "width": 0.5
             },
             "pattern": {
              "fillmode": "overlay",
              "size": 10,
              "solidity": 0.2
             }
            },
            "type": "bar"
           }
          ],
          "barpolar": [
           {
            "marker": {
             "line": {
              "color": "#E5ECF6",
              "width": 0.5
             },
             "pattern": {
              "fillmode": "overlay",
              "size": 10,
              "solidity": 0.2
             }
            },
            "type": "barpolar"
           }
          ],
          "carpet": [
           {
            "aaxis": {
             "endlinecolor": "#2a3f5f",
             "gridcolor": "white",
             "linecolor": "white",
             "minorgridcolor": "white",
             "startlinecolor": "#2a3f5f"
            },
            "baxis": {
             "endlinecolor": "#2a3f5f",
             "gridcolor": "white",
             "linecolor": "white",
             "minorgridcolor": "white",
             "startlinecolor": "#2a3f5f"
            },
            "type": "carpet"
           }
          ],
          "choropleth": [
           {
            "colorbar": {
             "outlinewidth": 0,
             "ticks": ""
            },
            "type": "choropleth"
           }
          ],
          "contour": [
           {
            "colorbar": {
             "outlinewidth": 0,
             "ticks": ""
            },
            "colorscale": [
             [
              0,
              "#0d0887"
             ],
             [
              0.1111111111111111,
              "#46039f"
             ],
             [
              0.2222222222222222,
              "#7201a8"
             ],
             [
              0.3333333333333333,
              "#9c179e"
             ],
             [
              0.4444444444444444,
              "#bd3786"
             ],
             [
              0.5555555555555556,
              "#d8576b"
             ],
             [
              0.6666666666666666,
              "#ed7953"
             ],
             [
              0.7777777777777778,
              "#fb9f3a"
             ],
             [
              0.8888888888888888,
              "#fdca26"
             ],
             [
              1,
              "#f0f921"
             ]
            ],
            "type": "contour"
           }
          ],
          "contourcarpet": [
           {
            "colorbar": {
             "outlinewidth": 0,
             "ticks": ""
            },
            "type": "contourcarpet"
           }
          ],
          "heatmap": [
           {
            "colorbar": {
             "outlinewidth": 0,
             "ticks": ""
            },
            "colorscale": [
             [
              0,
              "#0d0887"
             ],
             [
              0.1111111111111111,
              "#46039f"
             ],
             [
              0.2222222222222222,
              "#7201a8"
             ],
             [
              0.3333333333333333,
              "#9c179e"
             ],
             [
              0.4444444444444444,
              "#bd3786"
             ],
             [
              0.5555555555555556,
              "#d8576b"
             ],
             [
              0.6666666666666666,
              "#ed7953"
             ],
             [
              0.7777777777777778,
              "#fb9f3a"
             ],
             [
              0.8888888888888888,
              "#fdca26"
             ],
             [
              1,
              "#f0f921"
             ]
            ],
            "type": "heatmap"
           }
          ],
          "heatmapgl": [
           {
            "colorbar": {
             "outlinewidth": 0,
             "ticks": ""
            },
            "colorscale": [
             [
              0,
              "#0d0887"
             ],
             [
              0.1111111111111111,
              "#46039f"
             ],
             [
              0.2222222222222222,
              "#7201a8"
             ],
             [
              0.3333333333333333,
              "#9c179e"
             ],
             [
              0.4444444444444444,
              "#bd3786"
             ],
             [
              0.5555555555555556,
              "#d8576b"
             ],
             [
              0.6666666666666666,
              "#ed7953"
             ],
             [
              0.7777777777777778,
              "#fb9f3a"
             ],
             [
              0.8888888888888888,
              "#fdca26"
             ],
             [
              1,
              "#f0f921"
             ]
            ],
            "type": "heatmapgl"
           }
          ],
          "histogram": [
           {
            "marker": {
             "pattern": {
              "fillmode": "overlay",
              "size": 10,
              "solidity": 0.2
             }
            },
            "type": "histogram"
           }
          ],
          "histogram2d": [
           {
            "colorbar": {
             "outlinewidth": 0,
             "ticks": ""
            },
            "colorscale": [
             [
              0,
              "#0d0887"
             ],
             [
              0.1111111111111111,
              "#46039f"
             ],
             [
              0.2222222222222222,
              "#7201a8"
             ],
             [
              0.3333333333333333,
              "#9c179e"
             ],
             [
              0.4444444444444444,
              "#bd3786"
             ],
             [
              0.5555555555555556,
              "#d8576b"
             ],
             [
              0.6666666666666666,
              "#ed7953"
             ],
             [
              0.7777777777777778,
              "#fb9f3a"
             ],
             [
              0.8888888888888888,
              "#fdca26"
             ],
             [
              1,
              "#f0f921"
             ]
            ],
            "type": "histogram2d"
           }
          ],
          "histogram2dcontour": [
           {
            "colorbar": {
             "outlinewidth": 0,
             "ticks": ""
            },
            "colorscale": [
             [
              0,
              "#0d0887"
             ],
             [
              0.1111111111111111,
              "#46039f"
             ],
             [
              0.2222222222222222,
              "#7201a8"
             ],
             [
              0.3333333333333333,
              "#9c179e"
             ],
             [
              0.4444444444444444,
              "#bd3786"
             ],
             [
              0.5555555555555556,
              "#d8576b"
             ],
             [
              0.6666666666666666,
              "#ed7953"
             ],
             [
              0.7777777777777778,
              "#fb9f3a"
             ],
             [
              0.8888888888888888,
              "#fdca26"
             ],
             [
              1,
              "#f0f921"
             ]
            ],
            "type": "histogram2dcontour"
           }
          ],
          "mesh3d": [
           {
            "colorbar": {
             "outlinewidth": 0,
             "ticks": ""
            },
            "type": "mesh3d"
           }
          ],
          "parcoords": [
           {
            "line": {
             "colorbar": {
              "outlinewidth": 0,
              "ticks": ""
             }
            },
            "type": "parcoords"
           }
          ],
          "pie": [
           {
            "automargin": true,
            "type": "pie"
           }
          ],
          "scatter": [
           {
            "fillpattern": {
             "fillmode": "overlay",
             "size": 10,
             "solidity": 0.2
            },
            "type": "scatter"
           }
          ],
          "scatter3d": [
           {
            "line": {
             "colorbar": {
              "outlinewidth": 0,
              "ticks": ""
             }
            },
            "marker": {
             "colorbar": {
              "outlinewidth": 0,
              "ticks": ""
             }
            },
            "type": "scatter3d"
           }
          ],
          "scattercarpet": [
           {
            "marker": {
             "colorbar": {
              "outlinewidth": 0,
              "ticks": ""
             }
            },
            "type": "scattercarpet"
           }
          ],
          "scattergeo": [
           {
            "marker": {
             "colorbar": {
              "outlinewidth": 0,
              "ticks": ""
             }
            },
            "type": "scattergeo"
           }
          ],
          "scattergl": [
           {
            "marker": {
             "colorbar": {
              "outlinewidth": 0,
              "ticks": ""
             }
            },
            "type": "scattergl"
           }
          ],
          "scattermapbox": [
           {
            "marker": {
             "colorbar": {
              "outlinewidth": 0,
              "ticks": ""
             }
            },
            "type": "scattermapbox"
           }
          ],
          "scatterpolar": [
           {
            "marker": {
             "colorbar": {
              "outlinewidth": 0,
              "ticks": ""
             }
            },
            "type": "scatterpolar"
           }
          ],
          "scatterpolargl": [
           {
            "marker": {
             "colorbar": {
              "outlinewidth": 0,
              "ticks": ""
             }
            },
            "type": "scatterpolargl"
           }
          ],
          "scatterternary": [
           {
            "marker": {
             "colorbar": {
              "outlinewidth": 0,
              "ticks": ""
             }
            },
            "type": "scatterternary"
           }
          ],
          "surface": [
           {
            "colorbar": {
             "outlinewidth": 0,
             "ticks": ""
            },
            "colorscale": [
             [
              0,
              "#0d0887"
             ],
             [
              0.1111111111111111,
              "#46039f"
             ],
             [
              0.2222222222222222,
              "#7201a8"
             ],
             [
              0.3333333333333333,
              "#9c179e"
             ],
             [
              0.4444444444444444,
              "#bd3786"
             ],
             [
              0.5555555555555556,
              "#d8576b"
             ],
             [
              0.6666666666666666,
              "#ed7953"
             ],
             [
              0.7777777777777778,
              "#fb9f3a"
             ],
             [
              0.8888888888888888,
              "#fdca26"
             ],
             [
              1,
              "#f0f921"
             ]
            ],
            "type": "surface"
           }
          ],
          "table": [
           {
            "cells": {
             "fill": {
              "color": "#EBF0F8"
             },
             "line": {
              "color": "white"
             }
            },
            "header": {
             "fill": {
              "color": "#C8D4E3"
             },
             "line": {
              "color": "white"
             }
            },
            "type": "table"
           }
          ]
         },
         "layout": {
          "annotationdefaults": {
           "arrowcolor": "#2a3f5f",
           "arrowhead": 0,
           "arrowwidth": 1
          },
          "autotypenumbers": "strict",
          "coloraxis": {
           "colorbar": {
            "outlinewidth": 0,
            "ticks": ""
           }
          },
          "colorscale": {
           "diverging": [
            [
             0,
             "#8e0152"
            ],
            [
             0.1,
             "#c51b7d"
            ],
            [
             0.2,
             "#de77ae"
            ],
            [
             0.3,
             "#f1b6da"
            ],
            [
             0.4,
             "#fde0ef"
            ],
            [
             0.5,
             "#f7f7f7"
            ],
            [
             0.6,
             "#e6f5d0"
            ],
            [
             0.7,
             "#b8e186"
            ],
            [
             0.8,
             "#7fbc41"
            ],
            [
             0.9,
             "#4d9221"
            ],
            [
             1,
             "#276419"
            ]
           ],
           "sequential": [
            [
             0,
             "#0d0887"
            ],
            [
             0.1111111111111111,
             "#46039f"
            ],
            [
             0.2222222222222222,
             "#7201a8"
            ],
            [
             0.3333333333333333,
             "#9c179e"
            ],
            [
             0.4444444444444444,
             "#bd3786"
            ],
            [
             0.5555555555555556,
             "#d8576b"
            ],
            [
             0.6666666666666666,
             "#ed7953"
            ],
            [
             0.7777777777777778,
             "#fb9f3a"
            ],
            [
             0.8888888888888888,
             "#fdca26"
            ],
            [
             1,
             "#f0f921"
            ]
           ],
           "sequentialminus": [
            [
             0,
             "#0d0887"
            ],
            [
             0.1111111111111111,
             "#46039f"
            ],
            [
             0.2222222222222222,
             "#7201a8"
            ],
            [
             0.3333333333333333,
             "#9c179e"
            ],
            [
             0.4444444444444444,
             "#bd3786"
            ],
            [
             0.5555555555555556,
             "#d8576b"
            ],
            [
             0.6666666666666666,
             "#ed7953"
            ],
            [
             0.7777777777777778,
             "#fb9f3a"
            ],
            [
             0.8888888888888888,
             "#fdca26"
            ],
            [
             1,
             "#f0f921"
            ]
           ]
          },
          "colorway": [
           "#636efa",
           "#EF553B",
           "#00cc96",
           "#ab63fa",
           "#FFA15A",
           "#19d3f3",
           "#FF6692",
           "#B6E880",
           "#FF97FF",
           "#FECB52"
          ],
          "font": {
           "color": "#2a3f5f"
          },
          "geo": {
           "bgcolor": "white",
           "lakecolor": "white",
           "landcolor": "#E5ECF6",
           "showlakes": true,
           "showland": true,
           "subunitcolor": "white"
          },
          "hoverlabel": {
           "align": "left"
          },
          "hovermode": "closest",
          "mapbox": {
           "style": "light"
          },
          "paper_bgcolor": "white",
          "plot_bgcolor": "#E5ECF6",
          "polar": {
           "angularaxis": {
            "gridcolor": "white",
            "linecolor": "white",
            "ticks": ""
           },
           "bgcolor": "#E5ECF6",
           "radialaxis": {
            "gridcolor": "white",
            "linecolor": "white",
            "ticks": ""
           }
          },
          "scene": {
           "xaxis": {
            "backgroundcolor": "#E5ECF6",
            "gridcolor": "white",
            "gridwidth": 2,
            "linecolor": "white",
            "showbackground": true,
            "ticks": "",
            "zerolinecolor": "white"
           },
           "yaxis": {
            "backgroundcolor": "#E5ECF6",
            "gridcolor": "white",
            "gridwidth": 2,
            "linecolor": "white",
            "showbackground": true,
            "ticks": "",
            "zerolinecolor": "white"
           },
           "zaxis": {
            "backgroundcolor": "#E5ECF6",
            "gridcolor": "white",
            "gridwidth": 2,
            "linecolor": "white",
            "showbackground": true,
            "ticks": "",
            "zerolinecolor": "white"
           }
          },
          "shapedefaults": {
           "line": {
            "color": "#2a3f5f"
           }
          },
          "ternary": {
           "aaxis": {
            "gridcolor": "white",
            "linecolor": "white",
            "ticks": ""
           },
           "baxis": {
            "gridcolor": "white",
            "linecolor": "white",
            "ticks": ""
           },
           "bgcolor": "#E5ECF6",
           "caxis": {
            "gridcolor": "white",
            "linecolor": "white",
            "ticks": ""
           }
          },
          "title": {
           "x": 0.05
          },
          "xaxis": {
           "automargin": true,
           "gridcolor": "white",
           "linecolor": "white",
           "ticks": "",
           "title": {
            "standoff": 15
           },
           "zerolinecolor": "white",
           "zerolinewidth": 2
          },
          "yaxis": {
           "automargin": true,
           "gridcolor": "white",
           "linecolor": "white",
           "ticks": "",
           "title": {
            "standoff": 15
           },
           "zerolinecolor": "white",
           "zerolinewidth": 2
          }
         }
        }
       }
      },
      "text/html": [
       "<div>                            <div id=\"d7513b82-bdcc-4df6-9da7-a2fd4dc563b7\" class=\"plotly-graph-div\" style=\"height:525px; width:100%;\"></div>            <script type=\"text/javascript\">                require([\"plotly\"], function(Plotly) {                    window.PLOTLYENV=window.PLOTLYENV || {};                                    if (document.getElementById(\"d7513b82-bdcc-4df6-9da7-a2fd4dc563b7\")) {                    Plotly.newPlot(                        \"d7513b82-bdcc-4df6-9da7-a2fd4dc563b7\",                        [{\"coloraxis\":\"coloraxis\",\"geo\":\"geo\",\"hovertemplate\":\"<b>%{hovertext}</b><br><br>State=%{location}<br>Average T-Shirt Price=%{z}<extra></extra>\",\"hovertext\":[\"01040\",\"02114\",\"02122\",\"02865\",\"02886\",\"02917\",\"03063\",\"03110\",\"03840\",\"04086\",\"04401\",\"04952\",\"05403\",\"06042\",\"06241\",\"06901\",\"07047\",\"07310\",\"08865\",\"11217\",\"14020\",\"14850\",\"16601\",\"16803\",\"17013\",\"19103\",\"19148\",\"19808\",\"19901\",\"19931\",\"20886\",\"21009\",\"21030\",\"21704\",\"22305\",\"24151\",\"24487\",\"25309\",\"25526\",\"26059\",\"27609\",\"28104\",\"28704\",\"29607\",\"29621\",\"29680\",\"30189\",\"30324\",\"31525\",\"33403\",\"33428\",\"33463\",\"35226\",\"35601\",\"36526\",\"37801\",\"38017\",\"38133\",\"39159\",\"39213\",\"39402\",\"40241\",\"42104\",\"42301\",\"44870\",\"45236\",\"45249\",\"46237\",\"46383\",\"47401\",\"48374\",\"48507\",\"49855\",\"50009\",\"50702\",\"52404\",\"53085\",\"53207\",\"54235\",\"55066\",\"55403\",\"56601\",\"57110\",\"57401\",\"57701\",\"58103\",\"58563\",\"58701\",\"59718\",\"59901\",\"60014\",\"60610\",\"61401\",\"63010\",\"63033\",\"64114\",\"66062\",\"66111\",\"67401\",\"68073\",\"68116\",\"68123\",\"70816\",\"71111\",\"71301\",\"72032\",\"72703\",\"72903\",\"73034\",\"74055\",\"74133\",\"77840\",\"78717\",\"79707\",\"79707\",\"80108\",\"80202\",\"81401\",\"82009\",\"82609\",\"83001\",\"83704\",\"83713\",\"83815\",\"84095\",\"84121\",\"84660\",\"85207\",\"85748\",\"87114\",\"87124\",\"87402\",\"89183\",\"89434\",\"89705\",\"90065\",\"91730\",\"95330\",\"96734\",\"96740\",\"97217\",\"97303\",\"98101\",\"98233\",\"98614\",\"98626\",\"98901\",\"99515\",\"99654\"],\"locationmode\":\"USA-states\",\"locations\":[\"MA\",\"MA\",\"MA\",\"RI\",\"RI\",\"RI\",\"NH\",\"NH\",\"NH\",\"ME\",\"ME\",\"ME\",\"VT\",\"CT\",\"CT\",\"CT\",\"NJ\",\"NJ\",\"NJ\",\"NY\",\"NY\",\"NY\",\"PA\",\"\",\"PA\",\"PA\",\"\",\"DE\",\"DE\",\"DE\",\"Germantown\",\"MD\",\"MD\",\"MD\",\"VA\",\"VA\",\"VA\",\"WV\",\"WV\",\"WV\",\"NC\",\"NC\",\"NC\",\"SC\",\"SC\",\"SC\",\"GA\",\"GA\",\"GA\",\"FL\",\"FL\",\"FL\",\"AL\",\"AL\",\"AL\",\"TN\",\"TN\",\"TN\",\"MS\",\"MS\",\"MS\",\"KY\",\"KY\",\"KY\",\"OH\",\"OH\",\"OH\",\"IN\",\"IN\",\"IN\",\"MI\",\"MI\",\"MI\",\"IA\",\"IA\",\"IA\",\"WI\",\"WI\",\"WI\",\"MN\",\"MN\",\"MN\",\"SD\",\"SD\",\"SD\",\"ND\",\"ND\",\"ND\",\"MT\",\"MT\",\"IL\",\"IL\",\"IL\",\"MO\",\"MO\",\"MO\",\"KS\",\"KS\",\"KS\",\"NE\",\"NE\",\"NE\",\"LA\",\"LA\",\"LA\",\"AR\",\"AR\",\"AR\",\"OK\",\"OK\",\"OK\",\"TX\",\"TX\",\"TX\",\"TX\",\"CO\",\"CO\",\"CO\",\"WY\",\"WY\",\"WY\",\"ID\",\"ID\",\"ID\",\"UT\",\"UT\",\"UT\",\"AZ\",\"AZ\",\"NM\",\"NM\",\"NM\",\"NV\",\"NV\",\"NV\",\"CA\",\"CA\",\"CA\",\"HI\",\"HI\",\"OR\",\"OR\",\"WA\",\"WA\",\"WA\",\"WA\",\"WA\",\"AK\",\"AK\"],\"name\":\"\",\"z\":[9.6,9.6,9.6,9.6,9.6,9.6,9.6,9.6,9.6,9.6,9.6,9.6,null,9.6,9.6,9.6,9.6,9.6,9.6,9.6,9.6,9.6,9.6,9.6,9.6,9.6,9.6,9.6,9.6,9.6,null,9.6,9.6,9.6,9.6,9.6,9.6,9.6,9.6,9.6,9.6,9.6,9.6,9.6,9.6,9.6,9.6,9.6,9.6,9.6,9.6,9.6,9.6,9.6,9.6,9.6,9.6,9.6,9.6,9.6,9.6,9.6,9.6,9.6,9.6,9.6,9.6,9.6,9.6,9.6,9.6,9.6,9.6,9.6,9.6,9.6,9.6,9.6,9.6,9.6,9.6,9.6,9.6,9.6,9.6,9.6,9.6,9.6,9.6,9.6,9.6,9.6,9.6,9.6,9.6,9.6,9.6,9.6,9.6,9.6,9.6,9.6,9.6,9.6,9.6,9.6,9.6,9.6,9.6,9.6,9.6,9.6,9.6,9.6,9.6,9.6,9.6,9.6,9.6,9.6,9.6,9.6,9.6,9.6,9.6,9.6,9.6,9.6,9.6,9.6,9.6,9.6,9.6,9.6,9.6,9.6,9.6,9.6,9.6,9.6,9.6,9.6,9.6,9.6,9.6,9.6,9.6,9.6,9.6],\"type\":\"choropleth\"}],                        {\"template\":{\"data\":{\"histogram2dcontour\":[{\"type\":\"histogram2dcontour\",\"colorbar\":{\"outlinewidth\":0,\"ticks\":\"\"},\"colorscale\":[[0.0,\"#0d0887\"],[0.1111111111111111,\"#46039f\"],[0.2222222222222222,\"#7201a8\"],[0.3333333333333333,\"#9c179e\"],[0.4444444444444444,\"#bd3786\"],[0.5555555555555556,\"#d8576b\"],[0.6666666666666666,\"#ed7953\"],[0.7777777777777778,\"#fb9f3a\"],[0.8888888888888888,\"#fdca26\"],[1.0,\"#f0f921\"]]}],\"choropleth\":[{\"type\":\"choropleth\",\"colorbar\":{\"outlinewidth\":0,\"ticks\":\"\"}}],\"histogram2d\":[{\"type\":\"histogram2d\",\"colorbar\":{\"outlinewidth\":0,\"ticks\":\"\"},\"colorscale\":[[0.0,\"#0d0887\"],[0.1111111111111111,\"#46039f\"],[0.2222222222222222,\"#7201a8\"],[0.3333333333333333,\"#9c179e\"],[0.4444444444444444,\"#bd3786\"],[0.5555555555555556,\"#d8576b\"],[0.6666666666666666,\"#ed7953\"],[0.7777777777777778,\"#fb9f3a\"],[0.8888888888888888,\"#fdca26\"],[1.0,\"#f0f921\"]]}],\"heatmap\":[{\"type\":\"heatmap\",\"colorbar\":{\"outlinewidth\":0,\"ticks\":\"\"},\"colorscale\":[[0.0,\"#0d0887\"],[0.1111111111111111,\"#46039f\"],[0.2222222222222222,\"#7201a8\"],[0.3333333333333333,\"#9c179e\"],[0.4444444444444444,\"#bd3786\"],[0.5555555555555556,\"#d8576b\"],[0.6666666666666666,\"#ed7953\"],[0.7777777777777778,\"#fb9f3a\"],[0.8888888888888888,\"#fdca26\"],[1.0,\"#f0f921\"]]}],\"heatmapgl\":[{\"type\":\"heatmapgl\",\"colorbar\":{\"outlinewidth\":0,\"ticks\":\"\"},\"colorscale\":[[0.0,\"#0d0887\"],[0.1111111111111111,\"#46039f\"],[0.2222222222222222,\"#7201a8\"],[0.3333333333333333,\"#9c179e\"],[0.4444444444444444,\"#bd3786\"],[0.5555555555555556,\"#d8576b\"],[0.6666666666666666,\"#ed7953\"],[0.7777777777777778,\"#fb9f3a\"],[0.8888888888888888,\"#fdca26\"],[1.0,\"#f0f921\"]]}],\"contourcarpet\":[{\"type\":\"contourcarpet\",\"colorbar\":{\"outlinewidth\":0,\"ticks\":\"\"}}],\"contour\":[{\"type\":\"contour\",\"colorbar\":{\"outlinewidth\":0,\"ticks\":\"\"},\"colorscale\":[[0.0,\"#0d0887\"],[0.1111111111111111,\"#46039f\"],[0.2222222222222222,\"#7201a8\"],[0.3333333333333333,\"#9c179e\"],[0.4444444444444444,\"#bd3786\"],[0.5555555555555556,\"#d8576b\"],[0.6666666666666666,\"#ed7953\"],[0.7777777777777778,\"#fb9f3a\"],[0.8888888888888888,\"#fdca26\"],[1.0,\"#f0f921\"]]}],\"surface\":[{\"type\":\"surface\",\"colorbar\":{\"outlinewidth\":0,\"ticks\":\"\"},\"colorscale\":[[0.0,\"#0d0887\"],[0.1111111111111111,\"#46039f\"],[0.2222222222222222,\"#7201a8\"],[0.3333333333333333,\"#9c179e\"],[0.4444444444444444,\"#bd3786\"],[0.5555555555555556,\"#d8576b\"],[0.6666666666666666,\"#ed7953\"],[0.7777777777777778,\"#fb9f3a\"],[0.8888888888888888,\"#fdca26\"],[1.0,\"#f0f921\"]]}],\"mesh3d\":[{\"type\":\"mesh3d\",\"colorbar\":{\"outlinewidth\":0,\"ticks\":\"\"}}],\"scatter\":[{\"fillpattern\":{\"fillmode\":\"overlay\",\"size\":10,\"solidity\":0.2},\"type\":\"scatter\"}],\"parcoords\":[{\"type\":\"parcoords\",\"line\":{\"colorbar\":{\"outlinewidth\":0,\"ticks\":\"\"}}}],\"scatterpolargl\":[{\"type\":\"scatterpolargl\",\"marker\":{\"colorbar\":{\"outlinewidth\":0,\"ticks\":\"\"}}}],\"bar\":[{\"error_x\":{\"color\":\"#2a3f5f\"},\"error_y\":{\"color\":\"#2a3f5f\"},\"marker\":{\"line\":{\"color\":\"#E5ECF6\",\"width\":0.5},\"pattern\":{\"fillmode\":\"overlay\",\"size\":10,\"solidity\":0.2}},\"type\":\"bar\"}],\"scattergeo\":[{\"type\":\"scattergeo\",\"marker\":{\"colorbar\":{\"outlinewidth\":0,\"ticks\":\"\"}}}],\"scatterpolar\":[{\"type\":\"scatterpolar\",\"marker\":{\"colorbar\":{\"outlinewidth\":0,\"ticks\":\"\"}}}],\"histogram\":[{\"marker\":{\"pattern\":{\"fillmode\":\"overlay\",\"size\":10,\"solidity\":0.2}},\"type\":\"histogram\"}],\"scattergl\":[{\"type\":\"scattergl\",\"marker\":{\"colorbar\":{\"outlinewidth\":0,\"ticks\":\"\"}}}],\"scatter3d\":[{\"type\":\"scatter3d\",\"line\":{\"colorbar\":{\"outlinewidth\":0,\"ticks\":\"\"}},\"marker\":{\"colorbar\":{\"outlinewidth\":0,\"ticks\":\"\"}}}],\"scattermapbox\":[{\"type\":\"scattermapbox\",\"marker\":{\"colorbar\":{\"outlinewidth\":0,\"ticks\":\"\"}}}],\"scatterternary\":[{\"type\":\"scatterternary\",\"marker\":{\"colorbar\":{\"outlinewidth\":0,\"ticks\":\"\"}}}],\"scattercarpet\":[{\"type\":\"scattercarpet\",\"marker\":{\"colorbar\":{\"outlinewidth\":0,\"ticks\":\"\"}}}],\"carpet\":[{\"aaxis\":{\"endlinecolor\":\"#2a3f5f\",\"gridcolor\":\"white\",\"linecolor\":\"white\",\"minorgridcolor\":\"white\",\"startlinecolor\":\"#2a3f5f\"},\"baxis\":{\"endlinecolor\":\"#2a3f5f\",\"gridcolor\":\"white\",\"linecolor\":\"white\",\"minorgridcolor\":\"white\",\"startlinecolor\":\"#2a3f5f\"},\"type\":\"carpet\"}],\"table\":[{\"cells\":{\"fill\":{\"color\":\"#EBF0F8\"},\"line\":{\"color\":\"white\"}},\"header\":{\"fill\":{\"color\":\"#C8D4E3\"},\"line\":{\"color\":\"white\"}},\"type\":\"table\"}],\"barpolar\":[{\"marker\":{\"line\":{\"color\":\"#E5ECF6\",\"width\":0.5},\"pattern\":{\"fillmode\":\"overlay\",\"size\":10,\"solidity\":0.2}},\"type\":\"barpolar\"}],\"pie\":[{\"automargin\":true,\"type\":\"pie\"}]},\"layout\":{\"autotypenumbers\":\"strict\",\"colorway\":[\"#636efa\",\"#EF553B\",\"#00cc96\",\"#ab63fa\",\"#FFA15A\",\"#19d3f3\",\"#FF6692\",\"#B6E880\",\"#FF97FF\",\"#FECB52\"],\"font\":{\"color\":\"#2a3f5f\"},\"hovermode\":\"closest\",\"hoverlabel\":{\"align\":\"left\"},\"paper_bgcolor\":\"white\",\"plot_bgcolor\":\"#E5ECF6\",\"polar\":{\"bgcolor\":\"#E5ECF6\",\"angularaxis\":{\"gridcolor\":\"white\",\"linecolor\":\"white\",\"ticks\":\"\"},\"radialaxis\":{\"gridcolor\":\"white\",\"linecolor\":\"white\",\"ticks\":\"\"}},\"ternary\":{\"bgcolor\":\"#E5ECF6\",\"aaxis\":{\"gridcolor\":\"white\",\"linecolor\":\"white\",\"ticks\":\"\"},\"baxis\":{\"gridcolor\":\"white\",\"linecolor\":\"white\",\"ticks\":\"\"},\"caxis\":{\"gridcolor\":\"white\",\"linecolor\":\"white\",\"ticks\":\"\"}},\"coloraxis\":{\"colorbar\":{\"outlinewidth\":0,\"ticks\":\"\"}},\"colorscale\":{\"sequential\":[[0.0,\"#0d0887\"],[0.1111111111111111,\"#46039f\"],[0.2222222222222222,\"#7201a8\"],[0.3333333333333333,\"#9c179e\"],[0.4444444444444444,\"#bd3786\"],[0.5555555555555556,\"#d8576b\"],[0.6666666666666666,\"#ed7953\"],[0.7777777777777778,\"#fb9f3a\"],[0.8888888888888888,\"#fdca26\"],[1.0,\"#f0f921\"]],\"sequentialminus\":[[0.0,\"#0d0887\"],[0.1111111111111111,\"#46039f\"],[0.2222222222222222,\"#7201a8\"],[0.3333333333333333,\"#9c179e\"],[0.4444444444444444,\"#bd3786\"],[0.5555555555555556,\"#d8576b\"],[0.6666666666666666,\"#ed7953\"],[0.7777777777777778,\"#fb9f3a\"],[0.8888888888888888,\"#fdca26\"],[1.0,\"#f0f921\"]],\"diverging\":[[0,\"#8e0152\"],[0.1,\"#c51b7d\"],[0.2,\"#de77ae\"],[0.3,\"#f1b6da\"],[0.4,\"#fde0ef\"],[0.5,\"#f7f7f7\"],[0.6,\"#e6f5d0\"],[0.7,\"#b8e186\"],[0.8,\"#7fbc41\"],[0.9,\"#4d9221\"],[1,\"#276419\"]]},\"xaxis\":{\"gridcolor\":\"white\",\"linecolor\":\"white\",\"ticks\":\"\",\"title\":{\"standoff\":15},\"zerolinecolor\":\"white\",\"automargin\":true,\"zerolinewidth\":2},\"yaxis\":{\"gridcolor\":\"white\",\"linecolor\":\"white\",\"ticks\":\"\",\"title\":{\"standoff\":15},\"zerolinecolor\":\"white\",\"automargin\":true,\"zerolinewidth\":2},\"scene\":{\"xaxis\":{\"backgroundcolor\":\"#E5ECF6\",\"gridcolor\":\"white\",\"linecolor\":\"white\",\"showbackground\":true,\"ticks\":\"\",\"zerolinecolor\":\"white\",\"gridwidth\":2},\"yaxis\":{\"backgroundcolor\":\"#E5ECF6\",\"gridcolor\":\"white\",\"linecolor\":\"white\",\"showbackground\":true,\"ticks\":\"\",\"zerolinecolor\":\"white\",\"gridwidth\":2},\"zaxis\":{\"backgroundcolor\":\"#E5ECF6\",\"gridcolor\":\"white\",\"linecolor\":\"white\",\"showbackground\":true,\"ticks\":\"\",\"zerolinecolor\":\"white\",\"gridwidth\":2}},\"shapedefaults\":{\"line\":{\"color\":\"#2a3f5f\"}},\"annotationdefaults\":{\"arrowcolor\":\"#2a3f5f\",\"arrowhead\":0,\"arrowwidth\":1},\"geo\":{\"bgcolor\":\"white\",\"landcolor\":\"#E5ECF6\",\"subunitcolor\":\"white\",\"showland\":true,\"showlakes\":true,\"lakecolor\":\"white\"},\"title\":{\"x\":0.05},\"mapbox\":{\"style\":\"light\"}}},\"geo\":{\"domain\":{\"x\":[0.0,1.0],\"y\":[0.0,1.0]},\"center\":{},\"scope\":\"usa\"},\"coloraxis\":{\"colorbar\":{\"title\":{\"text\":\"Average T-Shirt Price\"}},\"colorscale\":[[0.0,\"#0d0887\"],[0.1111111111111111,\"#46039f\"],[0.2222222222222222,\"#7201a8\"],[0.3333333333333333,\"#9c179e\"],[0.4444444444444444,\"#bd3786\"],[0.5555555555555556,\"#d8576b\"],[0.6666666666666666,\"#ed7953\"],[0.7777777777777778,\"#fb9f3a\"],[0.8888888888888888,\"#fdca26\"],[1.0,\"#f0f921\"]]},\"legend\":{\"tracegroupgap\":0},\"margin\":{\"t\":60}},                        {\"responsive\": true}                    ).then(function(){\n",
       "                            \n",
       "var gd = document.getElementById('d7513b82-bdcc-4df6-9da7-a2fd4dc563b7');\n",
       "var x = new MutationObserver(function (mutations, observer) {{\n",
       "        var display = window.getComputedStyle(gd).display;\n",
       "        if (!display || display === 'none') {{\n",
       "            console.log([gd, 'removed!']);\n",
       "            Plotly.purge(gd);\n",
       "            observer.disconnect();\n",
       "        }}\n",
       "}});\n",
       "\n",
       "// Listen for the removal of the full notebook cells\n",
       "var notebookContainer = gd.closest('#notebook-container');\n",
       "if (notebookContainer) {{\n",
       "    x.observe(notebookContainer, {childList: true});\n",
       "}}\n",
       "\n",
       "// Listen for the clearing of the current output cell\n",
       "var outputEl = gd.closest('.output');\n",
       "if (outputEl) {{\n",
       "    x.observe(outputEl, {childList: true});\n",
       "}}\n",
       "\n",
       "                        })                };                });            </script>        </div>"
      ]
     },
     "metadata": {},
     "output_type": "display_data"
    },
    {
     "data": {
      "application/vnd.plotly.v1+json": {
       "config": {
        "plotlyServerURL": "https://plot.ly"
       },
       "data": [
        {
         "coloraxis": "coloraxis",
         "geo": "geo",
         "hovertemplate": "<b>%{hovertext}</b><br><br>State=%{location}<br>Average Toilet Paper Price=%{z}<extra></extra>",
         "hovertext": [
          "01040",
          "02114",
          "02122",
          "02865",
          "02886",
          "02917",
          "03063",
          "03110",
          "03840",
          "04086",
          "04401",
          "04952",
          "05403",
          "06042",
          "06241",
          "06901",
          "07047",
          "07310",
          "08865",
          "11217",
          "14020",
          "14850",
          "16601",
          "16803",
          "17013",
          "19103",
          "19148",
          "19808",
          "19901",
          "19931",
          "20886",
          "21009",
          "21030",
          "21704",
          "22305",
          "24151",
          "24487",
          "25309",
          "25526",
          "26059",
          "27609",
          "28104",
          "28704",
          "29607",
          "29621",
          "29680",
          "30189",
          "30324",
          "31525",
          "33403",
          "33428",
          "33463",
          "35226",
          "35601",
          "36526",
          "37801",
          "38017",
          "38133",
          "39159",
          "39213",
          "39402",
          "40241",
          "42104",
          "42301",
          "44870",
          "45236",
          "45249",
          "46237",
          "46383",
          "47401",
          "48374",
          "48507",
          "49855",
          "50009",
          "50702",
          "52404",
          "53085",
          "53207",
          "54235",
          "55066",
          "55403",
          "56601",
          "57110",
          "57401",
          "57701",
          "58103",
          "58563",
          "58701",
          "59718",
          "59901",
          "60014",
          "60610",
          "61401",
          "63010",
          "63033",
          "64114",
          "66062",
          "66111",
          "67401",
          "68073",
          "68116",
          "68123",
          "70816",
          "71111",
          "71301",
          "72032",
          "72703",
          "72903",
          "73034",
          "74055",
          "74133",
          "77840",
          "78717",
          "79707",
          "79707",
          "80108",
          "80202",
          "81401",
          "82009",
          "82609",
          "83001",
          "83704",
          "83713",
          "83815",
          "84095",
          "84121",
          "84660",
          "85207",
          "85748",
          "87114",
          "87124",
          "87402",
          "89183",
          "89434",
          "89705",
          "90065",
          "91730",
          "95330",
          "96734",
          "96740",
          "97217",
          "97303",
          "98101",
          "98233",
          "98614",
          "98626",
          "98901",
          "99515",
          "99654"
         ],
         "locationmode": "USA-states",
         "locations": [
          "MA",
          "MA",
          "MA",
          "RI",
          "RI",
          "RI",
          "NH",
          "NH",
          "NH",
          "ME",
          "ME",
          "ME",
          "VT",
          "CT",
          "CT",
          "CT",
          "NJ",
          "NJ",
          "NJ",
          "NY",
          "NY",
          "NY",
          "PA",
          "",
          "PA",
          "PA",
          "",
          "DE",
          "DE",
          "DE",
          "Germantown",
          "MD",
          "MD",
          "MD",
          "VA",
          "VA",
          "VA",
          "WV",
          "WV",
          "WV",
          "NC",
          "NC",
          "NC",
          "SC",
          "SC",
          "SC",
          "GA",
          "GA",
          "GA",
          "FL",
          "FL",
          "FL",
          "AL",
          "AL",
          "AL",
          "TN",
          "TN",
          "TN",
          "MS",
          "MS",
          "MS",
          "KY",
          "KY",
          "KY",
          "OH",
          "OH",
          "OH",
          "IN",
          "IN",
          "IN",
          "MI",
          "MI",
          "MI",
          "IA",
          "IA",
          "IA",
          "WI",
          "WI",
          "WI",
          "MN",
          "MN",
          "MN",
          "SD",
          "SD",
          "SD",
          "ND",
          "ND",
          "ND",
          "MT",
          "MT",
          "IL",
          "IL",
          "IL",
          "MO",
          "MO",
          "MO",
          "KS",
          "KS",
          "KS",
          "NE",
          "NE",
          "NE",
          "LA",
          "LA",
          "LA",
          "AR",
          "AR",
          "AR",
          "OK",
          "OK",
          "OK",
          "TX",
          "TX",
          "TX",
          "TX",
          "CO",
          "CO",
          "CO",
          "WY",
          "WY",
          "WY",
          "ID",
          "ID",
          "ID",
          "UT",
          "UT",
          "UT",
          "AZ",
          "AZ",
          "NM",
          "NM",
          "NM",
          "NV",
          "NV",
          "NV",
          "CA",
          "CA",
          "CA",
          "HI",
          "HI",
          "OR",
          "OR",
          "WA",
          "WA",
          "WA",
          "WA",
          "WA",
          "AK",
          "AK"
         ],
         "name": "",
         "type": "choropleth",
         "z": [
          12.99,
          12.99,
          12.99,
          12.99,
          12.99,
          12.99,
          12.99,
          12.99,
          12.99,
          12.99,
          12.99,
          12.99,
          12.99,
          12.99,
          12.99,
          12.99,
          12.99,
          12.99,
          12.99,
          12.99,
          12.99,
          12.99,
          12.99,
          null,
          12.99,
          12.99,
          null,
          12.99,
          12.99,
          12.99,
          12.99,
          12.99,
          12.99,
          12.99,
          13.256666666666666,
          13.256666666666666,
          13.256666666666666,
          12.99,
          12.99,
          12.99,
          12.99,
          12.99,
          12.99,
          12.99,
          12.99,
          12.99,
          12.99,
          12.99,
          12.99,
          12.99,
          12.99,
          12.99,
          12.99,
          12.99,
          12.99,
          12.99,
          12.99,
          12.99,
          12.99,
          12.99,
          12.99,
          12.99,
          12.99,
          12.99,
          12.99,
          12.99,
          12.99,
          12.99,
          12.99,
          12.99,
          12.99,
          12.99,
          12.99,
          12.99,
          12.99,
          12.99,
          12.99,
          12.99,
          12.99,
          12.99,
          12.99,
          12.99,
          12.99,
          12.99,
          12.99,
          12.99,
          12.99,
          12.99,
          12.99,
          12.99,
          12.99,
          12.99,
          12.99,
          12.99,
          12.99,
          12.99,
          12.99,
          12.99,
          12.99,
          12.99,
          12.99,
          12.99,
          12.99,
          12.99,
          12.99,
          12.99,
          12.99,
          12.99,
          12.99,
          12.99,
          12.99,
          12.99,
          12.99,
          12.99,
          12.99,
          13.256666666666666,
          13.256666666666666,
          13.256666666666666,
          13.323333333333332,
          13.323333333333332,
          13.323333333333332,
          12.99,
          12.99,
          12.99,
          12.99,
          12.99,
          12.99,
          12.99,
          12.99,
          12.99,
          12.99,
          12.99,
          12.99,
          12.99,
          12.99,
          13.19,
          13.19,
          13.19,
          13.99,
          13.99,
          12.99,
          12.99,
          13.190000000000001,
          13.190000000000001,
          13.190000000000001,
          13.190000000000001,
          13.190000000000001,
          13.99,
          13.99
         ]
        }
       ],
       "layout": {
        "coloraxis": {
         "colorbar": {
          "title": {
           "text": "Average Toilet Paper Price"
          }
         },
         "colorscale": [
          [
           0,
           "#0d0887"
          ],
          [
           0.1111111111111111,
           "#46039f"
          ],
          [
           0.2222222222222222,
           "#7201a8"
          ],
          [
           0.3333333333333333,
           "#9c179e"
          ],
          [
           0.4444444444444444,
           "#bd3786"
          ],
          [
           0.5555555555555556,
           "#d8576b"
          ],
          [
           0.6666666666666666,
           "#ed7953"
          ],
          [
           0.7777777777777778,
           "#fb9f3a"
          ],
          [
           0.8888888888888888,
           "#fdca26"
          ],
          [
           1,
           "#f0f921"
          ]
         ]
        },
        "geo": {
         "center": {},
         "domain": {
          "x": [
           0,
           1
          ],
          "y": [
           0,
           1
          ]
         },
         "scope": "usa"
        },
        "legend": {
         "tracegroupgap": 0
        },
        "margin": {
         "t": 60
        },
        "template": {
         "data": {
          "bar": [
           {
            "error_x": {
             "color": "#2a3f5f"
            },
            "error_y": {
             "color": "#2a3f5f"
            },
            "marker": {
             "line": {
              "color": "#E5ECF6",
              "width": 0.5
             },
             "pattern": {
              "fillmode": "overlay",
              "size": 10,
              "solidity": 0.2
             }
            },
            "type": "bar"
           }
          ],
          "barpolar": [
           {
            "marker": {
             "line": {
              "color": "#E5ECF6",
              "width": 0.5
             },
             "pattern": {
              "fillmode": "overlay",
              "size": 10,
              "solidity": 0.2
             }
            },
            "type": "barpolar"
           }
          ],
          "carpet": [
           {
            "aaxis": {
             "endlinecolor": "#2a3f5f",
             "gridcolor": "white",
             "linecolor": "white",
             "minorgridcolor": "white",
             "startlinecolor": "#2a3f5f"
            },
            "baxis": {
             "endlinecolor": "#2a3f5f",
             "gridcolor": "white",
             "linecolor": "white",
             "minorgridcolor": "white",
             "startlinecolor": "#2a3f5f"
            },
            "type": "carpet"
           }
          ],
          "choropleth": [
           {
            "colorbar": {
             "outlinewidth": 0,
             "ticks": ""
            },
            "type": "choropleth"
           }
          ],
          "contour": [
           {
            "colorbar": {
             "outlinewidth": 0,
             "ticks": ""
            },
            "colorscale": [
             [
              0,
              "#0d0887"
             ],
             [
              0.1111111111111111,
              "#46039f"
             ],
             [
              0.2222222222222222,
              "#7201a8"
             ],
             [
              0.3333333333333333,
              "#9c179e"
             ],
             [
              0.4444444444444444,
              "#bd3786"
             ],
             [
              0.5555555555555556,
              "#d8576b"
             ],
             [
              0.6666666666666666,
              "#ed7953"
             ],
             [
              0.7777777777777778,
              "#fb9f3a"
             ],
             [
              0.8888888888888888,
              "#fdca26"
             ],
             [
              1,
              "#f0f921"
             ]
            ],
            "type": "contour"
           }
          ],
          "contourcarpet": [
           {
            "colorbar": {
             "outlinewidth": 0,
             "ticks": ""
            },
            "type": "contourcarpet"
           }
          ],
          "heatmap": [
           {
            "colorbar": {
             "outlinewidth": 0,
             "ticks": ""
            },
            "colorscale": [
             [
              0,
              "#0d0887"
             ],
             [
              0.1111111111111111,
              "#46039f"
             ],
             [
              0.2222222222222222,
              "#7201a8"
             ],
             [
              0.3333333333333333,
              "#9c179e"
             ],
             [
              0.4444444444444444,
              "#bd3786"
             ],
             [
              0.5555555555555556,
              "#d8576b"
             ],
             [
              0.6666666666666666,
              "#ed7953"
             ],
             [
              0.7777777777777778,
              "#fb9f3a"
             ],
             [
              0.8888888888888888,
              "#fdca26"
             ],
             [
              1,
              "#f0f921"
             ]
            ],
            "type": "heatmap"
           }
          ],
          "heatmapgl": [
           {
            "colorbar": {
             "outlinewidth": 0,
             "ticks": ""
            },
            "colorscale": [
             [
              0,
              "#0d0887"
             ],
             [
              0.1111111111111111,
              "#46039f"
             ],
             [
              0.2222222222222222,
              "#7201a8"
             ],
             [
              0.3333333333333333,
              "#9c179e"
             ],
             [
              0.4444444444444444,
              "#bd3786"
             ],
             [
              0.5555555555555556,
              "#d8576b"
             ],
             [
              0.6666666666666666,
              "#ed7953"
             ],
             [
              0.7777777777777778,
              "#fb9f3a"
             ],
             [
              0.8888888888888888,
              "#fdca26"
             ],
             [
              1,
              "#f0f921"
             ]
            ],
            "type": "heatmapgl"
           }
          ],
          "histogram": [
           {
            "marker": {
             "pattern": {
              "fillmode": "overlay",
              "size": 10,
              "solidity": 0.2
             }
            },
            "type": "histogram"
           }
          ],
          "histogram2d": [
           {
            "colorbar": {
             "outlinewidth": 0,
             "ticks": ""
            },
            "colorscale": [
             [
              0,
              "#0d0887"
             ],
             [
              0.1111111111111111,
              "#46039f"
             ],
             [
              0.2222222222222222,
              "#7201a8"
             ],
             [
              0.3333333333333333,
              "#9c179e"
             ],
             [
              0.4444444444444444,
              "#bd3786"
             ],
             [
              0.5555555555555556,
              "#d8576b"
             ],
             [
              0.6666666666666666,
              "#ed7953"
             ],
             [
              0.7777777777777778,
              "#fb9f3a"
             ],
             [
              0.8888888888888888,
              "#fdca26"
             ],
             [
              1,
              "#f0f921"
             ]
            ],
            "type": "histogram2d"
           }
          ],
          "histogram2dcontour": [
           {
            "colorbar": {
             "outlinewidth": 0,
             "ticks": ""
            },
            "colorscale": [
             [
              0,
              "#0d0887"
             ],
             [
              0.1111111111111111,
              "#46039f"
             ],
             [
              0.2222222222222222,
              "#7201a8"
             ],
             [
              0.3333333333333333,
              "#9c179e"
             ],
             [
              0.4444444444444444,
              "#bd3786"
             ],
             [
              0.5555555555555556,
              "#d8576b"
             ],
             [
              0.6666666666666666,
              "#ed7953"
             ],
             [
              0.7777777777777778,
              "#fb9f3a"
             ],
             [
              0.8888888888888888,
              "#fdca26"
             ],
             [
              1,
              "#f0f921"
             ]
            ],
            "type": "histogram2dcontour"
           }
          ],
          "mesh3d": [
           {
            "colorbar": {
             "outlinewidth": 0,
             "ticks": ""
            },
            "type": "mesh3d"
           }
          ],
          "parcoords": [
           {
            "line": {
             "colorbar": {
              "outlinewidth": 0,
              "ticks": ""
             }
            },
            "type": "parcoords"
           }
          ],
          "pie": [
           {
            "automargin": true,
            "type": "pie"
           }
          ],
          "scatter": [
           {
            "fillpattern": {
             "fillmode": "overlay",
             "size": 10,
             "solidity": 0.2
            },
            "type": "scatter"
           }
          ],
          "scatter3d": [
           {
            "line": {
             "colorbar": {
              "outlinewidth": 0,
              "ticks": ""
             }
            },
            "marker": {
             "colorbar": {
              "outlinewidth": 0,
              "ticks": ""
             }
            },
            "type": "scatter3d"
           }
          ],
          "scattercarpet": [
           {
            "marker": {
             "colorbar": {
              "outlinewidth": 0,
              "ticks": ""
             }
            },
            "type": "scattercarpet"
           }
          ],
          "scattergeo": [
           {
            "marker": {
             "colorbar": {
              "outlinewidth": 0,
              "ticks": ""
             }
            },
            "type": "scattergeo"
           }
          ],
          "scattergl": [
           {
            "marker": {
             "colorbar": {
              "outlinewidth": 0,
              "ticks": ""
             }
            },
            "type": "scattergl"
           }
          ],
          "scattermapbox": [
           {
            "marker": {
             "colorbar": {
              "outlinewidth": 0,
              "ticks": ""
             }
            },
            "type": "scattermapbox"
           }
          ],
          "scatterpolar": [
           {
            "marker": {
             "colorbar": {
              "outlinewidth": 0,
              "ticks": ""
             }
            },
            "type": "scatterpolar"
           }
          ],
          "scatterpolargl": [
           {
            "marker": {
             "colorbar": {
              "outlinewidth": 0,
              "ticks": ""
             }
            },
            "type": "scatterpolargl"
           }
          ],
          "scatterternary": [
           {
            "marker": {
             "colorbar": {
              "outlinewidth": 0,
              "ticks": ""
             }
            },
            "type": "scatterternary"
           }
          ],
          "surface": [
           {
            "colorbar": {
             "outlinewidth": 0,
             "ticks": ""
            },
            "colorscale": [
             [
              0,
              "#0d0887"
             ],
             [
              0.1111111111111111,
              "#46039f"
             ],
             [
              0.2222222222222222,
              "#7201a8"
             ],
             [
              0.3333333333333333,
              "#9c179e"
             ],
             [
              0.4444444444444444,
              "#bd3786"
             ],
             [
              0.5555555555555556,
              "#d8576b"
             ],
             [
              0.6666666666666666,
              "#ed7953"
             ],
             [
              0.7777777777777778,
              "#fb9f3a"
             ],
             [
              0.8888888888888888,
              "#fdca26"
             ],
             [
              1,
              "#f0f921"
             ]
            ],
            "type": "surface"
           }
          ],
          "table": [
           {
            "cells": {
             "fill": {
              "color": "#EBF0F8"
             },
             "line": {
              "color": "white"
             }
            },
            "header": {
             "fill": {
              "color": "#C8D4E3"
             },
             "line": {
              "color": "white"
             }
            },
            "type": "table"
           }
          ]
         },
         "layout": {
          "annotationdefaults": {
           "arrowcolor": "#2a3f5f",
           "arrowhead": 0,
           "arrowwidth": 1
          },
          "autotypenumbers": "strict",
          "coloraxis": {
           "colorbar": {
            "outlinewidth": 0,
            "ticks": ""
           }
          },
          "colorscale": {
           "diverging": [
            [
             0,
             "#8e0152"
            ],
            [
             0.1,
             "#c51b7d"
            ],
            [
             0.2,
             "#de77ae"
            ],
            [
             0.3,
             "#f1b6da"
            ],
            [
             0.4,
             "#fde0ef"
            ],
            [
             0.5,
             "#f7f7f7"
            ],
            [
             0.6,
             "#e6f5d0"
            ],
            [
             0.7,
             "#b8e186"
            ],
            [
             0.8,
             "#7fbc41"
            ],
            [
             0.9,
             "#4d9221"
            ],
            [
             1,
             "#276419"
            ]
           ],
           "sequential": [
            [
             0,
             "#0d0887"
            ],
            [
             0.1111111111111111,
             "#46039f"
            ],
            [
             0.2222222222222222,
             "#7201a8"
            ],
            [
             0.3333333333333333,
             "#9c179e"
            ],
            [
             0.4444444444444444,
             "#bd3786"
            ],
            [
             0.5555555555555556,
             "#d8576b"
            ],
            [
             0.6666666666666666,
             "#ed7953"
            ],
            [
             0.7777777777777778,
             "#fb9f3a"
            ],
            [
             0.8888888888888888,
             "#fdca26"
            ],
            [
             1,
             "#f0f921"
            ]
           ],
           "sequentialminus": [
            [
             0,
             "#0d0887"
            ],
            [
             0.1111111111111111,
             "#46039f"
            ],
            [
             0.2222222222222222,
             "#7201a8"
            ],
            [
             0.3333333333333333,
             "#9c179e"
            ],
            [
             0.4444444444444444,
             "#bd3786"
            ],
            [
             0.5555555555555556,
             "#d8576b"
            ],
            [
             0.6666666666666666,
             "#ed7953"
            ],
            [
             0.7777777777777778,
             "#fb9f3a"
            ],
            [
             0.8888888888888888,
             "#fdca26"
            ],
            [
             1,
             "#f0f921"
            ]
           ]
          },
          "colorway": [
           "#636efa",
           "#EF553B",
           "#00cc96",
           "#ab63fa",
           "#FFA15A",
           "#19d3f3",
           "#FF6692",
           "#B6E880",
           "#FF97FF",
           "#FECB52"
          ],
          "font": {
           "color": "#2a3f5f"
          },
          "geo": {
           "bgcolor": "white",
           "lakecolor": "white",
           "landcolor": "#E5ECF6",
           "showlakes": true,
           "showland": true,
           "subunitcolor": "white"
          },
          "hoverlabel": {
           "align": "left"
          },
          "hovermode": "closest",
          "mapbox": {
           "style": "light"
          },
          "paper_bgcolor": "white",
          "plot_bgcolor": "#E5ECF6",
          "polar": {
           "angularaxis": {
            "gridcolor": "white",
            "linecolor": "white",
            "ticks": ""
           },
           "bgcolor": "#E5ECF6",
           "radialaxis": {
            "gridcolor": "white",
            "linecolor": "white",
            "ticks": ""
           }
          },
          "scene": {
           "xaxis": {
            "backgroundcolor": "#E5ECF6",
            "gridcolor": "white",
            "gridwidth": 2,
            "linecolor": "white",
            "showbackground": true,
            "ticks": "",
            "zerolinecolor": "white"
           },
           "yaxis": {
            "backgroundcolor": "#E5ECF6",
            "gridcolor": "white",
            "gridwidth": 2,
            "linecolor": "white",
            "showbackground": true,
            "ticks": "",
            "zerolinecolor": "white"
           },
           "zaxis": {
            "backgroundcolor": "#E5ECF6",
            "gridcolor": "white",
            "gridwidth": 2,
            "linecolor": "white",
            "showbackground": true,
            "ticks": "",
            "zerolinecolor": "white"
           }
          },
          "shapedefaults": {
           "line": {
            "color": "#2a3f5f"
           }
          },
          "ternary": {
           "aaxis": {
            "gridcolor": "white",
            "linecolor": "white",
            "ticks": ""
           },
           "baxis": {
            "gridcolor": "white",
            "linecolor": "white",
            "ticks": ""
           },
           "bgcolor": "#E5ECF6",
           "caxis": {
            "gridcolor": "white",
            "linecolor": "white",
            "ticks": ""
           }
          },
          "title": {
           "x": 0.05
          },
          "xaxis": {
           "automargin": true,
           "gridcolor": "white",
           "linecolor": "white",
           "ticks": "",
           "title": {
            "standoff": 15
           },
           "zerolinecolor": "white",
           "zerolinewidth": 2
          },
          "yaxis": {
           "automargin": true,
           "gridcolor": "white",
           "linecolor": "white",
           "ticks": "",
           "title": {
            "standoff": 15
           },
           "zerolinecolor": "white",
           "zerolinewidth": 2
          }
         }
        }
       }
      },
      "text/html": [
       "<div>                            <div id=\"8fcd73cb-cbc1-46c7-b910-53c6c6a2621d\" class=\"plotly-graph-div\" style=\"height:525px; width:100%;\"></div>            <script type=\"text/javascript\">                require([\"plotly\"], function(Plotly) {                    window.PLOTLYENV=window.PLOTLYENV || {};                                    if (document.getElementById(\"8fcd73cb-cbc1-46c7-b910-53c6c6a2621d\")) {                    Plotly.newPlot(                        \"8fcd73cb-cbc1-46c7-b910-53c6c6a2621d\",                        [{\"coloraxis\":\"coloraxis\",\"geo\":\"geo\",\"hovertemplate\":\"<b>%{hovertext}</b><br><br>State=%{location}<br>Average Toilet Paper Price=%{z}<extra></extra>\",\"hovertext\":[\"01040\",\"02114\",\"02122\",\"02865\",\"02886\",\"02917\",\"03063\",\"03110\",\"03840\",\"04086\",\"04401\",\"04952\",\"05403\",\"06042\",\"06241\",\"06901\",\"07047\",\"07310\",\"08865\",\"11217\",\"14020\",\"14850\",\"16601\",\"16803\",\"17013\",\"19103\",\"19148\",\"19808\",\"19901\",\"19931\",\"20886\",\"21009\",\"21030\",\"21704\",\"22305\",\"24151\",\"24487\",\"25309\",\"25526\",\"26059\",\"27609\",\"28104\",\"28704\",\"29607\",\"29621\",\"29680\",\"30189\",\"30324\",\"31525\",\"33403\",\"33428\",\"33463\",\"35226\",\"35601\",\"36526\",\"37801\",\"38017\",\"38133\",\"39159\",\"39213\",\"39402\",\"40241\",\"42104\",\"42301\",\"44870\",\"45236\",\"45249\",\"46237\",\"46383\",\"47401\",\"48374\",\"48507\",\"49855\",\"50009\",\"50702\",\"52404\",\"53085\",\"53207\",\"54235\",\"55066\",\"55403\",\"56601\",\"57110\",\"57401\",\"57701\",\"58103\",\"58563\",\"58701\",\"59718\",\"59901\",\"60014\",\"60610\",\"61401\",\"63010\",\"63033\",\"64114\",\"66062\",\"66111\",\"67401\",\"68073\",\"68116\",\"68123\",\"70816\",\"71111\",\"71301\",\"72032\",\"72703\",\"72903\",\"73034\",\"74055\",\"74133\",\"77840\",\"78717\",\"79707\",\"79707\",\"80108\",\"80202\",\"81401\",\"82009\",\"82609\",\"83001\",\"83704\",\"83713\",\"83815\",\"84095\",\"84121\",\"84660\",\"85207\",\"85748\",\"87114\",\"87124\",\"87402\",\"89183\",\"89434\",\"89705\",\"90065\",\"91730\",\"95330\",\"96734\",\"96740\",\"97217\",\"97303\",\"98101\",\"98233\",\"98614\",\"98626\",\"98901\",\"99515\",\"99654\"],\"locationmode\":\"USA-states\",\"locations\":[\"MA\",\"MA\",\"MA\",\"RI\",\"RI\",\"RI\",\"NH\",\"NH\",\"NH\",\"ME\",\"ME\",\"ME\",\"VT\",\"CT\",\"CT\",\"CT\",\"NJ\",\"NJ\",\"NJ\",\"NY\",\"NY\",\"NY\",\"PA\",\"\",\"PA\",\"PA\",\"\",\"DE\",\"DE\",\"DE\",\"Germantown\",\"MD\",\"MD\",\"MD\",\"VA\",\"VA\",\"VA\",\"WV\",\"WV\",\"WV\",\"NC\",\"NC\",\"NC\",\"SC\",\"SC\",\"SC\",\"GA\",\"GA\",\"GA\",\"FL\",\"FL\",\"FL\",\"AL\",\"AL\",\"AL\",\"TN\",\"TN\",\"TN\",\"MS\",\"MS\",\"MS\",\"KY\",\"KY\",\"KY\",\"OH\",\"OH\",\"OH\",\"IN\",\"IN\",\"IN\",\"MI\",\"MI\",\"MI\",\"IA\",\"IA\",\"IA\",\"WI\",\"WI\",\"WI\",\"MN\",\"MN\",\"MN\",\"SD\",\"SD\",\"SD\",\"ND\",\"ND\",\"ND\",\"MT\",\"MT\",\"IL\",\"IL\",\"IL\",\"MO\",\"MO\",\"MO\",\"KS\",\"KS\",\"KS\",\"NE\",\"NE\",\"NE\",\"LA\",\"LA\",\"LA\",\"AR\",\"AR\",\"AR\",\"OK\",\"OK\",\"OK\",\"TX\",\"TX\",\"TX\",\"TX\",\"CO\",\"CO\",\"CO\",\"WY\",\"WY\",\"WY\",\"ID\",\"ID\",\"ID\",\"UT\",\"UT\",\"UT\",\"AZ\",\"AZ\",\"NM\",\"NM\",\"NM\",\"NV\",\"NV\",\"NV\",\"CA\",\"CA\",\"CA\",\"HI\",\"HI\",\"OR\",\"OR\",\"WA\",\"WA\",\"WA\",\"WA\",\"WA\",\"AK\",\"AK\"],\"name\":\"\",\"z\":[12.99,12.99,12.99,12.99,12.99,12.99,12.99,12.99,12.99,12.99,12.99,12.99,12.99,12.99,12.99,12.99,12.99,12.99,12.99,12.99,12.99,12.99,12.99,null,12.99,12.99,null,12.99,12.99,12.99,12.99,12.99,12.99,12.99,13.256666666666666,13.256666666666666,13.256666666666666,12.99,12.99,12.99,12.99,12.99,12.99,12.99,12.99,12.99,12.99,12.99,12.99,12.99,12.99,12.99,12.99,12.99,12.99,12.99,12.99,12.99,12.99,12.99,12.99,12.99,12.99,12.99,12.99,12.99,12.99,12.99,12.99,12.99,12.99,12.99,12.99,12.99,12.99,12.99,12.99,12.99,12.99,12.99,12.99,12.99,12.99,12.99,12.99,12.99,12.99,12.99,12.99,12.99,12.99,12.99,12.99,12.99,12.99,12.99,12.99,12.99,12.99,12.99,12.99,12.99,12.99,12.99,12.99,12.99,12.99,12.99,12.99,12.99,12.99,12.99,12.99,12.99,12.99,13.256666666666666,13.256666666666666,13.256666666666666,13.323333333333332,13.323333333333332,13.323333333333332,12.99,12.99,12.99,12.99,12.99,12.99,12.99,12.99,12.99,12.99,12.99,12.99,12.99,12.99,13.19,13.19,13.19,13.99,13.99,12.99,12.99,13.190000000000001,13.190000000000001,13.190000000000001,13.190000000000001,13.190000000000001,13.99,13.99],\"type\":\"choropleth\"}],                        {\"template\":{\"data\":{\"histogram2dcontour\":[{\"type\":\"histogram2dcontour\",\"colorbar\":{\"outlinewidth\":0,\"ticks\":\"\"},\"colorscale\":[[0.0,\"#0d0887\"],[0.1111111111111111,\"#46039f\"],[0.2222222222222222,\"#7201a8\"],[0.3333333333333333,\"#9c179e\"],[0.4444444444444444,\"#bd3786\"],[0.5555555555555556,\"#d8576b\"],[0.6666666666666666,\"#ed7953\"],[0.7777777777777778,\"#fb9f3a\"],[0.8888888888888888,\"#fdca26\"],[1.0,\"#f0f921\"]]}],\"choropleth\":[{\"type\":\"choropleth\",\"colorbar\":{\"outlinewidth\":0,\"ticks\":\"\"}}],\"histogram2d\":[{\"type\":\"histogram2d\",\"colorbar\":{\"outlinewidth\":0,\"ticks\":\"\"},\"colorscale\":[[0.0,\"#0d0887\"],[0.1111111111111111,\"#46039f\"],[0.2222222222222222,\"#7201a8\"],[0.3333333333333333,\"#9c179e\"],[0.4444444444444444,\"#bd3786\"],[0.5555555555555556,\"#d8576b\"],[0.6666666666666666,\"#ed7953\"],[0.7777777777777778,\"#fb9f3a\"],[0.8888888888888888,\"#fdca26\"],[1.0,\"#f0f921\"]]}],\"heatmap\":[{\"type\":\"heatmap\",\"colorbar\":{\"outlinewidth\":0,\"ticks\":\"\"},\"colorscale\":[[0.0,\"#0d0887\"],[0.1111111111111111,\"#46039f\"],[0.2222222222222222,\"#7201a8\"],[0.3333333333333333,\"#9c179e\"],[0.4444444444444444,\"#bd3786\"],[0.5555555555555556,\"#d8576b\"],[0.6666666666666666,\"#ed7953\"],[0.7777777777777778,\"#fb9f3a\"],[0.8888888888888888,\"#fdca26\"],[1.0,\"#f0f921\"]]}],\"heatmapgl\":[{\"type\":\"heatmapgl\",\"colorbar\":{\"outlinewidth\":0,\"ticks\":\"\"},\"colorscale\":[[0.0,\"#0d0887\"],[0.1111111111111111,\"#46039f\"],[0.2222222222222222,\"#7201a8\"],[0.3333333333333333,\"#9c179e\"],[0.4444444444444444,\"#bd3786\"],[0.5555555555555556,\"#d8576b\"],[0.6666666666666666,\"#ed7953\"],[0.7777777777777778,\"#fb9f3a\"],[0.8888888888888888,\"#fdca26\"],[1.0,\"#f0f921\"]]}],\"contourcarpet\":[{\"type\":\"contourcarpet\",\"colorbar\":{\"outlinewidth\":0,\"ticks\":\"\"}}],\"contour\":[{\"type\":\"contour\",\"colorbar\":{\"outlinewidth\":0,\"ticks\":\"\"},\"colorscale\":[[0.0,\"#0d0887\"],[0.1111111111111111,\"#46039f\"],[0.2222222222222222,\"#7201a8\"],[0.3333333333333333,\"#9c179e\"],[0.4444444444444444,\"#bd3786\"],[0.5555555555555556,\"#d8576b\"],[0.6666666666666666,\"#ed7953\"],[0.7777777777777778,\"#fb9f3a\"],[0.8888888888888888,\"#fdca26\"],[1.0,\"#f0f921\"]]}],\"surface\":[{\"type\":\"surface\",\"colorbar\":{\"outlinewidth\":0,\"ticks\":\"\"},\"colorscale\":[[0.0,\"#0d0887\"],[0.1111111111111111,\"#46039f\"],[0.2222222222222222,\"#7201a8\"],[0.3333333333333333,\"#9c179e\"],[0.4444444444444444,\"#bd3786\"],[0.5555555555555556,\"#d8576b\"],[0.6666666666666666,\"#ed7953\"],[0.7777777777777778,\"#fb9f3a\"],[0.8888888888888888,\"#fdca26\"],[1.0,\"#f0f921\"]]}],\"mesh3d\":[{\"type\":\"mesh3d\",\"colorbar\":{\"outlinewidth\":0,\"ticks\":\"\"}}],\"scatter\":[{\"fillpattern\":{\"fillmode\":\"overlay\",\"size\":10,\"solidity\":0.2},\"type\":\"scatter\"}],\"parcoords\":[{\"type\":\"parcoords\",\"line\":{\"colorbar\":{\"outlinewidth\":0,\"ticks\":\"\"}}}],\"scatterpolargl\":[{\"type\":\"scatterpolargl\",\"marker\":{\"colorbar\":{\"outlinewidth\":0,\"ticks\":\"\"}}}],\"bar\":[{\"error_x\":{\"color\":\"#2a3f5f\"},\"error_y\":{\"color\":\"#2a3f5f\"},\"marker\":{\"line\":{\"color\":\"#E5ECF6\",\"width\":0.5},\"pattern\":{\"fillmode\":\"overlay\",\"size\":10,\"solidity\":0.2}},\"type\":\"bar\"}],\"scattergeo\":[{\"type\":\"scattergeo\",\"marker\":{\"colorbar\":{\"outlinewidth\":0,\"ticks\":\"\"}}}],\"scatterpolar\":[{\"type\":\"scatterpolar\",\"marker\":{\"colorbar\":{\"outlinewidth\":0,\"ticks\":\"\"}}}],\"histogram\":[{\"marker\":{\"pattern\":{\"fillmode\":\"overlay\",\"size\":10,\"solidity\":0.2}},\"type\":\"histogram\"}],\"scattergl\":[{\"type\":\"scattergl\",\"marker\":{\"colorbar\":{\"outlinewidth\":0,\"ticks\":\"\"}}}],\"scatter3d\":[{\"type\":\"scatter3d\",\"line\":{\"colorbar\":{\"outlinewidth\":0,\"ticks\":\"\"}},\"marker\":{\"colorbar\":{\"outlinewidth\":0,\"ticks\":\"\"}}}],\"scattermapbox\":[{\"type\":\"scattermapbox\",\"marker\":{\"colorbar\":{\"outlinewidth\":0,\"ticks\":\"\"}}}],\"scatterternary\":[{\"type\":\"scatterternary\",\"marker\":{\"colorbar\":{\"outlinewidth\":0,\"ticks\":\"\"}}}],\"scattercarpet\":[{\"type\":\"scattercarpet\",\"marker\":{\"colorbar\":{\"outlinewidth\":0,\"ticks\":\"\"}}}],\"carpet\":[{\"aaxis\":{\"endlinecolor\":\"#2a3f5f\",\"gridcolor\":\"white\",\"linecolor\":\"white\",\"minorgridcolor\":\"white\",\"startlinecolor\":\"#2a3f5f\"},\"baxis\":{\"endlinecolor\":\"#2a3f5f\",\"gridcolor\":\"white\",\"linecolor\":\"white\",\"minorgridcolor\":\"white\",\"startlinecolor\":\"#2a3f5f\"},\"type\":\"carpet\"}],\"table\":[{\"cells\":{\"fill\":{\"color\":\"#EBF0F8\"},\"line\":{\"color\":\"white\"}},\"header\":{\"fill\":{\"color\":\"#C8D4E3\"},\"line\":{\"color\":\"white\"}},\"type\":\"table\"}],\"barpolar\":[{\"marker\":{\"line\":{\"color\":\"#E5ECF6\",\"width\":0.5},\"pattern\":{\"fillmode\":\"overlay\",\"size\":10,\"solidity\":0.2}},\"type\":\"barpolar\"}],\"pie\":[{\"automargin\":true,\"type\":\"pie\"}]},\"layout\":{\"autotypenumbers\":\"strict\",\"colorway\":[\"#636efa\",\"#EF553B\",\"#00cc96\",\"#ab63fa\",\"#FFA15A\",\"#19d3f3\",\"#FF6692\",\"#B6E880\",\"#FF97FF\",\"#FECB52\"],\"font\":{\"color\":\"#2a3f5f\"},\"hovermode\":\"closest\",\"hoverlabel\":{\"align\":\"left\"},\"paper_bgcolor\":\"white\",\"plot_bgcolor\":\"#E5ECF6\",\"polar\":{\"bgcolor\":\"#E5ECF6\",\"angularaxis\":{\"gridcolor\":\"white\",\"linecolor\":\"white\",\"ticks\":\"\"},\"radialaxis\":{\"gridcolor\":\"white\",\"linecolor\":\"white\",\"ticks\":\"\"}},\"ternary\":{\"bgcolor\":\"#E5ECF6\",\"aaxis\":{\"gridcolor\":\"white\",\"linecolor\":\"white\",\"ticks\":\"\"},\"baxis\":{\"gridcolor\":\"white\",\"linecolor\":\"white\",\"ticks\":\"\"},\"caxis\":{\"gridcolor\":\"white\",\"linecolor\":\"white\",\"ticks\":\"\"}},\"coloraxis\":{\"colorbar\":{\"outlinewidth\":0,\"ticks\":\"\"}},\"colorscale\":{\"sequential\":[[0.0,\"#0d0887\"],[0.1111111111111111,\"#46039f\"],[0.2222222222222222,\"#7201a8\"],[0.3333333333333333,\"#9c179e\"],[0.4444444444444444,\"#bd3786\"],[0.5555555555555556,\"#d8576b\"],[0.6666666666666666,\"#ed7953\"],[0.7777777777777778,\"#fb9f3a\"],[0.8888888888888888,\"#fdca26\"],[1.0,\"#f0f921\"]],\"sequentialminus\":[[0.0,\"#0d0887\"],[0.1111111111111111,\"#46039f\"],[0.2222222222222222,\"#7201a8\"],[0.3333333333333333,\"#9c179e\"],[0.4444444444444444,\"#bd3786\"],[0.5555555555555556,\"#d8576b\"],[0.6666666666666666,\"#ed7953\"],[0.7777777777777778,\"#fb9f3a\"],[0.8888888888888888,\"#fdca26\"],[1.0,\"#f0f921\"]],\"diverging\":[[0,\"#8e0152\"],[0.1,\"#c51b7d\"],[0.2,\"#de77ae\"],[0.3,\"#f1b6da\"],[0.4,\"#fde0ef\"],[0.5,\"#f7f7f7\"],[0.6,\"#e6f5d0\"],[0.7,\"#b8e186\"],[0.8,\"#7fbc41\"],[0.9,\"#4d9221\"],[1,\"#276419\"]]},\"xaxis\":{\"gridcolor\":\"white\",\"linecolor\":\"white\",\"ticks\":\"\",\"title\":{\"standoff\":15},\"zerolinecolor\":\"white\",\"automargin\":true,\"zerolinewidth\":2},\"yaxis\":{\"gridcolor\":\"white\",\"linecolor\":\"white\",\"ticks\":\"\",\"title\":{\"standoff\":15},\"zerolinecolor\":\"white\",\"automargin\":true,\"zerolinewidth\":2},\"scene\":{\"xaxis\":{\"backgroundcolor\":\"#E5ECF6\",\"gridcolor\":\"white\",\"linecolor\":\"white\",\"showbackground\":true,\"ticks\":\"\",\"zerolinecolor\":\"white\",\"gridwidth\":2},\"yaxis\":{\"backgroundcolor\":\"#E5ECF6\",\"gridcolor\":\"white\",\"linecolor\":\"white\",\"showbackground\":true,\"ticks\":\"\",\"zerolinecolor\":\"white\",\"gridwidth\":2},\"zaxis\":{\"backgroundcolor\":\"#E5ECF6\",\"gridcolor\":\"white\",\"linecolor\":\"white\",\"showbackground\":true,\"ticks\":\"\",\"zerolinecolor\":\"white\",\"gridwidth\":2}},\"shapedefaults\":{\"line\":{\"color\":\"#2a3f5f\"}},\"annotationdefaults\":{\"arrowcolor\":\"#2a3f5f\",\"arrowhead\":0,\"arrowwidth\":1},\"geo\":{\"bgcolor\":\"white\",\"landcolor\":\"#E5ECF6\",\"subunitcolor\":\"white\",\"showland\":true,\"showlakes\":true,\"lakecolor\":\"white\"},\"title\":{\"x\":0.05},\"mapbox\":{\"style\":\"light\"}}},\"geo\":{\"domain\":{\"x\":[0.0,1.0],\"y\":[0.0,1.0]},\"center\":{},\"scope\":\"usa\"},\"coloraxis\":{\"colorbar\":{\"title\":{\"text\":\"Average Toilet Paper Price\"}},\"colorscale\":[[0.0,\"#0d0887\"],[0.1111111111111111,\"#46039f\"],[0.2222222222222222,\"#7201a8\"],[0.3333333333333333,\"#9c179e\"],[0.4444444444444444,\"#bd3786\"],[0.5555555555555556,\"#d8576b\"],[0.6666666666666666,\"#ed7953\"],[0.7777777777777778,\"#fb9f3a\"],[0.8888888888888888,\"#fdca26\"],[1.0,\"#f0f921\"]]},\"legend\":{\"tracegroupgap\":0},\"margin\":{\"t\":60}},                        {\"responsive\": true}                    ).then(function(){\n",
       "                            \n",
       "var gd = document.getElementById('8fcd73cb-cbc1-46c7-b910-53c6c6a2621d');\n",
       "var x = new MutationObserver(function (mutations, observer) {{\n",
       "        var display = window.getComputedStyle(gd).display;\n",
       "        if (!display || display === 'none') {{\n",
       "            console.log([gd, 'removed!']);\n",
       "            Plotly.purge(gd);\n",
       "            observer.disconnect();\n",
       "        }}\n",
       "}});\n",
       "\n",
       "// Listen for the removal of the full notebook cells\n",
       "var notebookContainer = gd.closest('#notebook-container');\n",
       "if (notebookContainer) {{\n",
       "    x.observe(notebookContainer, {childList: true});\n",
       "}}\n",
       "\n",
       "// Listen for the clearing of the current output cell\n",
       "var outputEl = gd.closest('.output');\n",
       "if (outputEl) {{\n",
       "    x.observe(outputEl, {childList: true});\n",
       "}}\n",
       "\n",
       "                        })                };                });            </script>        </div>"
      ]
     },
     "metadata": {},
     "output_type": "display_data"
    },
    {
     "data": {
      "application/vnd.plotly.v1+json": {
       "config": {
        "plotlyServerURL": "https://plot.ly"
       },
       "data": [
        {
         "coloraxis": "coloraxis",
         "geo": "geo",
         "hovertemplate": "<b>%{hovertext}</b><br><br>State=%{location}<br>Average Vegetable Oil Price=%{z}<extra></extra>",
         "hovertext": [
          "01040",
          "02114",
          "02122",
          "02865",
          "02886",
          "02917",
          "03063",
          "03110",
          "03840",
          "04086",
          "04401",
          "04952",
          "05403",
          "06042",
          "06241",
          "06901",
          "07047",
          "07310",
          "08865",
          "11217",
          "14020",
          "14850",
          "16601",
          "16803",
          "17013",
          "19103",
          "19148",
          "19808",
          "19901",
          "19931",
          "20886",
          "21009",
          "21030",
          "21704",
          "22305",
          "24151",
          "24487",
          "25309",
          "25526",
          "26059",
          "27609",
          "28104",
          "28704",
          "29607",
          "29621",
          "29680",
          "30189",
          "30324",
          "31525",
          "33403",
          "33428",
          "33463",
          "35226",
          "35601",
          "36526",
          "37801",
          "38017",
          "38133",
          "39159",
          "39213",
          "39402",
          "40241",
          "42104",
          "42301",
          "44870",
          "45236",
          "45249",
          "46237",
          "46383",
          "47401",
          "48374",
          "48507",
          "49855",
          "50009",
          "50702",
          "52404",
          "53085",
          "53207",
          "54235",
          "55066",
          "55403",
          "56601",
          "57110",
          "57401",
          "57701",
          "58103",
          "58563",
          "58701",
          "59718",
          "59901",
          "60014",
          "60610",
          "61401",
          "63010",
          "63033",
          "64114",
          "66062",
          "66111",
          "67401",
          "68073",
          "68116",
          "68123",
          "70816",
          "71111",
          "71301",
          "72032",
          "72703",
          "72903",
          "73034",
          "74055",
          "74133",
          "77840",
          "78717",
          "79707",
          "79707",
          "80108",
          "80202",
          "81401",
          "82009",
          "82609",
          "83001",
          "83704",
          "83713",
          "83815",
          "84095",
          "84121",
          "84660",
          "85207",
          "85748",
          "87114",
          "87124",
          "87402",
          "89183",
          "89434",
          "89705",
          "90065",
          "91730",
          "95330",
          "96734",
          "96740",
          "97217",
          "97303",
          "98101",
          "98233",
          "98614",
          "98626",
          "98901",
          "99515",
          "99654"
         ],
         "locationmode": "USA-states",
         "locations": [
          "MA",
          "MA",
          "MA",
          "RI",
          "RI",
          "RI",
          "NH",
          "NH",
          "NH",
          "ME",
          "ME",
          "ME",
          "VT",
          "CT",
          "CT",
          "CT",
          "NJ",
          "NJ",
          "NJ",
          "NY",
          "NY",
          "NY",
          "PA",
          "",
          "PA",
          "PA",
          "",
          "DE",
          "DE",
          "DE",
          "Germantown",
          "MD",
          "MD",
          "MD",
          "VA",
          "VA",
          "VA",
          "WV",
          "WV",
          "WV",
          "NC",
          "NC",
          "NC",
          "SC",
          "SC",
          "SC",
          "GA",
          "GA",
          "GA",
          "FL",
          "FL",
          "FL",
          "AL",
          "AL",
          "AL",
          "TN",
          "TN",
          "TN",
          "MS",
          "MS",
          "MS",
          "KY",
          "KY",
          "KY",
          "OH",
          "OH",
          "OH",
          "IN",
          "IN",
          "IN",
          "MI",
          "MI",
          "MI",
          "IA",
          "IA",
          "IA",
          "WI",
          "WI",
          "WI",
          "MN",
          "MN",
          "MN",
          "SD",
          "SD",
          "SD",
          "ND",
          "ND",
          "ND",
          "MT",
          "MT",
          "IL",
          "IL",
          "IL",
          "MO",
          "MO",
          "MO",
          "KS",
          "KS",
          "KS",
          "NE",
          "NE",
          "NE",
          "LA",
          "LA",
          "LA",
          "AR",
          "AR",
          "AR",
          "OK",
          "OK",
          "OK",
          "TX",
          "TX",
          "TX",
          "TX",
          "CO",
          "CO",
          "CO",
          "WY",
          "WY",
          "WY",
          "ID",
          "ID",
          "ID",
          "UT",
          "UT",
          "UT",
          "AZ",
          "AZ",
          "NM",
          "NM",
          "NM",
          "NV",
          "NV",
          "NV",
          "CA",
          "CA",
          "CA",
          "HI",
          "HI",
          "OR",
          "OR",
          "WA",
          "WA",
          "WA",
          "WA",
          "WA",
          "AK",
          "AK"
         ],
         "name": "",
         "type": "choropleth",
         "z": [
          9.39,
          9.39,
          9.39,
          9.39,
          9.39,
          9.39,
          9.39,
          9.39,
          9.39,
          9.39,
          9.39,
          9.39,
          null,
          9.39,
          9.39,
          9.39,
          9.39,
          9.39,
          9.39,
          9.39,
          9.39,
          9.39,
          9.39,
          null,
          9.39,
          9.39,
          null,
          9.39,
          9.39,
          9.39,
          null,
          9.39,
          9.39,
          9.39,
          9.590000000000002,
          9.590000000000002,
          9.590000000000002,
          9.39,
          9.39,
          9.39,
          9.39,
          9.39,
          9.39,
          9.39,
          9.39,
          9.39,
          9.39,
          9.39,
          9.39,
          9.39,
          9.39,
          9.39,
          9.39,
          9.39,
          9.39,
          9.39,
          9.39,
          9.39,
          9.39,
          9.39,
          9.39,
          9.39,
          9.39,
          9.39,
          9.39,
          9.39,
          9.39,
          9.39,
          9.39,
          9.39,
          9.39,
          9.39,
          9.39,
          9.39,
          9.39,
          9.39,
          9.39,
          9.39,
          9.39,
          9.39,
          9.39,
          9.39,
          9.39,
          9.39,
          9.39,
          9.39,
          9.39,
          9.39,
          9.39,
          9.39,
          9.39,
          9.39,
          9.39,
          9.39,
          9.39,
          9.39,
          9.39,
          9.39,
          9.39,
          9.39,
          9.39,
          9.39,
          9.39,
          9.39,
          9.39,
          9.39,
          9.39,
          9.39,
          9.39,
          9.39,
          9.39,
          9.39,
          9.39,
          9.39,
          9.39,
          9.723333333333334,
          9.723333333333334,
          9.723333333333334,
          9.723333333333334,
          9.723333333333334,
          9.723333333333334,
          9.39,
          9.39,
          9.39,
          9.39,
          9.39,
          9.39,
          9.39,
          9.39,
          9.39,
          9.39,
          9.39,
          9.39,
          9.39,
          9.39,
          9.590000000000002,
          9.590000000000002,
          9.590000000000002,
          9.39,
          9.39,
          9.39,
          9.39,
          9.59,
          9.59,
          9.59,
          9.59,
          9.59,
          9.39,
          9.39
         ]
        }
       ],
       "layout": {
        "coloraxis": {
         "colorbar": {
          "title": {
           "text": "Average Vegetable Oil Price"
          }
         },
         "colorscale": [
          [
           0,
           "#0d0887"
          ],
          [
           0.1111111111111111,
           "#46039f"
          ],
          [
           0.2222222222222222,
           "#7201a8"
          ],
          [
           0.3333333333333333,
           "#9c179e"
          ],
          [
           0.4444444444444444,
           "#bd3786"
          ],
          [
           0.5555555555555556,
           "#d8576b"
          ],
          [
           0.6666666666666666,
           "#ed7953"
          ],
          [
           0.7777777777777778,
           "#fb9f3a"
          ],
          [
           0.8888888888888888,
           "#fdca26"
          ],
          [
           1,
           "#f0f921"
          ]
         ]
        },
        "geo": {
         "center": {},
         "domain": {
          "x": [
           0,
           1
          ],
          "y": [
           0,
           1
          ]
         },
         "scope": "usa"
        },
        "legend": {
         "tracegroupgap": 0
        },
        "margin": {
         "t": 60
        },
        "template": {
         "data": {
          "bar": [
           {
            "error_x": {
             "color": "#2a3f5f"
            },
            "error_y": {
             "color": "#2a3f5f"
            },
            "marker": {
             "line": {
              "color": "#E5ECF6",
              "width": 0.5
             },
             "pattern": {
              "fillmode": "overlay",
              "size": 10,
              "solidity": 0.2
             }
            },
            "type": "bar"
           }
          ],
          "barpolar": [
           {
            "marker": {
             "line": {
              "color": "#E5ECF6",
              "width": 0.5
             },
             "pattern": {
              "fillmode": "overlay",
              "size": 10,
              "solidity": 0.2
             }
            },
            "type": "barpolar"
           }
          ],
          "carpet": [
           {
            "aaxis": {
             "endlinecolor": "#2a3f5f",
             "gridcolor": "white",
             "linecolor": "white",
             "minorgridcolor": "white",
             "startlinecolor": "#2a3f5f"
            },
            "baxis": {
             "endlinecolor": "#2a3f5f",
             "gridcolor": "white",
             "linecolor": "white",
             "minorgridcolor": "white",
             "startlinecolor": "#2a3f5f"
            },
            "type": "carpet"
           }
          ],
          "choropleth": [
           {
            "colorbar": {
             "outlinewidth": 0,
             "ticks": ""
            },
            "type": "choropleth"
           }
          ],
          "contour": [
           {
            "colorbar": {
             "outlinewidth": 0,
             "ticks": ""
            },
            "colorscale": [
             [
              0,
              "#0d0887"
             ],
             [
              0.1111111111111111,
              "#46039f"
             ],
             [
              0.2222222222222222,
              "#7201a8"
             ],
             [
              0.3333333333333333,
              "#9c179e"
             ],
             [
              0.4444444444444444,
              "#bd3786"
             ],
             [
              0.5555555555555556,
              "#d8576b"
             ],
             [
              0.6666666666666666,
              "#ed7953"
             ],
             [
              0.7777777777777778,
              "#fb9f3a"
             ],
             [
              0.8888888888888888,
              "#fdca26"
             ],
             [
              1,
              "#f0f921"
             ]
            ],
            "type": "contour"
           }
          ],
          "contourcarpet": [
           {
            "colorbar": {
             "outlinewidth": 0,
             "ticks": ""
            },
            "type": "contourcarpet"
           }
          ],
          "heatmap": [
           {
            "colorbar": {
             "outlinewidth": 0,
             "ticks": ""
            },
            "colorscale": [
             [
              0,
              "#0d0887"
             ],
             [
              0.1111111111111111,
              "#46039f"
             ],
             [
              0.2222222222222222,
              "#7201a8"
             ],
             [
              0.3333333333333333,
              "#9c179e"
             ],
             [
              0.4444444444444444,
              "#bd3786"
             ],
             [
              0.5555555555555556,
              "#d8576b"
             ],
             [
              0.6666666666666666,
              "#ed7953"
             ],
             [
              0.7777777777777778,
              "#fb9f3a"
             ],
             [
              0.8888888888888888,
              "#fdca26"
             ],
             [
              1,
              "#f0f921"
             ]
            ],
            "type": "heatmap"
           }
          ],
          "heatmapgl": [
           {
            "colorbar": {
             "outlinewidth": 0,
             "ticks": ""
            },
            "colorscale": [
             [
              0,
              "#0d0887"
             ],
             [
              0.1111111111111111,
              "#46039f"
             ],
             [
              0.2222222222222222,
              "#7201a8"
             ],
             [
              0.3333333333333333,
              "#9c179e"
             ],
             [
              0.4444444444444444,
              "#bd3786"
             ],
             [
              0.5555555555555556,
              "#d8576b"
             ],
             [
              0.6666666666666666,
              "#ed7953"
             ],
             [
              0.7777777777777778,
              "#fb9f3a"
             ],
             [
              0.8888888888888888,
              "#fdca26"
             ],
             [
              1,
              "#f0f921"
             ]
            ],
            "type": "heatmapgl"
           }
          ],
          "histogram": [
           {
            "marker": {
             "pattern": {
              "fillmode": "overlay",
              "size": 10,
              "solidity": 0.2
             }
            },
            "type": "histogram"
           }
          ],
          "histogram2d": [
           {
            "colorbar": {
             "outlinewidth": 0,
             "ticks": ""
            },
            "colorscale": [
             [
              0,
              "#0d0887"
             ],
             [
              0.1111111111111111,
              "#46039f"
             ],
             [
              0.2222222222222222,
              "#7201a8"
             ],
             [
              0.3333333333333333,
              "#9c179e"
             ],
             [
              0.4444444444444444,
              "#bd3786"
             ],
             [
              0.5555555555555556,
              "#d8576b"
             ],
             [
              0.6666666666666666,
              "#ed7953"
             ],
             [
              0.7777777777777778,
              "#fb9f3a"
             ],
             [
              0.8888888888888888,
              "#fdca26"
             ],
             [
              1,
              "#f0f921"
             ]
            ],
            "type": "histogram2d"
           }
          ],
          "histogram2dcontour": [
           {
            "colorbar": {
             "outlinewidth": 0,
             "ticks": ""
            },
            "colorscale": [
             [
              0,
              "#0d0887"
             ],
             [
              0.1111111111111111,
              "#46039f"
             ],
             [
              0.2222222222222222,
              "#7201a8"
             ],
             [
              0.3333333333333333,
              "#9c179e"
             ],
             [
              0.4444444444444444,
              "#bd3786"
             ],
             [
              0.5555555555555556,
              "#d8576b"
             ],
             [
              0.6666666666666666,
              "#ed7953"
             ],
             [
              0.7777777777777778,
              "#fb9f3a"
             ],
             [
              0.8888888888888888,
              "#fdca26"
             ],
             [
              1,
              "#f0f921"
             ]
            ],
            "type": "histogram2dcontour"
           }
          ],
          "mesh3d": [
           {
            "colorbar": {
             "outlinewidth": 0,
             "ticks": ""
            },
            "type": "mesh3d"
           }
          ],
          "parcoords": [
           {
            "line": {
             "colorbar": {
              "outlinewidth": 0,
              "ticks": ""
             }
            },
            "type": "parcoords"
           }
          ],
          "pie": [
           {
            "automargin": true,
            "type": "pie"
           }
          ],
          "scatter": [
           {
            "fillpattern": {
             "fillmode": "overlay",
             "size": 10,
             "solidity": 0.2
            },
            "type": "scatter"
           }
          ],
          "scatter3d": [
           {
            "line": {
             "colorbar": {
              "outlinewidth": 0,
              "ticks": ""
             }
            },
            "marker": {
             "colorbar": {
              "outlinewidth": 0,
              "ticks": ""
             }
            },
            "type": "scatter3d"
           }
          ],
          "scattercarpet": [
           {
            "marker": {
             "colorbar": {
              "outlinewidth": 0,
              "ticks": ""
             }
            },
            "type": "scattercarpet"
           }
          ],
          "scattergeo": [
           {
            "marker": {
             "colorbar": {
              "outlinewidth": 0,
              "ticks": ""
             }
            },
            "type": "scattergeo"
           }
          ],
          "scattergl": [
           {
            "marker": {
             "colorbar": {
              "outlinewidth": 0,
              "ticks": ""
             }
            },
            "type": "scattergl"
           }
          ],
          "scattermapbox": [
           {
            "marker": {
             "colorbar": {
              "outlinewidth": 0,
              "ticks": ""
             }
            },
            "type": "scattermapbox"
           }
          ],
          "scatterpolar": [
           {
            "marker": {
             "colorbar": {
              "outlinewidth": 0,
              "ticks": ""
             }
            },
            "type": "scatterpolar"
           }
          ],
          "scatterpolargl": [
           {
            "marker": {
             "colorbar": {
              "outlinewidth": 0,
              "ticks": ""
             }
            },
            "type": "scatterpolargl"
           }
          ],
          "scatterternary": [
           {
            "marker": {
             "colorbar": {
              "outlinewidth": 0,
              "ticks": ""
             }
            },
            "type": "scatterternary"
           }
          ],
          "surface": [
           {
            "colorbar": {
             "outlinewidth": 0,
             "ticks": ""
            },
            "colorscale": [
             [
              0,
              "#0d0887"
             ],
             [
              0.1111111111111111,
              "#46039f"
             ],
             [
              0.2222222222222222,
              "#7201a8"
             ],
             [
              0.3333333333333333,
              "#9c179e"
             ],
             [
              0.4444444444444444,
              "#bd3786"
             ],
             [
              0.5555555555555556,
              "#d8576b"
             ],
             [
              0.6666666666666666,
              "#ed7953"
             ],
             [
              0.7777777777777778,
              "#fb9f3a"
             ],
             [
              0.8888888888888888,
              "#fdca26"
             ],
             [
              1,
              "#f0f921"
             ]
            ],
            "type": "surface"
           }
          ],
          "table": [
           {
            "cells": {
             "fill": {
              "color": "#EBF0F8"
             },
             "line": {
              "color": "white"
             }
            },
            "header": {
             "fill": {
              "color": "#C8D4E3"
             },
             "line": {
              "color": "white"
             }
            },
            "type": "table"
           }
          ]
         },
         "layout": {
          "annotationdefaults": {
           "arrowcolor": "#2a3f5f",
           "arrowhead": 0,
           "arrowwidth": 1
          },
          "autotypenumbers": "strict",
          "coloraxis": {
           "colorbar": {
            "outlinewidth": 0,
            "ticks": ""
           }
          },
          "colorscale": {
           "diverging": [
            [
             0,
             "#8e0152"
            ],
            [
             0.1,
             "#c51b7d"
            ],
            [
             0.2,
             "#de77ae"
            ],
            [
             0.3,
             "#f1b6da"
            ],
            [
             0.4,
             "#fde0ef"
            ],
            [
             0.5,
             "#f7f7f7"
            ],
            [
             0.6,
             "#e6f5d0"
            ],
            [
             0.7,
             "#b8e186"
            ],
            [
             0.8,
             "#7fbc41"
            ],
            [
             0.9,
             "#4d9221"
            ],
            [
             1,
             "#276419"
            ]
           ],
           "sequential": [
            [
             0,
             "#0d0887"
            ],
            [
             0.1111111111111111,
             "#46039f"
            ],
            [
             0.2222222222222222,
             "#7201a8"
            ],
            [
             0.3333333333333333,
             "#9c179e"
            ],
            [
             0.4444444444444444,
             "#bd3786"
            ],
            [
             0.5555555555555556,
             "#d8576b"
            ],
            [
             0.6666666666666666,
             "#ed7953"
            ],
            [
             0.7777777777777778,
             "#fb9f3a"
            ],
            [
             0.8888888888888888,
             "#fdca26"
            ],
            [
             1,
             "#f0f921"
            ]
           ],
           "sequentialminus": [
            [
             0,
             "#0d0887"
            ],
            [
             0.1111111111111111,
             "#46039f"
            ],
            [
             0.2222222222222222,
             "#7201a8"
            ],
            [
             0.3333333333333333,
             "#9c179e"
            ],
            [
             0.4444444444444444,
             "#bd3786"
            ],
            [
             0.5555555555555556,
             "#d8576b"
            ],
            [
             0.6666666666666666,
             "#ed7953"
            ],
            [
             0.7777777777777778,
             "#fb9f3a"
            ],
            [
             0.8888888888888888,
             "#fdca26"
            ],
            [
             1,
             "#f0f921"
            ]
           ]
          },
          "colorway": [
           "#636efa",
           "#EF553B",
           "#00cc96",
           "#ab63fa",
           "#FFA15A",
           "#19d3f3",
           "#FF6692",
           "#B6E880",
           "#FF97FF",
           "#FECB52"
          ],
          "font": {
           "color": "#2a3f5f"
          },
          "geo": {
           "bgcolor": "white",
           "lakecolor": "white",
           "landcolor": "#E5ECF6",
           "showlakes": true,
           "showland": true,
           "subunitcolor": "white"
          },
          "hoverlabel": {
           "align": "left"
          },
          "hovermode": "closest",
          "mapbox": {
           "style": "light"
          },
          "paper_bgcolor": "white",
          "plot_bgcolor": "#E5ECF6",
          "polar": {
           "angularaxis": {
            "gridcolor": "white",
            "linecolor": "white",
            "ticks": ""
           },
           "bgcolor": "#E5ECF6",
           "radialaxis": {
            "gridcolor": "white",
            "linecolor": "white",
            "ticks": ""
           }
          },
          "scene": {
           "xaxis": {
            "backgroundcolor": "#E5ECF6",
            "gridcolor": "white",
            "gridwidth": 2,
            "linecolor": "white",
            "showbackground": true,
            "ticks": "",
            "zerolinecolor": "white"
           },
           "yaxis": {
            "backgroundcolor": "#E5ECF6",
            "gridcolor": "white",
            "gridwidth": 2,
            "linecolor": "white",
            "showbackground": true,
            "ticks": "",
            "zerolinecolor": "white"
           },
           "zaxis": {
            "backgroundcolor": "#E5ECF6",
            "gridcolor": "white",
            "gridwidth": 2,
            "linecolor": "white",
            "showbackground": true,
            "ticks": "",
            "zerolinecolor": "white"
           }
          },
          "shapedefaults": {
           "line": {
            "color": "#2a3f5f"
           }
          },
          "ternary": {
           "aaxis": {
            "gridcolor": "white",
            "linecolor": "white",
            "ticks": ""
           },
           "baxis": {
            "gridcolor": "white",
            "linecolor": "white",
            "ticks": ""
           },
           "bgcolor": "#E5ECF6",
           "caxis": {
            "gridcolor": "white",
            "linecolor": "white",
            "ticks": ""
           }
          },
          "title": {
           "x": 0.05
          },
          "xaxis": {
           "automargin": true,
           "gridcolor": "white",
           "linecolor": "white",
           "ticks": "",
           "title": {
            "standoff": 15
           },
           "zerolinecolor": "white",
           "zerolinewidth": 2
          },
          "yaxis": {
           "automargin": true,
           "gridcolor": "white",
           "linecolor": "white",
           "ticks": "",
           "title": {
            "standoff": 15
           },
           "zerolinecolor": "white",
           "zerolinewidth": 2
          }
         }
        }
       }
      },
      "text/html": [
       "<div>                            <div id=\"5d4a1434-c6e7-4709-9685-25cb80f8142b\" class=\"plotly-graph-div\" style=\"height:525px; width:100%;\"></div>            <script type=\"text/javascript\">                require([\"plotly\"], function(Plotly) {                    window.PLOTLYENV=window.PLOTLYENV || {};                                    if (document.getElementById(\"5d4a1434-c6e7-4709-9685-25cb80f8142b\")) {                    Plotly.newPlot(                        \"5d4a1434-c6e7-4709-9685-25cb80f8142b\",                        [{\"coloraxis\":\"coloraxis\",\"geo\":\"geo\",\"hovertemplate\":\"<b>%{hovertext}</b><br><br>State=%{location}<br>Average Vegetable Oil Price=%{z}<extra></extra>\",\"hovertext\":[\"01040\",\"02114\",\"02122\",\"02865\",\"02886\",\"02917\",\"03063\",\"03110\",\"03840\",\"04086\",\"04401\",\"04952\",\"05403\",\"06042\",\"06241\",\"06901\",\"07047\",\"07310\",\"08865\",\"11217\",\"14020\",\"14850\",\"16601\",\"16803\",\"17013\",\"19103\",\"19148\",\"19808\",\"19901\",\"19931\",\"20886\",\"21009\",\"21030\",\"21704\",\"22305\",\"24151\",\"24487\",\"25309\",\"25526\",\"26059\",\"27609\",\"28104\",\"28704\",\"29607\",\"29621\",\"29680\",\"30189\",\"30324\",\"31525\",\"33403\",\"33428\",\"33463\",\"35226\",\"35601\",\"36526\",\"37801\",\"38017\",\"38133\",\"39159\",\"39213\",\"39402\",\"40241\",\"42104\",\"42301\",\"44870\",\"45236\",\"45249\",\"46237\",\"46383\",\"47401\",\"48374\",\"48507\",\"49855\",\"50009\",\"50702\",\"52404\",\"53085\",\"53207\",\"54235\",\"55066\",\"55403\",\"56601\",\"57110\",\"57401\",\"57701\",\"58103\",\"58563\",\"58701\",\"59718\",\"59901\",\"60014\",\"60610\",\"61401\",\"63010\",\"63033\",\"64114\",\"66062\",\"66111\",\"67401\",\"68073\",\"68116\",\"68123\",\"70816\",\"71111\",\"71301\",\"72032\",\"72703\",\"72903\",\"73034\",\"74055\",\"74133\",\"77840\",\"78717\",\"79707\",\"79707\",\"80108\",\"80202\",\"81401\",\"82009\",\"82609\",\"83001\",\"83704\",\"83713\",\"83815\",\"84095\",\"84121\",\"84660\",\"85207\",\"85748\",\"87114\",\"87124\",\"87402\",\"89183\",\"89434\",\"89705\",\"90065\",\"91730\",\"95330\",\"96734\",\"96740\",\"97217\",\"97303\",\"98101\",\"98233\",\"98614\",\"98626\",\"98901\",\"99515\",\"99654\"],\"locationmode\":\"USA-states\",\"locations\":[\"MA\",\"MA\",\"MA\",\"RI\",\"RI\",\"RI\",\"NH\",\"NH\",\"NH\",\"ME\",\"ME\",\"ME\",\"VT\",\"CT\",\"CT\",\"CT\",\"NJ\",\"NJ\",\"NJ\",\"NY\",\"NY\",\"NY\",\"PA\",\"\",\"PA\",\"PA\",\"\",\"DE\",\"DE\",\"DE\",\"Germantown\",\"MD\",\"MD\",\"MD\",\"VA\",\"VA\",\"VA\",\"WV\",\"WV\",\"WV\",\"NC\",\"NC\",\"NC\",\"SC\",\"SC\",\"SC\",\"GA\",\"GA\",\"GA\",\"FL\",\"FL\",\"FL\",\"AL\",\"AL\",\"AL\",\"TN\",\"TN\",\"TN\",\"MS\",\"MS\",\"MS\",\"KY\",\"KY\",\"KY\",\"OH\",\"OH\",\"OH\",\"IN\",\"IN\",\"IN\",\"MI\",\"MI\",\"MI\",\"IA\",\"IA\",\"IA\",\"WI\",\"WI\",\"WI\",\"MN\",\"MN\",\"MN\",\"SD\",\"SD\",\"SD\",\"ND\",\"ND\",\"ND\",\"MT\",\"MT\",\"IL\",\"IL\",\"IL\",\"MO\",\"MO\",\"MO\",\"KS\",\"KS\",\"KS\",\"NE\",\"NE\",\"NE\",\"LA\",\"LA\",\"LA\",\"AR\",\"AR\",\"AR\",\"OK\",\"OK\",\"OK\",\"TX\",\"TX\",\"TX\",\"TX\",\"CO\",\"CO\",\"CO\",\"WY\",\"WY\",\"WY\",\"ID\",\"ID\",\"ID\",\"UT\",\"UT\",\"UT\",\"AZ\",\"AZ\",\"NM\",\"NM\",\"NM\",\"NV\",\"NV\",\"NV\",\"CA\",\"CA\",\"CA\",\"HI\",\"HI\",\"OR\",\"OR\",\"WA\",\"WA\",\"WA\",\"WA\",\"WA\",\"AK\",\"AK\"],\"name\":\"\",\"z\":[9.39,9.39,9.39,9.39,9.39,9.39,9.39,9.39,9.39,9.39,9.39,9.39,null,9.39,9.39,9.39,9.39,9.39,9.39,9.39,9.39,9.39,9.39,null,9.39,9.39,null,9.39,9.39,9.39,null,9.39,9.39,9.39,9.590000000000002,9.590000000000002,9.590000000000002,9.39,9.39,9.39,9.39,9.39,9.39,9.39,9.39,9.39,9.39,9.39,9.39,9.39,9.39,9.39,9.39,9.39,9.39,9.39,9.39,9.39,9.39,9.39,9.39,9.39,9.39,9.39,9.39,9.39,9.39,9.39,9.39,9.39,9.39,9.39,9.39,9.39,9.39,9.39,9.39,9.39,9.39,9.39,9.39,9.39,9.39,9.39,9.39,9.39,9.39,9.39,9.39,9.39,9.39,9.39,9.39,9.39,9.39,9.39,9.39,9.39,9.39,9.39,9.39,9.39,9.39,9.39,9.39,9.39,9.39,9.39,9.39,9.39,9.39,9.39,9.39,9.39,9.39,9.723333333333334,9.723333333333334,9.723333333333334,9.723333333333334,9.723333333333334,9.723333333333334,9.39,9.39,9.39,9.39,9.39,9.39,9.39,9.39,9.39,9.39,9.39,9.39,9.39,9.39,9.590000000000002,9.590000000000002,9.590000000000002,9.39,9.39,9.39,9.39,9.59,9.59,9.59,9.59,9.59,9.39,9.39],\"type\":\"choropleth\"}],                        {\"template\":{\"data\":{\"histogram2dcontour\":[{\"type\":\"histogram2dcontour\",\"colorbar\":{\"outlinewidth\":0,\"ticks\":\"\"},\"colorscale\":[[0.0,\"#0d0887\"],[0.1111111111111111,\"#46039f\"],[0.2222222222222222,\"#7201a8\"],[0.3333333333333333,\"#9c179e\"],[0.4444444444444444,\"#bd3786\"],[0.5555555555555556,\"#d8576b\"],[0.6666666666666666,\"#ed7953\"],[0.7777777777777778,\"#fb9f3a\"],[0.8888888888888888,\"#fdca26\"],[1.0,\"#f0f921\"]]}],\"choropleth\":[{\"type\":\"choropleth\",\"colorbar\":{\"outlinewidth\":0,\"ticks\":\"\"}}],\"histogram2d\":[{\"type\":\"histogram2d\",\"colorbar\":{\"outlinewidth\":0,\"ticks\":\"\"},\"colorscale\":[[0.0,\"#0d0887\"],[0.1111111111111111,\"#46039f\"],[0.2222222222222222,\"#7201a8\"],[0.3333333333333333,\"#9c179e\"],[0.4444444444444444,\"#bd3786\"],[0.5555555555555556,\"#d8576b\"],[0.6666666666666666,\"#ed7953\"],[0.7777777777777778,\"#fb9f3a\"],[0.8888888888888888,\"#fdca26\"],[1.0,\"#f0f921\"]]}],\"heatmap\":[{\"type\":\"heatmap\",\"colorbar\":{\"outlinewidth\":0,\"ticks\":\"\"},\"colorscale\":[[0.0,\"#0d0887\"],[0.1111111111111111,\"#46039f\"],[0.2222222222222222,\"#7201a8\"],[0.3333333333333333,\"#9c179e\"],[0.4444444444444444,\"#bd3786\"],[0.5555555555555556,\"#d8576b\"],[0.6666666666666666,\"#ed7953\"],[0.7777777777777778,\"#fb9f3a\"],[0.8888888888888888,\"#fdca26\"],[1.0,\"#f0f921\"]]}],\"heatmapgl\":[{\"type\":\"heatmapgl\",\"colorbar\":{\"outlinewidth\":0,\"ticks\":\"\"},\"colorscale\":[[0.0,\"#0d0887\"],[0.1111111111111111,\"#46039f\"],[0.2222222222222222,\"#7201a8\"],[0.3333333333333333,\"#9c179e\"],[0.4444444444444444,\"#bd3786\"],[0.5555555555555556,\"#d8576b\"],[0.6666666666666666,\"#ed7953\"],[0.7777777777777778,\"#fb9f3a\"],[0.8888888888888888,\"#fdca26\"],[1.0,\"#f0f921\"]]}],\"contourcarpet\":[{\"type\":\"contourcarpet\",\"colorbar\":{\"outlinewidth\":0,\"ticks\":\"\"}}],\"contour\":[{\"type\":\"contour\",\"colorbar\":{\"outlinewidth\":0,\"ticks\":\"\"},\"colorscale\":[[0.0,\"#0d0887\"],[0.1111111111111111,\"#46039f\"],[0.2222222222222222,\"#7201a8\"],[0.3333333333333333,\"#9c179e\"],[0.4444444444444444,\"#bd3786\"],[0.5555555555555556,\"#d8576b\"],[0.6666666666666666,\"#ed7953\"],[0.7777777777777778,\"#fb9f3a\"],[0.8888888888888888,\"#fdca26\"],[1.0,\"#f0f921\"]]}],\"surface\":[{\"type\":\"surface\",\"colorbar\":{\"outlinewidth\":0,\"ticks\":\"\"},\"colorscale\":[[0.0,\"#0d0887\"],[0.1111111111111111,\"#46039f\"],[0.2222222222222222,\"#7201a8\"],[0.3333333333333333,\"#9c179e\"],[0.4444444444444444,\"#bd3786\"],[0.5555555555555556,\"#d8576b\"],[0.6666666666666666,\"#ed7953\"],[0.7777777777777778,\"#fb9f3a\"],[0.8888888888888888,\"#fdca26\"],[1.0,\"#f0f921\"]]}],\"mesh3d\":[{\"type\":\"mesh3d\",\"colorbar\":{\"outlinewidth\":0,\"ticks\":\"\"}}],\"scatter\":[{\"fillpattern\":{\"fillmode\":\"overlay\",\"size\":10,\"solidity\":0.2},\"type\":\"scatter\"}],\"parcoords\":[{\"type\":\"parcoords\",\"line\":{\"colorbar\":{\"outlinewidth\":0,\"ticks\":\"\"}}}],\"scatterpolargl\":[{\"type\":\"scatterpolargl\",\"marker\":{\"colorbar\":{\"outlinewidth\":0,\"ticks\":\"\"}}}],\"bar\":[{\"error_x\":{\"color\":\"#2a3f5f\"},\"error_y\":{\"color\":\"#2a3f5f\"},\"marker\":{\"line\":{\"color\":\"#E5ECF6\",\"width\":0.5},\"pattern\":{\"fillmode\":\"overlay\",\"size\":10,\"solidity\":0.2}},\"type\":\"bar\"}],\"scattergeo\":[{\"type\":\"scattergeo\",\"marker\":{\"colorbar\":{\"outlinewidth\":0,\"ticks\":\"\"}}}],\"scatterpolar\":[{\"type\":\"scatterpolar\",\"marker\":{\"colorbar\":{\"outlinewidth\":0,\"ticks\":\"\"}}}],\"histogram\":[{\"marker\":{\"pattern\":{\"fillmode\":\"overlay\",\"size\":10,\"solidity\":0.2}},\"type\":\"histogram\"}],\"scattergl\":[{\"type\":\"scattergl\",\"marker\":{\"colorbar\":{\"outlinewidth\":0,\"ticks\":\"\"}}}],\"scatter3d\":[{\"type\":\"scatter3d\",\"line\":{\"colorbar\":{\"outlinewidth\":0,\"ticks\":\"\"}},\"marker\":{\"colorbar\":{\"outlinewidth\":0,\"ticks\":\"\"}}}],\"scattermapbox\":[{\"type\":\"scattermapbox\",\"marker\":{\"colorbar\":{\"outlinewidth\":0,\"ticks\":\"\"}}}],\"scatterternary\":[{\"type\":\"scatterternary\",\"marker\":{\"colorbar\":{\"outlinewidth\":0,\"ticks\":\"\"}}}],\"scattercarpet\":[{\"type\":\"scattercarpet\",\"marker\":{\"colorbar\":{\"outlinewidth\":0,\"ticks\":\"\"}}}],\"carpet\":[{\"aaxis\":{\"endlinecolor\":\"#2a3f5f\",\"gridcolor\":\"white\",\"linecolor\":\"white\",\"minorgridcolor\":\"white\",\"startlinecolor\":\"#2a3f5f\"},\"baxis\":{\"endlinecolor\":\"#2a3f5f\",\"gridcolor\":\"white\",\"linecolor\":\"white\",\"minorgridcolor\":\"white\",\"startlinecolor\":\"#2a3f5f\"},\"type\":\"carpet\"}],\"table\":[{\"cells\":{\"fill\":{\"color\":\"#EBF0F8\"},\"line\":{\"color\":\"white\"}},\"header\":{\"fill\":{\"color\":\"#C8D4E3\"},\"line\":{\"color\":\"white\"}},\"type\":\"table\"}],\"barpolar\":[{\"marker\":{\"line\":{\"color\":\"#E5ECF6\",\"width\":0.5},\"pattern\":{\"fillmode\":\"overlay\",\"size\":10,\"solidity\":0.2}},\"type\":\"barpolar\"}],\"pie\":[{\"automargin\":true,\"type\":\"pie\"}]},\"layout\":{\"autotypenumbers\":\"strict\",\"colorway\":[\"#636efa\",\"#EF553B\",\"#00cc96\",\"#ab63fa\",\"#FFA15A\",\"#19d3f3\",\"#FF6692\",\"#B6E880\",\"#FF97FF\",\"#FECB52\"],\"font\":{\"color\":\"#2a3f5f\"},\"hovermode\":\"closest\",\"hoverlabel\":{\"align\":\"left\"},\"paper_bgcolor\":\"white\",\"plot_bgcolor\":\"#E5ECF6\",\"polar\":{\"bgcolor\":\"#E5ECF6\",\"angularaxis\":{\"gridcolor\":\"white\",\"linecolor\":\"white\",\"ticks\":\"\"},\"radialaxis\":{\"gridcolor\":\"white\",\"linecolor\":\"white\",\"ticks\":\"\"}},\"ternary\":{\"bgcolor\":\"#E5ECF6\",\"aaxis\":{\"gridcolor\":\"white\",\"linecolor\":\"white\",\"ticks\":\"\"},\"baxis\":{\"gridcolor\":\"white\",\"linecolor\":\"white\",\"ticks\":\"\"},\"caxis\":{\"gridcolor\":\"white\",\"linecolor\":\"white\",\"ticks\":\"\"}},\"coloraxis\":{\"colorbar\":{\"outlinewidth\":0,\"ticks\":\"\"}},\"colorscale\":{\"sequential\":[[0.0,\"#0d0887\"],[0.1111111111111111,\"#46039f\"],[0.2222222222222222,\"#7201a8\"],[0.3333333333333333,\"#9c179e\"],[0.4444444444444444,\"#bd3786\"],[0.5555555555555556,\"#d8576b\"],[0.6666666666666666,\"#ed7953\"],[0.7777777777777778,\"#fb9f3a\"],[0.8888888888888888,\"#fdca26\"],[1.0,\"#f0f921\"]],\"sequentialminus\":[[0.0,\"#0d0887\"],[0.1111111111111111,\"#46039f\"],[0.2222222222222222,\"#7201a8\"],[0.3333333333333333,\"#9c179e\"],[0.4444444444444444,\"#bd3786\"],[0.5555555555555556,\"#d8576b\"],[0.6666666666666666,\"#ed7953\"],[0.7777777777777778,\"#fb9f3a\"],[0.8888888888888888,\"#fdca26\"],[1.0,\"#f0f921\"]],\"diverging\":[[0,\"#8e0152\"],[0.1,\"#c51b7d\"],[0.2,\"#de77ae\"],[0.3,\"#f1b6da\"],[0.4,\"#fde0ef\"],[0.5,\"#f7f7f7\"],[0.6,\"#e6f5d0\"],[0.7,\"#b8e186\"],[0.8,\"#7fbc41\"],[0.9,\"#4d9221\"],[1,\"#276419\"]]},\"xaxis\":{\"gridcolor\":\"white\",\"linecolor\":\"white\",\"ticks\":\"\",\"title\":{\"standoff\":15},\"zerolinecolor\":\"white\",\"automargin\":true,\"zerolinewidth\":2},\"yaxis\":{\"gridcolor\":\"white\",\"linecolor\":\"white\",\"ticks\":\"\",\"title\":{\"standoff\":15},\"zerolinecolor\":\"white\",\"automargin\":true,\"zerolinewidth\":2},\"scene\":{\"xaxis\":{\"backgroundcolor\":\"#E5ECF6\",\"gridcolor\":\"white\",\"linecolor\":\"white\",\"showbackground\":true,\"ticks\":\"\",\"zerolinecolor\":\"white\",\"gridwidth\":2},\"yaxis\":{\"backgroundcolor\":\"#E5ECF6\",\"gridcolor\":\"white\",\"linecolor\":\"white\",\"showbackground\":true,\"ticks\":\"\",\"zerolinecolor\":\"white\",\"gridwidth\":2},\"zaxis\":{\"backgroundcolor\":\"#E5ECF6\",\"gridcolor\":\"white\",\"linecolor\":\"white\",\"showbackground\":true,\"ticks\":\"\",\"zerolinecolor\":\"white\",\"gridwidth\":2}},\"shapedefaults\":{\"line\":{\"color\":\"#2a3f5f\"}},\"annotationdefaults\":{\"arrowcolor\":\"#2a3f5f\",\"arrowhead\":0,\"arrowwidth\":1},\"geo\":{\"bgcolor\":\"white\",\"landcolor\":\"#E5ECF6\",\"subunitcolor\":\"white\",\"showland\":true,\"showlakes\":true,\"lakecolor\":\"white\"},\"title\":{\"x\":0.05},\"mapbox\":{\"style\":\"light\"}}},\"geo\":{\"domain\":{\"x\":[0.0,1.0],\"y\":[0.0,1.0]},\"center\":{},\"scope\":\"usa\"},\"coloraxis\":{\"colorbar\":{\"title\":{\"text\":\"Average Vegetable Oil Price\"}},\"colorscale\":[[0.0,\"#0d0887\"],[0.1111111111111111,\"#46039f\"],[0.2222222222222222,\"#7201a8\"],[0.3333333333333333,\"#9c179e\"],[0.4444444444444444,\"#bd3786\"],[0.5555555555555556,\"#d8576b\"],[0.6666666666666666,\"#ed7953\"],[0.7777777777777778,\"#fb9f3a\"],[0.8888888888888888,\"#fdca26\"],[1.0,\"#f0f921\"]]},\"legend\":{\"tracegroupgap\":0},\"margin\":{\"t\":60}},                        {\"responsive\": true}                    ).then(function(){\n",
       "                            \n",
       "var gd = document.getElementById('5d4a1434-c6e7-4709-9685-25cb80f8142b');\n",
       "var x = new MutationObserver(function (mutations, observer) {{\n",
       "        var display = window.getComputedStyle(gd).display;\n",
       "        if (!display || display === 'none') {{\n",
       "            console.log([gd, 'removed!']);\n",
       "            Plotly.purge(gd);\n",
       "            observer.disconnect();\n",
       "        }}\n",
       "}});\n",
       "\n",
       "// Listen for the removal of the full notebook cells\n",
       "var notebookContainer = gd.closest('#notebook-container');\n",
       "if (notebookContainer) {{\n",
       "    x.observe(notebookContainer, {childList: true});\n",
       "}}\n",
       "\n",
       "// Listen for the clearing of the current output cell\n",
       "var outputEl = gd.closest('.output');\n",
       "if (outputEl) {{\n",
       "    x.observe(outputEl, {childList: true});\n",
       "}}\n",
       "\n",
       "                        })                };                });            </script>        </div>"
      ]
     },
     "metadata": {},
     "output_type": "display_data"
    }
   ],
   "source": [
    "\n",
    "data_for_mapping = data.copy()\n",
    "\n",
    "\n",
    "address_data = pd.read_csv('2023_Gaz_zcta_national.txt', sep=\"\\t\", header=None)\n",
    "address_data.columns = address_data.iloc[0]\n",
    "address_data = address_data.drop(0)\n",
    "# Why is the column name like this. Who is responsible. I just want to talk.\n",
    "address_data.rename(columns={'INTPTLONG                                                                                                                                  ':'INTPTLONG'}, inplace=True)\n",
    "\n",
    "address_data['INTPTLAT'] = address_data['INTPTLAT'].apply(lambda x: float(x))\n",
    "address_data['INTPTLONG'] = address_data['INTPTLONG'].apply(lambda x: float(x))\n",
    "\n",
    "address_data = address_data.drop([\"ALAND\", \"AWATER\", \"ALAND_SQMI\", \"AWATER_SQMI\"], axis=1)\n",
    "\n",
    "address_data = address_data.rename(columns={'GEOID': 'Zip Code'})\n",
    "address_data = address_data.set_index('Zip Code', drop=False)\n",
    "\n",
    "\n",
    "state_map = {\n",
    "    '06241': 'CT',\n",
    "    '06042': 'CT',\n",
    "    '06901': 'CT',\n",
    "    \n",
    "    '04952': 'ME', \n",
    "    '04086': 'ME', \n",
    "    '04401': 'ME',\n",
    "    \n",
    "    '01040': 'MA', \n",
    "    '02122': 'MA', \n",
    "    '02114': 'MA', \n",
    "    \n",
    "    '03840': 'NH', \n",
    "    '03110': 'NH', \n",
    "    '03063': 'NH', \n",
    "    \n",
    "    '02917': 'RI', \n",
    "    '02886': 'RI', \n",
    "    '02865': 'RI', \n",
    "    \n",
    "    '05403': 'VT', \n",
    "\n",
    "    '08865': 'NJ', \n",
    "    '07047': 'NJ', \n",
    "    '07310': 'NJ', \n",
    "    \n",
    "    '14020': 'NY', \n",
    "    '14850': 'NY', \n",
    "    '11217': 'NY',\n",
    "    \n",
    "    '16601': 'PA', \n",
    "    '17013': 'PA', \n",
    "    '19103': 'PA',\n",
    "    \n",
    "    '61401': 'IL', \n",
    "    '60014': 'IL', \n",
    "    '60610': 'IL',\n",
    "    \n",
    "    '47401': 'IN', \n",
    "    '46383': 'IN', \n",
    "    '46237': 'IN',\n",
    "    \n",
    "    '49855': 'MI', \n",
    "    '48374': 'MI', \n",
    "    '48507': 'MI',\n",
    "    \n",
    "    '44870': 'OH', \n",
    "    '45236': 'OH', \n",
    "    '45249': 'OH', \n",
    "    \n",
    "    '54235': 'WI', \n",
    "    '53085': 'WI', \n",
    "    '53207': 'WI'\n",
    "\n",
    "}\n",
    "\n",
    "def get_state(zipcode):\n",
    "    if zipcode == '79707':\n",
    "        return 'TX'  # It's stupid that i had to do this, but it works LMAO\n",
    "    elif zipcode not in state_map:\n",
    "        #print(zipcode, \"not in the map: \" + data_for_mapping[\"Location\"][zipcode])\n",
    "        try:\n",
    "            final_location = data_for_mapping[\"Location\"][zipcode].split(\", \")[1]\n",
    "        except:\n",
    "            final_location = ''\n",
    "        return final_location\n",
    "    else:\n",
    "        #print(zipcode, \"in the map: \" + state_map[zipcode])\n",
    "        return state_map[zipcode]\n",
    "\n",
    "    \n",
    "data_for_mapping['Zip Code'] = data_for_mapping.index\n",
    "data_for_mapping[\"State\"] = data_for_mapping[\"Zip Code\"].apply(get_state)\n",
    "data_for_mapping = data_for_mapping.drop('Zip Code',axis=1)\n",
    "\n",
    "\n",
    "data_for_mapping = data_for_mapping.join(address_data, how='left')\n",
    "\n",
    "\n",
    "\n",
    "\n",
    "\n",
    "# I'll be so real I don't really know what I'm doing anymore. But I think this will work.\n",
    "\n",
    "average_prices = data_for_mapping.pivot_table(columns = 'State', values = ['AirPods', 'Bananas', 'Cotton Swabs', 'Diapers', 'Eggs', 'Gum', 'Milk', 'Shampoo', 'T-Shirt', 'Toilet Paper', 'Vegetable Oil'])\n",
    "\n",
    "prices_average = average_prices.transpose()\n",
    "prices_average = prices_average.rename(columns={'AirPods': 'Average AirPods Price', 'Bananas': 'Average Bananas Price', 'Cotton Swabs': 'Average Cotton Swabs Price', 'Diapers': 'Average Diapers Price', 'Eggs': 'Average Eggs Price', 'Gum': 'Average Gum Price', 'Milk': 'Average Milk Price', 'Shampoo': 'Average Shampoo Price', 'T-Shirt': 'Average T-Shirt Price', 'Toilet Paper': 'Average Toilet Paper Price', 'Vegetable Oil': 'Average Vegetable Oil Price'})\n",
    "\n",
    "data_for_mapping = data_for_mapping.join(prices_average, how='left', on=\"State\")\n",
    "\n",
    "\n",
    "\n",
    "\n",
    "\n",
    "\n",
    "display(data_for_mapping)\n",
    "\n",
    "#data_for_mapping.to_csv(\"data_for_mapping.csv\")\n",
    "\n",
    "\n",
    "\n",
    "\n",
    "\n",
    "# replace with \"Scatter\" or \"Heatmap\"\n",
    "plot_of_choice = \"Heatmap\"\n",
    "\n",
    "if plot_of_choice == \"Scatter\":\n",
    "    \n",
    "    targets = go.Scattergeo(\n",
    "            lon = data_for_mapping['INTPTLONG'],\n",
    "            lat = data_for_mapping['INTPTLAT'],\n",
    "            text = data_for_mapping['Zip Code'],\n",
    "            marker=dict( color='rgb(226,13,17)' )\n",
    "            )\n",
    "    \n",
    "    distros = go.Scattergeo(\n",
    "            lon = warehouse_df['INTPTLONG'],\n",
    "            lat = warehouse_df['INTPTLAT'],\n",
    "            text = warehouse_df.index,\n",
    "            marker=dict( color='rgb(114,113,113)' )\n",
    "            )\n",
    "\n",
    "    \n",
    "    targets_and_distros = [targets, distros]\n",
    "    fig = go.Figure(data = targets_and_distros)\n",
    "    \n",
    "    fig.update_traces(name=\"Targets\", selector=dict(marker=dict( color='rgb(226,13,17)' )))\n",
    "    fig.update_traces(name=\"Distribution Centers\", selector=dict(marker=dict( color='rgb(114,113,113)' )))\n",
    "\n",
    "    fig.update_layout(\n",
    "            title = 'Target and Distribution Center Locations',\n",
    "            geo_scope='usa',\n",
    "        )\n",
    "    fig.show()\n",
    "    #fig.write_image(\"saved_figures/target_distro_scattergeo.png\")\n",
    "    \n",
    "elif plot_of_choice == \"Heatmap\":\n",
    "\n",
    "    product_list = ['AirPods', 'Bananas', 'Cotton Swabs', 'Diapers', 'Eggs', 'Gum', 'Milk', 'Shampoo', 'T-Shirt', 'Toilet Paper', 'Vegetable Oil']\n",
    "    for product in product_list:\n",
    "\n",
    "        fig = px.choropleth(data_for_mapping, locations=\"State\",\n",
    "                            color=\"Average \" + product + \" Price\", \n",
    "                            hover_name=\"Zip Code\",\n",
    "                            color_continuous_scale=px.colors.sequential.Plasma,  # This one's just came with the example, but I think it looks pretty.\n",
    "                            locationmode=\"USA-states\", \n",
    "                            scope=\"usa\")\n",
    "\n",
    "        fig.show()\n",
    "        #fig.write_image(\"saved_figures/heatmap/\" + product + \".png\")\n",
    "    \n",
    "    \n",
    "else:\n",
    "    pass\n",
    "\n",
    "\n",
    "\n",
    "# This data is found from this website: https://warehouse.ninja/target-distribution-center-locations/\n",
    "# I inputted it manually, unfortunately.\n",
    "\n",
    "warehouse_data = [[34.6449932755897,-86.8473292167007],\n",
    "                  [33.44847758394,-112.216516477379],\n",
    "                  [35.4443517679111,-119.184883986437],\n",
    "                  [34.1129032695058,-117.481059984653],\n",
    "                  [34.1556649469121,-117.430952966951],\n",
    "                  [33.8829312577458,-117.266820757673],\n",
    "                  [38.6830449523077,-121.721678642205],\n",
    "                  [34.1342886776624,-117.416355370662],\n",
    "                  [38.2782732480079,-104.467643668806],\n",
    "                  [39.8102931481305,-104.986460657673],\n",
    "                  [30.2323049532679,-82.6359163730191],\n",
    "                  [31.7765737205048,-81.3526562288365],\n",
    "                  [31.7776443503854,-81.3539269910744],\n",
    "                  [31.4215451402305,-83.5182432359064],\n",
    "                  [32.1739955290448,-81.1755252030619],\n",
    "                  [21.4792398115305,-158.016842329534],\n",
    "                  [41.9176226241567,-88.7369320728707],\n",
    "                  [41.8303900458523,-87.7238539644176],\n",
    "                  [41.8002418685309,-87.7811810344034],\n",
    "                  [41.4744170168815,-88.1627609565227],\n",
    "                  [41.9218023710286,-87.9598046121732],\n",
    "                  [39.7475498809776,-86.2948367214139],\n",
    "                  [42.4760732243742,-92.468984016849],\n",
    "                  [38.9662278505392,-95.6943807344034],\n",
    "                  [38.8653486027871,-76.7299089768994],\n",
    "                  [44.9647972364202,-85.2029499259567],\n",
    "                  [45.0979857630195,-93.2491908864199],\n",
    "                  [44.9933873277923,-93.2149055171079],\n",
    "                  [44.9452591409893,-92.9121249623863],\n",
    "                  [40.5251569148739,-74.2592140725181],\n",
    "                  [40.089765436428,-74.8200981032102],\n",
    "                  [39.7817015818632,-75.3450861543144],\n",
    "                  [43.178721716844,-73.7161892865095],\n",
    "                  [42.9386799514717,-74.2384685711634],\n",
    "                  [35.6225966445846,-81.3098264595263],\n",
    "                  [39.9520393926857,-83.3482983306921],\n",
    "                  [39.9471432044632,-83.3518352558173],\n",
    "                  [44.5794790802794,-123.115068328716],\n",
    "                  [40.1989563009857,-76.8052668801052],\n",
    "                  [39.8890231958012,-77.6729397],\n",
    "                  [34.1794119094042,-80.6818378840045],\n",
    "                  [32.4347483116907,-97.0555079725181],\n",
    "                  [34.5570298314302,-97.1446958584889],\n",
    "                  [32.8696311238109,-95.6389149051154],\n",
    "                  [32.8807284643133,-96.901032357673],\n",
    "                  [29.9461573473188,-95.5288642134904],\n",
    "                  [38.0306730381623,-78.998851715346],\n",
    "                  [36.7076274133422,-76.6651214220913],\n",
    "                  [47.0821524927726,-122.771626284653],\n",
    "                  [43.080037381646,-88.4760084558174],\n",
    "                  [42.4825228934735,-92.4709803136662]]\n",
    "\n",
    "warehouse_df = pd.DataFrame(warehouse_data, columns=['INTPTLAT', 'INTPTLONG'])\n",
    "\n",
    "#display(warehouse_df)\n"
   ]
  },
  {
   "cell_type": "markdown",
   "id": "8ff1a675",
   "metadata": {},
   "source": [
    "Below is just the code for the scatterplot version of the map, as the current code for the map generation displays one or the other."
   ]
  },
  {
   "cell_type": "code",
   "execution_count": 11,
   "id": "61095d31",
   "metadata": {},
   "outputs": [
    {
     "data": {
      "application/vnd.plotly.v1+json": {
       "config": {
        "plotlyServerURL": "https://plot.ly"
       },
       "data": [
        {
         "lat": [
          42.211658,
          42.363651,
          42.295088,
          41.915455,
          41.701615,
          41.906288,
          42.7821,
          42.935584,
          43.039732,
          43.964977,
          44.848517,
          44.412796,
          44.444866,
          41.802645,
          41.853901,
          41.053635,
          40.793644,
          40.727895,
          40.708226,
          40.681671,
          42.99619,
          42.431831,
          40.552519,
          40.808517,
          40.241159,
          39.953372,
          39.911612,
          39.737615,
          39.181542,
          38.569298,
          39.188512,
          39.471468,
          39.51582,
          39.354883,
          38.836463,
          36.961444,
          38.199727,
          38.311899,
          38.394449,
          40.057338,
          35.843765,
          35.057978,
          35.461429,
          34.809603,
          34.506294,
          34.684858,
          34.124224,
          33.818405,
          31.320999,
          26.803774,
          26.351283,
          26.593249,
          33.398798,
          34.605711,
          30.609941,
          35.671704,
          35.066953,
          35.21294,
          32.822724,
          32.394736,
          31.333168,
          38.299974,
          36.876864,
          37.735778,
          41.41952,
          39.209678,
          39.275264,
          39.67189,
          41.457895,
          39.102302,
          42.473843,
          42.966974,
          46.561069,
          41.643423,
          42.461502,
          41.923046,
          43.732838,
          42.975097,
          44.843613,
          44.511927,
          44.969923,
          47.510829,
          43.544679,
          45.482335,
          44.121777,
          46.856347,
          46.898984,
          48.144826,
          45.639468,
          48.230565,
          42.230279,
          41.904718,
          40.945179,
          38.430371,
          38.798443,
          38.957802,
          38.838296,
          39.084029,
          38.831832,
          41.239178,
          41.298493,
          41.102245,
          30.426892,
          32.574458,
          31.274156,
          35.065558,
          36.118051,
          35.354958,
          35.703333,
          36.276728,
          36.039275,
          30.611527,
          30.489544,
          32.037441,
          32.037441,
          39.444376,
          39.751526,
          38.514973,
          41.383479,
          42.771582,
          43.394562,
          43.627161,
          43.639,
          47.726282,
          40.558566,
          40.616981,
          40.040637,
          33.453269,
          32.219012,
          35.197465,
          35.26992,
          36.796608,
          35.996194,
          39.540617,
          39.090042,
          34.109595,
          34.100402,
          37.81345,
          21.395084,
          19.75682,
          45.596784,
          45.030354,
          47.610902,
          48.500911,
          46.283303,
          46.17216,
          46.6652,
          61.116381,
          61.605123
         ],
         "lon": [
          -72.642448,
          -71.066888,
          -71.052533,
          -71.449815,
          -71.455217,
          -71.523811,
          -71.518366,
          -71.536871,
          -70.845622,
          -69.955624,
          -68.850405,
          -69.154791,
          -73.173468,
          -72.521039,
          -71.847371,
          -73.538437,
          -74.025027,
          -74.033212,
          -75.147073,
          -73.978529,
          -78.213412,
          -76.500228,
          -78.372994,
          -77.894436,
          -77.183824,
          -75.174187,
          -75.151475,
          -75.667057,
          -75.47352,
          -75.610451,
          -77.205143,
          -76.284636,
          -76.698751,
          -77.375902,
          -77.062098,
          -79.866431,
          -79.588455,
          -81.75717,
          -81.991307,
          -80.605252,
          -78.633643,
          -80.697771,
          -82.570815,
          -82.328865,
          -82.603598,
          -82.293791,
          -84.570679,
          -84.358175,
          -81.52644,
          -80.076385,
          -80.229122,
          -80.1289,
          -86.841794,
          -87.008324,
          -87.863812,
          -84.080473,
          -89.654078,
          -89.794712,
          -90.911519,
          -90.22496,
          -89.414072,
          -85.575689,
          -86.45119,
          -87.249397,
          -82.713212,
          -84.397222,
          -84.326879,
          -86.074788,
          -87.002008,
          -86.442812,
          -83.519976,
          -83.71736,
          -87.451418,
          -93.459703,
          -92.313745,
          -91.688501,
          -87.855452,
          -87.8989,
          -87.37279,
          -92.539225,
          -93.284253,
          -94.82092,
          -96.638642,
          -98.53254,
          -103.201222,
          -96.82246,
          -101.439257,
          -101.326016,
          -111.171171,
          -114.403313,
          -88.329654,
          -87.635891,
          -90.386567,
          -90.3921,
          -90.274206,
          -94.598599,
          -94.784409,
          -94.789887,
          -97.65455,
          -96.416488,
          -96.165988,
          -95.947634,
          -91.027834,
          -93.696292,
          -92.467107,
          -92.362771,
          -94.043538,
          -94.360725,
          -97.433595,
          -95.818917,
          -95.877463,
          -96.323267,
          -97.753842,
          -102.195196,
          -102.195196,
          -104.853179,
          -104.997673,
          -107.766148,
          -104.853477,
          -106.186063,
          -110.629831,
          -116.287653,
          -116.33746,
          -116.789948,
          -111.941674,
          -111.686812,
          -111.419114,
          -111.636673,
          -110.752137,
          -106.681757,
          -106.795643,
          -108.151748,
          -115.157976,
          -119.543993,
          -119.836881,
          -118.228689,
          -117.581282,
          -121.317273,
          -157.758188,
          -155.919968,
          -122.695414,
          -123.023689,
          -122.336422,
          -122.345655,
          -123.919747,
          -122.773533,
          -120.338543,
          -149.890375,
          -149.422671
         ],
         "marker": {
          "color": "rgb(226,13,17)"
         },
         "name": "Targets",
         "text": [
          "01040",
          "02114",
          "02122",
          "02865",
          "02886",
          "02917",
          "03063",
          "03110",
          "03840",
          "04086",
          "04401",
          "04952",
          "05403",
          "06042",
          "06241",
          "06901",
          "07047",
          "07310",
          "08865",
          "11217",
          "14020",
          "14850",
          "16601",
          "16803",
          "17013",
          "19103",
          "19148",
          "19808",
          "19901",
          "19931",
          "20886",
          "21009",
          "21030",
          "21704",
          "22305",
          "24151",
          "24487",
          "25309",
          "25526",
          "26059",
          "27609",
          "28104",
          "28704",
          "29607",
          "29621",
          "29680",
          "30189",
          "30324",
          "31525",
          "33403",
          "33428",
          "33463",
          "35226",
          "35601",
          "36526",
          "37801",
          "38017",
          "38133",
          "39159",
          "39213",
          "39402",
          "40241",
          "42104",
          "42301",
          "44870",
          "45236",
          "45249",
          "46237",
          "46383",
          "47401",
          "48374",
          "48507",
          "49855",
          "50009",
          "50702",
          "52404",
          "53085",
          "53207",
          "54235",
          "55066",
          "55403",
          "56601",
          "57110",
          "57401",
          "57701",
          "58103",
          "58563",
          "58701",
          "59718",
          "59901",
          "60014",
          "60610",
          "61401",
          "63010",
          "63033",
          "64114",
          "66062",
          "66111",
          "67401",
          "68073",
          "68116",
          "68123",
          "70816",
          "71111",
          "71301",
          "72032",
          "72703",
          "72903",
          "73034",
          "74055",
          "74133",
          "77840",
          "78717",
          "79707",
          "79707",
          "80108",
          "80202",
          "81401",
          "82009",
          "82609",
          "83001",
          "83704",
          "83713",
          "83815",
          "84095",
          "84121",
          "84660",
          "85207",
          "85748",
          "87114",
          "87124",
          "87402",
          "89183",
          "89434",
          "89705",
          "90065",
          "91730",
          "95330",
          "96734",
          "96740",
          "97217",
          "97303",
          "98101",
          "98233",
          "98614",
          "98626",
          "98901",
          "99515",
          "99654"
         ],
         "type": "scattergeo"
        },
        {
         "lat": [
          34.6449932755897,
          33.44847758394,
          35.4443517679111,
          34.1129032695058,
          34.1556649469121,
          33.8829312577458,
          38.6830449523077,
          34.1342886776624,
          38.2782732480079,
          39.8102931481305,
          30.2323049532679,
          31.7765737205048,
          31.7776443503854,
          31.4215451402305,
          32.1739955290448,
          21.4792398115305,
          41.9176226241567,
          41.8303900458523,
          41.8002418685309,
          41.4744170168815,
          41.9218023710286,
          39.7475498809776,
          42.4760732243742,
          38.9662278505392,
          38.8653486027871,
          44.9647972364202,
          45.0979857630195,
          44.9933873277923,
          44.9452591409893,
          40.5251569148739,
          40.089765436428,
          39.7817015818632,
          43.178721716844,
          42.9386799514717,
          35.6225966445846,
          39.9520393926857,
          39.9471432044632,
          44.5794790802794,
          40.1989563009857,
          39.8890231958012,
          34.1794119094042,
          32.4347483116907,
          34.5570298314302,
          32.8696311238109,
          32.8807284643133,
          29.9461573473188,
          38.0306730381623,
          36.7076274133422,
          47.0821524927726,
          43.080037381646,
          42.4825228934735
         ],
         "lon": [
          -86.8473292167007,
          -112.216516477379,
          -119.184883986437,
          -117.481059984653,
          -117.430952966951,
          -117.266820757673,
          -121.721678642205,
          -117.416355370662,
          -104.467643668806,
          -104.986460657673,
          -82.6359163730191,
          -81.3526562288365,
          -81.3539269910744,
          -83.5182432359064,
          -81.1755252030619,
          -158.016842329534,
          -88.7369320728707,
          -87.7238539644176,
          -87.7811810344034,
          -88.1627609565227,
          -87.9598046121732,
          -86.2948367214139,
          -92.468984016849,
          -95.6943807344034,
          -76.7299089768994,
          -85.2029499259567,
          -93.2491908864199,
          -93.2149055171079,
          -92.9121249623863,
          -74.2592140725181,
          -74.8200981032102,
          -75.3450861543144,
          -73.7161892865095,
          -74.2384685711634,
          -81.3098264595263,
          -83.3482983306921,
          -83.3518352558173,
          -123.115068328716,
          -76.8052668801052,
          -77.6729397,
          -80.6818378840045,
          -97.0555079725181,
          -97.1446958584889,
          -95.6389149051154,
          -96.901032357673,
          -95.5288642134904,
          -78.998851715346,
          -76.6651214220913,
          -122.771626284653,
          -88.4760084558174,
          -92.4709803136662
         ],
         "marker": {
          "color": "rgb(114,113,113)"
         },
         "name": "Distribution Centers",
         "text": [
          0,
          1,
          2,
          3,
          4,
          5,
          6,
          7,
          8,
          9,
          10,
          11,
          12,
          13,
          14,
          15,
          16,
          17,
          18,
          19,
          20,
          21,
          22,
          23,
          24,
          25,
          26,
          27,
          28,
          29,
          30,
          31,
          32,
          33,
          34,
          35,
          36,
          37,
          38,
          39,
          40,
          41,
          42,
          43,
          44,
          45,
          46,
          47,
          48,
          49,
          50
         ],
         "type": "scattergeo"
        }
       ],
       "layout": {
        "geo": {
         "scope": "usa"
        },
        "template": {
         "data": {
          "bar": [
           {
            "error_x": {
             "color": "#2a3f5f"
            },
            "error_y": {
             "color": "#2a3f5f"
            },
            "marker": {
             "line": {
              "color": "#E5ECF6",
              "width": 0.5
             },
             "pattern": {
              "fillmode": "overlay",
              "size": 10,
              "solidity": 0.2
             }
            },
            "type": "bar"
           }
          ],
          "barpolar": [
           {
            "marker": {
             "line": {
              "color": "#E5ECF6",
              "width": 0.5
             },
             "pattern": {
              "fillmode": "overlay",
              "size": 10,
              "solidity": 0.2
             }
            },
            "type": "barpolar"
           }
          ],
          "carpet": [
           {
            "aaxis": {
             "endlinecolor": "#2a3f5f",
             "gridcolor": "white",
             "linecolor": "white",
             "minorgridcolor": "white",
             "startlinecolor": "#2a3f5f"
            },
            "baxis": {
             "endlinecolor": "#2a3f5f",
             "gridcolor": "white",
             "linecolor": "white",
             "minorgridcolor": "white",
             "startlinecolor": "#2a3f5f"
            },
            "type": "carpet"
           }
          ],
          "choropleth": [
           {
            "colorbar": {
             "outlinewidth": 0,
             "ticks": ""
            },
            "type": "choropleth"
           }
          ],
          "contour": [
           {
            "colorbar": {
             "outlinewidth": 0,
             "ticks": ""
            },
            "colorscale": [
             [
              0,
              "#0d0887"
             ],
             [
              0.1111111111111111,
              "#46039f"
             ],
             [
              0.2222222222222222,
              "#7201a8"
             ],
             [
              0.3333333333333333,
              "#9c179e"
             ],
             [
              0.4444444444444444,
              "#bd3786"
             ],
             [
              0.5555555555555556,
              "#d8576b"
             ],
             [
              0.6666666666666666,
              "#ed7953"
             ],
             [
              0.7777777777777778,
              "#fb9f3a"
             ],
             [
              0.8888888888888888,
              "#fdca26"
             ],
             [
              1,
              "#f0f921"
             ]
            ],
            "type": "contour"
           }
          ],
          "contourcarpet": [
           {
            "colorbar": {
             "outlinewidth": 0,
             "ticks": ""
            },
            "type": "contourcarpet"
           }
          ],
          "heatmap": [
           {
            "colorbar": {
             "outlinewidth": 0,
             "ticks": ""
            },
            "colorscale": [
             [
              0,
              "#0d0887"
             ],
             [
              0.1111111111111111,
              "#46039f"
             ],
             [
              0.2222222222222222,
              "#7201a8"
             ],
             [
              0.3333333333333333,
              "#9c179e"
             ],
             [
              0.4444444444444444,
              "#bd3786"
             ],
             [
              0.5555555555555556,
              "#d8576b"
             ],
             [
              0.6666666666666666,
              "#ed7953"
             ],
             [
              0.7777777777777778,
              "#fb9f3a"
             ],
             [
              0.8888888888888888,
              "#fdca26"
             ],
             [
              1,
              "#f0f921"
             ]
            ],
            "type": "heatmap"
           }
          ],
          "heatmapgl": [
           {
            "colorbar": {
             "outlinewidth": 0,
             "ticks": ""
            },
            "colorscale": [
             [
              0,
              "#0d0887"
             ],
             [
              0.1111111111111111,
              "#46039f"
             ],
             [
              0.2222222222222222,
              "#7201a8"
             ],
             [
              0.3333333333333333,
              "#9c179e"
             ],
             [
              0.4444444444444444,
              "#bd3786"
             ],
             [
              0.5555555555555556,
              "#d8576b"
             ],
             [
              0.6666666666666666,
              "#ed7953"
             ],
             [
              0.7777777777777778,
              "#fb9f3a"
             ],
             [
              0.8888888888888888,
              "#fdca26"
             ],
             [
              1,
              "#f0f921"
             ]
            ],
            "type": "heatmapgl"
           }
          ],
          "histogram": [
           {
            "marker": {
             "pattern": {
              "fillmode": "overlay",
              "size": 10,
              "solidity": 0.2
             }
            },
            "type": "histogram"
           }
          ],
          "histogram2d": [
           {
            "colorbar": {
             "outlinewidth": 0,
             "ticks": ""
            },
            "colorscale": [
             [
              0,
              "#0d0887"
             ],
             [
              0.1111111111111111,
              "#46039f"
             ],
             [
              0.2222222222222222,
              "#7201a8"
             ],
             [
              0.3333333333333333,
              "#9c179e"
             ],
             [
              0.4444444444444444,
              "#bd3786"
             ],
             [
              0.5555555555555556,
              "#d8576b"
             ],
             [
              0.6666666666666666,
              "#ed7953"
             ],
             [
              0.7777777777777778,
              "#fb9f3a"
             ],
             [
              0.8888888888888888,
              "#fdca26"
             ],
             [
              1,
              "#f0f921"
             ]
            ],
            "type": "histogram2d"
           }
          ],
          "histogram2dcontour": [
           {
            "colorbar": {
             "outlinewidth": 0,
             "ticks": ""
            },
            "colorscale": [
             [
              0,
              "#0d0887"
             ],
             [
              0.1111111111111111,
              "#46039f"
             ],
             [
              0.2222222222222222,
              "#7201a8"
             ],
             [
              0.3333333333333333,
              "#9c179e"
             ],
             [
              0.4444444444444444,
              "#bd3786"
             ],
             [
              0.5555555555555556,
              "#d8576b"
             ],
             [
              0.6666666666666666,
              "#ed7953"
             ],
             [
              0.7777777777777778,
              "#fb9f3a"
             ],
             [
              0.8888888888888888,
              "#fdca26"
             ],
             [
              1,
              "#f0f921"
             ]
            ],
            "type": "histogram2dcontour"
           }
          ],
          "mesh3d": [
           {
            "colorbar": {
             "outlinewidth": 0,
             "ticks": ""
            },
            "type": "mesh3d"
           }
          ],
          "parcoords": [
           {
            "line": {
             "colorbar": {
              "outlinewidth": 0,
              "ticks": ""
             }
            },
            "type": "parcoords"
           }
          ],
          "pie": [
           {
            "automargin": true,
            "type": "pie"
           }
          ],
          "scatter": [
           {
            "fillpattern": {
             "fillmode": "overlay",
             "size": 10,
             "solidity": 0.2
            },
            "type": "scatter"
           }
          ],
          "scatter3d": [
           {
            "line": {
             "colorbar": {
              "outlinewidth": 0,
              "ticks": ""
             }
            },
            "marker": {
             "colorbar": {
              "outlinewidth": 0,
              "ticks": ""
             }
            },
            "type": "scatter3d"
           }
          ],
          "scattercarpet": [
           {
            "marker": {
             "colorbar": {
              "outlinewidth": 0,
              "ticks": ""
             }
            },
            "type": "scattercarpet"
           }
          ],
          "scattergeo": [
           {
            "marker": {
             "colorbar": {
              "outlinewidth": 0,
              "ticks": ""
             }
            },
            "type": "scattergeo"
           }
          ],
          "scattergl": [
           {
            "marker": {
             "colorbar": {
              "outlinewidth": 0,
              "ticks": ""
             }
            },
            "type": "scattergl"
           }
          ],
          "scattermapbox": [
           {
            "marker": {
             "colorbar": {
              "outlinewidth": 0,
              "ticks": ""
             }
            },
            "type": "scattermapbox"
           }
          ],
          "scatterpolar": [
           {
            "marker": {
             "colorbar": {
              "outlinewidth": 0,
              "ticks": ""
             }
            },
            "type": "scatterpolar"
           }
          ],
          "scatterpolargl": [
           {
            "marker": {
             "colorbar": {
              "outlinewidth": 0,
              "ticks": ""
             }
            },
            "type": "scatterpolargl"
           }
          ],
          "scatterternary": [
           {
            "marker": {
             "colorbar": {
              "outlinewidth": 0,
              "ticks": ""
             }
            },
            "type": "scatterternary"
           }
          ],
          "surface": [
           {
            "colorbar": {
             "outlinewidth": 0,
             "ticks": ""
            },
            "colorscale": [
             [
              0,
              "#0d0887"
             ],
             [
              0.1111111111111111,
              "#46039f"
             ],
             [
              0.2222222222222222,
              "#7201a8"
             ],
             [
              0.3333333333333333,
              "#9c179e"
             ],
             [
              0.4444444444444444,
              "#bd3786"
             ],
             [
              0.5555555555555556,
              "#d8576b"
             ],
             [
              0.6666666666666666,
              "#ed7953"
             ],
             [
              0.7777777777777778,
              "#fb9f3a"
             ],
             [
              0.8888888888888888,
              "#fdca26"
             ],
             [
              1,
              "#f0f921"
             ]
            ],
            "type": "surface"
           }
          ],
          "table": [
           {
            "cells": {
             "fill": {
              "color": "#EBF0F8"
             },
             "line": {
              "color": "white"
             }
            },
            "header": {
             "fill": {
              "color": "#C8D4E3"
             },
             "line": {
              "color": "white"
             }
            },
            "type": "table"
           }
          ]
         },
         "layout": {
          "annotationdefaults": {
           "arrowcolor": "#2a3f5f",
           "arrowhead": 0,
           "arrowwidth": 1
          },
          "autotypenumbers": "strict",
          "coloraxis": {
           "colorbar": {
            "outlinewidth": 0,
            "ticks": ""
           }
          },
          "colorscale": {
           "diverging": [
            [
             0,
             "#8e0152"
            ],
            [
             0.1,
             "#c51b7d"
            ],
            [
             0.2,
             "#de77ae"
            ],
            [
             0.3,
             "#f1b6da"
            ],
            [
             0.4,
             "#fde0ef"
            ],
            [
             0.5,
             "#f7f7f7"
            ],
            [
             0.6,
             "#e6f5d0"
            ],
            [
             0.7,
             "#b8e186"
            ],
            [
             0.8,
             "#7fbc41"
            ],
            [
             0.9,
             "#4d9221"
            ],
            [
             1,
             "#276419"
            ]
           ],
           "sequential": [
            [
             0,
             "#0d0887"
            ],
            [
             0.1111111111111111,
             "#46039f"
            ],
            [
             0.2222222222222222,
             "#7201a8"
            ],
            [
             0.3333333333333333,
             "#9c179e"
            ],
            [
             0.4444444444444444,
             "#bd3786"
            ],
            [
             0.5555555555555556,
             "#d8576b"
            ],
            [
             0.6666666666666666,
             "#ed7953"
            ],
            [
             0.7777777777777778,
             "#fb9f3a"
            ],
            [
             0.8888888888888888,
             "#fdca26"
            ],
            [
             1,
             "#f0f921"
            ]
           ],
           "sequentialminus": [
            [
             0,
             "#0d0887"
            ],
            [
             0.1111111111111111,
             "#46039f"
            ],
            [
             0.2222222222222222,
             "#7201a8"
            ],
            [
             0.3333333333333333,
             "#9c179e"
            ],
            [
             0.4444444444444444,
             "#bd3786"
            ],
            [
             0.5555555555555556,
             "#d8576b"
            ],
            [
             0.6666666666666666,
             "#ed7953"
            ],
            [
             0.7777777777777778,
             "#fb9f3a"
            ],
            [
             0.8888888888888888,
             "#fdca26"
            ],
            [
             1,
             "#f0f921"
            ]
           ]
          },
          "colorway": [
           "#636efa",
           "#EF553B",
           "#00cc96",
           "#ab63fa",
           "#FFA15A",
           "#19d3f3",
           "#FF6692",
           "#B6E880",
           "#FF97FF",
           "#FECB52"
          ],
          "font": {
           "color": "#2a3f5f"
          },
          "geo": {
           "bgcolor": "white",
           "lakecolor": "white",
           "landcolor": "#E5ECF6",
           "showlakes": true,
           "showland": true,
           "subunitcolor": "white"
          },
          "hoverlabel": {
           "align": "left"
          },
          "hovermode": "closest",
          "mapbox": {
           "style": "light"
          },
          "paper_bgcolor": "white",
          "plot_bgcolor": "#E5ECF6",
          "polar": {
           "angularaxis": {
            "gridcolor": "white",
            "linecolor": "white",
            "ticks": ""
           },
           "bgcolor": "#E5ECF6",
           "radialaxis": {
            "gridcolor": "white",
            "linecolor": "white",
            "ticks": ""
           }
          },
          "scene": {
           "xaxis": {
            "backgroundcolor": "#E5ECF6",
            "gridcolor": "white",
            "gridwidth": 2,
            "linecolor": "white",
            "showbackground": true,
            "ticks": "",
            "zerolinecolor": "white"
           },
           "yaxis": {
            "backgroundcolor": "#E5ECF6",
            "gridcolor": "white",
            "gridwidth": 2,
            "linecolor": "white",
            "showbackground": true,
            "ticks": "",
            "zerolinecolor": "white"
           },
           "zaxis": {
            "backgroundcolor": "#E5ECF6",
            "gridcolor": "white",
            "gridwidth": 2,
            "linecolor": "white",
            "showbackground": true,
            "ticks": "",
            "zerolinecolor": "white"
           }
          },
          "shapedefaults": {
           "line": {
            "color": "#2a3f5f"
           }
          },
          "ternary": {
           "aaxis": {
            "gridcolor": "white",
            "linecolor": "white",
            "ticks": ""
           },
           "baxis": {
            "gridcolor": "white",
            "linecolor": "white",
            "ticks": ""
           },
           "bgcolor": "#E5ECF6",
           "caxis": {
            "gridcolor": "white",
            "linecolor": "white",
            "ticks": ""
           }
          },
          "title": {
           "x": 0.05
          },
          "xaxis": {
           "automargin": true,
           "gridcolor": "white",
           "linecolor": "white",
           "ticks": "",
           "title": {
            "standoff": 15
           },
           "zerolinecolor": "white",
           "zerolinewidth": 2
          },
          "yaxis": {
           "automargin": true,
           "gridcolor": "white",
           "linecolor": "white",
           "ticks": "",
           "title": {
            "standoff": 15
           },
           "zerolinecolor": "white",
           "zerolinewidth": 2
          }
         }
        },
        "title": {
         "text": "Target and Distribution Center Locations"
        }
       }
      },
      "text/html": [
       "<div>                            <div id=\"5616ad5d-5067-4541-b826-2640817654d4\" class=\"plotly-graph-div\" style=\"height:525px; width:100%;\"></div>            <script type=\"text/javascript\">                require([\"plotly\"], function(Plotly) {                    window.PLOTLYENV=window.PLOTLYENV || {};                                    if (document.getElementById(\"5616ad5d-5067-4541-b826-2640817654d4\")) {                    Plotly.newPlot(                        \"5616ad5d-5067-4541-b826-2640817654d4\",                        [{\"lat\":[42.211658,42.363651,42.295088,41.915455,41.701615,41.906288,42.7821,42.935584,43.039732,43.964977,44.848517,44.412796,44.444866,41.802645,41.853901,41.053635,40.793644,40.727895,40.708226,40.681671,42.99619,42.431831,40.552519,40.808517,40.241159,39.953372,39.911612,39.737615,39.181542,38.569298,39.188512,39.471468,39.51582,39.354883,38.836463,36.961444,38.199727,38.311899,38.394449,40.057338,35.843765,35.057978,35.461429,34.809603,34.506294,34.684858,34.124224,33.818405,31.320999,26.803774,26.351283,26.593249,33.398798,34.605711,30.609941,35.671704,35.066953,35.21294,32.822724,32.394736,31.333168,38.299974,36.876864,37.735778,41.41952,39.209678,39.275264,39.67189,41.457895,39.102302,42.473843,42.966974,46.561069,41.643423,42.461502,41.923046,43.732838,42.975097,44.843613,44.511927,44.969923,47.510829,43.544679,45.482335,44.121777,46.856347,46.898984,48.144826,45.639468,48.230565,42.230279,41.904718,40.945179,38.430371,38.798443,38.957802,38.838296,39.084029,38.831832,41.239178,41.298493,41.102245,30.426892,32.574458,31.274156,35.065558,36.118051,35.354958,35.703333,36.276728,36.039275,30.611527,30.489544,32.037441,32.037441,39.444376,39.751526,38.514973,41.383479,42.771582,43.394562,43.627161,43.639,47.726282,40.558566,40.616981,40.040637,33.453269,32.219012,35.197465,35.26992,36.796608,35.996194,39.540617,39.090042,34.109595,34.100402,37.81345,21.395084,19.75682,45.596784,45.030354,47.610902,48.500911,46.283303,46.17216,46.6652,61.116381,61.605123],\"lon\":[-72.642448,-71.066888,-71.052533,-71.449815,-71.455217,-71.523811,-71.518366,-71.536871,-70.845622,-69.955624,-68.850405,-69.154791,-73.173468,-72.521039,-71.847371,-73.538437,-74.025027,-74.033212,-75.147073,-73.978529,-78.213412,-76.500228,-78.372994,-77.894436,-77.183824,-75.174187,-75.151475,-75.667057,-75.47352,-75.610451,-77.205143,-76.284636,-76.698751,-77.375902,-77.062098,-79.866431,-79.588455,-81.75717,-81.991307,-80.605252,-78.633643,-80.697771,-82.570815,-82.328865,-82.603598,-82.293791,-84.570679,-84.358175,-81.52644,-80.076385,-80.229122,-80.1289,-86.841794,-87.008324,-87.863812,-84.080473,-89.654078,-89.794712,-90.911519,-90.22496,-89.414072,-85.575689,-86.45119,-87.249397,-82.713212,-84.397222,-84.326879,-86.074788,-87.002008,-86.442812,-83.519976,-83.71736,-87.451418,-93.459703,-92.313745,-91.688501,-87.855452,-87.8989,-87.37279,-92.539225,-93.284253,-94.82092,-96.638642,-98.53254,-103.201222,-96.82246,-101.439257,-101.326016,-111.171171,-114.403313,-88.329654,-87.635891,-90.386567,-90.3921,-90.274206,-94.598599,-94.784409,-94.789887,-97.65455,-96.416488,-96.165988,-95.947634,-91.027834,-93.696292,-92.467107,-92.362771,-94.043538,-94.360725,-97.433595,-95.818917,-95.877463,-96.323267,-97.753842,-102.195196,-102.195196,-104.853179,-104.997673,-107.766148,-104.853477,-106.186063,-110.629831,-116.287653,-116.33746,-116.789948,-111.941674,-111.686812,-111.419114,-111.636673,-110.752137,-106.681757,-106.795643,-108.151748,-115.157976,-119.543993,-119.836881,-118.228689,-117.581282,-121.317273,-157.758188,-155.919968,-122.695414,-123.023689,-122.336422,-122.345655,-123.919747,-122.773533,-120.338543,-149.890375,-149.422671],\"marker\":{\"color\":\"rgb(226,13,17)\"},\"text\":[\"01040\",\"02114\",\"02122\",\"02865\",\"02886\",\"02917\",\"03063\",\"03110\",\"03840\",\"04086\",\"04401\",\"04952\",\"05403\",\"06042\",\"06241\",\"06901\",\"07047\",\"07310\",\"08865\",\"11217\",\"14020\",\"14850\",\"16601\",\"16803\",\"17013\",\"19103\",\"19148\",\"19808\",\"19901\",\"19931\",\"20886\",\"21009\",\"21030\",\"21704\",\"22305\",\"24151\",\"24487\",\"25309\",\"25526\",\"26059\",\"27609\",\"28104\",\"28704\",\"29607\",\"29621\",\"29680\",\"30189\",\"30324\",\"31525\",\"33403\",\"33428\",\"33463\",\"35226\",\"35601\",\"36526\",\"37801\",\"38017\",\"38133\",\"39159\",\"39213\",\"39402\",\"40241\",\"42104\",\"42301\",\"44870\",\"45236\",\"45249\",\"46237\",\"46383\",\"47401\",\"48374\",\"48507\",\"49855\",\"50009\",\"50702\",\"52404\",\"53085\",\"53207\",\"54235\",\"55066\",\"55403\",\"56601\",\"57110\",\"57401\",\"57701\",\"58103\",\"58563\",\"58701\",\"59718\",\"59901\",\"60014\",\"60610\",\"61401\",\"63010\",\"63033\",\"64114\",\"66062\",\"66111\",\"67401\",\"68073\",\"68116\",\"68123\",\"70816\",\"71111\",\"71301\",\"72032\",\"72703\",\"72903\",\"73034\",\"74055\",\"74133\",\"77840\",\"78717\",\"79707\",\"79707\",\"80108\",\"80202\",\"81401\",\"82009\",\"82609\",\"83001\",\"83704\",\"83713\",\"83815\",\"84095\",\"84121\",\"84660\",\"85207\",\"85748\",\"87114\",\"87124\",\"87402\",\"89183\",\"89434\",\"89705\",\"90065\",\"91730\",\"95330\",\"96734\",\"96740\",\"97217\",\"97303\",\"98101\",\"98233\",\"98614\",\"98626\",\"98901\",\"99515\",\"99654\"],\"type\":\"scattergeo\",\"name\":\"Targets\"},{\"lat\":[34.6449932755897,33.44847758394,35.4443517679111,34.1129032695058,34.1556649469121,33.8829312577458,38.6830449523077,34.1342886776624,38.2782732480079,39.8102931481305,30.2323049532679,31.7765737205048,31.7776443503854,31.4215451402305,32.1739955290448,21.4792398115305,41.9176226241567,41.8303900458523,41.8002418685309,41.4744170168815,41.9218023710286,39.7475498809776,42.4760732243742,38.9662278505392,38.8653486027871,44.9647972364202,45.0979857630195,44.9933873277923,44.9452591409893,40.5251569148739,40.089765436428,39.7817015818632,43.178721716844,42.9386799514717,35.6225966445846,39.9520393926857,39.9471432044632,44.5794790802794,40.1989563009857,39.8890231958012,34.1794119094042,32.4347483116907,34.5570298314302,32.8696311238109,32.8807284643133,29.9461573473188,38.0306730381623,36.7076274133422,47.0821524927726,43.080037381646,42.4825228934735],\"lon\":[-86.8473292167007,-112.216516477379,-119.184883986437,-117.481059984653,-117.430952966951,-117.266820757673,-121.721678642205,-117.416355370662,-104.467643668806,-104.986460657673,-82.6359163730191,-81.3526562288365,-81.3539269910744,-83.5182432359064,-81.1755252030619,-158.016842329534,-88.7369320728707,-87.7238539644176,-87.7811810344034,-88.1627609565227,-87.9598046121732,-86.2948367214139,-92.468984016849,-95.6943807344034,-76.7299089768994,-85.2029499259567,-93.2491908864199,-93.2149055171079,-92.9121249623863,-74.2592140725181,-74.8200981032102,-75.3450861543144,-73.7161892865095,-74.2384685711634,-81.3098264595263,-83.3482983306921,-83.3518352558173,-123.115068328716,-76.8052668801052,-77.6729397,-80.6818378840045,-97.0555079725181,-97.1446958584889,-95.6389149051154,-96.901032357673,-95.5288642134904,-78.998851715346,-76.6651214220913,-122.771626284653,-88.4760084558174,-92.4709803136662],\"marker\":{\"color\":\"rgb(114,113,113)\"},\"text\":[0.0,1.0,2.0,3.0,4.0,5.0,6.0,7.0,8.0,9.0,10.0,11.0,12.0,13.0,14.0,15.0,16.0,17.0,18.0,19.0,20.0,21.0,22.0,23.0,24.0,25.0,26.0,27.0,28.0,29.0,30.0,31.0,32.0,33.0,34.0,35.0,36.0,37.0,38.0,39.0,40.0,41.0,42.0,43.0,44.0,45.0,46.0,47.0,48.0,49.0,50.0],\"type\":\"scattergeo\",\"name\":\"Distribution Centers\"}],                        {\"template\":{\"data\":{\"histogram2dcontour\":[{\"type\":\"histogram2dcontour\",\"colorbar\":{\"outlinewidth\":0,\"ticks\":\"\"},\"colorscale\":[[0.0,\"#0d0887\"],[0.1111111111111111,\"#46039f\"],[0.2222222222222222,\"#7201a8\"],[0.3333333333333333,\"#9c179e\"],[0.4444444444444444,\"#bd3786\"],[0.5555555555555556,\"#d8576b\"],[0.6666666666666666,\"#ed7953\"],[0.7777777777777778,\"#fb9f3a\"],[0.8888888888888888,\"#fdca26\"],[1.0,\"#f0f921\"]]}],\"choropleth\":[{\"type\":\"choropleth\",\"colorbar\":{\"outlinewidth\":0,\"ticks\":\"\"}}],\"histogram2d\":[{\"type\":\"histogram2d\",\"colorbar\":{\"outlinewidth\":0,\"ticks\":\"\"},\"colorscale\":[[0.0,\"#0d0887\"],[0.1111111111111111,\"#46039f\"],[0.2222222222222222,\"#7201a8\"],[0.3333333333333333,\"#9c179e\"],[0.4444444444444444,\"#bd3786\"],[0.5555555555555556,\"#d8576b\"],[0.6666666666666666,\"#ed7953\"],[0.7777777777777778,\"#fb9f3a\"],[0.8888888888888888,\"#fdca26\"],[1.0,\"#f0f921\"]]}],\"heatmap\":[{\"type\":\"heatmap\",\"colorbar\":{\"outlinewidth\":0,\"ticks\":\"\"},\"colorscale\":[[0.0,\"#0d0887\"],[0.1111111111111111,\"#46039f\"],[0.2222222222222222,\"#7201a8\"],[0.3333333333333333,\"#9c179e\"],[0.4444444444444444,\"#bd3786\"],[0.5555555555555556,\"#d8576b\"],[0.6666666666666666,\"#ed7953\"],[0.7777777777777778,\"#fb9f3a\"],[0.8888888888888888,\"#fdca26\"],[1.0,\"#f0f921\"]]}],\"heatmapgl\":[{\"type\":\"heatmapgl\",\"colorbar\":{\"outlinewidth\":0,\"ticks\":\"\"},\"colorscale\":[[0.0,\"#0d0887\"],[0.1111111111111111,\"#46039f\"],[0.2222222222222222,\"#7201a8\"],[0.3333333333333333,\"#9c179e\"],[0.4444444444444444,\"#bd3786\"],[0.5555555555555556,\"#d8576b\"],[0.6666666666666666,\"#ed7953\"],[0.7777777777777778,\"#fb9f3a\"],[0.8888888888888888,\"#fdca26\"],[1.0,\"#f0f921\"]]}],\"contourcarpet\":[{\"type\":\"contourcarpet\",\"colorbar\":{\"outlinewidth\":0,\"ticks\":\"\"}}],\"contour\":[{\"type\":\"contour\",\"colorbar\":{\"outlinewidth\":0,\"ticks\":\"\"},\"colorscale\":[[0.0,\"#0d0887\"],[0.1111111111111111,\"#46039f\"],[0.2222222222222222,\"#7201a8\"],[0.3333333333333333,\"#9c179e\"],[0.4444444444444444,\"#bd3786\"],[0.5555555555555556,\"#d8576b\"],[0.6666666666666666,\"#ed7953\"],[0.7777777777777778,\"#fb9f3a\"],[0.8888888888888888,\"#fdca26\"],[1.0,\"#f0f921\"]]}],\"surface\":[{\"type\":\"surface\",\"colorbar\":{\"outlinewidth\":0,\"ticks\":\"\"},\"colorscale\":[[0.0,\"#0d0887\"],[0.1111111111111111,\"#46039f\"],[0.2222222222222222,\"#7201a8\"],[0.3333333333333333,\"#9c179e\"],[0.4444444444444444,\"#bd3786\"],[0.5555555555555556,\"#d8576b\"],[0.6666666666666666,\"#ed7953\"],[0.7777777777777778,\"#fb9f3a\"],[0.8888888888888888,\"#fdca26\"],[1.0,\"#f0f921\"]]}],\"mesh3d\":[{\"type\":\"mesh3d\",\"colorbar\":{\"outlinewidth\":0,\"ticks\":\"\"}}],\"scatter\":[{\"fillpattern\":{\"fillmode\":\"overlay\",\"size\":10,\"solidity\":0.2},\"type\":\"scatter\"}],\"parcoords\":[{\"type\":\"parcoords\",\"line\":{\"colorbar\":{\"outlinewidth\":0,\"ticks\":\"\"}}}],\"scatterpolargl\":[{\"type\":\"scatterpolargl\",\"marker\":{\"colorbar\":{\"outlinewidth\":0,\"ticks\":\"\"}}}],\"bar\":[{\"error_x\":{\"color\":\"#2a3f5f\"},\"error_y\":{\"color\":\"#2a3f5f\"},\"marker\":{\"line\":{\"color\":\"#E5ECF6\",\"width\":0.5},\"pattern\":{\"fillmode\":\"overlay\",\"size\":10,\"solidity\":0.2}},\"type\":\"bar\"}],\"scattergeo\":[{\"type\":\"scattergeo\",\"marker\":{\"colorbar\":{\"outlinewidth\":0,\"ticks\":\"\"}}}],\"scatterpolar\":[{\"type\":\"scatterpolar\",\"marker\":{\"colorbar\":{\"outlinewidth\":0,\"ticks\":\"\"}}}],\"histogram\":[{\"marker\":{\"pattern\":{\"fillmode\":\"overlay\",\"size\":10,\"solidity\":0.2}},\"type\":\"histogram\"}],\"scattergl\":[{\"type\":\"scattergl\",\"marker\":{\"colorbar\":{\"outlinewidth\":0,\"ticks\":\"\"}}}],\"scatter3d\":[{\"type\":\"scatter3d\",\"line\":{\"colorbar\":{\"outlinewidth\":0,\"ticks\":\"\"}},\"marker\":{\"colorbar\":{\"outlinewidth\":0,\"ticks\":\"\"}}}],\"scattermapbox\":[{\"type\":\"scattermapbox\",\"marker\":{\"colorbar\":{\"outlinewidth\":0,\"ticks\":\"\"}}}],\"scatterternary\":[{\"type\":\"scatterternary\",\"marker\":{\"colorbar\":{\"outlinewidth\":0,\"ticks\":\"\"}}}],\"scattercarpet\":[{\"type\":\"scattercarpet\",\"marker\":{\"colorbar\":{\"outlinewidth\":0,\"ticks\":\"\"}}}],\"carpet\":[{\"aaxis\":{\"endlinecolor\":\"#2a3f5f\",\"gridcolor\":\"white\",\"linecolor\":\"white\",\"minorgridcolor\":\"white\",\"startlinecolor\":\"#2a3f5f\"},\"baxis\":{\"endlinecolor\":\"#2a3f5f\",\"gridcolor\":\"white\",\"linecolor\":\"white\",\"minorgridcolor\":\"white\",\"startlinecolor\":\"#2a3f5f\"},\"type\":\"carpet\"}],\"table\":[{\"cells\":{\"fill\":{\"color\":\"#EBF0F8\"},\"line\":{\"color\":\"white\"}},\"header\":{\"fill\":{\"color\":\"#C8D4E3\"},\"line\":{\"color\":\"white\"}},\"type\":\"table\"}],\"barpolar\":[{\"marker\":{\"line\":{\"color\":\"#E5ECF6\",\"width\":0.5},\"pattern\":{\"fillmode\":\"overlay\",\"size\":10,\"solidity\":0.2}},\"type\":\"barpolar\"}],\"pie\":[{\"automargin\":true,\"type\":\"pie\"}]},\"layout\":{\"autotypenumbers\":\"strict\",\"colorway\":[\"#636efa\",\"#EF553B\",\"#00cc96\",\"#ab63fa\",\"#FFA15A\",\"#19d3f3\",\"#FF6692\",\"#B6E880\",\"#FF97FF\",\"#FECB52\"],\"font\":{\"color\":\"#2a3f5f\"},\"hovermode\":\"closest\",\"hoverlabel\":{\"align\":\"left\"},\"paper_bgcolor\":\"white\",\"plot_bgcolor\":\"#E5ECF6\",\"polar\":{\"bgcolor\":\"#E5ECF6\",\"angularaxis\":{\"gridcolor\":\"white\",\"linecolor\":\"white\",\"ticks\":\"\"},\"radialaxis\":{\"gridcolor\":\"white\",\"linecolor\":\"white\",\"ticks\":\"\"}},\"ternary\":{\"bgcolor\":\"#E5ECF6\",\"aaxis\":{\"gridcolor\":\"white\",\"linecolor\":\"white\",\"ticks\":\"\"},\"baxis\":{\"gridcolor\":\"white\",\"linecolor\":\"white\",\"ticks\":\"\"},\"caxis\":{\"gridcolor\":\"white\",\"linecolor\":\"white\",\"ticks\":\"\"}},\"coloraxis\":{\"colorbar\":{\"outlinewidth\":0,\"ticks\":\"\"}},\"colorscale\":{\"sequential\":[[0.0,\"#0d0887\"],[0.1111111111111111,\"#46039f\"],[0.2222222222222222,\"#7201a8\"],[0.3333333333333333,\"#9c179e\"],[0.4444444444444444,\"#bd3786\"],[0.5555555555555556,\"#d8576b\"],[0.6666666666666666,\"#ed7953\"],[0.7777777777777778,\"#fb9f3a\"],[0.8888888888888888,\"#fdca26\"],[1.0,\"#f0f921\"]],\"sequentialminus\":[[0.0,\"#0d0887\"],[0.1111111111111111,\"#46039f\"],[0.2222222222222222,\"#7201a8\"],[0.3333333333333333,\"#9c179e\"],[0.4444444444444444,\"#bd3786\"],[0.5555555555555556,\"#d8576b\"],[0.6666666666666666,\"#ed7953\"],[0.7777777777777778,\"#fb9f3a\"],[0.8888888888888888,\"#fdca26\"],[1.0,\"#f0f921\"]],\"diverging\":[[0,\"#8e0152\"],[0.1,\"#c51b7d\"],[0.2,\"#de77ae\"],[0.3,\"#f1b6da\"],[0.4,\"#fde0ef\"],[0.5,\"#f7f7f7\"],[0.6,\"#e6f5d0\"],[0.7,\"#b8e186\"],[0.8,\"#7fbc41\"],[0.9,\"#4d9221\"],[1,\"#276419\"]]},\"xaxis\":{\"gridcolor\":\"white\",\"linecolor\":\"white\",\"ticks\":\"\",\"title\":{\"standoff\":15},\"zerolinecolor\":\"white\",\"automargin\":true,\"zerolinewidth\":2},\"yaxis\":{\"gridcolor\":\"white\",\"linecolor\":\"white\",\"ticks\":\"\",\"title\":{\"standoff\":15},\"zerolinecolor\":\"white\",\"automargin\":true,\"zerolinewidth\":2},\"scene\":{\"xaxis\":{\"backgroundcolor\":\"#E5ECF6\",\"gridcolor\":\"white\",\"linecolor\":\"white\",\"showbackground\":true,\"ticks\":\"\",\"zerolinecolor\":\"white\",\"gridwidth\":2},\"yaxis\":{\"backgroundcolor\":\"#E5ECF6\",\"gridcolor\":\"white\",\"linecolor\":\"white\",\"showbackground\":true,\"ticks\":\"\",\"zerolinecolor\":\"white\",\"gridwidth\":2},\"zaxis\":{\"backgroundcolor\":\"#E5ECF6\",\"gridcolor\":\"white\",\"linecolor\":\"white\",\"showbackground\":true,\"ticks\":\"\",\"zerolinecolor\":\"white\",\"gridwidth\":2}},\"shapedefaults\":{\"line\":{\"color\":\"#2a3f5f\"}},\"annotationdefaults\":{\"arrowcolor\":\"#2a3f5f\",\"arrowhead\":0,\"arrowwidth\":1},\"geo\":{\"bgcolor\":\"white\",\"landcolor\":\"#E5ECF6\",\"subunitcolor\":\"white\",\"showland\":true,\"showlakes\":true,\"lakecolor\":\"white\"},\"title\":{\"x\":0.05},\"mapbox\":{\"style\":\"light\"}}},\"geo\":{\"scope\":\"usa\"},\"title\":{\"text\":\"Target and Distribution Center Locations\"}},                        {\"responsive\": true}                    ).then(function(){\n",
       "                            \n",
       "var gd = document.getElementById('5616ad5d-5067-4541-b826-2640817654d4');\n",
       "var x = new MutationObserver(function (mutations, observer) {{\n",
       "        var display = window.getComputedStyle(gd).display;\n",
       "        if (!display || display === 'none') {{\n",
       "            console.log([gd, 'removed!']);\n",
       "            Plotly.purge(gd);\n",
       "            observer.disconnect();\n",
       "        }}\n",
       "}});\n",
       "\n",
       "// Listen for the removal of the full notebook cells\n",
       "var notebookContainer = gd.closest('#notebook-container');\n",
       "if (notebookContainer) {{\n",
       "    x.observe(notebookContainer, {childList: true});\n",
       "}}\n",
       "\n",
       "// Listen for the clearing of the current output cell\n",
       "var outputEl = gd.closest('.output');\n",
       "if (outputEl) {{\n",
       "    x.observe(outputEl, {childList: true});\n",
       "}}\n",
       "\n",
       "                        })                };                });            </script>        </div>"
      ]
     },
     "metadata": {},
     "output_type": "display_data"
    }
   ],
   "source": [
    "targets = go.Scattergeo(\n",
    "        lon = data_for_mapping['INTPTLONG'],\n",
    "        lat = data_for_mapping['INTPTLAT'],\n",
    "        text = data_for_mapping['Zip Code'],\n",
    "        marker=dict( color='rgb(226,13,17)' )\n",
    "        )\n",
    "\n",
    "distros = go.Scattergeo(\n",
    "        lon = warehouse_df['INTPTLONG'],\n",
    "        lat = warehouse_df['INTPTLAT'],\n",
    "        text = warehouse_df.index,\n",
    "        marker=dict( color='rgb(114,113,113)' )\n",
    "        )\n",
    "\n",
    "\n",
    "targets_and_distros = [targets, distros]\n",
    "fig = go.Figure(data = targets_and_distros)\n",
    "\n",
    "fig.update_traces(name=\"Targets\", selector=dict(marker=dict( color='rgb(226,13,17)' )))\n",
    "fig.update_traces(name=\"Distribution Centers\", selector=dict(marker=dict( color='rgb(114,113,113)' )))\n",
    "\n",
    "fig.update_layout(\n",
    "        title = 'Target and Distribution Center Locations',\n",
    "        geo_scope='usa',\n",
    "    )\n",
    "fig.show()"
   ]
  }
 ],
 "metadata": {
  "kernelspec": {
   "display_name": "Python 3 (ipykernel)",
   "language": "python",
   "name": "python3"
  },
  "language_info": {
   "codemirror_mode": {
    "name": "ipython",
    "version": 3
   },
   "file_extension": ".py",
   "mimetype": "text/x-python",
   "name": "python",
   "nbconvert_exporter": "python",
   "pygments_lexer": "ipython3",
   "version": "3.9.13"
  }
 },
 "nbformat": 4,
 "nbformat_minor": 5
}
